{
 "metadata": {
  "language_info": {
   "codemirror_mode": {
    "name": "ipython",
    "version": 3
   },
   "file_extension": ".py",
   "mimetype": "text/x-python",
   "name": "python",
   "nbconvert_exporter": "python",
   "pygments_lexer": "ipython3",
   "version": "3.8.5-final"
  },
  "orig_nbformat": 2,
  "kernelspec": {
   "name": "python3",
   "display_name": "Python 3",
   "language": "python"
  }
 },
 "nbformat": 4,
 "nbformat_minor": 2,
 "cells": [
  {
   "cell_type": "code",
   "execution_count": 46,
   "metadata": {},
   "outputs": [
    {
     "output_type": "execute_result",
     "data": {
      "text/plain": [
       "<bound method NDFrame.head of        Unnamed: 0  SEQNUMC  SEQNUMHH  PDAT    PROVWT_D     RDDWT_D  STRATUM  \\\n",
       "0               1   128521     12852     2         NaN  235.916956     1031   \n",
       "1               2    10741      1074     2         NaN  957.353840     1068   \n",
       "2               3   220011     22001     2         NaN  189.611299     1050   \n",
       "3               4    86131      8613     1  675.430817  333.447418     1040   \n",
       "4               5   227141     22714     1  482.617748  278.768063     1008   \n",
       "...           ...      ...       ...   ...         ...         ...      ...   \n",
       "28460       28461    19141      1914     2         NaN   21.188088     2062   \n",
       "28461       28462   121401     12140     2         NaN   26.503010     2004   \n",
       "28462       28463   128831     12883     2         NaN   27.520652     2004   \n",
       "28463       28464    82921      8292     2         NaN   22.390587     2062   \n",
       "28464       28465   244621     24462     2         NaN   27.520652     2004   \n",
       "\n",
       "       YEAR  AGECPOXR  HAD_CPOX  ...  XVRCTY2  XVRCTY3  XVRCTY4  XVRCTY5  \\\n",
       "0      2017       NaN         2  ...                        NaN      NaN   \n",
       "1      2017       NaN         2  ...                        NaN      NaN   \n",
       "2      2017       NaN         2  ...                        NaN      NaN   \n",
       "3      2017       NaN         2  ...                        NaN      NaN   \n",
       "4      2017       NaN         2  ...                        NaN      NaN   \n",
       "...     ...       ...       ...  ...      ...      ...      ...      ...   \n",
       "28460  2017       NaN         2  ...                        NaN      NaN   \n",
       "28461  2017       NaN         2  ...                        NaN      NaN   \n",
       "28462  2017       NaN         2  ...                        NaN      NaN   \n",
       "28463  2017       NaN         2  ...                        NaN      NaN   \n",
       "28464  2017       NaN         2  ...                        NaN      NaN   \n",
       "\n",
       "       XVRCTY6  XVRCTY7  XVRCTY8  XVRCTY9  INS_STAT2_I  INS_BREAK_I  \n",
       "0          NaN      NaN      NaN      NaN          NaN          NaN  \n",
       "1          NaN      NaN      NaN      NaN          NaN          NaN  \n",
       "2          NaN      NaN      NaN      NaN          NaN          NaN  \n",
       "3          NaN      NaN      NaN      NaN          1.0          2.0  \n",
       "4          NaN      NaN      NaN      NaN          2.0          1.0  \n",
       "...        ...      ...      ...      ...          ...          ...  \n",
       "28460      NaN      NaN      NaN      NaN          NaN          NaN  \n",
       "28461      NaN      NaN      NaN      NaN          NaN          NaN  \n",
       "28462      NaN      NaN      NaN      NaN          NaN          NaN  \n",
       "28463      NaN      NaN      NaN      NaN          NaN          NaN  \n",
       "28464      NaN      NaN      NaN      NaN          NaN          NaN  \n",
       "\n",
       "[28465 rows x 454 columns]>"
      ]
     },
     "metadata": {},
     "execution_count": 46
    }
   ],
   "source": [
    "import numpy as np \n",
    "import pandas as pd \n",
    "\n",
    "df = pd.read_csv('assets/NISPUF17.csv')\n",
    "\n",
    "#this is a huge dataset, and I only need 1 of the columns\n",
    "df.shape"
   ]
  },
  {
   "cell_type": "code",
   "execution_count": 33,
   "metadata": {},
   "outputs": [
    {
     "output_type": "stream",
     "name": "stdout",
     "text": [
      "{'college': 0.47974705779026877, 'more than high school but not college': 0.24588090637625154, 'high school': 0.172352011241876, 'less than high school': 0.10202002459160373}\n"
     ]
    }
   ],
   "source": [
    "#question1 answer\n",
    "def proportion_of_education():\n",
    "    # YOUR CODE HERE\n",
    "    import pandas as pd\n",
    "    df = pd.read_csv('assets/NISPUF17.csv')\n",
    "    #creating a new dataframe with only the column of interest\n",
    "    df_edu = df.filter(['EDUC1'], axis=1)\n",
    "    # convert numeric responses to meamningful names\n",
    "    df_edu.replace([1,2,3,4],['less than high school','high school','more than high school but not college', 'college'], inplace=True)\n",
    "    # get counts and convert to dictionary\n",
    "    educ1_counts = df_edu['EDUC1'].value_counts(normalize=True).to_dict()\n",
    "    return (educ1_counts)\n",
    "    raise NotImplementedError()\n",
    "    \n",
    "print(proportion_of_education())"
   ]
  },
  {
   "source": [
    "## Question 2\n",
    "\n",
    "Let's explore the relationship between being fed breastmilk as a child and getting a seasonal influenza vaccine from a healthcare provider. Return a tuple of the average number of influenza vaccines for those children we know received breastmilk as a child and those who know did not.\n",
    "\n",
    "*This function should return a tuple in the form (use the correct numbers:*\n",
    "```\n",
    "(2.5, 0.1)\n",
    "```"
   ],
   "cell_type": "markdown",
   "metadata": {}
  },
  {
   "source": [
    "CBF_01 – child ever fed breast milk\n",
    "- Yes\n",
    "- No\n",
    "- Don’t know\n",
    "- Missing\n",
    "\n",
    "P_NUMFLU: NUMBER OF SEASONAL FLUCONTAINING VACCINATIONS BY 36 MONTHS OF AGE...\n"
   ],
   "cell_type": "markdown",
   "metadata": {}
  },
  {
   "cell_type": "code",
   "execution_count": 49,
   "metadata": {},
   "outputs": [
    {
     "output_type": "execute_result",
     "data": {
      "text/plain": [
       "   Unnamed: 0  SEQNUMC  SEQNUMHH  PDAT    PROVWT_D     RDDWT_D  STRATUM  YEAR  \\\n",
       "0           1   128521     12852     2         NaN  235.916956     1031  2017   \n",
       "1           2    10741      1074     2         NaN  957.353840     1068  2017   \n",
       "2           3   220011     22001     2         NaN  189.611299     1050  2017   \n",
       "3           4    86131      8613     1  675.430817  333.447418     1040  2017   \n",
       "4           5   227141     22714     1  482.617748  278.768063     1008  2017   \n",
       "\n",
       "   AGECPOXR  HAD_CPOX  ...  XVRCTY2  XVRCTY3  XVRCTY4  XVRCTY5  XVRCTY6  \\\n",
       "0       NaN         2  ...                        NaN      NaN      NaN   \n",
       "1       NaN         2  ...                        NaN      NaN      NaN   \n",
       "2       NaN         2  ...                        NaN      NaN      NaN   \n",
       "3       NaN         2  ...                        NaN      NaN      NaN   \n",
       "4       NaN         2  ...                        NaN      NaN      NaN   \n",
       "\n",
       "   XVRCTY7  XVRCTY8  XVRCTY9  INS_STAT2_I  INS_BREAK_I  \n",
       "0      NaN      NaN      NaN          NaN          NaN  \n",
       "1      NaN      NaN      NaN          NaN          NaN  \n",
       "2      NaN      NaN      NaN          NaN          NaN  \n",
       "3      NaN      NaN      NaN          1.0          2.0  \n",
       "4      NaN      NaN      NaN          2.0          1.0  \n",
       "\n",
       "[5 rows x 454 columns]"
      ],
      "text/html": "<div>\n<style scoped>\n    .dataframe tbody tr th:only-of-type {\n        vertical-align: middle;\n    }\n\n    .dataframe tbody tr th {\n        vertical-align: top;\n    }\n\n    .dataframe thead th {\n        text-align: right;\n    }\n</style>\n<table border=\"1\" class=\"dataframe\">\n  <thead>\n    <tr style=\"text-align: right;\">\n      <th></th>\n      <th>Unnamed: 0</th>\n      <th>SEQNUMC</th>\n      <th>SEQNUMHH</th>\n      <th>PDAT</th>\n      <th>PROVWT_D</th>\n      <th>RDDWT_D</th>\n      <th>STRATUM</th>\n      <th>YEAR</th>\n      <th>AGECPOXR</th>\n      <th>HAD_CPOX</th>\n      <th>...</th>\n      <th>XVRCTY2</th>\n      <th>XVRCTY3</th>\n      <th>XVRCTY4</th>\n      <th>XVRCTY5</th>\n      <th>XVRCTY6</th>\n      <th>XVRCTY7</th>\n      <th>XVRCTY8</th>\n      <th>XVRCTY9</th>\n      <th>INS_STAT2_I</th>\n      <th>INS_BREAK_I</th>\n    </tr>\n  </thead>\n  <tbody>\n    <tr>\n      <th>0</th>\n      <td>1</td>\n      <td>128521</td>\n      <td>12852</td>\n      <td>2</td>\n      <td>NaN</td>\n      <td>235.916956</td>\n      <td>1031</td>\n      <td>2017</td>\n      <td>NaN</td>\n      <td>2</td>\n      <td>...</td>\n      <td></td>\n      <td></td>\n      <td>NaN</td>\n      <td>NaN</td>\n      <td>NaN</td>\n      <td>NaN</td>\n      <td>NaN</td>\n      <td>NaN</td>\n      <td>NaN</td>\n      <td>NaN</td>\n    </tr>\n    <tr>\n      <th>1</th>\n      <td>2</td>\n      <td>10741</td>\n      <td>1074</td>\n      <td>2</td>\n      <td>NaN</td>\n      <td>957.353840</td>\n      <td>1068</td>\n      <td>2017</td>\n      <td>NaN</td>\n      <td>2</td>\n      <td>...</td>\n      <td></td>\n      <td></td>\n      <td>NaN</td>\n      <td>NaN</td>\n      <td>NaN</td>\n      <td>NaN</td>\n      <td>NaN</td>\n      <td>NaN</td>\n      <td>NaN</td>\n      <td>NaN</td>\n    </tr>\n    <tr>\n      <th>2</th>\n      <td>3</td>\n      <td>220011</td>\n      <td>22001</td>\n      <td>2</td>\n      <td>NaN</td>\n      <td>189.611299</td>\n      <td>1050</td>\n      <td>2017</td>\n      <td>NaN</td>\n      <td>2</td>\n      <td>...</td>\n      <td></td>\n      <td></td>\n      <td>NaN</td>\n      <td>NaN</td>\n      <td>NaN</td>\n      <td>NaN</td>\n      <td>NaN</td>\n      <td>NaN</td>\n      <td>NaN</td>\n      <td>NaN</td>\n    </tr>\n    <tr>\n      <th>3</th>\n      <td>4</td>\n      <td>86131</td>\n      <td>8613</td>\n      <td>1</td>\n      <td>675.430817</td>\n      <td>333.447418</td>\n      <td>1040</td>\n      <td>2017</td>\n      <td>NaN</td>\n      <td>2</td>\n      <td>...</td>\n      <td></td>\n      <td></td>\n      <td>NaN</td>\n      <td>NaN</td>\n      <td>NaN</td>\n      <td>NaN</td>\n      <td>NaN</td>\n      <td>NaN</td>\n      <td>1.0</td>\n      <td>2.0</td>\n    </tr>\n    <tr>\n      <th>4</th>\n      <td>5</td>\n      <td>227141</td>\n      <td>22714</td>\n      <td>1</td>\n      <td>482.617748</td>\n      <td>278.768063</td>\n      <td>1008</td>\n      <td>2017</td>\n      <td>NaN</td>\n      <td>2</td>\n      <td>...</td>\n      <td></td>\n      <td></td>\n      <td>NaN</td>\n      <td>NaN</td>\n      <td>NaN</td>\n      <td>NaN</td>\n      <td>NaN</td>\n      <td>NaN</td>\n      <td>2.0</td>\n      <td>1.0</td>\n    </tr>\n  </tbody>\n</table>\n<p>5 rows × 454 columns</p>\n</div>"
     },
     "metadata": {},
     "execution_count": 49
    }
   ],
   "source": [
    "import pandas as pd\n",
    "df = pd.read_csv('assets/NISPUF17.csv')\n",
    "df.head()\n"
   ]
  },
  {
   "cell_type": "code",
   "execution_count": 60,
   "metadata": {},
   "outputs": [
    {
     "output_type": "execute_result",
     "data": {
      "text/plain": [
       "   CBF_01  P_NUMFLU\n",
       "3       2       3.0\n",
       "4       1       0.0\n",
       "6       1       0.0\n",
       "7       1       0.0\n",
       "8       1       0.0"
      ],
      "text/html": "<div>\n<style scoped>\n    .dataframe tbody tr th:only-of-type {\n        vertical-align: middle;\n    }\n\n    .dataframe tbody tr th {\n        vertical-align: top;\n    }\n\n    .dataframe thead th {\n        text-align: right;\n    }\n</style>\n<table border=\"1\" class=\"dataframe\">\n  <thead>\n    <tr style=\"text-align: right;\">\n      <th></th>\n      <th>CBF_01</th>\n      <th>P_NUMFLU</th>\n    </tr>\n  </thead>\n  <tbody>\n    <tr>\n      <th>3</th>\n      <td>2</td>\n      <td>3.0</td>\n    </tr>\n    <tr>\n      <th>4</th>\n      <td>1</td>\n      <td>0.0</td>\n    </tr>\n    <tr>\n      <th>6</th>\n      <td>1</td>\n      <td>0.0</td>\n    </tr>\n    <tr>\n      <th>7</th>\n      <td>1</td>\n      <td>0.0</td>\n    </tr>\n    <tr>\n      <th>8</th>\n      <td>1</td>\n      <td>0.0</td>\n    </tr>\n  </tbody>\n</table>\n</div>"
     },
     "metadata": {},
     "execution_count": 60
    }
   ],
   "source": [
    "# def average_influenza_doses():\n",
    "# YOUR CODE HERE\n",
    "# import pandas as pd\n",
    "# df = pd.read_csv('assets/NISPUF17.csv')\n",
    "#strategy\n",
    "# create a data set with columns XCBF_01 and P_NUMFLU dropping any NA values\n",
    "df_vax = df.filter(['CBF_01','P_NUMFLU'], axis=1).dropna()\n",
    "\n",
    "\n",
    "# boolean masking for breast fed yes or breastfed no\n",
    "# create a tuple with average of flu vaccinations group by breastfed\n",
    "# return\n",
    "# raise NotImplementedError()\n"
   ]
  },
  {
   "cell_type": "code",
   "execution_count": 70,
   "metadata": {},
   "outputs": [
    {
     "output_type": "execute_result",
     "data": {
      "text/plain": [
       "  CBF_01  P_NUMFLU\n",
       "3     No       3.0\n",
       "4    Yes       0.0\n",
       "6    Yes       0.0\n",
       "7    Yes       0.0\n",
       "8    Yes       0.0"
      ],
      "text/html": "<div>\n<style scoped>\n    .dataframe tbody tr th:only-of-type {\n        vertical-align: middle;\n    }\n\n    .dataframe tbody tr th {\n        vertical-align: top;\n    }\n\n    .dataframe thead th {\n        text-align: right;\n    }\n</style>\n<table border=\"1\" class=\"dataframe\">\n  <thead>\n    <tr style=\"text-align: right;\">\n      <th></th>\n      <th>CBF_01</th>\n      <th>P_NUMFLU</th>\n    </tr>\n  </thead>\n  <tbody>\n    <tr>\n      <th>3</th>\n      <td>No</td>\n      <td>3.0</td>\n    </tr>\n    <tr>\n      <th>4</th>\n      <td>Yes</td>\n      <td>0.0</td>\n    </tr>\n    <tr>\n      <th>6</th>\n      <td>Yes</td>\n      <td>0.0</td>\n    </tr>\n    <tr>\n      <th>7</th>\n      <td>Yes</td>\n      <td>0.0</td>\n    </tr>\n    <tr>\n      <th>8</th>\n      <td>Yes</td>\n      <td>0.0</td>\n    </tr>\n  </tbody>\n</table>\n</div>"
     },
     "metadata": {},
     "execution_count": 70
    }
   ],
   "source": [
    "# replace CBF_01 with meaningful values (not necessary for the problem, but good for readability)\n",
    "# example df.replace({'A': {0: 100, 4: 400}})\n",
    "df_vax.replace({'CBF_01':{1:'Yes', 2:'No'}}, inplace=True)\n",
    "df_vax.head()\n"
   ]
  },
  {
   "cell_type": "code",
   "execution_count": 84,
   "metadata": {},
   "outputs": [
    {
     "output_type": "execute_result",
     "data": {
      "text/plain": [
       "        P_NUMFLU\n",
       "CBF_01          \n",
       "Yes     1.879919\n",
       "No      1.596395"
      ],
      "text/html": "<div>\n<style scoped>\n    .dataframe tbody tr th:only-of-type {\n        vertical-align: middle;\n    }\n\n    .dataframe tbody tr th {\n        vertical-align: top;\n    }\n\n    .dataframe thead th {\n        text-align: right;\n    }\n</style>\n<table border=\"1\" class=\"dataframe\">\n  <thead>\n    <tr style=\"text-align: right;\">\n      <th></th>\n      <th>P_NUMFLU</th>\n    </tr>\n    <tr>\n      <th>CBF_01</th>\n      <th></th>\n    </tr>\n  </thead>\n  <tbody>\n    <tr>\n      <th>Yes</th>\n      <td>1.879919</td>\n    </tr>\n    <tr>\n      <th>No</th>\n      <td>1.596395</td>\n    </tr>\n  </tbody>\n</table>\n</div>"
     },
     "metadata": {},
     "execution_count": 84
    }
   ],
   "source": [
    "# df.groupby('A').mean()\n",
    "vax_mask = df_vax['CBF_01'].isin(['Yes','No'])\n",
    "vax_mask.head()\n",
    "df_vax_mean = df_vax.where(vax_mask).groupby('CBF_01').mean().sort_values('CBF_01', axis=0, ascending = False)\n",
    "df_vax_mean\n",
    "#df_vax.groupby('CBF_01').mean()\n"
   ]
  },
  {
   "cell_type": "code",
   "execution_count": 85,
   "metadata": {},
   "outputs": [
    {
     "output_type": "execute_result",
     "data": {
      "text/plain": [
       "(1.8799187420058687, 1.5963945918878317)"
      ]
     },
     "metadata": {},
     "execution_count": 85
    }
   ],
   "source": [
    "# tuple(list(open_reqs['REQ_NUM']))\n",
    "vax_rate = tuple(list(df_vax_mean['P_NUMFLU']))\n",
    "vax_rate"
   ]
  },
  {
   "source": [
    "# Question 3\n",
    "It would be interesting to see if there is any evidence of a link between vaccine effectiveness and sex of the child. Calculate the ratio of the number of children who contracted chickenpox but were vaccinated against it (at least one varicella dose) versus those who were vaccinated but did not contract chicken pox. Return results by sex.\n",
    "\n",
    "This function should return a dictionary in the form of (use the correct numbers):\n",
    "\n",
    "    {\"male\":0.2,\n",
    "    \"female\":0.4}\n",
    "Note: To aid in verification, the chickenpox_by_sex()['female'] value the autograder is looking for starts with the digits 0.0077."
   ],
   "cell_type": "markdown",
   "metadata": {}
  },
  {
   "cell_type": "code",
   "execution_count": 88,
   "metadata": {},
   "outputs": [
    {
     "output_type": "execute_result",
     "data": {
      "text/plain": [
       "   SEX  HAD_CPOX  P_NUMVRC\n",
       "3    2         2       1.0\n",
       "4    2         2       0.0\n",
       "6    2         2       1.0\n",
       "7    2         2       0.0\n",
       "8    1         1       0.0"
      ],
      "text/html": "<div>\n<style scoped>\n    .dataframe tbody tr th:only-of-type {\n        vertical-align: middle;\n    }\n\n    .dataframe tbody tr th {\n        vertical-align: top;\n    }\n\n    .dataframe thead th {\n        text-align: right;\n    }\n</style>\n<table border=\"1\" class=\"dataframe\">\n  <thead>\n    <tr style=\"text-align: right;\">\n      <th></th>\n      <th>SEX</th>\n      <th>HAD_CPOX</th>\n      <th>P_NUMVRC</th>\n    </tr>\n  </thead>\n  <tbody>\n    <tr>\n      <th>3</th>\n      <td>2</td>\n      <td>2</td>\n      <td>1.0</td>\n    </tr>\n    <tr>\n      <th>4</th>\n      <td>2</td>\n      <td>2</td>\n      <td>0.0</td>\n    </tr>\n    <tr>\n      <th>6</th>\n      <td>2</td>\n      <td>2</td>\n      <td>1.0</td>\n    </tr>\n    <tr>\n      <th>7</th>\n      <td>2</td>\n      <td>2</td>\n      <td>0.0</td>\n    </tr>\n    <tr>\n      <th>8</th>\n      <td>1</td>\n      <td>1</td>\n      <td>0.0</td>\n    </tr>\n  </tbody>\n</table>\n</div>"
     },
     "metadata": {},
     "execution_count": 88
    }
   ],
   "source": [
    "# constant: vaccinated at least 1 dose\n",
    "# variables: gender, contracted cihicken pox (y/n)\n",
    "# vaccinated (varicella is the chickenpox vaccine)\n",
    "# P_NUMVRC – total number of varicella doses\n",
    "# SEX: Male, Female\n",
    "# HAD_CPOX: Yes, No, Don’t know, Refused, Missing\n",
    "# calculation: by gender, chickenpox=y/chickenpox=n\n",
    "# strategy\n",
    "# isolate the columns of interest: Vaccination, Gender, ChickenPox\n",
    "# boolean mask for vaccination = True\n",
    "# note, we may be able to do this in the original column selection\n",
    "# it would be good to have three columns: gender, chickenpox-yes, chickenpox-no\n",
    "# calculate ratio, (chickenpox-yes/chickenpox-no) grouping by gender\n",
    "import pandas as pd\n",
    "df = pd.read_csv('assets/NISPUF17.csv')\n",
    "\n",
    "df_varicella = df.filter(['SEX','HAD_CPOX', 'P_NUMVRC'], axis=1).dropna()\n",
    "df_varicella.head()"
   ]
  },
  {
   "source": [
    "df_varicella.replace({'SEX':{1:'Male', 2:'Female'}, 'HAD_CPOX':{1:'Yes', 2:'No'}}, inplace=True)\n",
    "df_varicella.head()\n",
    "df_varicella.HAD_CPOX.unique()\n",
    "#shows that 'HAD_CPOX' has an additional value that we will want to drop"
   ],
   "cell_type": "code",
   "metadata": {},
   "execution_count": 119,
   "outputs": [
    {
     "output_type": "execute_result",
     "data": {
      "text/plain": [
       "array(['No', 'Yes', 77], dtype=object)"
      ]
     },
     "metadata": {},
     "execution_count": 119
    }
   ]
  },
  {
   "cell_type": "code",
   "execution_count": 121,
   "metadata": {},
   "outputs": [
    {
     "output_type": "execute_result",
     "data": {
      "text/plain": [
       "array(['No', 'Yes'], dtype=object)"
      ]
     },
     "metadata": {},
     "execution_count": 121
    }
   ],
   "source": [
    "df_varicella.drop(df_varicella[df_varicella['HAD_CPOX']==77].index, inplace=True)\n",
    "df_varicella.HAD_CPOX.unique()\n"
   ]
  },
  {
   "cell_type": "code",
   "execution_count": 125,
   "metadata": {},
   "outputs": [
    {
     "output_type": "execute_result",
     "data": {
      "text/plain": [
       "      SEX HAD_CPOX  P_NUMVRC\n",
       "3  Female       No       1.0\n",
       "4  Female       No       0.0\n",
       "6  Female       No       1.0\n",
       "7  Female       No       0.0\n",
       "8    Male      Yes       0.0"
      ],
      "text/html": "<div>\n<style scoped>\n    .dataframe tbody tr th:only-of-type {\n        vertical-align: middle;\n    }\n\n    .dataframe tbody tr th {\n        vertical-align: top;\n    }\n\n    .dataframe thead th {\n        text-align: right;\n    }\n</style>\n<table border=\"1\" class=\"dataframe\">\n  <thead>\n    <tr style=\"text-align: right;\">\n      <th></th>\n      <th>SEX</th>\n      <th>HAD_CPOX</th>\n      <th>P_NUMVRC</th>\n    </tr>\n  </thead>\n  <tbody>\n    <tr>\n      <th>3</th>\n      <td>Female</td>\n      <td>No</td>\n      <td>1.0</td>\n    </tr>\n    <tr>\n      <th>4</th>\n      <td>Female</td>\n      <td>No</td>\n      <td>0.0</td>\n    </tr>\n    <tr>\n      <th>6</th>\n      <td>Female</td>\n      <td>No</td>\n      <td>1.0</td>\n    </tr>\n    <tr>\n      <th>7</th>\n      <td>Female</td>\n      <td>No</td>\n      <td>0.0</td>\n    </tr>\n    <tr>\n      <th>8</th>\n      <td>Male</td>\n      <td>Yes</td>\n      <td>0.0</td>\n    </tr>\n  </tbody>\n</table>\n</div>"
     },
     "metadata": {},
     "execution_count": 125
    }
   ],
   "source": [
    "df_varicella.head()"
   ]
  },
  {
   "cell_type": "code",
   "execution_count": 126,
   "metadata": {},
   "outputs": [
    {
     "output_type": "execute_result",
     "data": {
      "text/plain": [
       "3     True\n",
       "4    False\n",
       "6     True\n",
       "7    False\n",
       "8    False\n",
       "Name: P_NUMVRC, dtype: bool"
      ]
     },
     "metadata": {},
     "execution_count": 126
    }
   ],
   "source": [
    "# example multi mask:  df[(df['chance of admit'] > 0.7) & (df['chance of admit'] < 0.9)]\n",
    "df_v_mask=df_varicella['P_NUMVRC'].gt(0)   \n",
    "df_v_mask.head()"
   ]
  },
  {
   "cell_type": "code",
   "execution_count": 127,
   "metadata": {},
   "outputs": [
    {
     "output_type": "execute_result",
     "data": {
      "text/plain": [
       "       SEX HAD_CPOX\n",
       "3   Female       No\n",
       "6   Female       No\n",
       "10    Male       No\n",
       "12    Male       No\n",
       "16    Male       No"
      ],
      "text/html": "<div>\n<style scoped>\n    .dataframe tbody tr th:only-of-type {\n        vertical-align: middle;\n    }\n\n    .dataframe tbody tr th {\n        vertical-align: top;\n    }\n\n    .dataframe thead th {\n        text-align: right;\n    }\n</style>\n<table border=\"1\" class=\"dataframe\">\n  <thead>\n    <tr style=\"text-align: right;\">\n      <th></th>\n      <th>SEX</th>\n      <th>HAD_CPOX</th>\n    </tr>\n  </thead>\n  <tbody>\n    <tr>\n      <th>3</th>\n      <td>Female</td>\n      <td>No</td>\n    </tr>\n    <tr>\n      <th>6</th>\n      <td>Female</td>\n      <td>No</td>\n    </tr>\n    <tr>\n      <th>10</th>\n      <td>Male</td>\n      <td>No</td>\n    </tr>\n    <tr>\n      <th>12</th>\n      <td>Male</td>\n      <td>No</td>\n    </tr>\n    <tr>\n      <th>16</th>\n      <td>Male</td>\n      <td>No</td>\n    </tr>\n  </tbody>\n</table>\n</div>"
     },
     "metadata": {},
     "execution_count": 127
    }
   ],
   "source": [
    "df_v_masked = df_varicella.where(df_v_mask).dropna().drop(columns='P_NUMVRC', axis=1)\n",
    "df_v_masked.head()"
   ]
  },
  {
   "cell_type": "code",
   "execution_count": 128,
   "metadata": {},
   "outputs": [
    {
     "output_type": "execute_result",
     "data": {
      "text/plain": [
       "      SEX HAD_CPOX  counts\n",
       "0  Female       No    6802\n",
       "1  Female      Yes      53\n",
       "2    Male       No    7028\n",
       "3    Male      Yes      68"
      ],
      "text/html": "<div>\n<style scoped>\n    .dataframe tbody tr th:only-of-type {\n        vertical-align: middle;\n    }\n\n    .dataframe tbody tr th {\n        vertical-align: top;\n    }\n\n    .dataframe thead th {\n        text-align: right;\n    }\n</style>\n<table border=\"1\" class=\"dataframe\">\n  <thead>\n    <tr style=\"text-align: right;\">\n      <th></th>\n      <th>SEX</th>\n      <th>HAD_CPOX</th>\n      <th>counts</th>\n    </tr>\n  </thead>\n  <tbody>\n    <tr>\n      <th>0</th>\n      <td>Female</td>\n      <td>No</td>\n      <td>6802</td>\n    </tr>\n    <tr>\n      <th>1</th>\n      <td>Female</td>\n      <td>Yes</td>\n      <td>53</td>\n    </tr>\n    <tr>\n      <th>2</th>\n      <td>Male</td>\n      <td>No</td>\n      <td>7028</td>\n    </tr>\n    <tr>\n      <th>3</th>\n      <td>Male</td>\n      <td>Yes</td>\n      <td>68</td>\n    </tr>\n  </tbody>\n</table>\n</div>"
     },
     "metadata": {},
     "execution_count": 128
    }
   ],
   "source": [
    "df2=df_v_masked.groupby(['SEX', 'HAD_CPOX']).size().reset_index(name='counts')\n",
    "# df_v_masked.head()"
   ]
  },
  {
   "cell_type": "code",
   "execution_count": 149,
   "metadata": {},
   "outputs": [
    {
     "output_type": "execute_result",
     "data": {
      "text/plain": [
       "{'male': 0.009675583380762664, 'female': 0.0077918259335489565}"
      ]
     },
     "metadata": {},
     "execution_count": 149
    }
   ],
   "source": [
    "# This function should return a dictionary in the form of (use the correct numbers):\n",
    "\n",
    "# {\"male\":0.2,\n",
    "# \"female\":0.4}\n",
    "\n",
    "# I am sure there is a very pandas way to do this. But here's a brute force way\n",
    "ratios = {\"male\":(df2.iloc[3].counts)/(df2.iloc[2].counts),'female':(df2.iloc[1].counts)/(df2.iloc[0].counts)}\n",
    "ratios"
   ]
  },
  {
   "source": [
    "## Question 4\n",
    "A correlation is a statistical relationship between two variables. If we wanted to know if vaccines work, we might look at the correlation between the use of the vaccine and whether it results in prevention of the infection or disease [1]. In this question, you are to see if there is a correlation between having had the chicken pox and the number of chickenpox vaccine doses given (varicella).\n",
    "\n",
    "Some notes on interpreting the answer. The had_chickenpox_column is either 1 (for yes) or 2 (for no), and the num_chickenpox_vaccine_column is the number of doses a child has been given of the varicella vaccine. A positive correlation (e.g., corr > 0) means that an increase in had_chickenpox_column (which means more no’s) would also increase the values of num_chickenpox_vaccine_column (which means more doses of vaccine). If there is a negative correlation (e.g., corr < 0), it indicates that having had chickenpox is related to an increase in the number of vaccine doses.\n",
    "\n",
    "Also, pval is the probability that we observe a correlation between had_chickenpox_column and num_chickenpox_vaccine_column which is greater than or equal to a particular value occurred by chance. A small pval means that the observed correlation is highly unlikely to occur by chance. In this case, pval should be very small (will end in e-18 indicating a very small number).\n",
    "\n",
    "[1] This isn’t really the full picture, since we are not looking at when the dose was given. It’s possible that children had chickenpox and then their parents went to get them the vaccine. Does this dataset have the data we would need to investigate the timing of the dose?"
   ],
   "cell_type": "markdown",
   "metadata": {}
  },
  {
   "cell_type": "code",
   "execution_count": 154,
   "metadata": {},
   "outputs": [
    {
     "output_type": "execute_result",
     "data": {
      "text/plain": [
       "   Unnamed: 0  SEQNUMC  SEQNUMHH  PDAT    PROVWT_D     RDDWT_D  STRATUM  YEAR  \\\n",
       "0           1   128521     12852     2         NaN  235.916956     1031  2017   \n",
       "1           2    10741      1074     2         NaN  957.353840     1068  2017   \n",
       "2           3   220011     22001     2         NaN  189.611299     1050  2017   \n",
       "3           4    86131      8613     1  675.430817  333.447418     1040  2017   \n",
       "4           5   227141     22714     1  482.617748  278.768063     1008  2017   \n",
       "\n",
       "   AGECPOXR  HAD_CPOX  ...  XVRCTY2  XVRCTY3  XVRCTY4  XVRCTY5  XVRCTY6  \\\n",
       "0       NaN         2  ...                        NaN      NaN      NaN   \n",
       "1       NaN         2  ...                        NaN      NaN      NaN   \n",
       "2       NaN         2  ...                        NaN      NaN      NaN   \n",
       "3       NaN         2  ...                        NaN      NaN      NaN   \n",
       "4       NaN         2  ...                        NaN      NaN      NaN   \n",
       "\n",
       "   XVRCTY7  XVRCTY8  XVRCTY9  INS_STAT2_I  INS_BREAK_I  \n",
       "0      NaN      NaN      NaN          NaN          NaN  \n",
       "1      NaN      NaN      NaN          NaN          NaN  \n",
       "2      NaN      NaN      NaN          NaN          NaN  \n",
       "3      NaN      NaN      NaN          1.0          2.0  \n",
       "4      NaN      NaN      NaN          2.0          1.0  \n",
       "\n",
       "[5 rows x 454 columns]"
      ],
      "text/html": "<div>\n<style scoped>\n    .dataframe tbody tr th:only-of-type {\n        vertical-align: middle;\n    }\n\n    .dataframe tbody tr th {\n        vertical-align: top;\n    }\n\n    .dataframe thead th {\n        text-align: right;\n    }\n</style>\n<table border=\"1\" class=\"dataframe\">\n  <thead>\n    <tr style=\"text-align: right;\">\n      <th></th>\n      <th>Unnamed: 0</th>\n      <th>SEQNUMC</th>\n      <th>SEQNUMHH</th>\n      <th>PDAT</th>\n      <th>PROVWT_D</th>\n      <th>RDDWT_D</th>\n      <th>STRATUM</th>\n      <th>YEAR</th>\n      <th>AGECPOXR</th>\n      <th>HAD_CPOX</th>\n      <th>...</th>\n      <th>XVRCTY2</th>\n      <th>XVRCTY3</th>\n      <th>XVRCTY4</th>\n      <th>XVRCTY5</th>\n      <th>XVRCTY6</th>\n      <th>XVRCTY7</th>\n      <th>XVRCTY8</th>\n      <th>XVRCTY9</th>\n      <th>INS_STAT2_I</th>\n      <th>INS_BREAK_I</th>\n    </tr>\n  </thead>\n  <tbody>\n    <tr>\n      <th>0</th>\n      <td>1</td>\n      <td>128521</td>\n      <td>12852</td>\n      <td>2</td>\n      <td>NaN</td>\n      <td>235.916956</td>\n      <td>1031</td>\n      <td>2017</td>\n      <td>NaN</td>\n      <td>2</td>\n      <td>...</td>\n      <td></td>\n      <td></td>\n      <td>NaN</td>\n      <td>NaN</td>\n      <td>NaN</td>\n      <td>NaN</td>\n      <td>NaN</td>\n      <td>NaN</td>\n      <td>NaN</td>\n      <td>NaN</td>\n    </tr>\n    <tr>\n      <th>1</th>\n      <td>2</td>\n      <td>10741</td>\n      <td>1074</td>\n      <td>2</td>\n      <td>NaN</td>\n      <td>957.353840</td>\n      <td>1068</td>\n      <td>2017</td>\n      <td>NaN</td>\n      <td>2</td>\n      <td>...</td>\n      <td></td>\n      <td></td>\n      <td>NaN</td>\n      <td>NaN</td>\n      <td>NaN</td>\n      <td>NaN</td>\n      <td>NaN</td>\n      <td>NaN</td>\n      <td>NaN</td>\n      <td>NaN</td>\n    </tr>\n    <tr>\n      <th>2</th>\n      <td>3</td>\n      <td>220011</td>\n      <td>22001</td>\n      <td>2</td>\n      <td>NaN</td>\n      <td>189.611299</td>\n      <td>1050</td>\n      <td>2017</td>\n      <td>NaN</td>\n      <td>2</td>\n      <td>...</td>\n      <td></td>\n      <td></td>\n      <td>NaN</td>\n      <td>NaN</td>\n      <td>NaN</td>\n      <td>NaN</td>\n      <td>NaN</td>\n      <td>NaN</td>\n      <td>NaN</td>\n      <td>NaN</td>\n    </tr>\n    <tr>\n      <th>3</th>\n      <td>4</td>\n      <td>86131</td>\n      <td>8613</td>\n      <td>1</td>\n      <td>675.430817</td>\n      <td>333.447418</td>\n      <td>1040</td>\n      <td>2017</td>\n      <td>NaN</td>\n      <td>2</td>\n      <td>...</td>\n      <td></td>\n      <td></td>\n      <td>NaN</td>\n      <td>NaN</td>\n      <td>NaN</td>\n      <td>NaN</td>\n      <td>NaN</td>\n      <td>NaN</td>\n      <td>1.0</td>\n      <td>2.0</td>\n    </tr>\n    <tr>\n      <th>4</th>\n      <td>5</td>\n      <td>227141</td>\n      <td>22714</td>\n      <td>1</td>\n      <td>482.617748</td>\n      <td>278.768063</td>\n      <td>1008</td>\n      <td>2017</td>\n      <td>NaN</td>\n      <td>2</td>\n      <td>...</td>\n      <td></td>\n      <td></td>\n      <td>NaN</td>\n      <td>NaN</td>\n      <td>NaN</td>\n      <td>NaN</td>\n      <td>NaN</td>\n      <td>NaN</td>\n      <td>2.0</td>\n      <td>1.0</td>\n    </tr>\n  </tbody>\n</table>\n<p>5 rows × 454 columns</p>\n</div>"
     },
     "metadata": {},
     "execution_count": 154
    }
   ],
   "source": [
    "# strategy:\n",
    "# swt up a dataframe with the two columns above,\n",
    "# dropping na's and clearing out all values except yes/no in the had_chickenpox column\n",
    "# then run the pval\n",
    "import pandas as pd\n",
    "df = pd.read_csv('assets/NISPUF17.csv')\n",
    "df.head()"
   ]
  },
  {
   "cell_type": "code",
   "execution_count": 163,
   "metadata": {},
   "outputs": [
    {
     "output_type": "execute_result",
     "data": {
      "text/plain": [
       "   HAD_CPOX  P_NUMVRC\n",
       "3         2       1.0\n",
       "4         2       0.0\n",
       "6         2       1.0\n",
       "7         2       0.0\n",
       "8         1       0.0"
      ],
      "text/html": "<div>\n<style scoped>\n    .dataframe tbody tr th:only-of-type {\n        vertical-align: middle;\n    }\n\n    .dataframe tbody tr th {\n        vertical-align: top;\n    }\n\n    .dataframe thead th {\n        text-align: right;\n    }\n</style>\n<table border=\"1\" class=\"dataframe\">\n  <thead>\n    <tr style=\"text-align: right;\">\n      <th></th>\n      <th>HAD_CPOX</th>\n      <th>P_NUMVRC</th>\n    </tr>\n  </thead>\n  <tbody>\n    <tr>\n      <th>3</th>\n      <td>2</td>\n      <td>1.0</td>\n    </tr>\n    <tr>\n      <th>4</th>\n      <td>2</td>\n      <td>0.0</td>\n    </tr>\n    <tr>\n      <th>6</th>\n      <td>2</td>\n      <td>1.0</td>\n    </tr>\n    <tr>\n      <th>7</th>\n      <td>2</td>\n      <td>0.0</td>\n    </tr>\n    <tr>\n      <th>8</th>\n      <td>1</td>\n      <td>0.0</td>\n    </tr>\n  </tbody>\n</table>\n</div>"
     },
     "metadata": {},
     "execution_count": 163
    }
   ],
   "source": [
    "df_pox = df.filter(['HAD_CPOX', 'P_NUMVRC'], axis=1).dropna()\n",
    "#inclide rows only where HAD_CPOX is 1 or 2\n",
    "df_pox = df_pox[df_pox['HAD_CPOX'].isin([1, 2])]\n",
    "df_pox.head()\n"
   ]
  },
  {
   "cell_type": "code",
   "execution_count": 174,
   "metadata": {},
   "outputs": [
    {
     "output_type": "execute_result",
     "data": {
      "text/plain": [
       "0.07044873460148018"
      ]
     },
     "metadata": {},
     "execution_count": 174
    }
   ],
   "source": [
    "#calculate the correlation\n",
    "from scipy import stats\n",
    "df_pox.sort_index(inplace=True)\n",
    "corr, pval=stats.pearsonr(df_pox[\"HAD_CPOX\"],df_pox[\"P_NUMVRC\"])\n",
    "corr"
   ]
  },
  {
   "cell_type": "code",
   "execution_count": 181,
   "metadata": {},
   "outputs": [
    {
     "output_type": "execute_result",
     "data": {
      "text/plain": [
       "(0.07044873460148018, 2.7780263182891086e-18)"
      ]
     },
     "metadata": {},
     "execution_count": 181
    }
   ],
   "source": [
    "pval"
   ]
  },
  {
   "cell_type": "code",
   "execution_count": null,
   "metadata": {},
   "outputs": [],
   "source": []
  }
 ]
}