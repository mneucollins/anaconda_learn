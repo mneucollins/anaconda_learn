{
 "metadata": {
  "language_info": {
   "codemirror_mode": {
    "name": "ipython",
    "version": 3
   },
   "file_extension": ".py",
   "mimetype": "text/x-python",
   "name": "python",
   "nbconvert_exporter": "python",
   "pygments_lexer": "ipython3",
   "version": "3.8.5-final"
  },
  "orig_nbformat": 2,
  "kernelspec": {
   "name": "python3",
   "display_name": "Python 3",
   "language": "python"
  }
 },
 "nbformat": 4,
 "nbformat_minor": 2,
 "cells": [
  {
   "cell_type": "code",
   "execution_count": 12,
   "metadata": {},
   "outputs": [
    {
     "output_type": "execute_result",
     "data": {
      "text/plain": [
       "         Data Source World Development Indicators  \\\n",
       "0                NaN                          NaN   \n",
       "1  Last Updated Date                   2016-07-22   \n",
       "2                NaN                          NaN   \n",
       "3       Country Name                 Country Code   \n",
       "4              Aruba                          ABW   \n",
       "\n",
       "                                 Unnamed: 2      Unnamed: 3  Unnamed: 4  \\\n",
       "0                                       NaN             NaN         NaN   \n",
       "1                                       NaN             NaN         NaN   \n",
       "2                                       NaN             NaN         NaN   \n",
       "3                            Indicator Name  Indicator Code      1960.0   \n",
       "4  GDP at market prices (constant 2010 US$)  NY.GDP.MKTP.KD         NaN   \n",
       "\n",
       "   Unnamed: 5  Unnamed: 6  Unnamed: 7  Unnamed: 8  Unnamed: 9  ...  \\\n",
       "0         NaN         NaN         NaN         NaN         NaN  ...   \n",
       "1         NaN         NaN         NaN         NaN         NaN  ...   \n",
       "2         NaN         NaN         NaN         NaN         NaN  ...   \n",
       "3      1961.0      1962.0      1963.0      1964.0      1965.0  ...   \n",
       "4         NaN         NaN         NaN         NaN         NaN  ...   \n",
       "\n",
       "   Unnamed: 50  Unnamed: 51  Unnamed: 52  Unnamed: 53   Unnamed: 54  \\\n",
       "0          NaN          NaN          NaN          NaN           NaN   \n",
       "1          NaN          NaN          NaN          NaN           NaN   \n",
       "2          NaN          NaN          NaN          NaN           NaN   \n",
       "3       2006.0       2007.0       2008.0       2009.0  2.010000e+03   \n",
       "4          NaN          NaN          NaN          NaN  2.467704e+09   \n",
       "\n",
       "   Unnamed: 55  Unnamed: 56  Unnamed: 57  Unnamed: 58  Unnamed: 59  \n",
       "0          NaN          NaN          NaN          NaN          NaN  \n",
       "1          NaN          NaN          NaN          NaN          NaN  \n",
       "2          NaN          NaN          NaN          NaN          NaN  \n",
       "3       2011.0       2012.0       2013.0       2014.0       2015.0  \n",
       "4          NaN          NaN          NaN          NaN          NaN  \n",
       "\n",
       "[5 rows x 60 columns]"
      ],
      "text/html": "<div>\n<style scoped>\n    .dataframe tbody tr th:only-of-type {\n        vertical-align: middle;\n    }\n\n    .dataframe tbody tr th {\n        vertical-align: top;\n    }\n\n    .dataframe thead th {\n        text-align: right;\n    }\n</style>\n<table border=\"1\" class=\"dataframe\">\n  <thead>\n    <tr style=\"text-align: right;\">\n      <th></th>\n      <th>Data Source</th>\n      <th>World Development Indicators</th>\n      <th>Unnamed: 2</th>\n      <th>Unnamed: 3</th>\n      <th>Unnamed: 4</th>\n      <th>Unnamed: 5</th>\n      <th>Unnamed: 6</th>\n      <th>Unnamed: 7</th>\n      <th>Unnamed: 8</th>\n      <th>Unnamed: 9</th>\n      <th>...</th>\n      <th>Unnamed: 50</th>\n      <th>Unnamed: 51</th>\n      <th>Unnamed: 52</th>\n      <th>Unnamed: 53</th>\n      <th>Unnamed: 54</th>\n      <th>Unnamed: 55</th>\n      <th>Unnamed: 56</th>\n      <th>Unnamed: 57</th>\n      <th>Unnamed: 58</th>\n      <th>Unnamed: 59</th>\n    </tr>\n  </thead>\n  <tbody>\n    <tr>\n      <th>0</th>\n      <td>NaN</td>\n      <td>NaN</td>\n      <td>NaN</td>\n      <td>NaN</td>\n      <td>NaN</td>\n      <td>NaN</td>\n      <td>NaN</td>\n      <td>NaN</td>\n      <td>NaN</td>\n      <td>NaN</td>\n      <td>...</td>\n      <td>NaN</td>\n      <td>NaN</td>\n      <td>NaN</td>\n      <td>NaN</td>\n      <td>NaN</td>\n      <td>NaN</td>\n      <td>NaN</td>\n      <td>NaN</td>\n      <td>NaN</td>\n      <td>NaN</td>\n    </tr>\n    <tr>\n      <th>1</th>\n      <td>Last Updated Date</td>\n      <td>2016-07-22</td>\n      <td>NaN</td>\n      <td>NaN</td>\n      <td>NaN</td>\n      <td>NaN</td>\n      <td>NaN</td>\n      <td>NaN</td>\n      <td>NaN</td>\n      <td>NaN</td>\n      <td>...</td>\n      <td>NaN</td>\n      <td>NaN</td>\n      <td>NaN</td>\n      <td>NaN</td>\n      <td>NaN</td>\n      <td>NaN</td>\n      <td>NaN</td>\n      <td>NaN</td>\n      <td>NaN</td>\n      <td>NaN</td>\n    </tr>\n    <tr>\n      <th>2</th>\n      <td>NaN</td>\n      <td>NaN</td>\n      <td>NaN</td>\n      <td>NaN</td>\n      <td>NaN</td>\n      <td>NaN</td>\n      <td>NaN</td>\n      <td>NaN</td>\n      <td>NaN</td>\n      <td>NaN</td>\n      <td>...</td>\n      <td>NaN</td>\n      <td>NaN</td>\n      <td>NaN</td>\n      <td>NaN</td>\n      <td>NaN</td>\n      <td>NaN</td>\n      <td>NaN</td>\n      <td>NaN</td>\n      <td>NaN</td>\n      <td>NaN</td>\n    </tr>\n    <tr>\n      <th>3</th>\n      <td>Country Name</td>\n      <td>Country Code</td>\n      <td>Indicator Name</td>\n      <td>Indicator Code</td>\n      <td>1960.0</td>\n      <td>1961.0</td>\n      <td>1962.0</td>\n      <td>1963.0</td>\n      <td>1964.0</td>\n      <td>1965.0</td>\n      <td>...</td>\n      <td>2006.0</td>\n      <td>2007.0</td>\n      <td>2008.0</td>\n      <td>2009.0</td>\n      <td>2.010000e+03</td>\n      <td>2011.0</td>\n      <td>2012.0</td>\n      <td>2013.0</td>\n      <td>2014.0</td>\n      <td>2015.0</td>\n    </tr>\n    <tr>\n      <th>4</th>\n      <td>Aruba</td>\n      <td>ABW</td>\n      <td>GDP at market prices (constant 2010 US$)</td>\n      <td>NY.GDP.MKTP.KD</td>\n      <td>NaN</td>\n      <td>NaN</td>\n      <td>NaN</td>\n      <td>NaN</td>\n      <td>NaN</td>\n      <td>NaN</td>\n      <td>...</td>\n      <td>NaN</td>\n      <td>NaN</td>\n      <td>NaN</td>\n      <td>NaN</td>\n      <td>2.467704e+09</td>\n      <td>NaN</td>\n      <td>NaN</td>\n      <td>NaN</td>\n      <td>NaN</td>\n      <td>NaN</td>\n    </tr>\n  </tbody>\n</table>\n<p>5 rows × 60 columns</p>\n</div>"
     },
     "metadata": {},
     "execution_count": 12
    }
   ],
   "source": [
    "import pandas as pd \n",
    "df = pd.read_csv(\"assets/world_bank.csv\")\n",
    "pandas.read_excel(\"assets/EnergyIndicators.xls\",\n",
    "                   header=0, \n",
    "                   sheet_name=0, \n",
    "                   names=['Country', 'Energy Supply', 'Energy Supply per Capita', '% Renewable'],\n",
    "                   index_col=3, usecols=None, squeeze=False, dtype=None, engine=None, converters=None, true_values=None, false_values=None, skiprows=None, nrows=None, na_values=None, keep_default_na=True, na_filter=True, verbose=False, parse_dates=False, date_parser=None, thousands=None, comment=None, skipfooter=0, convert_float=True, mangle_dupe_cols=True, storage_options=None)[source]¶\n",
    "\n",
    "df.head()"
   ]
  }
 ]
}