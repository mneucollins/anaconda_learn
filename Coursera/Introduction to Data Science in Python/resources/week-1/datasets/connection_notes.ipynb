{
 "metadata": {
  "language_info": {
   "codemirror_mode": {
    "name": "ipython",
    "version": 3
   },
   "file_extension": ".py",
   "mimetype": "text/x-python",
   "name": "python",
   "nbconvert_exporter": "python",
   "pygments_lexer": "ipython3",
   "version": 3
  },
  "orig_nbformat": 2
 },
 "nbformat": 4,
 "nbformat_minor": 2,
 "cells": [
  {
   "source": [
    "one method of connecting to database, set up environment variables\n",
    "\n",
    "    import os\n",
    "    import pymysql\n",
    "    import pandas as pd\n",
    "\n",
    "    host = os.getenv('MYSQL_HOST')\n",
    "    port = os.getenv('MYSQL_PORT')\n",
    "    user = os.getenv('MYSQL_USER')\n",
    "    password = os.getenv('MYSQL_PASSWORD')\n",
    "    database = os.getenv('MYSQL_DATABASE')\n",
    "\n",
    "    conn = pymysql.connect(\n",
    "        host=host,\n",
    "        port=int(3306),\n",
    "        user=\"root\",\n",
    "        passwd=password,\n",
    "        db=\"[YOUR_DB_NAME]\",\n",
    "        charset='utf8mb4')\n",
    "\n",
    "    df = pd.read_sql_query(\"SELECT * FROM YOUR_TABLE\",\n",
    "        conn)\n",
    "    df.tail(10)\n"
   ],
   "cell_type": "markdown",
   "metadata": {}
  }
 ]
}