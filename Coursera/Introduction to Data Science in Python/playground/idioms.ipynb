{
 "metadata": {
  "language_info": {
   "codemirror_mode": {
    "name": "ipython",
    "version": 3
   },
   "file_extension": ".py",
   "mimetype": "text/x-python",
   "name": "python",
   "nbconvert_exporter": "python",
   "pygments_lexer": "ipython3",
   "version": "3.8.5-final"
  },
  "orig_nbformat": 2,
  "kernelspec": {
   "name": "python3",
   "display_name": "Python 3",
   "language": "python"
  }
 },
 "nbformat": 4,
 "nbformat_minor": 2,
 "cells": [
  {
   "source": [
    "## idiomatic python\n",
    "also known as 'pythonic' code, the idea that there may be many ways to solve a problem but some are more elegant and make use of the languages strenghts. In the pandas world these might be known as pandorable"
   ],
   "cell_type": "markdown",
   "metadata": {}
  },
  {
   "cell_type": "code",
   "execution_count": 5,
   "metadata": {},
   "outputs": [
    {
     "output_type": "execute_result",
     "data": {
      "text/plain": [
       "   SUMLEV  REGION  DIVISION  STATE  COUNTY   STNAME         CTYNAME  \\\n",
       "0      40       3         6      1       0  Alabama         Alabama   \n",
       "1      50       3         6      1       1  Alabama  Autauga County   \n",
       "2      50       3         6      1       3  Alabama  Baldwin County   \n",
       "3      50       3         6      1       5  Alabama  Barbour County   \n",
       "4      50       3         6      1       7  Alabama     Bibb County   \n",
       "\n",
       "   CENSUS2010POP  ESTIMATESBASE2010  POPESTIMATE2010  ...  RDOMESTICMIG2011  \\\n",
       "0        4779736            4780127          4785161  ...          0.002295   \n",
       "1          54571              54571            54660  ...          7.242091   \n",
       "2         182265             182265           183193  ...         14.832960   \n",
       "3          27457              27457            27341  ...         -4.728132   \n",
       "4          22915              22919            22861  ...         -5.527043   \n",
       "\n",
       "   RDOMESTICMIG2012  RDOMESTICMIG2013  RDOMESTICMIG2014  RDOMESTICMIG2015  \\\n",
       "0         -0.193196          0.381066          0.582002         -0.467369   \n",
       "1         -2.915927         -3.012349          2.265971         -2.530799   \n",
       "2         17.647293         21.845705         19.243287         17.197872   \n",
       "3         -2.500690         -7.056824         -3.904217        -10.543299   \n",
       "4         -5.068871         -6.201001         -0.177537          0.177258   \n",
       "\n",
       "   RNETMIG2011  RNETMIG2012  RNETMIG2013  RNETMIG2014  RNETMIG2015  \n",
       "0     1.030015     0.826644     1.383282     1.724718     0.712594  \n",
       "1     7.606016    -2.626146    -2.722002     2.592270    -2.187333  \n",
       "2    15.844176    18.559627    22.727626    20.317142    18.293499  \n",
       "3    -4.874741    -2.758113    -7.167664    -3.978583   -10.543299  \n",
       "4    -5.088389    -4.363636    -5.403729     0.754533     1.107861  \n",
       "\n",
       "[5 rows x 100 columns]"
      ],
      "text/html": "<div>\n<style scoped>\n    .dataframe tbody tr th:only-of-type {\n        vertical-align: middle;\n    }\n\n    .dataframe tbody tr th {\n        vertical-align: top;\n    }\n\n    .dataframe thead th {\n        text-align: right;\n    }\n</style>\n<table border=\"1\" class=\"dataframe\">\n  <thead>\n    <tr style=\"text-align: right;\">\n      <th></th>\n      <th>SUMLEV</th>\n      <th>REGION</th>\n      <th>DIVISION</th>\n      <th>STATE</th>\n      <th>COUNTY</th>\n      <th>STNAME</th>\n      <th>CTYNAME</th>\n      <th>CENSUS2010POP</th>\n      <th>ESTIMATESBASE2010</th>\n      <th>POPESTIMATE2010</th>\n      <th>...</th>\n      <th>RDOMESTICMIG2011</th>\n      <th>RDOMESTICMIG2012</th>\n      <th>RDOMESTICMIG2013</th>\n      <th>RDOMESTICMIG2014</th>\n      <th>RDOMESTICMIG2015</th>\n      <th>RNETMIG2011</th>\n      <th>RNETMIG2012</th>\n      <th>RNETMIG2013</th>\n      <th>RNETMIG2014</th>\n      <th>RNETMIG2015</th>\n    </tr>\n  </thead>\n  <tbody>\n    <tr>\n      <th>0</th>\n      <td>40</td>\n      <td>3</td>\n      <td>6</td>\n      <td>1</td>\n      <td>0</td>\n      <td>Alabama</td>\n      <td>Alabama</td>\n      <td>4779736</td>\n      <td>4780127</td>\n      <td>4785161</td>\n      <td>...</td>\n      <td>0.002295</td>\n      <td>-0.193196</td>\n      <td>0.381066</td>\n      <td>0.582002</td>\n      <td>-0.467369</td>\n      <td>1.030015</td>\n      <td>0.826644</td>\n      <td>1.383282</td>\n      <td>1.724718</td>\n      <td>0.712594</td>\n    </tr>\n    <tr>\n      <th>1</th>\n      <td>50</td>\n      <td>3</td>\n      <td>6</td>\n      <td>1</td>\n      <td>1</td>\n      <td>Alabama</td>\n      <td>Autauga County</td>\n      <td>54571</td>\n      <td>54571</td>\n      <td>54660</td>\n      <td>...</td>\n      <td>7.242091</td>\n      <td>-2.915927</td>\n      <td>-3.012349</td>\n      <td>2.265971</td>\n      <td>-2.530799</td>\n      <td>7.606016</td>\n      <td>-2.626146</td>\n      <td>-2.722002</td>\n      <td>2.592270</td>\n      <td>-2.187333</td>\n    </tr>\n    <tr>\n      <th>2</th>\n      <td>50</td>\n      <td>3</td>\n      <td>6</td>\n      <td>1</td>\n      <td>3</td>\n      <td>Alabama</td>\n      <td>Baldwin County</td>\n      <td>182265</td>\n      <td>182265</td>\n      <td>183193</td>\n      <td>...</td>\n      <td>14.832960</td>\n      <td>17.647293</td>\n      <td>21.845705</td>\n      <td>19.243287</td>\n      <td>17.197872</td>\n      <td>15.844176</td>\n      <td>18.559627</td>\n      <td>22.727626</td>\n      <td>20.317142</td>\n      <td>18.293499</td>\n    </tr>\n    <tr>\n      <th>3</th>\n      <td>50</td>\n      <td>3</td>\n      <td>6</td>\n      <td>1</td>\n      <td>5</td>\n      <td>Alabama</td>\n      <td>Barbour County</td>\n      <td>27457</td>\n      <td>27457</td>\n      <td>27341</td>\n      <td>...</td>\n      <td>-4.728132</td>\n      <td>-2.500690</td>\n      <td>-7.056824</td>\n      <td>-3.904217</td>\n      <td>-10.543299</td>\n      <td>-4.874741</td>\n      <td>-2.758113</td>\n      <td>-7.167664</td>\n      <td>-3.978583</td>\n      <td>-10.543299</td>\n    </tr>\n    <tr>\n      <th>4</th>\n      <td>50</td>\n      <td>3</td>\n      <td>6</td>\n      <td>1</td>\n      <td>7</td>\n      <td>Alabama</td>\n      <td>Bibb County</td>\n      <td>22915</td>\n      <td>22919</td>\n      <td>22861</td>\n      <td>...</td>\n      <td>-5.527043</td>\n      <td>-5.068871</td>\n      <td>-6.201001</td>\n      <td>-0.177537</td>\n      <td>0.177258</td>\n      <td>-5.088389</td>\n      <td>-4.363636</td>\n      <td>-5.403729</td>\n      <td>0.754533</td>\n      <td>1.107861</td>\n    </tr>\n  </tbody>\n</table>\n<p>5 rows × 100 columns</p>\n</div>"
     },
     "metadata": {},
     "execution_count": 5
    }
   ],
   "source": [
    "import pandas as pd\n",
    "import numpy as np\n",
    "import timeit\n",
    "\n",
    "# some census data\n",
    "df = pd.read_csv('../resources/week-3/datasets/census.csv')\n",
    "df.head()"
   ]
  },
  {
   "source": [
    "## Method chaining\n",
    "method chaining is one such idiom that allow you to combine several steps into one.\n",
    "It is not necessarily faster, but often is easier to read\n"
   ],
   "cell_type": "markdown",
   "metadata": {}
  },
  {
   "cell_type": "code",
   "execution_count": 17,
   "metadata": {},
   "outputs": [
    {
     "output_type": "execute_result",
     "data": {
      "text/plain": [
       "   SUMLEV  REGION  DIVISION  STATE  COUNTY   STNAME          CTYNAME  \\\n",
       "5      50       3         6      1       9  Alabama    Blount County   \n",
       "6      50       3         6      1      11  Alabama   Bullock County   \n",
       "7      50       3         6      1      13  Alabama    Butler County   \n",
       "8      50       3         6      1      15  Alabama   Calhoun County   \n",
       "9      50       3         6      1      17  Alabama  Chambers County   \n",
       "\n",
       "   CENSUS2010POP  ESTIMATESBASE2010  POPESTIMATE2010  ...  RDOMESTICMIG2011  \\\n",
       "5          57322              57322            57373  ...          1.807375   \n",
       "6          10914              10915            10887  ...        -30.953709   \n",
       "7          20947              20946            20944  ...        -14.032727   \n",
       "8         118572             118586           118437  ...         -6.155670   \n",
       "9          34215              34170            34098  ...         -2.731639   \n",
       "\n",
       "   RDOMESTICMIG2012  RDOMESTICMIG2013  RDOMESTICMIG2014  RDOMESTICMIG2015  \\\n",
       "5         -1.177622         -1.748766         -2.062535         -1.369970   \n",
       "6         -5.180127         -1.130263         14.354290        -16.167247   \n",
       "7        -11.684234         -5.655413          1.085428         -6.529805   \n",
       "8         -4.611706         -5.524649         -4.463211         -3.376322   \n",
       "9          3.849092          2.872721         -2.287222          1.349468   \n",
       "\n",
       "   RNETMIG2011  RNETMIG2012  RNETMIG2013  RNETMIG2014  RNETMIG2015  \n",
       "5     1.859511    -0.848580    -1.402476    -1.577232    -0.884411  \n",
       "6   -29.001673    -2.825524     1.507017    17.243790   -13.193961  \n",
       "7   -13.936612   -11.586865    -5.557058     1.184103    -6.430868  \n",
       "8    -5.791579    -4.092677    -5.062836    -3.912834    -2.806406  \n",
       "9    -1.821092     4.701181     3.781439    -1.290228     2.346901  \n",
       "\n",
       "[5 rows x 100 columns]"
      ],
      "text/html": "<div>\n<style scoped>\n    .dataframe tbody tr th:only-of-type {\n        vertical-align: middle;\n    }\n\n    .dataframe tbody tr th {\n        vertical-align: top;\n    }\n\n    .dataframe thead th {\n        text-align: right;\n    }\n</style>\n<table border=\"1\" class=\"dataframe\">\n  <thead>\n    <tr style=\"text-align: right;\">\n      <th></th>\n      <th>SUMLEV</th>\n      <th>REGION</th>\n      <th>DIVISION</th>\n      <th>STATE</th>\n      <th>COUNTY</th>\n      <th>STNAME</th>\n      <th>CTYNAME</th>\n      <th>CENSUS2010POP</th>\n      <th>ESTIMATESBASE2010</th>\n      <th>POPESTIMATE2010</th>\n      <th>...</th>\n      <th>RDOMESTICMIG2011</th>\n      <th>RDOMESTICMIG2012</th>\n      <th>RDOMESTICMIG2013</th>\n      <th>RDOMESTICMIG2014</th>\n      <th>RDOMESTICMIG2015</th>\n      <th>RNETMIG2011</th>\n      <th>RNETMIG2012</th>\n      <th>RNETMIG2013</th>\n      <th>RNETMIG2014</th>\n      <th>RNETMIG2015</th>\n    </tr>\n  </thead>\n  <tbody>\n    <tr>\n      <th>5</th>\n      <td>50</td>\n      <td>3</td>\n      <td>6</td>\n      <td>1</td>\n      <td>9</td>\n      <td>Alabama</td>\n      <td>Blount County</td>\n      <td>57322</td>\n      <td>57322</td>\n      <td>57373</td>\n      <td>...</td>\n      <td>1.807375</td>\n      <td>-1.177622</td>\n      <td>-1.748766</td>\n      <td>-2.062535</td>\n      <td>-1.369970</td>\n      <td>1.859511</td>\n      <td>-0.848580</td>\n      <td>-1.402476</td>\n      <td>-1.577232</td>\n      <td>-0.884411</td>\n    </tr>\n    <tr>\n      <th>6</th>\n      <td>50</td>\n      <td>3</td>\n      <td>6</td>\n      <td>1</td>\n      <td>11</td>\n      <td>Alabama</td>\n      <td>Bullock County</td>\n      <td>10914</td>\n      <td>10915</td>\n      <td>10887</td>\n      <td>...</td>\n      <td>-30.953709</td>\n      <td>-5.180127</td>\n      <td>-1.130263</td>\n      <td>14.354290</td>\n      <td>-16.167247</td>\n      <td>-29.001673</td>\n      <td>-2.825524</td>\n      <td>1.507017</td>\n      <td>17.243790</td>\n      <td>-13.193961</td>\n    </tr>\n    <tr>\n      <th>7</th>\n      <td>50</td>\n      <td>3</td>\n      <td>6</td>\n      <td>1</td>\n      <td>13</td>\n      <td>Alabama</td>\n      <td>Butler County</td>\n      <td>20947</td>\n      <td>20946</td>\n      <td>20944</td>\n      <td>...</td>\n      <td>-14.032727</td>\n      <td>-11.684234</td>\n      <td>-5.655413</td>\n      <td>1.085428</td>\n      <td>-6.529805</td>\n      <td>-13.936612</td>\n      <td>-11.586865</td>\n      <td>-5.557058</td>\n      <td>1.184103</td>\n      <td>-6.430868</td>\n    </tr>\n    <tr>\n      <th>8</th>\n      <td>50</td>\n      <td>3</td>\n      <td>6</td>\n      <td>1</td>\n      <td>15</td>\n      <td>Alabama</td>\n      <td>Calhoun County</td>\n      <td>118572</td>\n      <td>118586</td>\n      <td>118437</td>\n      <td>...</td>\n      <td>-6.155670</td>\n      <td>-4.611706</td>\n      <td>-5.524649</td>\n      <td>-4.463211</td>\n      <td>-3.376322</td>\n      <td>-5.791579</td>\n      <td>-4.092677</td>\n      <td>-5.062836</td>\n      <td>-3.912834</td>\n      <td>-2.806406</td>\n    </tr>\n    <tr>\n      <th>9</th>\n      <td>50</td>\n      <td>3</td>\n      <td>6</td>\n      <td>1</td>\n      <td>17</td>\n      <td>Alabama</td>\n      <td>Chambers County</td>\n      <td>34215</td>\n      <td>34170</td>\n      <td>34098</td>\n      <td>...</td>\n      <td>-2.731639</td>\n      <td>3.849092</td>\n      <td>2.872721</td>\n      <td>-2.287222</td>\n      <td>1.349468</td>\n      <td>-1.821092</td>\n      <td>4.701181</td>\n      <td>3.781439</td>\n      <td>-1.290228</td>\n      <td>2.346901</td>\n    </tr>\n  </tbody>\n</table>\n<p>5 rows × 100 columns</p>\n</div>"
     },
     "metadata": {},
     "execution_count": 17
    }
   ],
   "source": [
    "\n",
    "#starting the line with a parentheses tells python that this is going to span several lines\n",
    "(df.where(df['SUMLEV'] == 50)\n",
    "    .dropna()\n",
    "    .set_index(['STATE', 'CTYNAME'])\n",
    "    .rename(columns = {'ESTIMATESBASE2010':'Estimates Base 2010'}))\n",
    "df[5:].head()"
   ]
  },
  {
   "cell_type": "code",
   "execution_count": 37,
   "metadata": {},
   "outputs": [
    {
     "output_type": "execute_result",
     "data": {
      "text/plain": [
       "      SUMLEV  REGION  DIVISION  STATE  COUNTY        STNAME          CTYNAME  \\\n",
       "2642      50       3         7     48     151         Texas    Fisher County   \n",
       "2410      50       2         4     46      15  South Dakota     Brule County   \n",
       "2877      50       3         5     51      21      Virginia     Bland County   \n",
       "2728      50       3         7     48     323         Texas  Maverick County   \n",
       "\n",
       "      CENSUS2010POP  ESTIMATESBASE2010  POPESTIMATE2010  ...  \\\n",
       "2642           3974               3974             3954  ...   \n",
       "2410           5255               5255             5285  ...   \n",
       "2877           6824               6824             6810  ...   \n",
       "2728          54258              54258            54487  ...   \n",
       "\n",
       "      RDOMESTICMIG2011  RDOMESTICMIG2012  RDOMESTICMIG2013  RDOMESTICMIG2014  \\\n",
       "2642          0.000000        -23.357290          9.897122          0.000000   \n",
       "2410          5.278040         -1.690141          9.518477        -20.149254   \n",
       "2877          0.736648         -3.268217          2.989537         -6.020470   \n",
       "2728          0.291349         -5.935252         -3.040081         -6.272401   \n",
       "\n",
       "      RDOMESTICMIG2015  RNETMIG2011  RNETMIG2012  RNETMIG2013  RNETMIG2014  \\\n",
       "2642          5.486610     0.252876   -23.100616    10.157573     0.260756   \n",
       "2410         -9.802074     5.278040    -1.690141     9.518477   -20.149254   \n",
       "2877          0.151895     0.589319    -3.416772     2.840060    -6.170981   \n",
       "2728         -7.607012     3.496185    -3.435252    -0.302230    -2.986858   \n",
       "\n",
       "      RNETMIG2015  \n",
       "2642     5.747877  \n",
       "2410    -9.802074  \n",
       "2877     0.000000  \n",
       "2728    -4.299615  \n",
       "\n",
       "[4 rows x 100 columns]"
      ],
      "text/html": "<div>\n<style scoped>\n    .dataframe tbody tr th:only-of-type {\n        vertical-align: middle;\n    }\n\n    .dataframe tbody tr th {\n        vertical-align: top;\n    }\n\n    .dataframe thead th {\n        text-align: right;\n    }\n</style>\n<table border=\"1\" class=\"dataframe\">\n  <thead>\n    <tr style=\"text-align: right;\">\n      <th></th>\n      <th>SUMLEV</th>\n      <th>REGION</th>\n      <th>DIVISION</th>\n      <th>STATE</th>\n      <th>COUNTY</th>\n      <th>STNAME</th>\n      <th>CTYNAME</th>\n      <th>CENSUS2010POP</th>\n      <th>ESTIMATESBASE2010</th>\n      <th>POPESTIMATE2010</th>\n      <th>...</th>\n      <th>RDOMESTICMIG2011</th>\n      <th>RDOMESTICMIG2012</th>\n      <th>RDOMESTICMIG2013</th>\n      <th>RDOMESTICMIG2014</th>\n      <th>RDOMESTICMIG2015</th>\n      <th>RNETMIG2011</th>\n      <th>RNETMIG2012</th>\n      <th>RNETMIG2013</th>\n      <th>RNETMIG2014</th>\n      <th>RNETMIG2015</th>\n    </tr>\n  </thead>\n  <tbody>\n    <tr>\n      <th>2642</th>\n      <td>50</td>\n      <td>3</td>\n      <td>7</td>\n      <td>48</td>\n      <td>151</td>\n      <td>Texas</td>\n      <td>Fisher County</td>\n      <td>3974</td>\n      <td>3974</td>\n      <td>3954</td>\n      <td>...</td>\n      <td>0.000000</td>\n      <td>-23.357290</td>\n      <td>9.897122</td>\n      <td>0.000000</td>\n      <td>5.486610</td>\n      <td>0.252876</td>\n      <td>-23.100616</td>\n      <td>10.157573</td>\n      <td>0.260756</td>\n      <td>5.747877</td>\n    </tr>\n    <tr>\n      <th>2410</th>\n      <td>50</td>\n      <td>2</td>\n      <td>4</td>\n      <td>46</td>\n      <td>15</td>\n      <td>South Dakota</td>\n      <td>Brule County</td>\n      <td>5255</td>\n      <td>5255</td>\n      <td>5285</td>\n      <td>...</td>\n      <td>5.278040</td>\n      <td>-1.690141</td>\n      <td>9.518477</td>\n      <td>-20.149254</td>\n      <td>-9.802074</td>\n      <td>5.278040</td>\n      <td>-1.690141</td>\n      <td>9.518477</td>\n      <td>-20.149254</td>\n      <td>-9.802074</td>\n    </tr>\n    <tr>\n      <th>2877</th>\n      <td>50</td>\n      <td>3</td>\n      <td>5</td>\n      <td>51</td>\n      <td>21</td>\n      <td>Virginia</td>\n      <td>Bland County</td>\n      <td>6824</td>\n      <td>6824</td>\n      <td>6810</td>\n      <td>...</td>\n      <td>0.736648</td>\n      <td>-3.268217</td>\n      <td>2.989537</td>\n      <td>-6.020470</td>\n      <td>0.151895</td>\n      <td>0.589319</td>\n      <td>-3.416772</td>\n      <td>2.840060</td>\n      <td>-6.170981</td>\n      <td>0.000000</td>\n    </tr>\n    <tr>\n      <th>2728</th>\n      <td>50</td>\n      <td>3</td>\n      <td>7</td>\n      <td>48</td>\n      <td>323</td>\n      <td>Texas</td>\n      <td>Maverick County</td>\n      <td>54258</td>\n      <td>54258</td>\n      <td>54487</td>\n      <td>...</td>\n      <td>0.291349</td>\n      <td>-5.935252</td>\n      <td>-3.040081</td>\n      <td>-6.272401</td>\n      <td>-7.607012</td>\n      <td>3.496185</td>\n      <td>-3.435252</td>\n      <td>-0.302230</td>\n      <td>-2.986858</td>\n      <td>-4.299615</td>\n    </tr>\n  </tbody>\n</table>\n<p>4 rows × 100 columns</p>\n</div>"
     },
     "metadata": {},
     "execution_count": 37
    }
   ],
   "source": [
    "df.iloc[:3, :6]\n",
    "df.sample(n=4, axis=0)\n",
    "\n"
   ]
  },
  {
   "source": [
    "## Apply function\n",
    "'Map' is a big part of functional programming model in Python, and there is a similar funtion in Pandas call 'applymap' that operates on each cell of a dataframe. But probably more useful with dataframes is the function 'apply' that applys across each row of a dataframe. Heres an example using min max\n"
   ],
   "cell_type": "markdown",
   "metadata": {}
  },
  {
   "cell_type": "code",
   "execution_count": 44,
   "metadata": {},
   "outputs": [],
   "source": [
    "# function to calculate the min and max population estimates across a row of the census data and create new columns to hold that calculation\n",
    "def min_max(row):\n",
    "    data = row[['POPESTIMATE2010',\n",
    "                'POPESTIMATE2011', \n",
    "                'POPESTIMATE2012', \n",
    "                'POPESTIMATE2013',\n",
    "                'POPESTIMATE2014', \n",
    "                'POPESTIMATE2015']]\n",
    "    return pd.Series({'min': np.min(data), 'max': np.max(data)})\n"
   ]
  },
  {
   "cell_type": "code",
   "execution_count": 45,
   "metadata": {},
   "outputs": [
    {
     "output_type": "execute_result",
     "data": {
      "text/plain": [
       "       min      max\n",
       "0  4785161  4858979\n",
       "1    54660    55347\n",
       "2   183193   203709\n",
       "3    26489    27341\n",
       "4    22512    22861"
      ],
      "text/html": "<div>\n<style scoped>\n    .dataframe tbody tr th:only-of-type {\n        vertical-align: middle;\n    }\n\n    .dataframe tbody tr th {\n        vertical-align: top;\n    }\n\n    .dataframe thead th {\n        text-align: right;\n    }\n</style>\n<table border=\"1\" class=\"dataframe\">\n  <thead>\n    <tr style=\"text-align: right;\">\n      <th></th>\n      <th>min</th>\n      <th>max</th>\n    </tr>\n  </thead>\n  <tbody>\n    <tr>\n      <th>0</th>\n      <td>4785161</td>\n      <td>4858979</td>\n    </tr>\n    <tr>\n      <th>1</th>\n      <td>54660</td>\n      <td>55347</td>\n    </tr>\n    <tr>\n      <th>2</th>\n      <td>183193</td>\n      <td>203709</td>\n    </tr>\n    <tr>\n      <th>3</th>\n      <td>26489</td>\n      <td>27341</td>\n    </tr>\n    <tr>\n      <th>4</th>\n      <td>22512</td>\n      <td>22861</td>\n    </tr>\n  </tbody>\n</table>\n</div>"
     },
     "metadata": {},
     "execution_count": 45
    }
   ],
   "source": [
    "# apply the function to each row of data (applying it across the columns)\n",
    "df.apply(min_max, axis='columns').head()"
   ]
  },
  {
   "cell_type": "code",
   "execution_count": 48,
   "metadata": {},
   "outputs": [
    {
     "output_type": "execute_result",
     "data": {
      "text/plain": [
       "   SUMLEV  REGION  DIVISION  STATE  COUNTY   STNAME         CTYNAME  \\\n",
       "0      40       3         6      1       0  Alabama         Alabama   \n",
       "1      50       3         6      1       1  Alabama  Autauga County   \n",
       "2      50       3         6      1       3  Alabama  Baldwin County   \n",
       "3      50       3         6      1       5  Alabama  Barbour County   \n",
       "4      50       3         6      1       7  Alabama     Bibb County   \n",
       "\n",
       "   CENSUS2010POP  ESTIMATESBASE2010  POPESTIMATE2010  ...  RDOMESTICMIG2013  \\\n",
       "0        4779736            4780127          4785161  ...          0.381066   \n",
       "1          54571              54571            54660  ...         -3.012349   \n",
       "2         182265             182265           183193  ...         21.845705   \n",
       "3          27457              27457            27341  ...         -7.056824   \n",
       "4          22915              22919            22861  ...         -6.201001   \n",
       "\n",
       "   RDOMESTICMIG2014  RDOMESTICMIG2015  RNETMIG2011  RNETMIG2012  RNETMIG2013  \\\n",
       "0          0.582002         -0.467369     1.030015     0.826644     1.383282   \n",
       "1          2.265971         -2.530799     7.606016    -2.626146    -2.722002   \n",
       "2         19.243287         17.197872    15.844176    18.559627    22.727626   \n",
       "3         -3.904217        -10.543299    -4.874741    -2.758113    -7.167664   \n",
       "4         -0.177537          0.177258    -5.088389    -4.363636    -5.403729   \n",
       "\n",
       "   RNETMIG2014  RNETMIG2015      min      max  \n",
       "0     1.724718     0.712594  4785161  4858979  \n",
       "1     2.592270    -2.187333    54660    55347  \n",
       "2    20.317142    18.293499   183193   203709  \n",
       "3    -3.978583   -10.543299    26489    27341  \n",
       "4     0.754533     1.107861    22512    22861  \n",
       "\n",
       "[5 rows x 102 columns]"
      ],
      "text/html": "<div>\n<style scoped>\n    .dataframe tbody tr th:only-of-type {\n        vertical-align: middle;\n    }\n\n    .dataframe tbody tr th {\n        vertical-align: top;\n    }\n\n    .dataframe thead th {\n        text-align: right;\n    }\n</style>\n<table border=\"1\" class=\"dataframe\">\n  <thead>\n    <tr style=\"text-align: right;\">\n      <th></th>\n      <th>SUMLEV</th>\n      <th>REGION</th>\n      <th>DIVISION</th>\n      <th>STATE</th>\n      <th>COUNTY</th>\n      <th>STNAME</th>\n      <th>CTYNAME</th>\n      <th>CENSUS2010POP</th>\n      <th>ESTIMATESBASE2010</th>\n      <th>POPESTIMATE2010</th>\n      <th>...</th>\n      <th>RDOMESTICMIG2013</th>\n      <th>RDOMESTICMIG2014</th>\n      <th>RDOMESTICMIG2015</th>\n      <th>RNETMIG2011</th>\n      <th>RNETMIG2012</th>\n      <th>RNETMIG2013</th>\n      <th>RNETMIG2014</th>\n      <th>RNETMIG2015</th>\n      <th>min</th>\n      <th>max</th>\n    </tr>\n  </thead>\n  <tbody>\n    <tr>\n      <th>0</th>\n      <td>40</td>\n      <td>3</td>\n      <td>6</td>\n      <td>1</td>\n      <td>0</td>\n      <td>Alabama</td>\n      <td>Alabama</td>\n      <td>4779736</td>\n      <td>4780127</td>\n      <td>4785161</td>\n      <td>...</td>\n      <td>0.381066</td>\n      <td>0.582002</td>\n      <td>-0.467369</td>\n      <td>1.030015</td>\n      <td>0.826644</td>\n      <td>1.383282</td>\n      <td>1.724718</td>\n      <td>0.712594</td>\n      <td>4785161</td>\n      <td>4858979</td>\n    </tr>\n    <tr>\n      <th>1</th>\n      <td>50</td>\n      <td>3</td>\n      <td>6</td>\n      <td>1</td>\n      <td>1</td>\n      <td>Alabama</td>\n      <td>Autauga County</td>\n      <td>54571</td>\n      <td>54571</td>\n      <td>54660</td>\n      <td>...</td>\n      <td>-3.012349</td>\n      <td>2.265971</td>\n      <td>-2.530799</td>\n      <td>7.606016</td>\n      <td>-2.626146</td>\n      <td>-2.722002</td>\n      <td>2.592270</td>\n      <td>-2.187333</td>\n      <td>54660</td>\n      <td>55347</td>\n    </tr>\n    <tr>\n      <th>2</th>\n      <td>50</td>\n      <td>3</td>\n      <td>6</td>\n      <td>1</td>\n      <td>3</td>\n      <td>Alabama</td>\n      <td>Baldwin County</td>\n      <td>182265</td>\n      <td>182265</td>\n      <td>183193</td>\n      <td>...</td>\n      <td>21.845705</td>\n      <td>19.243287</td>\n      <td>17.197872</td>\n      <td>15.844176</td>\n      <td>18.559627</td>\n      <td>22.727626</td>\n      <td>20.317142</td>\n      <td>18.293499</td>\n      <td>183193</td>\n      <td>203709</td>\n    </tr>\n    <tr>\n      <th>3</th>\n      <td>50</td>\n      <td>3</td>\n      <td>6</td>\n      <td>1</td>\n      <td>5</td>\n      <td>Alabama</td>\n      <td>Barbour County</td>\n      <td>27457</td>\n      <td>27457</td>\n      <td>27341</td>\n      <td>...</td>\n      <td>-7.056824</td>\n      <td>-3.904217</td>\n      <td>-10.543299</td>\n      <td>-4.874741</td>\n      <td>-2.758113</td>\n      <td>-7.167664</td>\n      <td>-3.978583</td>\n      <td>-10.543299</td>\n      <td>26489</td>\n      <td>27341</td>\n    </tr>\n    <tr>\n      <th>4</th>\n      <td>50</td>\n      <td>3</td>\n      <td>6</td>\n      <td>1</td>\n      <td>7</td>\n      <td>Alabama</td>\n      <td>Bibb County</td>\n      <td>22915</td>\n      <td>22919</td>\n      <td>22861</td>\n      <td>...</td>\n      <td>-6.201001</td>\n      <td>-0.177537</td>\n      <td>0.177258</td>\n      <td>-5.088389</td>\n      <td>-4.363636</td>\n      <td>-5.403729</td>\n      <td>0.754533</td>\n      <td>1.107861</td>\n      <td>22512</td>\n      <td>22861</td>\n    </tr>\n  </tbody>\n</table>\n<p>5 rows × 102 columns</p>\n</div>"
     },
     "metadata": {},
     "execution_count": 48
    }
   ],
   "source": [
    "# instead of retunring just the min and max of the row, you can append this value to the existing dataframe with a small change in the min_max function\n",
    "def appnd_min_max(row):\n",
    "    data = row[['POPESTIMATE2010',\n",
    "                'POPESTIMATE2011', \n",
    "                'POPESTIMATE2012', \n",
    "                'POPESTIMATE2013',\n",
    "                'POPESTIMATE2014', \n",
    "                'POPESTIMATE2015']]\n",
    "    row['min'] = np.min(data)\n",
    "    row['max'] = np.max(data)\n",
    "    return row\n",
    "\n",
    "df.apply(appnd_min_max, axis='columns').head()"
   ]
  },
  {
   "source": [
    "## 'Apply' using lambda functions\n",
    "typically apply is not used with large functions as in the previous example. More often it is used in a lambda function"
   ],
   "cell_type": "markdown",
   "metadata": {}
  },
  {
   "cell_type": "code",
   "execution_count": 55,
   "metadata": {},
   "outputs": [
    {
     "output_type": "execute_result",
     "data": {
      "text/plain": [
       "0    4858979\n",
       "1      55347\n",
       "2     203709\n",
       "3      27341\n",
       "4      22861\n",
       "dtype: int64"
      ]
     },
     "metadata": {},
     "execution_count": 55
    }
   ],
   "source": [
    "# the following will apply the lambda function and return the result for each row\n",
    "pop_est_row=['POPESTIMATE2010',\n",
    "             'POPESTIMATE2011', \n",
    "             'POPESTIMATE2012', \n",
    "             'POPESTIMATE2013',\n",
    "             'POPESTIMATE2014', \n",
    "             'POPESTIMATE2015']\n",
    "df.apply(lambda x: np.max(x[pop_est_row]), axis=1).head()"
   ]
  },
  {
   "cell_type": "code",
   "execution_count": 67,
   "metadata": {},
   "outputs": [
    {
     "output_type": "execute_result",
     "data": {
      "text/plain": [
       "   SUMLEV  REGION  DIVISION  STATE  COUNTY   STNAME         CTYNAME  \\\n",
       "0      40       3         6      1       0  Alabama         Alabama   \n",
       "1      50       3         6      1       1  Alabama  Autauga County   \n",
       "2      50       3         6      1       3  Alabama  Baldwin County   \n",
       "3      50       3         6      1       5  Alabama  Barbour County   \n",
       "4      50       3         6      1       7  Alabama     Bibb County   \n",
       "\n",
       "   CENSUS2010POP  ESTIMATESBASE2010  POPESTIMATE2010  ...  RDOMESTICMIG2012  \\\n",
       "0        4779736            4780127          4785161  ...         -0.193196   \n",
       "1          54571              54571            54660  ...         -2.915927   \n",
       "2         182265             182265           183193  ...         17.647293   \n",
       "3          27457              27457            27341  ...         -2.500690   \n",
       "4          22915              22919            22861  ...         -5.068871   \n",
       "\n",
       "   RDOMESTICMIG2013  RDOMESTICMIG2014  RDOMESTICMIG2015  RNETMIG2011  \\\n",
       "0          0.381066          0.582002         -0.467369     1.030015   \n",
       "1         -3.012349          2.265971         -2.530799     7.606016   \n",
       "2         21.845705         19.243287         17.197872    15.844176   \n",
       "3         -7.056824         -3.904217        -10.543299    -4.874741   \n",
       "4         -6.201001         -0.177537          0.177258    -5.088389   \n",
       "\n",
       "   RNETMIG2012  RNETMIG2013  RNETMIG2014  RNETMIG2015      max  \n",
       "0     0.826644     1.383282     1.724718     0.712594  4858979  \n",
       "1    -2.626146    -2.722002     2.592270    -2.187333    55347  \n",
       "2    18.559627    22.727626    20.317142    18.293499   203709  \n",
       "3    -2.758113    -7.167664    -3.978583   -10.543299    27341  \n",
       "4    -4.363636    -5.403729     0.754533     1.107861    22861  \n",
       "\n",
       "[5 rows x 101 columns]"
      ],
      "text/html": "<div>\n<style scoped>\n    .dataframe tbody tr th:only-of-type {\n        vertical-align: middle;\n    }\n\n    .dataframe tbody tr th {\n        vertical-align: top;\n    }\n\n    .dataframe thead th {\n        text-align: right;\n    }\n</style>\n<table border=\"1\" class=\"dataframe\">\n  <thead>\n    <tr style=\"text-align: right;\">\n      <th></th>\n      <th>SUMLEV</th>\n      <th>REGION</th>\n      <th>DIVISION</th>\n      <th>STATE</th>\n      <th>COUNTY</th>\n      <th>STNAME</th>\n      <th>CTYNAME</th>\n      <th>CENSUS2010POP</th>\n      <th>ESTIMATESBASE2010</th>\n      <th>POPESTIMATE2010</th>\n      <th>...</th>\n      <th>RDOMESTICMIG2012</th>\n      <th>RDOMESTICMIG2013</th>\n      <th>RDOMESTICMIG2014</th>\n      <th>RDOMESTICMIG2015</th>\n      <th>RNETMIG2011</th>\n      <th>RNETMIG2012</th>\n      <th>RNETMIG2013</th>\n      <th>RNETMIG2014</th>\n      <th>RNETMIG2015</th>\n      <th>max</th>\n    </tr>\n  </thead>\n  <tbody>\n    <tr>\n      <th>0</th>\n      <td>40</td>\n      <td>3</td>\n      <td>6</td>\n      <td>1</td>\n      <td>0</td>\n      <td>Alabama</td>\n      <td>Alabama</td>\n      <td>4779736</td>\n      <td>4780127</td>\n      <td>4785161</td>\n      <td>...</td>\n      <td>-0.193196</td>\n      <td>0.381066</td>\n      <td>0.582002</td>\n      <td>-0.467369</td>\n      <td>1.030015</td>\n      <td>0.826644</td>\n      <td>1.383282</td>\n      <td>1.724718</td>\n      <td>0.712594</td>\n      <td>4858979</td>\n    </tr>\n    <tr>\n      <th>1</th>\n      <td>50</td>\n      <td>3</td>\n      <td>6</td>\n      <td>1</td>\n      <td>1</td>\n      <td>Alabama</td>\n      <td>Autauga County</td>\n      <td>54571</td>\n      <td>54571</td>\n      <td>54660</td>\n      <td>...</td>\n      <td>-2.915927</td>\n      <td>-3.012349</td>\n      <td>2.265971</td>\n      <td>-2.530799</td>\n      <td>7.606016</td>\n      <td>-2.626146</td>\n      <td>-2.722002</td>\n      <td>2.592270</td>\n      <td>-2.187333</td>\n      <td>55347</td>\n    </tr>\n    <tr>\n      <th>2</th>\n      <td>50</td>\n      <td>3</td>\n      <td>6</td>\n      <td>1</td>\n      <td>3</td>\n      <td>Alabama</td>\n      <td>Baldwin County</td>\n      <td>182265</td>\n      <td>182265</td>\n      <td>183193</td>\n      <td>...</td>\n      <td>17.647293</td>\n      <td>21.845705</td>\n      <td>19.243287</td>\n      <td>17.197872</td>\n      <td>15.844176</td>\n      <td>18.559627</td>\n      <td>22.727626</td>\n      <td>20.317142</td>\n      <td>18.293499</td>\n      <td>203709</td>\n    </tr>\n    <tr>\n      <th>3</th>\n      <td>50</td>\n      <td>3</td>\n      <td>6</td>\n      <td>1</td>\n      <td>5</td>\n      <td>Alabama</td>\n      <td>Barbour County</td>\n      <td>27457</td>\n      <td>27457</td>\n      <td>27341</td>\n      <td>...</td>\n      <td>-2.500690</td>\n      <td>-7.056824</td>\n      <td>-3.904217</td>\n      <td>-10.543299</td>\n      <td>-4.874741</td>\n      <td>-2.758113</td>\n      <td>-7.167664</td>\n      <td>-3.978583</td>\n      <td>-10.543299</td>\n      <td>27341</td>\n    </tr>\n    <tr>\n      <th>4</th>\n      <td>50</td>\n      <td>3</td>\n      <td>6</td>\n      <td>1</td>\n      <td>7</td>\n      <td>Alabama</td>\n      <td>Bibb County</td>\n      <td>22915</td>\n      <td>22919</td>\n      <td>22861</td>\n      <td>...</td>\n      <td>-5.068871</td>\n      <td>-6.201001</td>\n      <td>-0.177537</td>\n      <td>0.177258</td>\n      <td>-5.088389</td>\n      <td>-4.363636</td>\n      <td>-5.403729</td>\n      <td>0.754533</td>\n      <td>1.107861</td>\n      <td>22861</td>\n    </tr>\n  </tbody>\n</table>\n<p>5 rows × 101 columns</p>\n</div>"
     },
     "metadata": {},
     "execution_count": 67
    }
   ],
   "source": [
    "# extra credit, append this value to the row...come back to this\n",
    "# df.apply(lambda x: np.max(x[pop_est_row]), axis=1).head()\n",
    "df['max'] = df[pop_est_row].apply(lambda x: np.max(x[pop_est_row]), axis=1)\n",
    "# df.head()\n",
    "df.head()"
   ]
  }
 ]
}