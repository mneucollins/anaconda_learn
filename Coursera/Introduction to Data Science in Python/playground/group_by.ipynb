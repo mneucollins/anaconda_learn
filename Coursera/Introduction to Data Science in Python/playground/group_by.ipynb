{
 "metadata": {
  "language_info": {
   "codemirror_mode": {
    "name": "ipython",
    "version": 3
   },
   "file_extension": ".py",
   "mimetype": "text/x-python",
   "name": "python",
   "nbconvert_exporter": "python",
   "pygments_lexer": "ipython3",
   "version": "3.8.5-final"
  },
  "orig_nbformat": 2,
  "kernelspec": {
   "name": "python3",
   "display_name": "Python 3",
   "language": "python"
  }
 },
 "nbformat": 4,
 "nbformat_minor": 2,
 "cells": [
  {
   "source": [
    "# Split &bull; Apply &bull; Combine \n",
    " - First the dataframe is split into groups based upon one or more keys. This split can be along either axis (axis=0:rows, or axis=1:columns).\n",
    " - Then a function is applied to each group producing a new value\n",
    " - Finally the results of these operations are combinded into a result obkect\n"
   ],
   "cell_type": "markdown",
   "metadata": {}
  },
  {
   "cell_type": "code",
   "execution_count": 38,
   "metadata": {},
   "outputs": [
    {
     "output_type": "execute_result",
     "data": {
      "text/plain": [
       "Index(['SUMLEV', 'REGION', 'DIVISION', 'STATE', 'COUNTY', 'STNAME', 'CTYNAME',\n",
       "       'CENSUS2010POP', 'ESTIMATESBASE2010', 'POPESTIMATE2010',\n",
       "       'POPESTIMATE2011', 'POPESTIMATE2012', 'POPESTIMATE2013',\n",
       "       'POPESTIMATE2014', 'POPESTIMATE2015', 'NPOPCHG_2010', 'NPOPCHG_2011',\n",
       "       'NPOPCHG_2012', 'NPOPCHG_2013', 'NPOPCHG_2014', 'NPOPCHG_2015',\n",
       "       'BIRTHS2010', 'BIRTHS2011', 'BIRTHS2012', 'BIRTHS2013', 'BIRTHS2014',\n",
       "       'BIRTHS2015', 'DEATHS2010', 'DEATHS2011', 'DEATHS2012', 'DEATHS2013',\n",
       "       'DEATHS2014', 'DEATHS2015', 'NATURALINC2010', 'NATURALINC2011',\n",
       "       'NATURALINC2012', 'NATURALINC2013', 'NATURALINC2014', 'NATURALINC2015',\n",
       "       'INTERNATIONALMIG2010', 'INTERNATIONALMIG2011', 'INTERNATIONALMIG2012',\n",
       "       'INTERNATIONALMIG2013', 'INTERNATIONALMIG2014', 'INTERNATIONALMIG2015',\n",
       "       'DOMESTICMIG2010', 'DOMESTICMIG2011', 'DOMESTICMIG2012',\n",
       "       'DOMESTICMIG2013', 'DOMESTICMIG2014', 'DOMESTICMIG2015', 'NETMIG2010',\n",
       "       'NETMIG2011', 'NETMIG2012', 'NETMIG2013', 'NETMIG2014', 'NETMIG2015',\n",
       "       'RESIDUAL2010', 'RESIDUAL2011', 'RESIDUAL2012', 'RESIDUAL2013',\n",
       "       'RESIDUAL2014', 'RESIDUAL2015', 'GQESTIMATESBASE2010',\n",
       "       'GQESTIMATES2010', 'GQESTIMATES2011', 'GQESTIMATES2012',\n",
       "       'GQESTIMATES2013', 'GQESTIMATES2014', 'GQESTIMATES2015', 'RBIRTH2011',\n",
       "       'RBIRTH2012', 'RBIRTH2013', 'RBIRTH2014', 'RBIRTH2015', 'RDEATH2011',\n",
       "       'RDEATH2012', 'RDEATH2013', 'RDEATH2014', 'RDEATH2015',\n",
       "       'RNATURALINC2011', 'RNATURALINC2012', 'RNATURALINC2013',\n",
       "       'RNATURALINC2014', 'RNATURALINC2015', 'RINTERNATIONALMIG2011',\n",
       "       'RINTERNATIONALMIG2012', 'RINTERNATIONALMIG2013',\n",
       "       'RINTERNATIONALMIG2014', 'RINTERNATIONALMIG2015', 'RDOMESTICMIG2011',\n",
       "       'RDOMESTICMIG2012', 'RDOMESTICMIG2013', 'RDOMESTICMIG2014',\n",
       "       'RDOMESTICMIG2015', 'RNETMIG2011', 'RNETMIG2012', 'RNETMIG2013',\n",
       "       'RNETMIG2014', 'RNETMIG2015'],\n",
       "      dtype='object')"
      ]
     },
     "metadata": {},
     "execution_count": 38
    }
   ],
   "source": [
    "import numpy as np \n",
    "import pandas as pd \n",
    "\n",
    "#read some us census data\n",
    "df = pd.read_csv('../resources/week-3/datasets/census.csv')\n",
    "\n",
    "#limit the dataset to sumlev > 40\n",
    "df = df[df['SUMLEV']>40]\n",
    "#df is equal to df where sumlev of df is greater than 50 \n",
    "df.columns\n"
   ]
  },
  {
   "source": [
    "to get the average estimated population (POPESTIMATE2010) by state(STNAME), first:\n",
    "### Split"
   ],
   "cell_type": "markdown",
   "metadata": {}
  },
  {
   "cell_type": "code",
   "execution_count": 36,
   "metadata": {},
   "outputs": [
    {
     "output_type": "execute_result",
     "data": {
      "text/plain": [
       "<pandas.core.groupby.generic.SeriesGroupBy object at 0x7e97b5495e50>"
      ]
     },
     "metadata": {},
     "execution_count": 36
    }
   ],
   "source": [
    "# first step is to split the data into state name groups. \n",
    "grouped = df['POPESTIMATE2010'].groupby(df['STNAME'])\n",
    "grouped\n",
    "# This is the end of the split stage. At this stage nothing has been computed yet, but the GroupBy object has been created which has all the information needed to Apply a transformation to each of the groups"
   ]
  },
  {
   "source": [
    "after the groups have been defined and split, you can\n",
    "### Transform & Combine"
   ],
   "cell_type": "markdown",
   "metadata": {}
  },
  {
   "cell_type": "code",
   "execution_count": 37,
   "metadata": {},
   "outputs": [
    {
     "output_type": "execute_result",
     "data": {
      "text/plain": [
       "STNAME\n",
       "Alabama                  71420.313433\n",
       "Alaska                   24621.413793\n",
       "Arizona                 427213.866667\n",
       "Arkansas                 38965.253333\n",
       "California              643691.017241\n",
       "Colorado                 78878.968750\n",
       "Connecticut             447464.625000\n",
       "Delaware                299930.333333\n",
       "District of Columbia    605126.000000\n",
       "Florida                 281341.641791\n",
       "Georgia                  61090.905660\n",
       "Hawaii                  272796.000000\n",
       "Idaho                    35704.227273\n",
       "Illinois                125894.598039\n",
       "Indiana                  70549.891304\n",
       "Iowa                     30815.090909\n",
       "Kansas                   27226.895238\n",
       "Kentucky                 36232.808333\n",
       "Louisiana                71014.859375\n",
       "Maine                    82980.937500\n",
       "Maryland                241183.708333\n",
       "Massachusetts           468931.142857\n",
       "Michigan                119004.445783\n",
       "Minnesota                61044.862069\n",
       "Mississippi              36223.365854\n",
       "Missouri                 52139.582609\n",
       "Montana                  17690.053571\n",
       "Nebraska                 19677.688172\n",
       "Nevada                  159025.882353\n",
       "New Hampshire           131670.800000\n",
       "New Jersey              419232.428571\n",
       "New Mexico               62567.909091\n",
       "New York                312950.322581\n",
       "North Carolina           95589.790000\n",
       "North Dakota             12726.981132\n",
       "Ohio                    131145.068182\n",
       "Oklahoma                 48825.922078\n",
       "Oregon                  106610.333333\n",
       "Pennsylvania            189731.552239\n",
       "Rhode Island            210643.800000\n",
       "South Carolina          100780.304348\n",
       "South Dakota             12368.166667\n",
       "Tennessee                66911.421053\n",
       "Texas                    99387.255906\n",
       "Utah                     95704.344828\n",
       "Vermont                  44713.142857\n",
       "Virginia                 60344.263158\n",
       "Washington              172898.974359\n",
       "West Virginia            33713.181818\n",
       "Wisconsin                79030.611111\n",
       "Wyoming                  24544.173913\n",
       "Name: POPESTIMATE2010, dtype: float64"
      ]
     },
     "metadata": {},
     "execution_count": 37
    }
   ],
   "source": [
    "# calculate the mean of groups (estimated state population grouped by state)\n",
    "grouped.mean()"
   ]
  },
  {
   "cell_type": "code",
   "execution_count": 46,
   "metadata": {},
   "outputs": [
    {
     "output_type": "execute_result",
     "data": {
      "text/plain": [
       "STNAME                REGION\n",
       "Alabama               3          212.328358\n",
       "Alaska                4           99.724138\n",
       "Arizona               4         1395.800000\n",
       "Arkansas              3          125.853333\n",
       "California            4         2126.275862\n",
       "Colorado              4          262.359375\n",
       "Connecticut           1         1186.125000\n",
       "Delaware              3          949.000000\n",
       "District of Columbia  3         2243.000000\n",
       "Florida               3          759.283582\n",
       "Georgia               3          204.333333\n",
       "Hawaii                4          929.200000\n",
       "Idaho                 4          135.704545\n",
       "Illinois              2          410.156863\n",
       "Indiana               2          227.836957\n",
       "Iowa                  2          100.676768\n",
       "Kansas                2           95.161905\n",
       "Kentucky              3          114.091667\n",
       "Louisiana             3          227.703125\n",
       "Maine                 1          215.187500\n",
       "Maryland              3          769.208333\n",
       "Massachusetts         1         1331.928571\n",
       "Michigan              2          350.626506\n",
       "Minnesota             2          201.149425\n",
       "Mississippi           3          114.890244\n",
       "Missouri              2          165.321739\n",
       "Montana               4           54.785714\n",
       "Nebraska              2           70.053763\n",
       "Nevada                4          523.058824\n",
       "New Hampshire         1          326.900000\n",
       "New Jersey            1         1263.285714\n",
       "New Mexico            4          201.484848\n",
       "New York              1          990.548387\n",
       "North Carolina        3          299.140000\n",
       "North Dakota          2           44.169811\n",
       "Ohio                  2          395.556818\n",
       "Oklahoma              3          170.701299\n",
       "Oregon                4          329.916667\n",
       "Pennsylvania          1          538.820896\n",
       "Rhode Island          1          575.000000\n",
       "South Carolina        3          308.260870\n",
       "South Dakota          2           45.939394\n",
       "Tennessee             3          206.978947\n",
       "Texas                 3          365.224409\n",
       "Utah                  4          474.206897\n",
       "Vermont               1          118.142857\n",
       "Virginia              3          193.368421\n",
       "Washington            4          570.358974\n",
       "West Virginia         3           92.800000\n",
       "Wisconsin             2          243.861111\n",
       "Wyoming               4           86.739130\n",
       "Name: BIRTHS2010, dtype: float64"
      ]
     },
     "metadata": {},
     "execution_count": 46
    }
   ],
   "source": [
    "# groupby can be passed multiple keys. When passed as separate df's it produces a hierachical list\n",
    "# means = df['BIRTHS2010'].groupby([df['REGION'], df['STNAME']]).mean()\n",
    "means = df['BIRTHS2010'].groupby([df['STNAME'], df['REGION']]).mean()\n",
    "means"
   ]
  },
  {
   "cell_type": "code",
   "execution_count": 47,
   "metadata": {},
   "outputs": [
    {
     "output_type": "execute_result",
     "data": {
      "text/plain": [
       "REGION                          1           2            3            4\n",
       "STNAME                                                                 \n",
       "Alabama                       NaN         NaN   212.328358          NaN\n",
       "Alaska                        NaN         NaN          NaN    99.724138\n",
       "Arizona                       NaN         NaN          NaN  1395.800000\n",
       "Arkansas                      NaN         NaN   125.853333          NaN\n",
       "California                    NaN         NaN          NaN  2126.275862\n",
       "Colorado                      NaN         NaN          NaN   262.359375\n",
       "Connecticut           1186.125000         NaN          NaN          NaN\n",
       "Delaware                      NaN         NaN   949.000000          NaN\n",
       "District of Columbia          NaN         NaN  2243.000000          NaN\n",
       "Florida                       NaN         NaN   759.283582          NaN\n",
       "Georgia                       NaN         NaN   204.333333          NaN\n",
       "Hawaii                        NaN         NaN          NaN   929.200000\n",
       "Idaho                         NaN         NaN          NaN   135.704545\n",
       "Illinois                      NaN  410.156863          NaN          NaN\n",
       "Indiana                       NaN  227.836957          NaN          NaN\n",
       "Iowa                          NaN  100.676768          NaN          NaN\n",
       "Kansas                        NaN   95.161905          NaN          NaN\n",
       "Kentucky                      NaN         NaN   114.091667          NaN\n",
       "Louisiana                     NaN         NaN   227.703125          NaN\n",
       "Maine                  215.187500         NaN          NaN          NaN\n",
       "Maryland                      NaN         NaN   769.208333          NaN\n",
       "Massachusetts         1331.928571         NaN          NaN          NaN\n",
       "Michigan                      NaN  350.626506          NaN          NaN\n",
       "Minnesota                     NaN  201.149425          NaN          NaN\n",
       "Mississippi                   NaN         NaN   114.890244          NaN\n",
       "Missouri                      NaN  165.321739          NaN          NaN\n",
       "Montana                       NaN         NaN          NaN    54.785714\n",
       "Nebraska                      NaN   70.053763          NaN          NaN\n",
       "Nevada                        NaN         NaN          NaN   523.058824\n",
       "New Hampshire          326.900000         NaN          NaN          NaN\n",
       "New Jersey            1263.285714         NaN          NaN          NaN\n",
       "New Mexico                    NaN         NaN          NaN   201.484848\n",
       "New York               990.548387         NaN          NaN          NaN\n",
       "North Carolina                NaN         NaN   299.140000          NaN\n",
       "North Dakota                  NaN   44.169811          NaN          NaN\n",
       "Ohio                          NaN  395.556818          NaN          NaN\n",
       "Oklahoma                      NaN         NaN   170.701299          NaN\n",
       "Oregon                        NaN         NaN          NaN   329.916667\n",
       "Pennsylvania           538.820896         NaN          NaN          NaN\n",
       "Rhode Island           575.000000         NaN          NaN          NaN\n",
       "South Carolina                NaN         NaN   308.260870          NaN\n",
       "South Dakota                  NaN   45.939394          NaN          NaN\n",
       "Tennessee                     NaN         NaN   206.978947          NaN\n",
       "Texas                         NaN         NaN   365.224409          NaN\n",
       "Utah                          NaN         NaN          NaN   474.206897\n",
       "Vermont                118.142857         NaN          NaN          NaN\n",
       "Virginia                      NaN         NaN   193.368421          NaN\n",
       "Washington                    NaN         NaN          NaN   570.358974\n",
       "West Virginia                 NaN         NaN    92.800000          NaN\n",
       "Wisconsin                     NaN  243.861111          NaN          NaN\n",
       "Wyoming                       NaN         NaN          NaN    86.739130"
      ],
      "text/html": "<div>\n<style scoped>\n    .dataframe tbody tr th:only-of-type {\n        vertical-align: middle;\n    }\n\n    .dataframe tbody tr th {\n        vertical-align: top;\n    }\n\n    .dataframe thead th {\n        text-align: right;\n    }\n</style>\n<table border=\"1\" class=\"dataframe\">\n  <thead>\n    <tr style=\"text-align: right;\">\n      <th>REGION</th>\n      <th>1</th>\n      <th>2</th>\n      <th>3</th>\n      <th>4</th>\n    </tr>\n    <tr>\n      <th>STNAME</th>\n      <th></th>\n      <th></th>\n      <th></th>\n      <th></th>\n    </tr>\n  </thead>\n  <tbody>\n    <tr>\n      <th>Alabama</th>\n      <td>NaN</td>\n      <td>NaN</td>\n      <td>212.328358</td>\n      <td>NaN</td>\n    </tr>\n    <tr>\n      <th>Alaska</th>\n      <td>NaN</td>\n      <td>NaN</td>\n      <td>NaN</td>\n      <td>99.724138</td>\n    </tr>\n    <tr>\n      <th>Arizona</th>\n      <td>NaN</td>\n      <td>NaN</td>\n      <td>NaN</td>\n      <td>1395.800000</td>\n    </tr>\n    <tr>\n      <th>Arkansas</th>\n      <td>NaN</td>\n      <td>NaN</td>\n      <td>125.853333</td>\n      <td>NaN</td>\n    </tr>\n    <tr>\n      <th>California</th>\n      <td>NaN</td>\n      <td>NaN</td>\n      <td>NaN</td>\n      <td>2126.275862</td>\n    </tr>\n    <tr>\n      <th>Colorado</th>\n      <td>NaN</td>\n      <td>NaN</td>\n      <td>NaN</td>\n      <td>262.359375</td>\n    </tr>\n    <tr>\n      <th>Connecticut</th>\n      <td>1186.125000</td>\n      <td>NaN</td>\n      <td>NaN</td>\n      <td>NaN</td>\n    </tr>\n    <tr>\n      <th>Delaware</th>\n      <td>NaN</td>\n      <td>NaN</td>\n      <td>949.000000</td>\n      <td>NaN</td>\n    </tr>\n    <tr>\n      <th>District of Columbia</th>\n      <td>NaN</td>\n      <td>NaN</td>\n      <td>2243.000000</td>\n      <td>NaN</td>\n    </tr>\n    <tr>\n      <th>Florida</th>\n      <td>NaN</td>\n      <td>NaN</td>\n      <td>759.283582</td>\n      <td>NaN</td>\n    </tr>\n    <tr>\n      <th>Georgia</th>\n      <td>NaN</td>\n      <td>NaN</td>\n      <td>204.333333</td>\n      <td>NaN</td>\n    </tr>\n    <tr>\n      <th>Hawaii</th>\n      <td>NaN</td>\n      <td>NaN</td>\n      <td>NaN</td>\n      <td>929.200000</td>\n    </tr>\n    <tr>\n      <th>Idaho</th>\n      <td>NaN</td>\n      <td>NaN</td>\n      <td>NaN</td>\n      <td>135.704545</td>\n    </tr>\n    <tr>\n      <th>Illinois</th>\n      <td>NaN</td>\n      <td>410.156863</td>\n      <td>NaN</td>\n      <td>NaN</td>\n    </tr>\n    <tr>\n      <th>Indiana</th>\n      <td>NaN</td>\n      <td>227.836957</td>\n      <td>NaN</td>\n      <td>NaN</td>\n    </tr>\n    <tr>\n      <th>Iowa</th>\n      <td>NaN</td>\n      <td>100.676768</td>\n      <td>NaN</td>\n      <td>NaN</td>\n    </tr>\n    <tr>\n      <th>Kansas</th>\n      <td>NaN</td>\n      <td>95.161905</td>\n      <td>NaN</td>\n      <td>NaN</td>\n    </tr>\n    <tr>\n      <th>Kentucky</th>\n      <td>NaN</td>\n      <td>NaN</td>\n      <td>114.091667</td>\n      <td>NaN</td>\n    </tr>\n    <tr>\n      <th>Louisiana</th>\n      <td>NaN</td>\n      <td>NaN</td>\n      <td>227.703125</td>\n      <td>NaN</td>\n    </tr>\n    <tr>\n      <th>Maine</th>\n      <td>215.187500</td>\n      <td>NaN</td>\n      <td>NaN</td>\n      <td>NaN</td>\n    </tr>\n    <tr>\n      <th>Maryland</th>\n      <td>NaN</td>\n      <td>NaN</td>\n      <td>769.208333</td>\n      <td>NaN</td>\n    </tr>\n    <tr>\n      <th>Massachusetts</th>\n      <td>1331.928571</td>\n      <td>NaN</td>\n      <td>NaN</td>\n      <td>NaN</td>\n    </tr>\n    <tr>\n      <th>Michigan</th>\n      <td>NaN</td>\n      <td>350.626506</td>\n      <td>NaN</td>\n      <td>NaN</td>\n    </tr>\n    <tr>\n      <th>Minnesota</th>\n      <td>NaN</td>\n      <td>201.149425</td>\n      <td>NaN</td>\n      <td>NaN</td>\n    </tr>\n    <tr>\n      <th>Mississippi</th>\n      <td>NaN</td>\n      <td>NaN</td>\n      <td>114.890244</td>\n      <td>NaN</td>\n    </tr>\n    <tr>\n      <th>Missouri</th>\n      <td>NaN</td>\n      <td>165.321739</td>\n      <td>NaN</td>\n      <td>NaN</td>\n    </tr>\n    <tr>\n      <th>Montana</th>\n      <td>NaN</td>\n      <td>NaN</td>\n      <td>NaN</td>\n      <td>54.785714</td>\n    </tr>\n    <tr>\n      <th>Nebraska</th>\n      <td>NaN</td>\n      <td>70.053763</td>\n      <td>NaN</td>\n      <td>NaN</td>\n    </tr>\n    <tr>\n      <th>Nevada</th>\n      <td>NaN</td>\n      <td>NaN</td>\n      <td>NaN</td>\n      <td>523.058824</td>\n    </tr>\n    <tr>\n      <th>New Hampshire</th>\n      <td>326.900000</td>\n      <td>NaN</td>\n      <td>NaN</td>\n      <td>NaN</td>\n    </tr>\n    <tr>\n      <th>New Jersey</th>\n      <td>1263.285714</td>\n      <td>NaN</td>\n      <td>NaN</td>\n      <td>NaN</td>\n    </tr>\n    <tr>\n      <th>New Mexico</th>\n      <td>NaN</td>\n      <td>NaN</td>\n      <td>NaN</td>\n      <td>201.484848</td>\n    </tr>\n    <tr>\n      <th>New York</th>\n      <td>990.548387</td>\n      <td>NaN</td>\n      <td>NaN</td>\n      <td>NaN</td>\n    </tr>\n    <tr>\n      <th>North Carolina</th>\n      <td>NaN</td>\n      <td>NaN</td>\n      <td>299.140000</td>\n      <td>NaN</td>\n    </tr>\n    <tr>\n      <th>North Dakota</th>\n      <td>NaN</td>\n      <td>44.169811</td>\n      <td>NaN</td>\n      <td>NaN</td>\n    </tr>\n    <tr>\n      <th>Ohio</th>\n      <td>NaN</td>\n      <td>395.556818</td>\n      <td>NaN</td>\n      <td>NaN</td>\n    </tr>\n    <tr>\n      <th>Oklahoma</th>\n      <td>NaN</td>\n      <td>NaN</td>\n      <td>170.701299</td>\n      <td>NaN</td>\n    </tr>\n    <tr>\n      <th>Oregon</th>\n      <td>NaN</td>\n      <td>NaN</td>\n      <td>NaN</td>\n      <td>329.916667</td>\n    </tr>\n    <tr>\n      <th>Pennsylvania</th>\n      <td>538.820896</td>\n      <td>NaN</td>\n      <td>NaN</td>\n      <td>NaN</td>\n    </tr>\n    <tr>\n      <th>Rhode Island</th>\n      <td>575.000000</td>\n      <td>NaN</td>\n      <td>NaN</td>\n      <td>NaN</td>\n    </tr>\n    <tr>\n      <th>South Carolina</th>\n      <td>NaN</td>\n      <td>NaN</td>\n      <td>308.260870</td>\n      <td>NaN</td>\n    </tr>\n    <tr>\n      <th>South Dakota</th>\n      <td>NaN</td>\n      <td>45.939394</td>\n      <td>NaN</td>\n      <td>NaN</td>\n    </tr>\n    <tr>\n      <th>Tennessee</th>\n      <td>NaN</td>\n      <td>NaN</td>\n      <td>206.978947</td>\n      <td>NaN</td>\n    </tr>\n    <tr>\n      <th>Texas</th>\n      <td>NaN</td>\n      <td>NaN</td>\n      <td>365.224409</td>\n      <td>NaN</td>\n    </tr>\n    <tr>\n      <th>Utah</th>\n      <td>NaN</td>\n      <td>NaN</td>\n      <td>NaN</td>\n      <td>474.206897</td>\n    </tr>\n    <tr>\n      <th>Vermont</th>\n      <td>118.142857</td>\n      <td>NaN</td>\n      <td>NaN</td>\n      <td>NaN</td>\n    </tr>\n    <tr>\n      <th>Virginia</th>\n      <td>NaN</td>\n      <td>NaN</td>\n      <td>193.368421</td>\n      <td>NaN</td>\n    </tr>\n    <tr>\n      <th>Washington</th>\n      <td>NaN</td>\n      <td>NaN</td>\n      <td>NaN</td>\n      <td>570.358974</td>\n    </tr>\n    <tr>\n      <th>West Virginia</th>\n      <td>NaN</td>\n      <td>NaN</td>\n      <td>92.800000</td>\n      <td>NaN</td>\n    </tr>\n    <tr>\n      <th>Wisconsin</th>\n      <td>NaN</td>\n      <td>243.861111</td>\n      <td>NaN</td>\n      <td>NaN</td>\n    </tr>\n    <tr>\n      <th>Wyoming</th>\n      <td>NaN</td>\n      <td>NaN</td>\n      <td>NaN</td>\n      <td>86.739130</td>\n    </tr>\n  </tbody>\n</table>\n</div>"
     },
     "metadata": {},
     "execution_count": 47
    }
   ],
   "source": [
    "# the keys can be converted to to colmumns using the unstack function\n",
    "means.unstack()\n"
   ]
  },
  {
   "cell_type": "code",
   "execution_count": 24,
   "metadata": {
    "tags": []
   },
   "outputs": [
    {
     "output_type": "stream",
     "name": "stdout",
     "text": [
      "state: Alabama avg pop: 71339.34328358209\n",
      "state: Alaska avg pop: 24490.724137931036\n",
      "state: Arizona avg pop: 426134.4666666667\n",
      "state: Arkansas avg pop: 38878.90666666667\n",
      "state: California avg pop: 642309.5862068966\n",
      "state: Colorado avg pop: 78581.1875\n",
      "state: Connecticut avg pop: 446762.125\n",
      "state: Delaware avg pop: 299311.3333333333\n",
      "state: District of Columbia avg pop: 601723.0\n",
      "state: Florida avg pop: 280616.5671641791\n",
      "state: Georgia avg pop: 60928.63522012578\n",
      "state: Hawaii avg pop: 272060.2\n",
      "state: Idaho avg pop: 35626.86363636364\n",
      "state: Illinois avg pop: 125790.50980392157\n",
      "state: Indiana avg pop: 70476.10869565218\n",
      "state: Iowa avg pop: 30771.262626262625\n",
      "state: Kansas avg pop: 27172.55238095238\n",
      "state: Kentucky avg pop: 36161.39166666667\n",
      "state: Louisiana avg pop: 70833.9375\n",
      "state: Maine avg pop: 83022.5625\n",
      "state: Maryland avg pop: 240564.66666666666\n",
      "state: Massachusetts avg pop: 467687.78571428574\n",
      "state: Michigan avg pop: 119080.0\n",
      "state: Minnesota avg pop: 60964.65517241379\n",
      "state: Mississippi avg pop: 36186.54878048781\n",
      "state: Missouri avg pop: 52077.62608695652\n",
      "state: Montana avg pop: 17668.125\n",
      "state: Nebraska avg pop: 19638.075268817203\n",
      "state: Nevada avg pop: 158855.9411764706\n",
      "state: New Hampshire avg pop: 131647.0\n",
      "state: New Jersey avg pop: 418661.61904761905\n",
      "state: New Mexico avg pop: 62399.36363636364\n",
      "state: New York avg pop: 312550.03225806454\n",
      "state: North Carolina avg pop: 95354.83\n",
      "state: North Dakota avg pop: 12690.396226415094\n",
      "state: Ohio avg pop: 131096.63636363635\n",
      "state: Oklahoma avg pop: 48718.844155844155\n",
      "state: Oregon avg pop: 106418.72222222222\n",
      "state: Pennsylvania avg pop: 189587.74626865672\n",
      "state: Rhode Island avg pop: 210513.4\n",
      "state: South Carolina avg pop: 100551.39130434782\n",
      "state: South Dakota avg pop: 12336.060606060606\n",
      "state: Tennessee avg pop: 66801.1052631579\n",
      "state: Texas avg pop: 98998.27165354331\n",
      "state: Utah avg pop: 95306.37931034483\n",
      "state: Vermont avg pop: 44695.78571428572\n",
      "state: Virginia avg pop: 60111.29323308271\n",
      "state: Washington avg pop: 172424.10256410256\n",
      "state: West Virginia avg pop: 33690.8\n",
      "state: Wisconsin avg pop: 78985.91666666667\n",
      "state: Wyoming avg pop: 24505.478260869564\n"
     ]
    }
   ],
   "source": [
    "# The GroupBy object supports iteration, generating a sequence of 2-tuples\n",
    "#in this example, \n",
    "\n",
    "# using the groupby function\n",
    "# 1) split\n",
    "for group, frame in df.groupby('STNAME'):\n",
    "    # groupby returns a tuple. The first value is the key that is being grouped by,\n",
    "    # the second is a dataframe found for that group\n",
    "\n",
    "    # now the apply step is to do the actual calculation\n",
    "    avg = np.average(frame['CENSUS2010POP'])\n",
    "    print('state: '+ group + \" avg pop: \" + str(avg))"
   ]
  },
  {
   "cell_type": "code",
   "execution_count": null,
   "metadata": {},
   "outputs": [],
   "source": [
    "# you can also group by a function which might be useful for processing a large number of records"
   ]
  },
  {
   "cell_type": "code",
   "execution_count": 29,
   "metadata": {},
   "outputs": [
    {
     "output_type": "execute_result",
     "data": {
      "text/plain": [
       "Index(['id', 'listing_url', 'scrape_id', 'last_scraped', 'name', 'summary',\n",
       "       'space', 'description', 'experiences_offered', 'neighborhood_overview',\n",
       "       'notes', 'transit', 'access', 'interaction', 'house_rules',\n",
       "       'thumbnail_url', 'medium_url', 'picture_url', 'xl_picture_url',\n",
       "       'host_id', 'host_url', 'host_name', 'host_since', 'host_location',\n",
       "       'host_about', 'host_response_time', 'host_response_rate',\n",
       "       'host_acceptance_rate', 'host_is_superhost', 'host_thumbnail_url',\n",
       "       'host_picture_url', 'host_neighbourhood', 'host_listings_count',\n",
       "       'host_total_listings_count', 'host_verifications',\n",
       "       'host_has_profile_pic', 'host_identity_verified', 'street',\n",
       "       'neighbourhood', 'neighbourhood_cleansed',\n",
       "       'neighbourhood_group_cleansed', 'city', 'state', 'zipcode', 'market',\n",
       "       'smart_location', 'country_code', 'country', 'latitude', 'longitude',\n",
       "       'is_location_exact', 'property_type', 'room_type', 'accommodates',\n",
       "       'bathrooms', 'bedrooms', 'beds', 'bed_type', 'amenities', 'square_feet',\n",
       "       'price', 'weekly_price', 'monthly_price', 'security_deposit',\n",
       "       'cleaning_fee', 'guests_included', 'extra_people', 'minimum_nights',\n",
       "       'maximum_nights', 'calendar_updated', 'has_availability',\n",
       "       'availability_30', 'availability_60', 'availability_90',\n",
       "       'availability_365', 'calendar_last_scraped', 'number_of_reviews',\n",
       "       'first_review', 'last_review', 'review_scores_rating',\n",
       "       'review_scores_accuracy', 'review_scores_cleanliness',\n",
       "       'review_scores_checkin', 'review_scores_communication',\n",
       "       'review_scores_location', 'review_scores_value', 'requires_license',\n",
       "       'license', 'jurisdiction_names', 'instant_bookable',\n",
       "       'cancellation_policy', 'require_guest_profile_picture',\n",
       "       'require_guest_phone_verification', 'calculated_host_listings_count',\n",
       "       'reviews_per_month'],\n",
       "      dtype='object')"
      ]
     },
     "metadata": {},
     "execution_count": 29
    }
   ],
   "source": [
    "# airbnb example\n",
    "# grouping by two columns. Cancellation Policy and Review scores\n",
    "df = pd.read_csv('../resources/week-3/datasets/listings.csv')\n",
    "df.head()\n",
    "df.columns"
   ]
  },
  {
   "cell_type": "code",
   "execution_count": 30,
   "metadata": {},
   "outputs": [
    {
     "output_type": "stream",
     "name": "stdout",
     "text": [
      "('flexible', 2.0)\n('flexible', 4.0)\n('flexible', 5.0)\n('flexible', 6.0)\n('flexible', 7.0)\n('flexible', 8.0)\n('flexible', 9.0)\n('flexible', 10.0)\n('moderate', 2.0)\n('moderate', 4.0)\n('moderate', 6.0)\n('moderate', 7.0)\n('moderate', 8.0)\n('moderate', 9.0)\n('moderate', 10.0)\n('strict', 2.0)\n('strict', 3.0)\n('strict', 4.0)\n('strict', 5.0)\n('strict', 6.0)\n('strict', 7.0)\n('strict', 8.0)\n('strict', 9.0)\n('strict', 10.0)\n('super_strict_30', 6.0)\n('super_strict_30', 7.0)\n('super_strict_30', 8.0)\n('super_strict_30', 9.0)\n('super_strict_30', 10.0)\n"
     ]
    }
   ],
   "source": [
    "# method to group both columns would be to promote them to a multi-index\n",
    "df = df.set_index(['cancellation_policy', 'review_scores_value'])\n",
    "for group, frame in df.groupby(level=(0,1)):\n",
    "    print(group)\n"
   ]
  }
 ]
}