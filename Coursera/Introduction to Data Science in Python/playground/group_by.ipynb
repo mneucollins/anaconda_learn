{
 "metadata": {
  "language_info": {
   "codemirror_mode": {
    "name": "ipython",
    "version": 3
   },
   "file_extension": ".py",
   "mimetype": "text/x-python",
   "name": "python",
   "nbconvert_exporter": "python",
   "pygments_lexer": "ipython3",
   "version": "3.8.5-final"
  },
  "orig_nbformat": 2,
  "kernelspec": {
   "name": "python3",
   "display_name": "Python 3",
   "language": "python"
  }
 },
 "nbformat": 4,
 "nbformat_minor": 2,
 "cells": [
  {
   "source": [
    "# Split &bull; Apply &bull; Combine \n",
    " - First the dataframe is split into groups based upon one or more keys. This split can be along either axis (axis=0:rows, or axis=1:columns).\n",
    " - Then a function is applied to each group producing a new value\n",
    " - Finally the results of these operations are combinded into a result obkect\n"
   ],
   "cell_type": "markdown",
   "metadata": {}
  },
  {
   "cell_type": "code",
   "execution_count": 33,
   "metadata": {},
   "outputs": [
    {
     "output_type": "execute_result",
     "data": {
      "text/plain": [
       "Index(['SUMLEV', 'REGION', 'DIVISION', 'STATE', 'COUNTY', 'STNAME', 'CTYNAME',\n",
       "       'CENSUS2010POP', 'ESTIMATESBASE2010', 'POPESTIMATE2010',\n",
       "       'POPESTIMATE2011', 'POPESTIMATE2012', 'POPESTIMATE2013',\n",
       "       'POPESTIMATE2014', 'POPESTIMATE2015', 'NPOPCHG_2010', 'NPOPCHG_2011',\n",
       "       'NPOPCHG_2012', 'NPOPCHG_2013', 'NPOPCHG_2014', 'NPOPCHG_2015',\n",
       "       'BIRTHS2010', 'BIRTHS2011', 'BIRTHS2012', 'BIRTHS2013', 'BIRTHS2014',\n",
       "       'BIRTHS2015', 'DEATHS2010', 'DEATHS2011', 'DEATHS2012', 'DEATHS2013',\n",
       "       'DEATHS2014', 'DEATHS2015', 'NATURALINC2010', 'NATURALINC2011',\n",
       "       'NATURALINC2012', 'NATURALINC2013', 'NATURALINC2014', 'NATURALINC2015',\n",
       "       'INTERNATIONALMIG2010', 'INTERNATIONALMIG2011', 'INTERNATIONALMIG2012',\n",
       "       'INTERNATIONALMIG2013', 'INTERNATIONALMIG2014', 'INTERNATIONALMIG2015',\n",
       "       'DOMESTICMIG2010', 'DOMESTICMIG2011', 'DOMESTICMIG2012',\n",
       "       'DOMESTICMIG2013', 'DOMESTICMIG2014', 'DOMESTICMIG2015', 'NETMIG2010',\n",
       "       'NETMIG2011', 'NETMIG2012', 'NETMIG2013', 'NETMIG2014', 'NETMIG2015',\n",
       "       'RESIDUAL2010', 'RESIDUAL2011', 'RESIDUAL2012', 'RESIDUAL2013',\n",
       "       'RESIDUAL2014', 'RESIDUAL2015', 'GQESTIMATESBASE2010',\n",
       "       'GQESTIMATES2010', 'GQESTIMATES2011', 'GQESTIMATES2012',\n",
       "       'GQESTIMATES2013', 'GQESTIMATES2014', 'GQESTIMATES2015', 'RBIRTH2011',\n",
       "       'RBIRTH2012', 'RBIRTH2013', 'RBIRTH2014', 'RBIRTH2015', 'RDEATH2011',\n",
       "       'RDEATH2012', 'RDEATH2013', 'RDEATH2014', 'RDEATH2015',\n",
       "       'RNATURALINC2011', 'RNATURALINC2012', 'RNATURALINC2013',\n",
       "       'RNATURALINC2014', 'RNATURALINC2015', 'RINTERNATIONALMIG2011',\n",
       "       'RINTERNATIONALMIG2012', 'RINTERNATIONALMIG2013',\n",
       "       'RINTERNATIONALMIG2014', 'RINTERNATIONALMIG2015', 'RDOMESTICMIG2011',\n",
       "       'RDOMESTICMIG2012', 'RDOMESTICMIG2013', 'RDOMESTICMIG2014',\n",
       "       'RDOMESTICMIG2015', 'RNETMIG2011', 'RNETMIG2012', 'RNETMIG2013',\n",
       "       'RNETMIG2014', 'RNETMIG2015'],\n",
       "      dtype='object')"
      ]
     },
     "metadata": {},
     "execution_count": 33
    }
   ],
   "source": [
    "import numpy as np \n",
    "import pandas as pd \n",
    "\n",
    "#read some us census data\n",
    "df = pd.read_csv('../resources/week-3/datasets/census.csv')\n",
    "\n",
    "#limit the dataset to sumlev > 40\n",
    "df = df[df['SUMLEV']>40]\n",
    "#df is equal to df where sumlev of df is greater than 50 \n",
    "df.columns\n"
   ]
  },
  {
   "source": [
    "to get the average estimated population (POPESTIMATE2010) by state(STNAME), first:\n",
    "### Split"
   ],
   "cell_type": "markdown",
   "metadata": {}
  },
  {
   "cell_type": "code",
   "execution_count": 34,
   "metadata": {},
   "outputs": [
    {
     "output_type": "execute_result",
     "data": {
      "text/plain": [
       "<pandas.core.groupby.generic.SeriesGroupBy object at 0x7d59aac403a0>"
      ]
     },
     "metadata": {},
     "execution_count": 34
    }
   ],
   "source": [
    "# first step is to split the data into state name groups. \n",
    "grouped = df['POPESTIMATE2010'].groupby(df['STNAME'])\n",
    "grouped\n",
    "# This is the end of the split stage. At this stage nothing has been computed yet, but the GroupBy object has been created which has all the information needed to Apply a transformation to each of the groups"
   ]
  },
  {
   "source": [
    "after the groups have been defined and split, you can\n",
    "### Apply Transformation & Combine"
   ],
   "cell_type": "markdown",
   "metadata": {}
  },
  {
   "cell_type": "code",
   "execution_count": 35,
   "metadata": {},
   "outputs": [
    {
     "output_type": "execute_result",
     "data": {
      "text/plain": [
       "STNAME\n",
       "Alabama                  71420.313433\n",
       "Alaska                   24621.413793\n",
       "Arizona                 427213.866667\n",
       "Arkansas                 38965.253333\n",
       "California              643691.017241\n",
       "Colorado                 78878.968750\n",
       "Connecticut             447464.625000\n",
       "Delaware                299930.333333\n",
       "District of Columbia    605126.000000\n",
       "Florida                 281341.641791\n",
       "Georgia                  61090.905660\n",
       "Hawaii                  272796.000000\n",
       "Idaho                    35704.227273\n",
       "Illinois                125894.598039\n",
       "Indiana                  70549.891304\n",
       "Iowa                     30815.090909\n",
       "Kansas                   27226.895238\n",
       "Kentucky                 36232.808333\n",
       "Louisiana                71014.859375\n",
       "Maine                    82980.937500\n",
       "Maryland                241183.708333\n",
       "Massachusetts           468931.142857\n",
       "Michigan                119004.445783\n",
       "Minnesota                61044.862069\n",
       "Mississippi              36223.365854\n",
       "Missouri                 52139.582609\n",
       "Montana                  17690.053571\n",
       "Nebraska                 19677.688172\n",
       "Nevada                  159025.882353\n",
       "New Hampshire           131670.800000\n",
       "New Jersey              419232.428571\n",
       "New Mexico               62567.909091\n",
       "New York                312950.322581\n",
       "North Carolina           95589.790000\n",
       "North Dakota             12726.981132\n",
       "Ohio                    131145.068182\n",
       "Oklahoma                 48825.922078\n",
       "Oregon                  106610.333333\n",
       "Pennsylvania            189731.552239\n",
       "Rhode Island            210643.800000\n",
       "South Carolina          100780.304348\n",
       "South Dakota             12368.166667\n",
       "Tennessee                66911.421053\n",
       "Texas                    99387.255906\n",
       "Utah                     95704.344828\n",
       "Vermont                  44713.142857\n",
       "Virginia                 60344.263158\n",
       "Washington              172898.974359\n",
       "West Virginia            33713.181818\n",
       "Wisconsin                79030.611111\n",
       "Wyoming                  24544.173913\n",
       "Name: POPESTIMATE2010, dtype: float64"
      ]
     },
     "metadata": {},
     "execution_count": 35
    }
   ],
   "source": [
    "# calculate the mean of groups (estimated state population grouped by state)\n",
    "grouped.mean()"
   ]
  },
  {
   "cell_type": "code",
   "execution_count": 36,
   "metadata": {},
   "outputs": [
    {
     "output_type": "execute_result",
     "data": {
      "text/plain": [
       "STNAME                REGION\n",
       "Alabama               3          212.328358\n",
       "Alaska                4           99.724138\n",
       "Arizona               4         1395.800000\n",
       "Arkansas              3          125.853333\n",
       "California            4         2126.275862\n",
       "Colorado              4          262.359375\n",
       "Connecticut           1         1186.125000\n",
       "Delaware              3          949.000000\n",
       "District of Columbia  3         2243.000000\n",
       "Florida               3          759.283582\n",
       "Georgia               3          204.333333\n",
       "Hawaii                4          929.200000\n",
       "Idaho                 4          135.704545\n",
       "Illinois              2          410.156863\n",
       "Indiana               2          227.836957\n",
       "Iowa                  2          100.676768\n",
       "Kansas                2           95.161905\n",
       "Kentucky              3          114.091667\n",
       "Louisiana             3          227.703125\n",
       "Maine                 1          215.187500\n",
       "Maryland              3          769.208333\n",
       "Massachusetts         1         1331.928571\n",
       "Michigan              2          350.626506\n",
       "Minnesota             2          201.149425\n",
       "Mississippi           3          114.890244\n",
       "Missouri              2          165.321739\n",
       "Montana               4           54.785714\n",
       "Nebraska              2           70.053763\n",
       "Nevada                4          523.058824\n",
       "New Hampshire         1          326.900000\n",
       "New Jersey            1         1263.285714\n",
       "New Mexico            4          201.484848\n",
       "New York              1          990.548387\n",
       "North Carolina        3          299.140000\n",
       "North Dakota          2           44.169811\n",
       "Ohio                  2          395.556818\n",
       "Oklahoma              3          170.701299\n",
       "Oregon                4          329.916667\n",
       "Pennsylvania          1          538.820896\n",
       "Rhode Island          1          575.000000\n",
       "South Carolina        3          308.260870\n",
       "South Dakota          2           45.939394\n",
       "Tennessee             3          206.978947\n",
       "Texas                 3          365.224409\n",
       "Utah                  4          474.206897\n",
       "Vermont               1          118.142857\n",
       "Virginia              3          193.368421\n",
       "Washington            4          570.358974\n",
       "West Virginia         3           92.800000\n",
       "Wisconsin             2          243.861111\n",
       "Wyoming               4           86.739130\n",
       "Name: BIRTHS2010, dtype: float64"
      ]
     },
     "metadata": {},
     "execution_count": 36
    }
   ],
   "source": [
    "# groupby can be passed multiple keys. When passed as separate df's it produces a hierachical list\n",
    "# means = df['BIRTHS2010'].groupby([df['REGION'], df['STNAME']]).mean()\n",
    "means = df['BIRTHS2010'].groupby([df['STNAME'], df['REGION']]).mean()\n",
    "means"
   ]
  },
  {
   "cell_type": "code",
   "execution_count": 37,
   "metadata": {},
   "outputs": [
    {
     "output_type": "execute_result",
     "data": {
      "text/plain": [
       "REGION                          1           2            3            4\n",
       "STNAME                                                                 \n",
       "Alabama                       NaN         NaN   212.328358          NaN\n",
       "Alaska                        NaN         NaN          NaN    99.724138\n",
       "Arizona                       NaN         NaN          NaN  1395.800000\n",
       "Arkansas                      NaN         NaN   125.853333          NaN\n",
       "California                    NaN         NaN          NaN  2126.275862\n",
       "Colorado                      NaN         NaN          NaN   262.359375\n",
       "Connecticut           1186.125000         NaN          NaN          NaN\n",
       "Delaware                      NaN         NaN   949.000000          NaN\n",
       "District of Columbia          NaN         NaN  2243.000000          NaN\n",
       "Florida                       NaN         NaN   759.283582          NaN\n",
       "Georgia                       NaN         NaN   204.333333          NaN\n",
       "Hawaii                        NaN         NaN          NaN   929.200000\n",
       "Idaho                         NaN         NaN          NaN   135.704545\n",
       "Illinois                      NaN  410.156863          NaN          NaN\n",
       "Indiana                       NaN  227.836957          NaN          NaN\n",
       "Iowa                          NaN  100.676768          NaN          NaN\n",
       "Kansas                        NaN   95.161905          NaN          NaN\n",
       "Kentucky                      NaN         NaN   114.091667          NaN\n",
       "Louisiana                     NaN         NaN   227.703125          NaN\n",
       "Maine                  215.187500         NaN          NaN          NaN\n",
       "Maryland                      NaN         NaN   769.208333          NaN\n",
       "Massachusetts         1331.928571         NaN          NaN          NaN\n",
       "Michigan                      NaN  350.626506          NaN          NaN\n",
       "Minnesota                     NaN  201.149425          NaN          NaN\n",
       "Mississippi                   NaN         NaN   114.890244          NaN\n",
       "Missouri                      NaN  165.321739          NaN          NaN\n",
       "Montana                       NaN         NaN          NaN    54.785714\n",
       "Nebraska                      NaN   70.053763          NaN          NaN\n",
       "Nevada                        NaN         NaN          NaN   523.058824\n",
       "New Hampshire          326.900000         NaN          NaN          NaN\n",
       "New Jersey            1263.285714         NaN          NaN          NaN\n",
       "New Mexico                    NaN         NaN          NaN   201.484848\n",
       "New York               990.548387         NaN          NaN          NaN\n",
       "North Carolina                NaN         NaN   299.140000          NaN\n",
       "North Dakota                  NaN   44.169811          NaN          NaN\n",
       "Ohio                          NaN  395.556818          NaN          NaN\n",
       "Oklahoma                      NaN         NaN   170.701299          NaN\n",
       "Oregon                        NaN         NaN          NaN   329.916667\n",
       "Pennsylvania           538.820896         NaN          NaN          NaN\n",
       "Rhode Island           575.000000         NaN          NaN          NaN\n",
       "South Carolina                NaN         NaN   308.260870          NaN\n",
       "South Dakota                  NaN   45.939394          NaN          NaN\n",
       "Tennessee                     NaN         NaN   206.978947          NaN\n",
       "Texas                         NaN         NaN   365.224409          NaN\n",
       "Utah                          NaN         NaN          NaN   474.206897\n",
       "Vermont                118.142857         NaN          NaN          NaN\n",
       "Virginia                      NaN         NaN   193.368421          NaN\n",
       "Washington                    NaN         NaN          NaN   570.358974\n",
       "West Virginia                 NaN         NaN    92.800000          NaN\n",
       "Wisconsin                     NaN  243.861111          NaN          NaN\n",
       "Wyoming                       NaN         NaN          NaN    86.739130"
      ],
      "text/html": "<div>\n<style scoped>\n    .dataframe tbody tr th:only-of-type {\n        vertical-align: middle;\n    }\n\n    .dataframe tbody tr th {\n        vertical-align: top;\n    }\n\n    .dataframe thead th {\n        text-align: right;\n    }\n</style>\n<table border=\"1\" class=\"dataframe\">\n  <thead>\n    <tr style=\"text-align: right;\">\n      <th>REGION</th>\n      <th>1</th>\n      <th>2</th>\n      <th>3</th>\n      <th>4</th>\n    </tr>\n    <tr>\n      <th>STNAME</th>\n      <th></th>\n      <th></th>\n      <th></th>\n      <th></th>\n    </tr>\n  </thead>\n  <tbody>\n    <tr>\n      <th>Alabama</th>\n      <td>NaN</td>\n      <td>NaN</td>\n      <td>212.328358</td>\n      <td>NaN</td>\n    </tr>\n    <tr>\n      <th>Alaska</th>\n      <td>NaN</td>\n      <td>NaN</td>\n      <td>NaN</td>\n      <td>99.724138</td>\n    </tr>\n    <tr>\n      <th>Arizona</th>\n      <td>NaN</td>\n      <td>NaN</td>\n      <td>NaN</td>\n      <td>1395.800000</td>\n    </tr>\n    <tr>\n      <th>Arkansas</th>\n      <td>NaN</td>\n      <td>NaN</td>\n      <td>125.853333</td>\n      <td>NaN</td>\n    </tr>\n    <tr>\n      <th>California</th>\n      <td>NaN</td>\n      <td>NaN</td>\n      <td>NaN</td>\n      <td>2126.275862</td>\n    </tr>\n    <tr>\n      <th>Colorado</th>\n      <td>NaN</td>\n      <td>NaN</td>\n      <td>NaN</td>\n      <td>262.359375</td>\n    </tr>\n    <tr>\n      <th>Connecticut</th>\n      <td>1186.125000</td>\n      <td>NaN</td>\n      <td>NaN</td>\n      <td>NaN</td>\n    </tr>\n    <tr>\n      <th>Delaware</th>\n      <td>NaN</td>\n      <td>NaN</td>\n      <td>949.000000</td>\n      <td>NaN</td>\n    </tr>\n    <tr>\n      <th>District of Columbia</th>\n      <td>NaN</td>\n      <td>NaN</td>\n      <td>2243.000000</td>\n      <td>NaN</td>\n    </tr>\n    <tr>\n      <th>Florida</th>\n      <td>NaN</td>\n      <td>NaN</td>\n      <td>759.283582</td>\n      <td>NaN</td>\n    </tr>\n    <tr>\n      <th>Georgia</th>\n      <td>NaN</td>\n      <td>NaN</td>\n      <td>204.333333</td>\n      <td>NaN</td>\n    </tr>\n    <tr>\n      <th>Hawaii</th>\n      <td>NaN</td>\n      <td>NaN</td>\n      <td>NaN</td>\n      <td>929.200000</td>\n    </tr>\n    <tr>\n      <th>Idaho</th>\n      <td>NaN</td>\n      <td>NaN</td>\n      <td>NaN</td>\n      <td>135.704545</td>\n    </tr>\n    <tr>\n      <th>Illinois</th>\n      <td>NaN</td>\n      <td>410.156863</td>\n      <td>NaN</td>\n      <td>NaN</td>\n    </tr>\n    <tr>\n      <th>Indiana</th>\n      <td>NaN</td>\n      <td>227.836957</td>\n      <td>NaN</td>\n      <td>NaN</td>\n    </tr>\n    <tr>\n      <th>Iowa</th>\n      <td>NaN</td>\n      <td>100.676768</td>\n      <td>NaN</td>\n      <td>NaN</td>\n    </tr>\n    <tr>\n      <th>Kansas</th>\n      <td>NaN</td>\n      <td>95.161905</td>\n      <td>NaN</td>\n      <td>NaN</td>\n    </tr>\n    <tr>\n      <th>Kentucky</th>\n      <td>NaN</td>\n      <td>NaN</td>\n      <td>114.091667</td>\n      <td>NaN</td>\n    </tr>\n    <tr>\n      <th>Louisiana</th>\n      <td>NaN</td>\n      <td>NaN</td>\n      <td>227.703125</td>\n      <td>NaN</td>\n    </tr>\n    <tr>\n      <th>Maine</th>\n      <td>215.187500</td>\n      <td>NaN</td>\n      <td>NaN</td>\n      <td>NaN</td>\n    </tr>\n    <tr>\n      <th>Maryland</th>\n      <td>NaN</td>\n      <td>NaN</td>\n      <td>769.208333</td>\n      <td>NaN</td>\n    </tr>\n    <tr>\n      <th>Massachusetts</th>\n      <td>1331.928571</td>\n      <td>NaN</td>\n      <td>NaN</td>\n      <td>NaN</td>\n    </tr>\n    <tr>\n      <th>Michigan</th>\n      <td>NaN</td>\n      <td>350.626506</td>\n      <td>NaN</td>\n      <td>NaN</td>\n    </tr>\n    <tr>\n      <th>Minnesota</th>\n      <td>NaN</td>\n      <td>201.149425</td>\n      <td>NaN</td>\n      <td>NaN</td>\n    </tr>\n    <tr>\n      <th>Mississippi</th>\n      <td>NaN</td>\n      <td>NaN</td>\n      <td>114.890244</td>\n      <td>NaN</td>\n    </tr>\n    <tr>\n      <th>Missouri</th>\n      <td>NaN</td>\n      <td>165.321739</td>\n      <td>NaN</td>\n      <td>NaN</td>\n    </tr>\n    <tr>\n      <th>Montana</th>\n      <td>NaN</td>\n      <td>NaN</td>\n      <td>NaN</td>\n      <td>54.785714</td>\n    </tr>\n    <tr>\n      <th>Nebraska</th>\n      <td>NaN</td>\n      <td>70.053763</td>\n      <td>NaN</td>\n      <td>NaN</td>\n    </tr>\n    <tr>\n      <th>Nevada</th>\n      <td>NaN</td>\n      <td>NaN</td>\n      <td>NaN</td>\n      <td>523.058824</td>\n    </tr>\n    <tr>\n      <th>New Hampshire</th>\n      <td>326.900000</td>\n      <td>NaN</td>\n      <td>NaN</td>\n      <td>NaN</td>\n    </tr>\n    <tr>\n      <th>New Jersey</th>\n      <td>1263.285714</td>\n      <td>NaN</td>\n      <td>NaN</td>\n      <td>NaN</td>\n    </tr>\n    <tr>\n      <th>New Mexico</th>\n      <td>NaN</td>\n      <td>NaN</td>\n      <td>NaN</td>\n      <td>201.484848</td>\n    </tr>\n    <tr>\n      <th>New York</th>\n      <td>990.548387</td>\n      <td>NaN</td>\n      <td>NaN</td>\n      <td>NaN</td>\n    </tr>\n    <tr>\n      <th>North Carolina</th>\n      <td>NaN</td>\n      <td>NaN</td>\n      <td>299.140000</td>\n      <td>NaN</td>\n    </tr>\n    <tr>\n      <th>North Dakota</th>\n      <td>NaN</td>\n      <td>44.169811</td>\n      <td>NaN</td>\n      <td>NaN</td>\n    </tr>\n    <tr>\n      <th>Ohio</th>\n      <td>NaN</td>\n      <td>395.556818</td>\n      <td>NaN</td>\n      <td>NaN</td>\n    </tr>\n    <tr>\n      <th>Oklahoma</th>\n      <td>NaN</td>\n      <td>NaN</td>\n      <td>170.701299</td>\n      <td>NaN</td>\n    </tr>\n    <tr>\n      <th>Oregon</th>\n      <td>NaN</td>\n      <td>NaN</td>\n      <td>NaN</td>\n      <td>329.916667</td>\n    </tr>\n    <tr>\n      <th>Pennsylvania</th>\n      <td>538.820896</td>\n      <td>NaN</td>\n      <td>NaN</td>\n      <td>NaN</td>\n    </tr>\n    <tr>\n      <th>Rhode Island</th>\n      <td>575.000000</td>\n      <td>NaN</td>\n      <td>NaN</td>\n      <td>NaN</td>\n    </tr>\n    <tr>\n      <th>South Carolina</th>\n      <td>NaN</td>\n      <td>NaN</td>\n      <td>308.260870</td>\n      <td>NaN</td>\n    </tr>\n    <tr>\n      <th>South Dakota</th>\n      <td>NaN</td>\n      <td>45.939394</td>\n      <td>NaN</td>\n      <td>NaN</td>\n    </tr>\n    <tr>\n      <th>Tennessee</th>\n      <td>NaN</td>\n      <td>NaN</td>\n      <td>206.978947</td>\n      <td>NaN</td>\n    </tr>\n    <tr>\n      <th>Texas</th>\n      <td>NaN</td>\n      <td>NaN</td>\n      <td>365.224409</td>\n      <td>NaN</td>\n    </tr>\n    <tr>\n      <th>Utah</th>\n      <td>NaN</td>\n      <td>NaN</td>\n      <td>NaN</td>\n      <td>474.206897</td>\n    </tr>\n    <tr>\n      <th>Vermont</th>\n      <td>118.142857</td>\n      <td>NaN</td>\n      <td>NaN</td>\n      <td>NaN</td>\n    </tr>\n    <tr>\n      <th>Virginia</th>\n      <td>NaN</td>\n      <td>NaN</td>\n      <td>193.368421</td>\n      <td>NaN</td>\n    </tr>\n    <tr>\n      <th>Washington</th>\n      <td>NaN</td>\n      <td>NaN</td>\n      <td>NaN</td>\n      <td>570.358974</td>\n    </tr>\n    <tr>\n      <th>West Virginia</th>\n      <td>NaN</td>\n      <td>NaN</td>\n      <td>92.800000</td>\n      <td>NaN</td>\n    </tr>\n    <tr>\n      <th>Wisconsin</th>\n      <td>NaN</td>\n      <td>243.861111</td>\n      <td>NaN</td>\n      <td>NaN</td>\n    </tr>\n    <tr>\n      <th>Wyoming</th>\n      <td>NaN</td>\n      <td>NaN</td>\n      <td>NaN</td>\n      <td>86.739130</td>\n    </tr>\n  </tbody>\n</table>\n</div>"
     },
     "metadata": {},
     "execution_count": 37
    }
   ],
   "source": [
    "# the keys can be converted to to colmumns using the unstack function\n",
    "means.unstack()\n"
   ]
  },
  {
   "cell_type": "code",
   "execution_count": 38,
   "metadata": {
    "tags": []
   },
   "outputs": [
    {
     "output_type": "stream",
     "name": "stdout",
     "text": [
      "state: Alabama avg pop: 71339.34328358209\nstate: Alaska avg pop: 24490.724137931036\nstate: Arizona avg pop: 426134.4666666667\nstate: Arkansas avg pop: 38878.90666666667\nstate: California avg pop: 642309.5862068966\nstate: Colorado avg pop: 78581.1875\nstate: Connecticut avg pop: 446762.125\nstate: Delaware avg pop: 299311.3333333333\nstate: District of Columbia avg pop: 601723.0\nstate: Florida avg pop: 280616.5671641791\nstate: Georgia avg pop: 60928.63522012578\nstate: Hawaii avg pop: 272060.2\nstate: Idaho avg pop: 35626.86363636364\nstate: Illinois avg pop: 125790.50980392157\nstate: Indiana avg pop: 70476.10869565218\nstate: Iowa avg pop: 30771.262626262625\nstate: Kansas avg pop: 27172.55238095238\nstate: Kentucky avg pop: 36161.39166666667\nstate: Louisiana avg pop: 70833.9375\nstate: Maine avg pop: 83022.5625\nstate: Maryland avg pop: 240564.66666666666\nstate: Massachusetts avg pop: 467687.78571428574\nstate: Michigan avg pop: 119080.0\nstate: Minnesota avg pop: 60964.65517241379\nstate: Mississippi avg pop: 36186.54878048781\nstate: Missouri avg pop: 52077.62608695652\nstate: Montana avg pop: 17668.125\nstate: Nebraska avg pop: 19638.075268817203\nstate: Nevada avg pop: 158855.9411764706\nstate: New Hampshire avg pop: 131647.0\nstate: New Jersey avg pop: 418661.61904761905\nstate: New Mexico avg pop: 62399.36363636364\nstate: New York avg pop: 312550.03225806454\nstate: North Carolina avg pop: 95354.83\nstate: North Dakota avg pop: 12690.396226415094\nstate: Ohio avg pop: 131096.63636363635\nstate: Oklahoma avg pop: 48718.844155844155\nstate: Oregon avg pop: 106418.72222222222\nstate: Pennsylvania avg pop: 189587.74626865672\nstate: Rhode Island avg pop: 210513.4\nstate: South Carolina avg pop: 100551.39130434782\nstate: South Dakota avg pop: 12336.060606060606\nstate: Tennessee avg pop: 66801.1052631579\nstate: Texas avg pop: 98998.27165354331\nstate: Utah avg pop: 95306.37931034483\nstate: Vermont avg pop: 44695.78571428572\nstate: Virginia avg pop: 60111.29323308271\nstate: Washington avg pop: 172424.10256410256\nstate: West Virginia avg pop: 33690.8\nstate: Wisconsin avg pop: 78985.91666666667\nstate: Wyoming avg pop: 24505.478260869564\n"
     ]
    }
   ],
   "source": [
    "# The GroupBy object supports iteration, generating a sequence of 2-tuples\n",
    "#in this example, \n",
    "\n",
    "# using the groupby function\n",
    "# 1) split\n",
    "for group, frame in df.groupby('STNAME'):\n",
    "    # groupby returns a tuple. The first value is the key that is being grouped by,\n",
    "    # the second is a dataframe found for that group\n",
    "\n",
    "    # now the apply step is to do the actual calculation\n",
    "    avg = np.average(frame['CENSUS2010POP'])\n",
    "    print('state: '+ group + \" avg pop: \" + str(avg))"
   ]
  },
  {
   "cell_type": "code",
   "execution_count": 39,
   "metadata": {},
   "outputs": [
    {
     "output_type": "stream",
     "name": "stdout",
     "text": [
      "group0 has 1177 records to process\ngroup1 has 1134 records to process\ngroup2 has 831 records to process\n"
     ]
    }
   ],
   "source": [
    "# you can also group by a function which might be useful for processing a large number of records\n",
    "#for example, this function will create 3 batches\n",
    "df=df.set_index('STNAME')\n",
    "\n",
    "# this is the batching function\n",
    "def set_batch_number(item):\n",
    "    if item[0] < 'M':\n",
    "        return 0\n",
    "    if item[0] < 'Q':\n",
    "        return 1\n",
    "    return 2\n",
    "\n",
    "# this groups by the batching function\n",
    "for group, frame in df.groupby(set_batch_number):\n",
    "    print( 'group' + str(group) + \" has \" + str(len(frame)) + \" records to process\")\n",
    "    \n",
    "# note that no column was specified in the groupby. If no column is specified, groupby will use the indexed column to group\n"
   ]
  },
  {
   "cell_type": "code",
   "execution_count": 40,
   "metadata": {},
   "outputs": [
    {
     "output_type": "execute_result",
     "data": {
      "text/plain": [
       "Index(['id', 'listing_url', 'scrape_id', 'last_scraped', 'name', 'summary',\n",
       "       'space', 'description', 'experiences_offered', 'neighborhood_overview',\n",
       "       'notes', 'transit', 'access', 'interaction', 'house_rules',\n",
       "       'thumbnail_url', 'medium_url', 'picture_url', 'xl_picture_url',\n",
       "       'host_id', 'host_url', 'host_name', 'host_since', 'host_location',\n",
       "       'host_about', 'host_response_time', 'host_response_rate',\n",
       "       'host_acceptance_rate', 'host_is_superhost', 'host_thumbnail_url',\n",
       "       'host_picture_url', 'host_neighbourhood', 'host_listings_count',\n",
       "       'host_total_listings_count', 'host_verifications',\n",
       "       'host_has_profile_pic', 'host_identity_verified', 'street',\n",
       "       'neighbourhood', 'neighbourhood_cleansed',\n",
       "       'neighbourhood_group_cleansed', 'city', 'state', 'zipcode', 'market',\n",
       "       'smart_location', 'country_code', 'country', 'latitude', 'longitude',\n",
       "       'is_location_exact', 'property_type', 'room_type', 'accommodates',\n",
       "       'bathrooms', 'bedrooms', 'beds', 'bed_type', 'amenities', 'square_feet',\n",
       "       'price', 'weekly_price', 'monthly_price', 'security_deposit',\n",
       "       'cleaning_fee', 'guests_included', 'extra_people', 'minimum_nights',\n",
       "       'maximum_nights', 'calendar_updated', 'has_availability',\n",
       "       'availability_30', 'availability_60', 'availability_90',\n",
       "       'availability_365', 'calendar_last_scraped', 'number_of_reviews',\n",
       "       'first_review', 'last_review', 'review_scores_rating',\n",
       "       'review_scores_accuracy', 'review_scores_cleanliness',\n",
       "       'review_scores_checkin', 'review_scores_communication',\n",
       "       'review_scores_location', 'review_scores_value', 'requires_license',\n",
       "       'license', 'jurisdiction_names', 'instant_bookable',\n",
       "       'cancellation_policy', 'require_guest_profile_picture',\n",
       "       'require_guest_phone_verification', 'calculated_host_listings_count',\n",
       "       'reviews_per_month'],\n",
       "      dtype='object')"
      ]
     },
     "metadata": {},
     "execution_count": 40
    }
   ],
   "source": [
    "# airbnb example\n",
    "# grouping by two columns. Cancellation Policy and Review scores\n",
    "df = pd.read_csv('../resources/week-3/datasets/listings.csv')\n",
    "df.head()\n",
    "df.columns"
   ]
  },
  {
   "cell_type": "code",
   "execution_count": 41,
   "metadata": {},
   "outputs": [
    {
     "output_type": "stream",
     "name": "stdout",
     "text": [
      "('flexible', 2.0)\n('flexible', 4.0)\n('flexible', 5.0)\n('flexible', 6.0)\n('flexible', 7.0)\n('flexible', 8.0)\n('flexible', 9.0)\n('flexible', 10.0)\n('moderate', 2.0)\n('moderate', 4.0)\n('moderate', 6.0)\n('moderate', 7.0)\n('moderate', 8.0)\n('moderate', 9.0)\n('moderate', 10.0)\n('strict', 2.0)\n('strict', 3.0)\n('strict', 4.0)\n('strict', 5.0)\n('strict', 6.0)\n('strict', 7.0)\n('strict', 8.0)\n('strict', 9.0)\n('strict', 10.0)\n('super_strict_30', 6.0)\n('super_strict_30', 7.0)\n('super_strict_30', 8.0)\n('super_strict_30', 9.0)\n('super_strict_30', 10.0)\n"
     ]
    }
   ],
   "source": [
    "# method to group both columns would be to promote them to a multi-index\n",
    "df = df.set_index(['cancellation_policy', 'review_scores_value'])\n",
    "for group, frame in df.groupby(level=(0,1)):\n",
    "    print(group)\n",
    "# in a df with a multi-index, you need to specify the levels (0,1) on which you want to groupby "
   ]
  },
  {
   "cell_type": "code",
   "execution_count": 42,
   "metadata": {},
   "outputs": [
    {
     "output_type": "stream",
     "name": "stdout",
     "text": [
      "('flexible', '10.0')\n('flexible', 'not 10.0')\n('moderate', '10.0')\n('moderate', 'not 10.0')\n('strict', '10.0')\n('strict', 'not 10.0')\n('super_strict_30', '10.0')\n('super_strict_30', 'not 10.0')\n"
     ]
    }
   ],
   "source": [
    "# we can further take this and apply a grouping function to segment a portion of the dataframe that we are interested in, for example, those with values of 10\n",
    "def grouping_fun(item):\n",
    "    #item passed is the tuple ('cancellation_policy, review_scores_value)\n",
    "    if item[1] == 10.0 :\n",
    "        return (item[0], \"10.0\")\n",
    "    else: \n",
    "        return (item[0], \"not 10.0\")\n",
    "for group, frame in df.groupby(grouping_fun):\n",
    "    print (group)"
   ]
  },
  {
   "cell_type": "code",
   "execution_count": 43,
   "metadata": {},
   "outputs": [
    {
     "output_type": "execute_result",
     "data": {
      "text/plain": [
       "                                               id  \\\n",
       "cancellation_policy review_scores_value             \n",
       "moderate            NaN                  12147973   \n",
       "                    9.0                   3075044   \n",
       "                    10.0                     6976   \n",
       "                    10.0                  1436513   \n",
       "flexible            10.0                  7651065   \n",
       "\n",
       "                                                                   listing_url  \\\n",
       "cancellation_policy review_scores_value                                          \n",
       "moderate            NaN                  https://www.airbnb.com/rooms/12147973   \n",
       "                    9.0                   https://www.airbnb.com/rooms/3075044   \n",
       "                    10.0                     https://www.airbnb.com/rooms/6976   \n",
       "                    10.0                  https://www.airbnb.com/rooms/1436513   \n",
       "flexible            10.0                  https://www.airbnb.com/rooms/7651065   \n",
       "\n",
       "                                              scrape_id last_scraped  \\\n",
       "cancellation_policy review_scores_value                                \n",
       "moderate            NaN                  20160906204935   2016-09-07   \n",
       "                    9.0                  20160906204935   2016-09-07   \n",
       "                    10.0                 20160906204935   2016-09-07   \n",
       "                    10.0                 20160906204935   2016-09-07   \n",
       "flexible            10.0                 20160906204935   2016-09-07   \n",
       "\n",
       "                                                                                  name  \\\n",
       "cancellation_policy review_scores_value                                                  \n",
       "moderate            NaN                                     Sunny Bungalow in the City   \n",
       "                    9.0                              Charming room in pet friendly apt   \n",
       "                    10.0                              Mexican Folk Art Haven in Boston   \n",
       "                    10.0                 Spacious Sunny Bedroom Suite in Historic Home   \n",
       "flexible            10.0                                           Come Home to Boston   \n",
       "\n",
       "                                                                                   summary  \\\n",
       "cancellation_policy review_scores_value                                                      \n",
       "moderate            NaN                  Cozy, sunny, family home.  Master bedroom high...   \n",
       "                    9.0                  Charming and quiet room in a second floor 1910...   \n",
       "                    10.0                 Come stay with a friendly, middle-aged guy in ...   \n",
       "                    10.0                 Come experience the comforts of home away from...   \n",
       "flexible            10.0                 My comfy, clean and relaxing home is one block...   \n",
       "\n",
       "                                                                                     space  \\\n",
       "cancellation_policy review_scores_value                                                      \n",
       "moderate            NaN                  The house has an open and cozy feel at the sam...   \n",
       "                    9.0                  Small but cozy and quite room with a full size...   \n",
       "                    10.0                 Come stay with a friendly, middle-aged guy in ...   \n",
       "                    10.0                 Most places you find in Boston are small howev...   \n",
       "flexible            10.0                 Clean, attractive, private room, one block fro...   \n",
       "\n",
       "                                                                               description  \\\n",
       "cancellation_policy review_scores_value                                                      \n",
       "moderate            NaN                  Cozy, sunny, family home.  Master bedroom high...   \n",
       "                    9.0                  Charming and quiet room in a second floor 1910...   \n",
       "                    10.0                 Come stay with a friendly, middle-aged guy in ...   \n",
       "                    10.0                 Come experience the comforts of home away from...   \n",
       "flexible            10.0                 My comfy, clean and relaxing home is one block...   \n",
       "\n",
       "                                        experiences_offered  \\\n",
       "cancellation_policy review_scores_value                       \n",
       "moderate            NaN                                none   \n",
       "                    9.0                                none   \n",
       "                    10.0                               none   \n",
       "                    10.0                               none   \n",
       "flexible            10.0                               none   \n",
       "\n",
       "                                                                     neighborhood_overview  \\\n",
       "cancellation_policy review_scores_value                                                      \n",
       "moderate            NaN                  Roslindale is quiet, convenient and friendly. ...   \n",
       "                    9.0                  The room is in Roslindale, a diverse and prima...   \n",
       "                    10.0                 The LOCATION: Roslindale is a safe and diverse...   \n",
       "                    10.0                 Roslindale is a lovely little neighborhood loc...   \n",
       "flexible            10.0                 I love the proximity to downtown, the neighbor...   \n",
       "\n",
       "                                         ... review_scores_communication  \\\n",
       "cancellation_policy review_scores_value  ...                               \n",
       "moderate            NaN                  ...                         NaN   \n",
       "                    9.0                  ...                        10.0   \n",
       "                    10.0                 ...                        10.0   \n",
       "                    10.0                 ...                        10.0   \n",
       "flexible            10.0                 ...                        10.0   \n",
       "\n",
       "                                        review_scores_location  \\\n",
       "cancellation_policy review_scores_value                          \n",
       "moderate            NaN                                    NaN   \n",
       "                    9.0                                    9.0   \n",
       "                    10.0                                   9.0   \n",
       "                    10.0                                  10.0   \n",
       "flexible            10.0                                   9.0   \n",
       "\n",
       "                                        requires_license license  \\\n",
       "cancellation_policy review_scores_value                            \n",
       "moderate            NaN                                f     NaN   \n",
       "                    9.0                                f     NaN   \n",
       "                    10.0                               f     NaN   \n",
       "                    10.0                               f     NaN   \n",
       "flexible            10.0                               f     NaN   \n",
       "\n",
       "                                        jurisdiction_names instant_bookable  \\\n",
       "cancellation_policy review_scores_value                                       \n",
       "moderate            NaN                                NaN                f   \n",
       "                    9.0                                NaN                t   \n",
       "                    10.0                               NaN                f   \n",
       "                    10.0                               NaN                f   \n",
       "flexible            10.0                               NaN                f   \n",
       "\n",
       "                                        require_guest_profile_picture  \\\n",
       "cancellation_policy review_scores_value                                 \n",
       "moderate            NaN                                             f   \n",
       "                    9.0                                             f   \n",
       "                    10.0                                            t   \n",
       "                    10.0                                            f   \n",
       "flexible            10.0                                            f   \n",
       "\n",
       "                                        require_guest_phone_verification  \\\n",
       "cancellation_policy review_scores_value                                    \n",
       "moderate            NaN                                                f   \n",
       "                    9.0                                                f   \n",
       "                    10.0                                               f   \n",
       "                    10.0                                               f   \n",
       "flexible            10.0                                               f   \n",
       "\n",
       "                                        calculated_host_listings_count  \\\n",
       "cancellation_policy review_scores_value                                  \n",
       "moderate            NaN                                              1   \n",
       "                    9.0                                              1   \n",
       "                    10.0                                             1   \n",
       "                    10.0                                             1   \n",
       "flexible            10.0                                             1   \n",
       "\n",
       "                                         reviews_per_month  \n",
       "cancellation_policy review_scores_value                     \n",
       "moderate            NaN                                NaN  \n",
       "                    9.0                               1.30  \n",
       "                    10.0                              0.47  \n",
       "                    10.0                              1.00  \n",
       "flexible            10.0                              2.25  \n",
       "\n",
       "[5 rows x 93 columns]"
      ],
      "text/html": "<div>\n<style scoped>\n    .dataframe tbody tr th:only-of-type {\n        vertical-align: middle;\n    }\n\n    .dataframe tbody tr th {\n        vertical-align: top;\n    }\n\n    .dataframe thead th {\n        text-align: right;\n    }\n</style>\n<table border=\"1\" class=\"dataframe\">\n  <thead>\n    <tr style=\"text-align: right;\">\n      <th></th>\n      <th></th>\n      <th>id</th>\n      <th>listing_url</th>\n      <th>scrape_id</th>\n      <th>last_scraped</th>\n      <th>name</th>\n      <th>summary</th>\n      <th>space</th>\n      <th>description</th>\n      <th>experiences_offered</th>\n      <th>neighborhood_overview</th>\n      <th>...</th>\n      <th>review_scores_communication</th>\n      <th>review_scores_location</th>\n      <th>requires_license</th>\n      <th>license</th>\n      <th>jurisdiction_names</th>\n      <th>instant_bookable</th>\n      <th>require_guest_profile_picture</th>\n      <th>require_guest_phone_verification</th>\n      <th>calculated_host_listings_count</th>\n      <th>reviews_per_month</th>\n    </tr>\n    <tr>\n      <th>cancellation_policy</th>\n      <th>review_scores_value</th>\n      <th></th>\n      <th></th>\n      <th></th>\n      <th></th>\n      <th></th>\n      <th></th>\n      <th></th>\n      <th></th>\n      <th></th>\n      <th></th>\n      <th></th>\n      <th></th>\n      <th></th>\n      <th></th>\n      <th></th>\n      <th></th>\n      <th></th>\n      <th></th>\n      <th></th>\n      <th></th>\n      <th></th>\n    </tr>\n  </thead>\n  <tbody>\n    <tr>\n      <th rowspan=\"4\" valign=\"top\">moderate</th>\n      <th>NaN</th>\n      <td>12147973</td>\n      <td>https://www.airbnb.com/rooms/12147973</td>\n      <td>20160906204935</td>\n      <td>2016-09-07</td>\n      <td>Sunny Bungalow in the City</td>\n      <td>Cozy, sunny, family home.  Master bedroom high...</td>\n      <td>The house has an open and cozy feel at the sam...</td>\n      <td>Cozy, sunny, family home.  Master bedroom high...</td>\n      <td>none</td>\n      <td>Roslindale is quiet, convenient and friendly. ...</td>\n      <td>...</td>\n      <td>NaN</td>\n      <td>NaN</td>\n      <td>f</td>\n      <td>NaN</td>\n      <td>NaN</td>\n      <td>f</td>\n      <td>f</td>\n      <td>f</td>\n      <td>1</td>\n      <td>NaN</td>\n    </tr>\n    <tr>\n      <th>9.0</th>\n      <td>3075044</td>\n      <td>https://www.airbnb.com/rooms/3075044</td>\n      <td>20160906204935</td>\n      <td>2016-09-07</td>\n      <td>Charming room in pet friendly apt</td>\n      <td>Charming and quiet room in a second floor 1910...</td>\n      <td>Small but cozy and quite room with a full size...</td>\n      <td>Charming and quiet room in a second floor 1910...</td>\n      <td>none</td>\n      <td>The room is in Roslindale, a diverse and prima...</td>\n      <td>...</td>\n      <td>10.0</td>\n      <td>9.0</td>\n      <td>f</td>\n      <td>NaN</td>\n      <td>NaN</td>\n      <td>t</td>\n      <td>f</td>\n      <td>f</td>\n      <td>1</td>\n      <td>1.30</td>\n    </tr>\n    <tr>\n      <th>10.0</th>\n      <td>6976</td>\n      <td>https://www.airbnb.com/rooms/6976</td>\n      <td>20160906204935</td>\n      <td>2016-09-07</td>\n      <td>Mexican Folk Art Haven in Boston</td>\n      <td>Come stay with a friendly, middle-aged guy in ...</td>\n      <td>Come stay with a friendly, middle-aged guy in ...</td>\n      <td>Come stay with a friendly, middle-aged guy in ...</td>\n      <td>none</td>\n      <td>The LOCATION: Roslindale is a safe and diverse...</td>\n      <td>...</td>\n      <td>10.0</td>\n      <td>9.0</td>\n      <td>f</td>\n      <td>NaN</td>\n      <td>NaN</td>\n      <td>f</td>\n      <td>t</td>\n      <td>f</td>\n      <td>1</td>\n      <td>0.47</td>\n    </tr>\n    <tr>\n      <th>10.0</th>\n      <td>1436513</td>\n      <td>https://www.airbnb.com/rooms/1436513</td>\n      <td>20160906204935</td>\n      <td>2016-09-07</td>\n      <td>Spacious Sunny Bedroom Suite in Historic Home</td>\n      <td>Come experience the comforts of home away from...</td>\n      <td>Most places you find in Boston are small howev...</td>\n      <td>Come experience the comforts of home away from...</td>\n      <td>none</td>\n      <td>Roslindale is a lovely little neighborhood loc...</td>\n      <td>...</td>\n      <td>10.0</td>\n      <td>10.0</td>\n      <td>f</td>\n      <td>NaN</td>\n      <td>NaN</td>\n      <td>f</td>\n      <td>f</td>\n      <td>f</td>\n      <td>1</td>\n      <td>1.00</td>\n    </tr>\n    <tr>\n      <th>flexible</th>\n      <th>10.0</th>\n      <td>7651065</td>\n      <td>https://www.airbnb.com/rooms/7651065</td>\n      <td>20160906204935</td>\n      <td>2016-09-07</td>\n      <td>Come Home to Boston</td>\n      <td>My comfy, clean and relaxing home is one block...</td>\n      <td>Clean, attractive, private room, one block fro...</td>\n      <td>My comfy, clean and relaxing home is one block...</td>\n      <td>none</td>\n      <td>I love the proximity to downtown, the neighbor...</td>\n      <td>...</td>\n      <td>10.0</td>\n      <td>9.0</td>\n      <td>f</td>\n      <td>NaN</td>\n      <td>NaN</td>\n      <td>f</td>\n      <td>f</td>\n      <td>f</td>\n      <td>1</td>\n      <td>2.25</td>\n    </tr>\n  </tbody>\n</table>\n<p>5 rows × 93 columns</p>\n</div>"
     },
     "metadata": {},
     "execution_count": 43
    }
   ],
   "source": [
    "df.head()"
   ]
  },
  {
   "source": [
    "## Aggregation, transformation, filtration of group data:\n",
    "### aggregation:\n",
    "apply a function to a group of columns that we are interested interested"
   ],
   "cell_type": "markdown",
   "metadata": {}
  },
  {
   "cell_type": "code",
   "execution_count": 46,
   "metadata": {},
   "outputs": [
    {
     "output_type": "execute_result",
     "data": {
      "text/plain": [
       "                     review_scores_value\n",
       "cancellation_policy                     \n",
       "flexible                        9.237421\n",
       "moderate                        9.307398\n",
       "strict                          9.081441\n",
       "super_strict_30                 8.537313"
      ],
      "text/html": "<div>\n<style scoped>\n    .dataframe tbody tr th:only-of-type {\n        vertical-align: middle;\n    }\n\n    .dataframe tbody tr th {\n        vertical-align: top;\n    }\n\n    .dataframe thead th {\n        text-align: right;\n    }\n</style>\n<table border=\"1\" class=\"dataframe\">\n  <thead>\n    <tr style=\"text-align: right;\">\n      <th></th>\n      <th>review_scores_value</th>\n    </tr>\n    <tr>\n      <th>cancellation_policy</th>\n      <th></th>\n    </tr>\n  </thead>\n  <tbody>\n    <tr>\n      <th>flexible</th>\n      <td>9.237421</td>\n    </tr>\n    <tr>\n      <th>moderate</th>\n      <td>9.307398</td>\n    </tr>\n    <tr>\n      <th>strict</th>\n      <td>9.081441</td>\n    </tr>\n    <tr>\n      <th>super_strict_30</th>\n      <td>8.537313</td>\n    </tr>\n  </tbody>\n</table>\n</div>"
     },
     "metadata": {},
     "execution_count": 46
    }
   ],
   "source": [
    "# Chris warns to always remember to reset the index to a known state\n",
    "df = df.reset_index()\n",
    "\n",
    "# this is how to group by cancellation policy and find average review scores\n",
    "# note that the nanmean function allows you to ignore na values in the calculation, which are included by default\n",
    "df.groupby('cancellation_policy').agg({'review_scores_value':np.nanmean})\n",
    "# note that passing in a dictionary has been deprecated, so in the future may need to do this in a different way\n"
   ]
  },
  {
   "cell_type": "code",
   "execution_count": 47,
   "metadata": {},
   "outputs": [
    {
     "output_type": "execute_result",
     "data": {
      "text/plain": [
       "                    review_scores_value           reviews_per_month\n",
       "                                nanmean    nanstd           nanmean\n",
       "cancellation_policy                                                \n",
       "flexible                       9.237421  1.096271          1.829210\n",
       "moderate                       9.307398  0.859859          2.391922\n",
       "strict                         9.081441  1.040531          1.873467\n",
       "super_strict_30                8.537313  0.840785          0.340143"
      ],
      "text/html": "<div>\n<style scoped>\n    .dataframe tbody tr th:only-of-type {\n        vertical-align: middle;\n    }\n\n    .dataframe tbody tr th {\n        vertical-align: top;\n    }\n\n    .dataframe thead tr th {\n        text-align: left;\n    }\n\n    .dataframe thead tr:last-of-type th {\n        text-align: right;\n    }\n</style>\n<table border=\"1\" class=\"dataframe\">\n  <thead>\n    <tr>\n      <th></th>\n      <th colspan=\"2\" halign=\"left\">review_scores_value</th>\n      <th>reviews_per_month</th>\n    </tr>\n    <tr>\n      <th></th>\n      <th>nanmean</th>\n      <th>nanstd</th>\n      <th>nanmean</th>\n    </tr>\n    <tr>\n      <th>cancellation_policy</th>\n      <th></th>\n      <th></th>\n      <th></th>\n    </tr>\n  </thead>\n  <tbody>\n    <tr>\n      <th>flexible</th>\n      <td>9.237421</td>\n      <td>1.096271</td>\n      <td>1.829210</td>\n    </tr>\n    <tr>\n      <th>moderate</th>\n      <td>9.307398</td>\n      <td>0.859859</td>\n      <td>2.391922</td>\n    </tr>\n    <tr>\n      <th>strict</th>\n      <td>9.081441</td>\n      <td>1.040531</td>\n      <td>1.873467</td>\n    </tr>\n    <tr>\n      <th>super_strict_30</th>\n      <td>8.537313</td>\n      <td>0.840785</td>\n      <td>0.340143</td>\n    </tr>\n  </tbody>\n</table>\n</div>"
     },
     "metadata": {},
     "execution_count": 47
    }
   ],
   "source": [
    "# you can pass multiple columns and multiple operations\n",
    "df.groupby('cancellation_policy').agg({'review_scores_value':(np.nanmean, np.nanstd),\n",
    "                                       'reviews_per_month': np.nanmean})"
   ]
  },
  {
   "source": [
    "## transformation\n",
    "transformation broadcasts a function you specify over a grouped dataframe"
   ],
   "cell_type": "markdown",
   "metadata": {}
  },
  {
   "cell_type": "code",
   "execution_count": 51,
   "metadata": {},
   "outputs": [
    {
     "output_type": "execute_result",
     "data": {
      "text/plain": [
       "   review_scores_value\n",
       "0             9.307398\n",
       "1             9.307398\n",
       "2             9.307398\n",
       "3             9.307398\n",
       "4             9.237421"
      ],
      "text/html": "<div>\n<style scoped>\n    .dataframe tbody tr th:only-of-type {\n        vertical-align: middle;\n    }\n\n    .dataframe tbody tr th {\n        vertical-align: top;\n    }\n\n    .dataframe thead th {\n        text-align: right;\n    }\n</style>\n<table border=\"1\" class=\"dataframe\">\n  <thead>\n    <tr style=\"text-align: right;\">\n      <th></th>\n      <th>review_scores_value</th>\n    </tr>\n  </thead>\n  <tbody>\n    <tr>\n      <th>0</th>\n      <td>9.307398</td>\n    </tr>\n    <tr>\n      <th>1</th>\n      <td>9.307398</td>\n    </tr>\n    <tr>\n      <th>2</th>\n      <td>9.307398</td>\n    </tr>\n    <tr>\n      <th>3</th>\n      <td>9.307398</td>\n    </tr>\n    <tr>\n      <th>4</th>\n      <td>9.237421</td>\n    </tr>\n  </tbody>\n</table>\n</div>"
     },
     "metadata": {},
     "execution_count": 51
    }
   ],
   "source": [
    "# identify the columns of interest as a list\n",
    "cols = ['cancellation_policy', 'review_scores_value']\n",
    "\n",
    "#store the transformation in a new dataframe\n",
    "transform_df = df[cols].groupby('cancellation_policy').transform(np.nanmean)\n",
    "transform_df.head()\n"
   ]
  },
  {
   "cell_type": "code",
   "execution_count": 53,
   "metadata": {},
   "outputs": [
    {
     "output_type": "execute_result",
     "data": {
      "text/plain": [
       "   index cancellation_policy  review_scores_value        id  \\\n",
       "0      0            moderate                  NaN  12147973   \n",
       "1      1            moderate                  9.0   3075044   \n",
       "2      2            moderate                 10.0      6976   \n",
       "3      3            moderate                 10.0   1436513   \n",
       "4      4            flexible                 10.0   7651065   \n",
       "\n",
       "                             listing_url       scrape_id last_scraped  \\\n",
       "0  https://www.airbnb.com/rooms/12147973  20160906204935   2016-09-07   \n",
       "1   https://www.airbnb.com/rooms/3075044  20160906204935   2016-09-07   \n",
       "2      https://www.airbnb.com/rooms/6976  20160906204935   2016-09-07   \n",
       "3   https://www.airbnb.com/rooms/1436513  20160906204935   2016-09-07   \n",
       "4   https://www.airbnb.com/rooms/7651065  20160906204935   2016-09-07   \n",
       "\n",
       "                                            name  \\\n",
       "0                     Sunny Bungalow in the City   \n",
       "1              Charming room in pet friendly apt   \n",
       "2               Mexican Folk Art Haven in Boston   \n",
       "3  Spacious Sunny Bedroom Suite in Historic Home   \n",
       "4                            Come Home to Boston   \n",
       "\n",
       "                                             summary  \\\n",
       "0  Cozy, sunny, family home.  Master bedroom high...   \n",
       "1  Charming and quiet room in a second floor 1910...   \n",
       "2  Come stay with a friendly, middle-aged guy in ...   \n",
       "3  Come experience the comforts of home away from...   \n",
       "4  My comfy, clean and relaxing home is one block...   \n",
       "\n",
       "                                               space  ...  \\\n",
       "0  The house has an open and cozy feel at the sam...  ...   \n",
       "1  Small but cozy and quite room with a full size...  ...   \n",
       "2  Come stay with a friendly, middle-aged guy in ...  ...   \n",
       "3  Most places you find in Boston are small howev...  ...   \n",
       "4  Clean, attractive, private room, one block fro...  ...   \n",
       "\n",
       "  review_scores_location requires_license license jurisdiction_names  \\\n",
       "0                    NaN                f     NaN                NaN   \n",
       "1                    9.0                f     NaN                NaN   \n",
       "2                    9.0                f     NaN                NaN   \n",
       "3                   10.0                f     NaN                NaN   \n",
       "4                    9.0                f     NaN                NaN   \n",
       "\n",
       "  instant_bookable require_guest_profile_picture  \\\n",
       "0                f                             f   \n",
       "1                t                             f   \n",
       "2                f                             t   \n",
       "3                f                             f   \n",
       "4                f                             f   \n",
       "\n",
       "  require_guest_phone_verification calculated_host_listings_count  \\\n",
       "0                                f                              1   \n",
       "1                                f                              1   \n",
       "2                                f                              1   \n",
       "3                                f                              1   \n",
       "4                                f                              1   \n",
       "\n",
       "  reviews_per_month mean_review_score  \n",
       "0               NaN          9.307398  \n",
       "1              1.30          9.307398  \n",
       "2              0.47          9.307398  \n",
       "3              1.00          9.307398  \n",
       "4              2.25          9.237421  \n",
       "\n",
       "[5 rows x 97 columns]"
      ],
      "text/html": "<div>\n<style scoped>\n    .dataframe tbody tr th:only-of-type {\n        vertical-align: middle;\n    }\n\n    .dataframe tbody tr th {\n        vertical-align: top;\n    }\n\n    .dataframe thead th {\n        text-align: right;\n    }\n</style>\n<table border=\"1\" class=\"dataframe\">\n  <thead>\n    <tr style=\"text-align: right;\">\n      <th></th>\n      <th>index</th>\n      <th>cancellation_policy</th>\n      <th>review_scores_value</th>\n      <th>id</th>\n      <th>listing_url</th>\n      <th>scrape_id</th>\n      <th>last_scraped</th>\n      <th>name</th>\n      <th>summary</th>\n      <th>space</th>\n      <th>...</th>\n      <th>review_scores_location</th>\n      <th>requires_license</th>\n      <th>license</th>\n      <th>jurisdiction_names</th>\n      <th>instant_bookable</th>\n      <th>require_guest_profile_picture</th>\n      <th>require_guest_phone_verification</th>\n      <th>calculated_host_listings_count</th>\n      <th>reviews_per_month</th>\n      <th>mean_review_score</th>\n    </tr>\n  </thead>\n  <tbody>\n    <tr>\n      <th>0</th>\n      <td>0</td>\n      <td>moderate</td>\n      <td>NaN</td>\n      <td>12147973</td>\n      <td>https://www.airbnb.com/rooms/12147973</td>\n      <td>20160906204935</td>\n      <td>2016-09-07</td>\n      <td>Sunny Bungalow in the City</td>\n      <td>Cozy, sunny, family home.  Master bedroom high...</td>\n      <td>The house has an open and cozy feel at the sam...</td>\n      <td>...</td>\n      <td>NaN</td>\n      <td>f</td>\n      <td>NaN</td>\n      <td>NaN</td>\n      <td>f</td>\n      <td>f</td>\n      <td>f</td>\n      <td>1</td>\n      <td>NaN</td>\n      <td>9.307398</td>\n    </tr>\n    <tr>\n      <th>1</th>\n      <td>1</td>\n      <td>moderate</td>\n      <td>9.0</td>\n      <td>3075044</td>\n      <td>https://www.airbnb.com/rooms/3075044</td>\n      <td>20160906204935</td>\n      <td>2016-09-07</td>\n      <td>Charming room in pet friendly apt</td>\n      <td>Charming and quiet room in a second floor 1910...</td>\n      <td>Small but cozy and quite room with a full size...</td>\n      <td>...</td>\n      <td>9.0</td>\n      <td>f</td>\n      <td>NaN</td>\n      <td>NaN</td>\n      <td>t</td>\n      <td>f</td>\n      <td>f</td>\n      <td>1</td>\n      <td>1.30</td>\n      <td>9.307398</td>\n    </tr>\n    <tr>\n      <th>2</th>\n      <td>2</td>\n      <td>moderate</td>\n      <td>10.0</td>\n      <td>6976</td>\n      <td>https://www.airbnb.com/rooms/6976</td>\n      <td>20160906204935</td>\n      <td>2016-09-07</td>\n      <td>Mexican Folk Art Haven in Boston</td>\n      <td>Come stay with a friendly, middle-aged guy in ...</td>\n      <td>Come stay with a friendly, middle-aged guy in ...</td>\n      <td>...</td>\n      <td>9.0</td>\n      <td>f</td>\n      <td>NaN</td>\n      <td>NaN</td>\n      <td>f</td>\n      <td>t</td>\n      <td>f</td>\n      <td>1</td>\n      <td>0.47</td>\n      <td>9.307398</td>\n    </tr>\n    <tr>\n      <th>3</th>\n      <td>3</td>\n      <td>moderate</td>\n      <td>10.0</td>\n      <td>1436513</td>\n      <td>https://www.airbnb.com/rooms/1436513</td>\n      <td>20160906204935</td>\n      <td>2016-09-07</td>\n      <td>Spacious Sunny Bedroom Suite in Historic Home</td>\n      <td>Come experience the comforts of home away from...</td>\n      <td>Most places you find in Boston are small howev...</td>\n      <td>...</td>\n      <td>10.0</td>\n      <td>f</td>\n      <td>NaN</td>\n      <td>NaN</td>\n      <td>f</td>\n      <td>f</td>\n      <td>f</td>\n      <td>1</td>\n      <td>1.00</td>\n      <td>9.307398</td>\n    </tr>\n    <tr>\n      <th>4</th>\n      <td>4</td>\n      <td>flexible</td>\n      <td>10.0</td>\n      <td>7651065</td>\n      <td>https://www.airbnb.com/rooms/7651065</td>\n      <td>20160906204935</td>\n      <td>2016-09-07</td>\n      <td>Come Home to Boston</td>\n      <td>My comfy, clean and relaxing home is one block...</td>\n      <td>Clean, attractive, private room, one block fro...</td>\n      <td>...</td>\n      <td>9.0</td>\n      <td>f</td>\n      <td>NaN</td>\n      <td>NaN</td>\n      <td>f</td>\n      <td>f</td>\n      <td>f</td>\n      <td>1</td>\n      <td>2.25</td>\n      <td>9.237421</td>\n    </tr>\n  </tbody>\n</table>\n<p>5 rows × 97 columns</p>\n</div>"
     },
     "metadata": {},
     "execution_count": 53
    }
   ],
   "source": [
    "# the column can be renamed in place\n",
    "transform_df.rename({'review_scores_value':'mean_review_score'}, axis='columns', inplace=True)\n",
    "\n",
    "#and this can be merged with the original dataframe\n",
    "df=df.merge(transform_df, left_index=True, right_index=True)\n",
    "\n",
    "df.head()\n",
    "# scroll right on the dataframe below and you will see that the mean review score has been added as a column to the right "
   ]
  },
  {
   "source": [
    "## filtering\n",
    "the filter function takes in a function and applies it to each group dataframe, and returns True or False as to whether that group should be included"
   ],
   "cell_type": "markdown",
   "metadata": {}
  },
  {
   "cell_type": "code",
   "execution_count": 56,
   "metadata": {},
   "outputs": [
    {
     "output_type": "execute_result",
     "data": {
      "text/plain": [
       "   index cancellation_policy  review_scores_value        id  \\\n",
       "0      0            moderate                  NaN  12147973   \n",
       "1      1            moderate                  9.0   3075044   \n",
       "2      2            moderate                 10.0      6976   \n",
       "3      3            moderate                 10.0   1436513   \n",
       "4      4            flexible                 10.0   7651065   \n",
       "\n",
       "                             listing_url       scrape_id last_scraped  \\\n",
       "0  https://www.airbnb.com/rooms/12147973  20160906204935   2016-09-07   \n",
       "1   https://www.airbnb.com/rooms/3075044  20160906204935   2016-09-07   \n",
       "2      https://www.airbnb.com/rooms/6976  20160906204935   2016-09-07   \n",
       "3   https://www.airbnb.com/rooms/1436513  20160906204935   2016-09-07   \n",
       "4   https://www.airbnb.com/rooms/7651065  20160906204935   2016-09-07   \n",
       "\n",
       "                                            name  \\\n",
       "0                     Sunny Bungalow in the City   \n",
       "1              Charming room in pet friendly apt   \n",
       "2               Mexican Folk Art Haven in Boston   \n",
       "3  Spacious Sunny Bedroom Suite in Historic Home   \n",
       "4                            Come Home to Boston   \n",
       "\n",
       "                                             summary  \\\n",
       "0  Cozy, sunny, family home.  Master bedroom high...   \n",
       "1  Charming and quiet room in a second floor 1910...   \n",
       "2  Come stay with a friendly, middle-aged guy in ...   \n",
       "3  Come experience the comforts of home away from...   \n",
       "4  My comfy, clean and relaxing home is one block...   \n",
       "\n",
       "                                               space  ...  \\\n",
       "0  The house has an open and cozy feel at the sam...  ...   \n",
       "1  Small but cozy and quite room with a full size...  ...   \n",
       "2  Come stay with a friendly, middle-aged guy in ...  ...   \n",
       "3  Most places you find in Boston are small howev...  ...   \n",
       "4  Clean, attractive, private room, one block fro...  ...   \n",
       "\n",
       "  review_scores_location requires_license license jurisdiction_names  \\\n",
       "0                    NaN                f     NaN                NaN   \n",
       "1                    9.0                f     NaN                NaN   \n",
       "2                    9.0                f     NaN                NaN   \n",
       "3                   10.0                f     NaN                NaN   \n",
       "4                    9.0                f     NaN                NaN   \n",
       "\n",
       "  instant_bookable require_guest_profile_picture  \\\n",
       "0                f                             f   \n",
       "1                t                             f   \n",
       "2                f                             t   \n",
       "3                f                             f   \n",
       "4                f                             f   \n",
       "\n",
       "  require_guest_phone_verification calculated_host_listings_count  \\\n",
       "0                                f                              1   \n",
       "1                                f                              1   \n",
       "2                                f                              1   \n",
       "3                                f                              1   \n",
       "4                                f                              1   \n",
       "\n",
       "  reviews_per_month mean_review_score  \n",
       "0               NaN          9.307398  \n",
       "1              1.30          9.307398  \n",
       "2              0.47          9.307398  \n",
       "3              1.00          9.307398  \n",
       "4              2.25          9.237421  \n",
       "\n",
       "[5 rows x 97 columns]"
      ],
      "text/html": "<div>\n<style scoped>\n    .dataframe tbody tr th:only-of-type {\n        vertical-align: middle;\n    }\n\n    .dataframe tbody tr th {\n        vertical-align: top;\n    }\n\n    .dataframe thead th {\n        text-align: right;\n    }\n</style>\n<table border=\"1\" class=\"dataframe\">\n  <thead>\n    <tr style=\"text-align: right;\">\n      <th></th>\n      <th>index</th>\n      <th>cancellation_policy</th>\n      <th>review_scores_value</th>\n      <th>id</th>\n      <th>listing_url</th>\n      <th>scrape_id</th>\n      <th>last_scraped</th>\n      <th>name</th>\n      <th>summary</th>\n      <th>space</th>\n      <th>...</th>\n      <th>review_scores_location</th>\n      <th>requires_license</th>\n      <th>license</th>\n      <th>jurisdiction_names</th>\n      <th>instant_bookable</th>\n      <th>require_guest_profile_picture</th>\n      <th>require_guest_phone_verification</th>\n      <th>calculated_host_listings_count</th>\n      <th>reviews_per_month</th>\n      <th>mean_review_score</th>\n    </tr>\n  </thead>\n  <tbody>\n    <tr>\n      <th>0</th>\n      <td>0</td>\n      <td>moderate</td>\n      <td>NaN</td>\n      <td>12147973</td>\n      <td>https://www.airbnb.com/rooms/12147973</td>\n      <td>20160906204935</td>\n      <td>2016-09-07</td>\n      <td>Sunny Bungalow in the City</td>\n      <td>Cozy, sunny, family home.  Master bedroom high...</td>\n      <td>The house has an open and cozy feel at the sam...</td>\n      <td>...</td>\n      <td>NaN</td>\n      <td>f</td>\n      <td>NaN</td>\n      <td>NaN</td>\n      <td>f</td>\n      <td>f</td>\n      <td>f</td>\n      <td>1</td>\n      <td>NaN</td>\n      <td>9.307398</td>\n    </tr>\n    <tr>\n      <th>1</th>\n      <td>1</td>\n      <td>moderate</td>\n      <td>9.0</td>\n      <td>3075044</td>\n      <td>https://www.airbnb.com/rooms/3075044</td>\n      <td>20160906204935</td>\n      <td>2016-09-07</td>\n      <td>Charming room in pet friendly apt</td>\n      <td>Charming and quiet room in a second floor 1910...</td>\n      <td>Small but cozy and quite room with a full size...</td>\n      <td>...</td>\n      <td>9.0</td>\n      <td>f</td>\n      <td>NaN</td>\n      <td>NaN</td>\n      <td>t</td>\n      <td>f</td>\n      <td>f</td>\n      <td>1</td>\n      <td>1.30</td>\n      <td>9.307398</td>\n    </tr>\n    <tr>\n      <th>2</th>\n      <td>2</td>\n      <td>moderate</td>\n      <td>10.0</td>\n      <td>6976</td>\n      <td>https://www.airbnb.com/rooms/6976</td>\n      <td>20160906204935</td>\n      <td>2016-09-07</td>\n      <td>Mexican Folk Art Haven in Boston</td>\n      <td>Come stay with a friendly, middle-aged guy in ...</td>\n      <td>Come stay with a friendly, middle-aged guy in ...</td>\n      <td>...</td>\n      <td>9.0</td>\n      <td>f</td>\n      <td>NaN</td>\n      <td>NaN</td>\n      <td>f</td>\n      <td>t</td>\n      <td>f</td>\n      <td>1</td>\n      <td>0.47</td>\n      <td>9.307398</td>\n    </tr>\n    <tr>\n      <th>3</th>\n      <td>3</td>\n      <td>moderate</td>\n      <td>10.0</td>\n      <td>1436513</td>\n      <td>https://www.airbnb.com/rooms/1436513</td>\n      <td>20160906204935</td>\n      <td>2016-09-07</td>\n      <td>Spacious Sunny Bedroom Suite in Historic Home</td>\n      <td>Come experience the comforts of home away from...</td>\n      <td>Most places you find in Boston are small howev...</td>\n      <td>...</td>\n      <td>10.0</td>\n      <td>f</td>\n      <td>NaN</td>\n      <td>NaN</td>\n      <td>f</td>\n      <td>f</td>\n      <td>f</td>\n      <td>1</td>\n      <td>1.00</td>\n      <td>9.307398</td>\n    </tr>\n    <tr>\n      <th>4</th>\n      <td>4</td>\n      <td>flexible</td>\n      <td>10.0</td>\n      <td>7651065</td>\n      <td>https://www.airbnb.com/rooms/7651065</td>\n      <td>20160906204935</td>\n      <td>2016-09-07</td>\n      <td>Come Home to Boston</td>\n      <td>My comfy, clean and relaxing home is one block...</td>\n      <td>Clean, attractive, private room, one block fro...</td>\n      <td>...</td>\n      <td>9.0</td>\n      <td>f</td>\n      <td>NaN</td>\n      <td>NaN</td>\n      <td>f</td>\n      <td>f</td>\n      <td>f</td>\n      <td>1</td>\n      <td>2.25</td>\n      <td>9.237421</td>\n    </tr>\n  </tbody>\n</table>\n<p>5 rows × 97 columns</p>\n</div>"
     },
     "metadata": {},
     "execution_count": 56
    }
   ],
   "source": [
    "# for example: filter for groups with mean rating above 9\n",
    "df.groupby('cancellation_policy'). filter(lambda x: np.nanmean(x['review_scores_value'])>9.2).head()"
   ]
  },
  {
   "source": [
    "# Apply Function\n",
    "allows you to apply an arbitrary function on each group and stitch the result back into a single dataframe where the index is preserved"
   ],
   "cell_type": "markdown",
   "metadata": {}
  },
  {
   "cell_type": "code",
   "execution_count": 57,
   "metadata": {},
   "outputs": [
    {
     "output_type": "execute_result",
     "data": {
      "text/plain": [
       "  cancellation_policy  review_scores_value\n",
       "0            moderate                  NaN\n",
       "1            moderate                  9.0\n",
       "2            moderate                 10.0\n",
       "3            moderate                 10.0\n",
       "4            flexible                 10.0"
      ],
      "text/html": "<div>\n<style scoped>\n    .dataframe tbody tr th:only-of-type {\n        vertical-align: middle;\n    }\n\n    .dataframe tbody tr th {\n        vertical-align: top;\n    }\n\n    .dataframe thead th {\n        text-align: right;\n    }\n</style>\n<table border=\"1\" class=\"dataframe\">\n  <thead>\n    <tr style=\"text-align: right;\">\n      <th></th>\n      <th>cancellation_policy</th>\n      <th>review_scores_value</th>\n    </tr>\n  </thead>\n  <tbody>\n    <tr>\n      <th>0</th>\n      <td>moderate</td>\n      <td>NaN</td>\n    </tr>\n    <tr>\n      <th>1</th>\n      <td>moderate</td>\n      <td>9.0</td>\n    </tr>\n    <tr>\n      <th>2</th>\n      <td>moderate</td>\n      <td>10.0</td>\n    </tr>\n    <tr>\n      <th>3</th>\n      <td>moderate</td>\n      <td>10.0</td>\n    </tr>\n    <tr>\n      <th>4</th>\n      <td>flexible</td>\n      <td>10.0</td>\n    </tr>\n  </tbody>\n</table>\n</div>"
     },
     "metadata": {},
     "execution_count": 57
    }
   ],
   "source": [
    "# start out with a clean copy of the dataframe\n",
    "df = pd.read_csv('../resources/week-3/datasets/listings.csv')\n",
    "\n",
    "# drop all but the columns of interest\n",
    "df = df[['cancellation_policy', 'review_scores_value']]\n",
    "df.head()\n"
   ]
  },
  {
   "cell_type": "code",
   "execution_count": 60,
   "metadata": {},
   "outputs": [
    {
     "output_type": "execute_result",
     "data": {
      "text/plain": [
       "  cancellation_policy  review_scores_value  review_scores_mean\n",
       "0            moderate                  NaN                 NaN\n",
       "1            moderate                  9.0            0.307398\n",
       "2            moderate                 10.0            0.692602\n",
       "3            moderate                 10.0            0.692602\n",
       "4            flexible                 10.0            0.762579"
      ],
      "text/html": "<div>\n<style scoped>\n    .dataframe tbody tr th:only-of-type {\n        vertical-align: middle;\n    }\n\n    .dataframe tbody tr th {\n        vertical-align: top;\n    }\n\n    .dataframe thead th {\n        text-align: right;\n    }\n</style>\n<table border=\"1\" class=\"dataframe\">\n  <thead>\n    <tr style=\"text-align: right;\">\n      <th></th>\n      <th>cancellation_policy</th>\n      <th>review_scores_value</th>\n      <th>review_scores_mean</th>\n    </tr>\n  </thead>\n  <tbody>\n    <tr>\n      <th>0</th>\n      <td>moderate</td>\n      <td>NaN</td>\n      <td>NaN</td>\n    </tr>\n    <tr>\n      <th>1</th>\n      <td>moderate</td>\n      <td>9.0</td>\n      <td>0.307398</td>\n    </tr>\n    <tr>\n      <th>2</th>\n      <td>moderate</td>\n      <td>10.0</td>\n      <td>0.692602</td>\n    </tr>\n    <tr>\n      <th>3</th>\n      <td>moderate</td>\n      <td>10.0</td>\n      <td>0.692602</td>\n    </tr>\n    <tr>\n      <th>4</th>\n      <td>flexible</td>\n      <td>10.0</td>\n      <td>0.762579</td>\n    </tr>\n  </tbody>\n</table>\n</div>"
     },
     "metadata": {},
     "execution_count": 60
    }
   ],
   "source": [
    "# apply lets you combine a lot of the operations into one place\n",
    "def calc_mean_review_scores(group):\n",
    "    # group is the dataframe of what we have grouped and can be treated as the complete dataframe\n",
    "    avg = np.nanmean(group['review_scores_value'])\n",
    "    #then broadcast the formula and create a new column in the group with the difference from the mean\n",
    "    group['review_scores_mean']=np.abs(avg - group[\"review_scores_value\"])   \n",
    "    return(group)\n",
    "\n",
    "# now apply the function\n",
    "df.groupby('cancellation_policy').apply(calc_mean_review_scores).head()"
   ]
  }
 ]
}