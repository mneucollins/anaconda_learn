{
 "cells": [
  {
   "cell_type": "markdown",
   "metadata": {},
   "source": [
    "## Merging Dataframes\n",
    "Bringing multiple dataframes together by joining horizontally or concatenating vertically\n",
    "\n",
    "It is well to be able to translate some concepts, terminology and understand equivalency across disciplines (database vs mathematical)\n",
    " - __Relational Theory : Set Theory__\n",
    " - Full Outer Join : Union\n",
    " - Inner Join : Intersection"
   ]
  },
  {
   "cell_type": "code",
   "execution_count": 9,
   "metadata": {},
   "outputs": [
    {
     "data": {
      "text/html": [
       "<div>\n",
       "<style scoped>\n",
       "    .dataframe tbody tr th:only-of-type {\n",
       "        vertical-align: middle;\n",
       "    }\n",
       "\n",
       "    .dataframe tbody tr th {\n",
       "        vertical-align: top;\n",
       "    }\n",
       "\n",
       "    .dataframe thead th {\n",
       "        text-align: right;\n",
       "    }\n",
       "</style>\n",
       "<table border=\"1\" class=\"dataframe\">\n",
       "  <thead>\n",
       "    <tr style=\"text-align: right;\">\n",
       "      <th></th>\n",
       "      <th>dx</th>\n",
       "    </tr>\n",
       "    <tr>\n",
       "      <th>MRN</th>\n",
       "      <th></th>\n",
       "    </tr>\n",
       "  </thead>\n",
       "  <tbody>\n",
       "    <tr>\n",
       "      <th>12345</th>\n",
       "      <td>right hip pain</td>\n",
       "    </tr>\n",
       "    <tr>\n",
       "      <th>45678</th>\n",
       "      <td>dislocation</td>\n",
       "    </tr>\n",
       "    <tr>\n",
       "      <th>34567</th>\n",
       "      <td>fracture</td>\n",
       "    </tr>\n",
       "  </tbody>\n",
       "</table>\n",
       "</div>"
      ],
      "text/plain": [
       "                   dx\n",
       "MRN                  \n",
       "12345  right hip pain\n",
       "45678     dislocation\n",
       "34567        fracture"
      ]
     },
     "execution_count": 9,
     "metadata": {},
     "output_type": "execute_result"
    }
   ],
   "source": [
    "import pandas as pd\n",
    "# set up two data sets back patients and hip patients\n",
    "# can do this as a list of dicts\n",
    "back_df = pd.DataFrame([{'MRN': '12345', 'dx': 'severe back pain'},\n",
    "                        {'MRN': '23456', 'dx': 'moderate back pain'},\n",
    "                        {'MRN': '34567', 'dx': 'mild back pain'}])\n",
    "# index by MRN\n",
    "back_df = back_df.set_index('MRN')\n",
    "hip_df = pd.DataFrame([{'MRN': '12345', 'dx': 'right hip pain'},\n",
    "                       {'MRN': '45678', 'dx': 'dislocation'},\n",
    "                       {'MRN': '34567', 'dx': 'fracture'}])\n",
    "hip_df = hip_df.set_index('MRN')\n",
    "back_df\n",
    "hip_df"
   ]
  },
  {
   "cell_type": "markdown",
   "metadata": {},
   "source": [
    "## merging the datasets -- Union (outer join)"
   ]
  },
  {
   "cell_type": "code",
   "execution_count": 10,
   "metadata": {},
   "outputs": [
    {
     "data": {
      "text/html": [
       "<div>\n",
       "<style scoped>\n",
       "    .dataframe tbody tr th:only-of-type {\n",
       "        vertical-align: middle;\n",
       "    }\n",
       "\n",
       "    .dataframe tbody tr th {\n",
       "        vertical-align: top;\n",
       "    }\n",
       "\n",
       "    .dataframe thead th {\n",
       "        text-align: right;\n",
       "    }\n",
       "</style>\n",
       "<table border=\"1\" class=\"dataframe\">\n",
       "  <thead>\n",
       "    <tr style=\"text-align: right;\">\n",
       "      <th></th>\n",
       "      <th>dx_x</th>\n",
       "      <th>dx_y</th>\n",
       "    </tr>\n",
       "    <tr>\n",
       "      <th>MRN</th>\n",
       "      <th></th>\n",
       "      <th></th>\n",
       "    </tr>\n",
       "  </thead>\n",
       "  <tbody>\n",
       "    <tr>\n",
       "      <th>12345</th>\n",
       "      <td>severe back pain</td>\n",
       "      <td>right hip pain</td>\n",
       "    </tr>\n",
       "    <tr>\n",
       "      <th>23456</th>\n",
       "      <td>moderate back pain</td>\n",
       "      <td>NaN</td>\n",
       "    </tr>\n",
       "    <tr>\n",
       "      <th>34567</th>\n",
       "      <td>mild back pain</td>\n",
       "      <td>fracture</td>\n",
       "    </tr>\n",
       "    <tr>\n",
       "      <th>45678</th>\n",
       "      <td>NaN</td>\n",
       "      <td>dislocation</td>\n",
       "    </tr>\n",
       "  </tbody>\n",
       "</table>\n",
       "</div>"
      ],
      "text/plain": [
       "                     dx_x            dx_y\n",
       "MRN                                      \n",
       "12345    severe back pain  right hip pain\n",
       "23456  moderate back pain             NaN\n",
       "34567      mild back pain        fracture\n",
       "45678                 NaN     dislocation"
      ]
     },
     "execution_count": 10,
     "metadata": {},
     "output_type": "execute_result"
    }
   ],
   "source": [
    "pd.merge (back_df, hip_df, how='outer', left_index=True, right_index=True)\n"
   ]
  },
  {
   "cell_type": "markdown",
   "metadata": {},
   "source": [
    "## merging the datasets -- Intersection (inner join)"
   ]
  },
  {
   "cell_type": "code",
   "execution_count": 13,
   "metadata": {},
   "outputs": [
    {
     "data": {
      "text/html": [
       "<div>\n",
       "<style scoped>\n",
       "    .dataframe tbody tr th:only-of-type {\n",
       "        vertical-align: middle;\n",
       "    }\n",
       "\n",
       "    .dataframe tbody tr th {\n",
       "        vertical-align: top;\n",
       "    }\n",
       "\n",
       "    .dataframe thead th {\n",
       "        text-align: right;\n",
       "    }\n",
       "</style>\n",
       "<table border=\"1\" class=\"dataframe\">\n",
       "  <thead>\n",
       "    <tr style=\"text-align: right;\">\n",
       "      <th></th>\n",
       "      <th>dx_x</th>\n",
       "      <th>dx_y</th>\n",
       "    </tr>\n",
       "    <tr>\n",
       "      <th>MRN</th>\n",
       "      <th></th>\n",
       "      <th></th>\n",
       "    </tr>\n",
       "  </thead>\n",
       "  <tbody>\n",
       "    <tr>\n",
       "      <th>12345</th>\n",
       "      <td>severe back pain</td>\n",
       "      <td>right hip pain</td>\n",
       "    </tr>\n",
       "    <tr>\n",
       "      <th>34567</th>\n",
       "      <td>mild back pain</td>\n",
       "      <td>fracture</td>\n",
       "    </tr>\n",
       "  </tbody>\n",
       "</table>\n",
       "</div>"
      ],
      "text/plain": [
       "                   dx_x            dx_y\n",
       "MRN                                    \n",
       "12345  severe back pain  right hip pain\n",
       "34567    mild back pain        fracture"
      ]
     },
     "execution_count": 13,
     "metadata": {},
     "output_type": "execute_result"
    }
   ],
   "source": [
    "pd.merge (back_df, hip_df, how='inner', left_index=True, right_index=True)"
   ]
  },
  {
   "cell_type": "markdown",
   "metadata": {},
   "source": [
    "## merging the datasets -- Set Addition(left join and right joins)\n"
   ]
  },
  {
   "cell_type": "code",
   "execution_count": 21,
   "metadata": {},
   "outputs": [
    {
     "data": {
      "text/html": [
       "<div>\n",
       "<style scoped>\n",
       "    .dataframe tbody tr th:only-of-type {\n",
       "        vertical-align: middle;\n",
       "    }\n",
       "\n",
       "    .dataframe tbody tr th {\n",
       "        vertical-align: top;\n",
       "    }\n",
       "\n",
       "    .dataframe thead th {\n",
       "        text-align: right;\n",
       "    }\n",
       "</style>\n",
       "<table border=\"1\" class=\"dataframe\">\n",
       "  <thead>\n",
       "    <tr style=\"text-align: right;\">\n",
       "      <th></th>\n",
       "      <th>dx_x</th>\n",
       "      <th>dx_y</th>\n",
       "    </tr>\n",
       "    <tr>\n",
       "      <th>MRN</th>\n",
       "      <th></th>\n",
       "      <th></th>\n",
       "    </tr>\n",
       "  </thead>\n",
       "  <tbody>\n",
       "    <tr>\n",
       "      <th>12345</th>\n",
       "      <td>severe back pain</td>\n",
       "      <td>right hip pain</td>\n",
       "    </tr>\n",
       "    <tr>\n",
       "      <th>23456</th>\n",
       "      <td>moderate back pain</td>\n",
       "      <td>NaN</td>\n",
       "    </tr>\n",
       "    <tr>\n",
       "      <th>34567</th>\n",
       "      <td>mild back pain</td>\n",
       "      <td>fracture</td>\n",
       "    </tr>\n",
       "  </tbody>\n",
       "</table>\n",
       "</div>"
      ],
      "text/plain": [
       "                     dx_x            dx_y\n",
       "MRN                                      \n",
       "12345    severe back pain  right hip pain\n",
       "23456  moderate back pain             NaN\n",
       "34567      mild back pain        fracture"
      ]
     },
     "execution_count": 21,
     "metadata": {},
     "output_type": "execute_result"
    }
   ],
   "source": [
    "pd.merge(back_df, hip_df, how = 'left', left_index=True, right_index=True)"
   ]
  },
  {
   "cell_type": "code",
   "execution_count": 19,
   "metadata": {},
   "outputs": [
    {
     "data": {
      "text/html": [
       "<div>\n",
       "<style scoped>\n",
       "    .dataframe tbody tr th:only-of-type {\n",
       "        vertical-align: middle;\n",
       "    }\n",
       "\n",
       "    .dataframe tbody tr th {\n",
       "        vertical-align: top;\n",
       "    }\n",
       "\n",
       "    .dataframe thead th {\n",
       "        text-align: right;\n",
       "    }\n",
       "</style>\n",
       "<table border=\"1\" class=\"dataframe\">\n",
       "  <thead>\n",
       "    <tr style=\"text-align: right;\">\n",
       "      <th></th>\n",
       "      <th>dx_x</th>\n",
       "      <th>dx_y</th>\n",
       "    </tr>\n",
       "    <tr>\n",
       "      <th>MRN</th>\n",
       "      <th></th>\n",
       "      <th></th>\n",
       "    </tr>\n",
       "  </thead>\n",
       "  <tbody>\n",
       "    <tr>\n",
       "      <th>12345</th>\n",
       "      <td>severe back pain</td>\n",
       "      <td>right hip pain</td>\n",
       "    </tr>\n",
       "    <tr>\n",
       "      <th>45678</th>\n",
       "      <td>NaN</td>\n",
       "      <td>dislocation</td>\n",
       "    </tr>\n",
       "    <tr>\n",
       "      <th>34567</th>\n",
       "      <td>mild back pain</td>\n",
       "      <td>fracture</td>\n",
       "    </tr>\n",
       "  </tbody>\n",
       "</table>\n",
       "</div>"
      ],
      "text/plain": [
       "                   dx_x            dx_y\n",
       "MRN                                    \n",
       "12345  severe back pain  right hip pain\n",
       "45678               NaN     dislocation\n",
       "34567    mild back pain        fracture"
      ]
     },
     "execution_count": 19,
     "metadata": {},
     "output_type": "execute_result"
    }
   ],
   "source": [
    "pd.merge(back_df, hip_df, how = 'right', left_index=True, right_index=True)"
   ]
  },
  {
   "cell_type": "markdown",
   "metadata": {},
   "source": [
    "## Declaring a join without indices, 'on'"
   ]
  },
  {
   "cell_type": "code",
   "execution_count": 24,
   "metadata": {},
   "outputs": [
    {
     "data": {
      "text/html": [
       "<div>\n",
       "<style scoped>\n",
       "    .dataframe tbody tr th:only-of-type {\n",
       "        vertical-align: middle;\n",
       "    }\n",
       "\n",
       "    .dataframe tbody tr th {\n",
       "        vertical-align: top;\n",
       "    }\n",
       "\n",
       "    .dataframe thead th {\n",
       "        text-align: right;\n",
       "    }\n",
       "</style>\n",
       "<table border=\"1\" class=\"dataframe\">\n",
       "  <thead>\n",
       "    <tr style=\"text-align: right;\">\n",
       "      <th></th>\n",
       "      <th>level_0</th>\n",
       "      <th>index_x</th>\n",
       "      <th>MRN</th>\n",
       "      <th>dx_x</th>\n",
       "      <th>index_y</th>\n",
       "      <th>dx_y</th>\n",
       "    </tr>\n",
       "  </thead>\n",
       "  <tbody>\n",
       "    <tr>\n",
       "      <th>0</th>\n",
       "      <td>0.0</td>\n",
       "      <td>0.0</td>\n",
       "      <td>12345</td>\n",
       "      <td>severe back pain</td>\n",
       "      <td>0</td>\n",
       "      <td>right hip pain</td>\n",
       "    </tr>\n",
       "    <tr>\n",
       "      <th>1</th>\n",
       "      <td>NaN</td>\n",
       "      <td>NaN</td>\n",
       "      <td>45678</td>\n",
       "      <td>NaN</td>\n",
       "      <td>1</td>\n",
       "      <td>dislocation</td>\n",
       "    </tr>\n",
       "    <tr>\n",
       "      <th>2</th>\n",
       "      <td>2.0</td>\n",
       "      <td>2.0</td>\n",
       "      <td>34567</td>\n",
       "      <td>mild back pain</td>\n",
       "      <td>2</td>\n",
       "      <td>fracture</td>\n",
       "    </tr>\n",
       "  </tbody>\n",
       "</table>\n",
       "</div>"
      ],
      "text/plain": [
       "   level_0  index_x    MRN              dx_x  index_y            dx_y\n",
       "0      0.0      0.0  12345  severe back pain        0  right hip pain\n",
       "1      NaN      NaN  45678               NaN        1     dislocation\n",
       "2      2.0      2.0  34567    mild back pain        2        fracture"
      ]
     },
     "execution_count": 24,
     "metadata": {},
     "output_type": "execute_result"
    }
   ],
   "source": [
    "# to demonstrate this I'll first unset the indexes added earlier\n",
    "back_df = back_df.reset_index()\n",
    "hip_df = hip_df.reset_index()\n",
    "\n",
    "# then specify the column to join on\n",
    "pd.merge(back_df, hip_df, how='right', on='MRN')"
   ]
  },
  {
   "cell_type": "markdown",
   "metadata": {},
   "source": [
    "## merge conflicts\n",
    "In the examples above, many of the dx columns had different values from one dataframe to the other. This is a merge conflict. The way Pandas handles that is to split the dx column into two sub columns\n",
    "\n",
    "dx_x is data from the dataframe on the left, dx_y is data from the dataframe on the right"
   ]
  },
  {
   "cell_type": "markdown",
   "metadata": {},
   "source": [
    "## multi-column joins\n",
    "sometimes it will take more than one column to create a unique index in a dataframe. This can be accomodated by multi-column joins which use a list of column names in the \"on\" parameter of the merge\n"
   ]
  },
  {
   "cell_type": "code",
   "execution_count": 32,
   "metadata": {},
   "outputs": [
    {
     "data": {
      "text/html": [
       "<div>\n",
       "<style scoped>\n",
       "    .dataframe tbody tr th:only-of-type {\n",
       "        vertical-align: middle;\n",
       "    }\n",
       "\n",
       "    .dataframe tbody tr th {\n",
       "        vertical-align: top;\n",
       "    }\n",
       "\n",
       "    .dataframe thead th {\n",
       "        text-align: right;\n",
       "    }\n",
       "</style>\n",
       "<table border=\"1\" class=\"dataframe\">\n",
       "  <thead>\n",
       "    <tr style=\"text-align: right;\">\n",
       "      <th></th>\n",
       "      <th>MRN</th>\n",
       "      <th>dept</th>\n",
       "      <th>dx_x</th>\n",
       "      <th>dx_y</th>\n",
       "    </tr>\n",
       "  </thead>\n",
       "  <tbody>\n",
       "    <tr>\n",
       "      <th>0</th>\n",
       "      <td>34567</td>\n",
       "      <td>spine</td>\n",
       "      <td>mild back pain</td>\n",
       "      <td>fracture</td>\n",
       "    </tr>\n",
       "  </tbody>\n",
       "</table>\n",
       "</div>"
      ],
      "text/plain": [
       "     MRN   dept            dx_x      dx_y\n",
       "0  34567  spine  mild back pain  fracture"
      ]
     },
     "execution_count": 32,
     "metadata": {},
     "output_type": "execute_result"
    }
   ],
   "source": [
    "# revising our dataset to create unique multi-column values\n",
    "back_df = pd.DataFrame([{'MRN': '12345', 'dept':'spine', 'dx': 'severe back pain'},\n",
    "                        {'MRN': '23456', 'dept':'spine', 'dx': 'moderate back pain'},\n",
    "                        {'MRN': '34567', 'dept':'spine', 'dx': 'mild back pain'}])\n",
    "\n",
    "hip_df = pd.DataFrame([{'MRN': '12345', 'dept':'ortho', 'dx': 'right hip pain'},\n",
    "                       {'MRN': '45678', 'dept':'ortho', 'dx': 'dislocation'},\n",
    "                       {'MRN': '34567', 'dept':'spine', 'dx': 'fracture'}])\n",
    "\n",
    "pd.merge(back_df, hip_df, how=\"inner\", on=['MRN','dept'])\n",
    "# will produce the records where the combination of values occurs in both data sets"
   ]
  },
  {
   "cell_type": "markdown",
   "metadata": {},
   "source": [
    "# Concatenating\n",
    "Merging is joining dataframes horizontally, whereas concatenating is joining dataframes vertically\n",
    "\n",
    "Generally the columns will have the same names, and the rows will be appended to the bottom.\n"
   ]
  },
  {
   "cell_type": "code",
   "execution_count": 39,
   "metadata": {},
   "outputs": [
    {
     "name": "stdout",
     "output_type": "stream",
     "text": [
      "3\n",
      "3\n"
     ]
    },
    {
     "data": {
      "text/html": [
       "<div>\n",
       "<style scoped>\n",
       "    .dataframe tbody tr th:only-of-type {\n",
       "        vertical-align: middle;\n",
       "    }\n",
       "\n",
       "    .dataframe tbody tr th {\n",
       "        vertical-align: top;\n",
       "    }\n",
       "\n",
       "    .dataframe thead th {\n",
       "        text-align: right;\n",
       "    }\n",
       "</style>\n",
       "<table border=\"1\" class=\"dataframe\">\n",
       "  <thead>\n",
       "    <tr style=\"text-align: right;\">\n",
       "      <th></th>\n",
       "      <th>MRN</th>\n",
       "      <th>dept</th>\n",
       "      <th>dx</th>\n",
       "    </tr>\n",
       "  </thead>\n",
       "  <tbody>\n",
       "    <tr>\n",
       "      <th>0</th>\n",
       "      <td>12345</td>\n",
       "      <td>spine</td>\n",
       "      <td>severe back pain</td>\n",
       "    </tr>\n",
       "    <tr>\n",
       "      <th>1</th>\n",
       "      <td>23456</td>\n",
       "      <td>spine</td>\n",
       "      <td>moderate back pain</td>\n",
       "    </tr>\n",
       "    <tr>\n",
       "      <th>2</th>\n",
       "      <td>34567</td>\n",
       "      <td>spine</td>\n",
       "      <td>mild back pain</td>\n",
       "    </tr>\n",
       "    <tr>\n",
       "      <th>0</th>\n",
       "      <td>12345</td>\n",
       "      <td>ortho</td>\n",
       "      <td>right hip pain</td>\n",
       "    </tr>\n",
       "    <tr>\n",
       "      <th>1</th>\n",
       "      <td>45678</td>\n",
       "      <td>ortho</td>\n",
       "      <td>dislocation</td>\n",
       "    </tr>\n",
       "    <tr>\n",
       "      <th>2</th>\n",
       "      <td>34567</td>\n",
       "      <td>spine</td>\n",
       "      <td>fracture</td>\n",
       "    </tr>\n",
       "  </tbody>\n",
       "</table>\n",
       "</div>"
      ],
      "text/plain": [
       "     MRN   dept                  dx\n",
       "0  12345  spine    severe back pain\n",
       "1  23456  spine  moderate back pain\n",
       "2  34567  spine      mild back pain\n",
       "0  12345  ortho      right hip pain\n",
       "1  45678  ortho         dislocation\n",
       "2  34567  spine            fracture"
      ]
     },
     "execution_count": 39,
     "metadata": {},
     "output_type": "execute_result"
    }
   ],
   "source": [
    "print (len(back_df))\n",
    "print (len(hip_df))\n",
    "\n",
    "combined = pd.concat([back_df, hip_df])\n",
    "combined\n"
   ]
  },
  {
   "cell_type": "code",
   "execution_count": 37,
   "metadata": {},
   "outputs": [
    {
     "name": "stdout",
     "output_type": "stream",
     "text": [
      "6\n"
     ]
    }
   ],
   "source": [
    "print (len(combined))\n"
   ]
  },
  {
   "cell_type": "code",
   "execution_count": 40,
   "metadata": {},
   "outputs": [
    {
     "data": {
      "text/html": [
       "<div>\n",
       "<style scoped>\n",
       "    .dataframe tbody tr th:only-of-type {\n",
       "        vertical-align: middle;\n",
       "    }\n",
       "\n",
       "    .dataframe tbody tr th {\n",
       "        vertical-align: top;\n",
       "    }\n",
       "\n",
       "    .dataframe thead th {\n",
       "        text-align: right;\n",
       "    }\n",
       "</style>\n",
       "<table border=\"1\" class=\"dataframe\">\n",
       "  <thead>\n",
       "    <tr style=\"text-align: right;\">\n",
       "      <th></th>\n",
       "      <th></th>\n",
       "      <th>MRN</th>\n",
       "      <th>dept</th>\n",
       "      <th>dx</th>\n",
       "    </tr>\n",
       "  </thead>\n",
       "  <tbody>\n",
       "    <tr>\n",
       "      <th rowspan=\"3\" valign=\"top\">cdw</th>\n",
       "      <th>0</th>\n",
       "      <td>12345</td>\n",
       "      <td>spine</td>\n",
       "      <td>severe back pain</td>\n",
       "    </tr>\n",
       "    <tr>\n",
       "      <th>1</th>\n",
       "      <td>23456</td>\n",
       "      <td>spine</td>\n",
       "      <td>moderate back pain</td>\n",
       "    </tr>\n",
       "    <tr>\n",
       "      <th>2</th>\n",
       "      <td>34567</td>\n",
       "      <td>spine</td>\n",
       "      <td>mild back pain</td>\n",
       "    </tr>\n",
       "    <tr>\n",
       "      <th rowspan=\"3\" valign=\"top\">pop</th>\n",
       "      <th>0</th>\n",
       "      <td>12345</td>\n",
       "      <td>ortho</td>\n",
       "      <td>right hip pain</td>\n",
       "    </tr>\n",
       "    <tr>\n",
       "      <th>1</th>\n",
       "      <td>45678</td>\n",
       "      <td>ortho</td>\n",
       "      <td>dislocation</td>\n",
       "    </tr>\n",
       "    <tr>\n",
       "      <th>2</th>\n",
       "      <td>34567</td>\n",
       "      <td>spine</td>\n",
       "      <td>fracture</td>\n",
       "    </tr>\n",
       "  </tbody>\n",
       "</table>\n",
       "</div>"
      ],
      "text/plain": [
       "         MRN   dept                  dx\n",
       "cdw 0  12345  spine    severe back pain\n",
       "    1  23456  spine  moderate back pain\n",
       "    2  34567  spine      mild back pain\n",
       "pop 0  12345  ortho      right hip pain\n",
       "    1  45678  ortho         dislocation\n",
       "    2  34567  spine            fracture"
      ]
     },
     "execution_count": 40,
     "metadata": {},
     "output_type": "execute_result"
    }
   ],
   "source": [
    "# if you need to retain the origin of the dataset you can do this by passing in a keys parameter\n",
    "# this parameter is a list with the same number of entries as the list of dataframes to concatenate\n",
    "combined = pd.concat([back_df, hip_df], keys=['cdw','pop'])\n"
   ]
  },
  {
   "cell_type": "code",
   "execution_count": 56,
   "metadata": {},
   "outputs": [
    {
     "data": {
      "text/html": [
       "<div>\n",
       "<style scoped>\n",
       "    .dataframe tbody tr th:only-of-type {\n",
       "        vertical-align: middle;\n",
       "    }\n",
       "\n",
       "    .dataframe tbody tr th {\n",
       "        vertical-align: top;\n",
       "    }\n",
       "\n",
       "    .dataframe thead th {\n",
       "        text-align: right;\n",
       "    }\n",
       "</style>\n",
       "<table border=\"1\" class=\"dataframe\">\n",
       "  <thead>\n",
       "    <tr style=\"text-align: right;\">\n",
       "      <th></th>\n",
       "      <th></th>\n",
       "      <th>MRN</th>\n",
       "      <th>dx</th>\n",
       "    </tr>\n",
       "  </thead>\n",
       "  <tbody>\n",
       "    <tr>\n",
       "      <th rowspan=\"3\" valign=\"top\">back</th>\n",
       "      <th>0</th>\n",
       "      <td>12345</td>\n",
       "      <td>severe back pain</td>\n",
       "    </tr>\n",
       "    <tr>\n",
       "      <th>1</th>\n",
       "      <td>23456</td>\n",
       "      <td>moderate back pain</td>\n",
       "    </tr>\n",
       "    <tr>\n",
       "      <th>2</th>\n",
       "      <td>34567</td>\n",
       "      <td>mild back pain</td>\n",
       "    </tr>\n",
       "    <tr>\n",
       "      <th rowspan=\"3\" valign=\"top\">hip</th>\n",
       "      <th>0</th>\n",
       "      <td>12345</td>\n",
       "      <td>right hip pain</td>\n",
       "    </tr>\n",
       "    <tr>\n",
       "      <th>1</th>\n",
       "      <td>45678</td>\n",
       "      <td>dislocation</td>\n",
       "    </tr>\n",
       "    <tr>\n",
       "      <th>2</th>\n",
       "      <td>34567</td>\n",
       "      <td>fracture</td>\n",
       "    </tr>\n",
       "  </tbody>\n",
       "</table>\n",
       "</div>"
      ],
      "text/plain": [
       "          MRN                  dx\n",
       "back 0  12345    severe back pain\n",
       "     1  23456  moderate back pain\n",
       "     2  34567      mild back pain\n",
       "hip  0  12345      right hip pain\n",
       "     1  45678         dislocation\n",
       "     2  34567            fracture"
      ]
     },
     "execution_count": 56,
     "metadata": {},
     "output_type": "execute_result"
    }
   ],
   "source": [
    "# if the columns are not identical between the data set, you can add the join parameter\n",
    "# with values of inner or outer\n",
    "# Inner, analagous to left join will only include columns that occur in both data frames. \n",
    "# Outer will include all columns in all dataframes with the values not in the other dataframe being conferted to NaN\n",
    "back_df = pd.DataFrame([{'MRN': '12345', 'dr':'Dr A', 'dx': 'severe back pain'},\n",
    "                        {'MRN': '23456', 'dr':'Dr B', 'dx': 'moderate back pain'},\n",
    "                        {'MRN': '34567', 'dr':'Dr C', 'dx': 'mild back pain'}])\n",
    "\n",
    "hip_df = pd.DataFrame([{'MRN': '12345', 'dept':'ortho', 'dx': 'right hip pain'},\n",
    "                       {'MRN': '45678', 'dept':'ortho', 'dx': 'dislocation'},\n",
    "                       {'MRN': '34567', 'dept':'spine', 'dx': 'fracture'}])\n",
    "\n",
    "combined = pd.concat([back_df, hip_df],keys=['back','hip'], join='inner')\n",
    "combined"
   ]
  },
  {
   "cell_type": "code",
   "execution_count": 57,
   "metadata": {},
   "outputs": [
    {
     "data": {
      "text/html": [
       "<div>\n",
       "<style scoped>\n",
       "    .dataframe tbody tr th:only-of-type {\n",
       "        vertical-align: middle;\n",
       "    }\n",
       "\n",
       "    .dataframe tbody tr th {\n",
       "        vertical-align: top;\n",
       "    }\n",
       "\n",
       "    .dataframe thead th {\n",
       "        text-align: right;\n",
       "    }\n",
       "</style>\n",
       "<table border=\"1\" class=\"dataframe\">\n",
       "  <thead>\n",
       "    <tr style=\"text-align: right;\">\n",
       "      <th></th>\n",
       "      <th></th>\n",
       "      <th>MRN</th>\n",
       "      <th>dr</th>\n",
       "      <th>dx</th>\n",
       "      <th>dept</th>\n",
       "    </tr>\n",
       "  </thead>\n",
       "  <tbody>\n",
       "    <tr>\n",
       "      <th rowspan=\"3\" valign=\"top\">back</th>\n",
       "      <th>0</th>\n",
       "      <td>12345</td>\n",
       "      <td>Dr A</td>\n",
       "      <td>severe back pain</td>\n",
       "      <td>NaN</td>\n",
       "    </tr>\n",
       "    <tr>\n",
       "      <th>1</th>\n",
       "      <td>23456</td>\n",
       "      <td>Dr B</td>\n",
       "      <td>moderate back pain</td>\n",
       "      <td>NaN</td>\n",
       "    </tr>\n",
       "    <tr>\n",
       "      <th>2</th>\n",
       "      <td>34567</td>\n",
       "      <td>Dr C</td>\n",
       "      <td>mild back pain</td>\n",
       "      <td>NaN</td>\n",
       "    </tr>\n",
       "    <tr>\n",
       "      <th rowspan=\"3\" valign=\"top\">hip</th>\n",
       "      <th>0</th>\n",
       "      <td>12345</td>\n",
       "      <td>NaN</td>\n",
       "      <td>right hip pain</td>\n",
       "      <td>ortho</td>\n",
       "    </tr>\n",
       "    <tr>\n",
       "      <th>1</th>\n",
       "      <td>45678</td>\n",
       "      <td>NaN</td>\n",
       "      <td>dislocation</td>\n",
       "      <td>ortho</td>\n",
       "    </tr>\n",
       "    <tr>\n",
       "      <th>2</th>\n",
       "      <td>34567</td>\n",
       "      <td>NaN</td>\n",
       "      <td>fracture</td>\n",
       "      <td>spine</td>\n",
       "    </tr>\n",
       "  </tbody>\n",
       "</table>\n",
       "</div>"
      ],
      "text/plain": [
       "          MRN    dr                  dx   dept\n",
       "back 0  12345  Dr A    severe back pain    NaN\n",
       "     1  23456  Dr B  moderate back pain    NaN\n",
       "     2  34567  Dr C      mild back pain    NaN\n",
       "hip  0  12345   NaN      right hip pain  ortho\n",
       "     1  45678   NaN         dislocation  ortho\n",
       "     2  34567   NaN            fracture  spine"
      ]
     },
     "execution_count": 57,
     "metadata": {},
     "output_type": "execute_result"
    }
   ],
   "source": [
    "combined = pd.concat([back_df, hip_df],keys=['back','hip'], join='outer')\n",
    "combined"
   ]
  }
 ],
 "metadata": {
  "kernelspec": {
   "display_name": "Python 3",
   "language": "python",
   "name": "python3"
  },
  "language_info": {
   "codemirror_mode": {
    "name": "ipython",
    "version": 3
   },
   "file_extension": ".py",
   "mimetype": "text/x-python",
   "name": "python",
   "nbconvert_exporter": "python",
   "pygments_lexer": "ipython3",
   "version": "3.8.5"
  }
 },
 "nbformat": 4,
 "nbformat_minor": 2
}
