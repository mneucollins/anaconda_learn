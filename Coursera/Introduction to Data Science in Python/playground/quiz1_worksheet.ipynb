{
 "metadata": {
  "language_info": {
   "codemirror_mode": {
    "name": "ipython",
    "version": 3
   },
   "file_extension": ".py",
   "mimetype": "text/x-python",
   "name": "python",
   "nbconvert_exporter": "python",
   "pygments_lexer": "ipython3",
   "version": "3.8.5-final"
  },
  "orig_nbformat": 2,
  "kernelspec": {
   "name": "python3",
   "display_name": "Python 3",
   "language": "python"
  }
 },
 "nbformat": 4,
 "nbformat_minor": 2,
 "cells": [
  {
   "cell_type": "code",
   "execution_count": 1,
   "metadata": {},
   "outputs": [],
   "source": [
    "import re\n",
    "import numpy as np\n",
    "import math"
   ]
  },
  {
   "cell_type": "code",
   "execution_count": 3,
   "metadata": {},
   "outputs": [
    {
     "output_type": "stream",
     "name": "stdout",
     "text": [
      "['bat', 'bot']\nre.findall returns a list of strings\n"
     ]
    }
   ],
   "source": [
    "string = 'bat, lat, mat, bet, let, met, bit, lit, mit, bot, lot, mot'\n",
    "result = re.findall('b[ao]t', string)\n",
    "print(result)\n",
    "print (\"re.findall returns a list of strings\")"
   ]
  },
  {
   "cell_type": "code",
   "execution_count": 28,
   "metadata": {},
   "outputs": [
    {
     "output_type": "stream",
     "name": "stdout",
     "text": [
      "400.0\n20.0\n20.0\n20.0\n"
     ]
    }
   ],
   "source": [
    "def l2_dist(a, b):\n",
    "    result = ((a - b) * (a - b)).sum()\n",
    "    result = result ** 0.5\n",
    "    return result\n",
    "a= np.ones([20,20])\n",
    "b= np.zeros([20,20])\n",
    "# a= np.reshape(a,(20*20))\n",
    "# b= np.reshape(b,(20*20,1))\n",
    "# a\n",
    "# b\n",
    "print (l2_dist(np.reshape(a, (20*20)), np.reshape(b,(20*20,1))))\n",
    "print (l2_dist(np.reshape(a, (20*20)), np.reshape(b,(20*20))))\n",
    "print(l2_dist(a,b))\n",
    "print (l2_dist(a.T,b.T))"
   ]
  },
  {
   "cell_type": "code",
   "execution_count": 49,
   "metadata": {},
   "outputs": [
    {
     "output_type": "stream",
     "name": "stdout",
     "text": [
      "[0.66225953 0.09972478 0.13847966 0.49232411]\n(4,)\n(4, 1)\nFalse\n[1. 2. 3. 4.]\n(4,)\nTrue\n(3,)\nFalse\n[[1 2 3 4]]\n2\n1\n[1 2 3]\n"
     ]
    }
   ],
   "source": [
    "a1 = np.random.rand(4)\n",
    "a2 = np.random.rand(4,1)\n",
    "a3 = np.array([[1,2,3,4]])\n",
    "a4 = np.arange(1,4,1)\n",
    "a5 = np.linspace(1,4,4)\n",
    "\n",
    "print (a1)\n",
    "print(a1.shape)\n",
    "print (a2.shape)\n",
    "print(a1.shape == a2.shape)\n",
    "print (a5)\n",
    "print(a5.shape)\n",
    "print (a5.shape == a1.shape)\n",
    "print(a4.shape)\n",
    "print (a3.shape ==a4.shape)\n",
    "print(a3)\n",
    "print (a3.ndim)\n",
    "a4=np.arange(1,4,1)\n",
    "print(a4.ndim)\n",
    "print(a4)\n"
   ]
  },
  {
   "cell_type": "code",
   "execution_count": 53,
   "metadata": {},
   "outputs": [
    {
     "output_type": "stream",
     "name": "stdout",
     "text": [
      "[[0 0 1]\n [1 1 1]]\n[[ 0  0  1]\n [ 1  1 15]]\n"
     ]
    }
   ],
   "source": [
    "old = np.array([[1, 1, 1], [1, 1, 1]])\n",
    "new = old\n",
    "new[0, :2] = 0\n",
    "print(old)\n",
    "new[1,2:]= 15\n",
    "print(old)\n"
   ]
  },
  {
   "cell_type": "code",
   "execution_count": 63,
   "metadata": {},
   "outputs": [
    {
     "output_type": "stream",
     "name": "stdout",
     "text": [
      "[ 0  1  2  3  4  5  6  7  8  9 10 11 12 13 14 15 16 17 18 19 20 21 22 23\n 24 25 26 27 28 29 30 31 32 33 34 35]\n[[ 0  1  2  3  4  5]\n [ 6  7  8  9 10 11]\n [12 13 14 15 16 17]\n [18 19 20 21 22 23]\n [24 25 26 27 28 29]\n [30 31 32 33 34 35]]\n[[14 15]\n [20 21]]\n"
     ]
    }
   ],
   "source": [
    "# [2:4,2:4]\n",
    "ar = np.arange(0,36,1)\n",
    "print (ar)\n",
    "ar.shape = (6,6)\n",
    "print (ar)\n",
    "sub_ar = ar[2:4,2:4]\n",
    "print (sub_ar)\n"
   ]
  },
  {
   "cell_type": "code",
   "execution_count": 72,
   "metadata": {},
   "outputs": [
    {
     "output_type": "stream",
     "name": "stdout",
     "text": [
      "['AC']\n"
     ]
    }
   ],
   "source": [
    "import re\n",
    "s = 'ACBCAC'\n",
    "print(re.findall('^AC',s))\n"
   ]
  },
  {
   "cell_type": "code",
   "execution_count": 78,
   "metadata": {},
   "outputs": [
    {
     "output_type": "stream",
     "name": "stdout",
     "text": [
      "['A', 'AA', 'AA', 'AA', 'A']\n"
     ]
    }
   ],
   "source": [
    "import re\n",
    "\n",
    "s = 'ACAABAACAAAB'\n",
    "result = re.findall('A{1,2}', s)\n",
    "print(result)\n",
    "# L = len(result)"
   ]
  },
  {
   "cell_type": "code",
   "execution_count": 86,
   "metadata": {},
   "outputs": [
    {
     "output_type": "stream",
     "name": "stdout",
     "text": [
      "['(734) 647-6333', '(734) 647-8044', '(734) 763-2285', '(734) 647-3576', '(734) 763-1251', '(734) 764-9376']\n"
     ]
    }
   ],
   "source": [
    "data = 'Office of Research Administration: (734) 647-6333 | 4325 North Quad Office of Budget and Financial Administration: (734) 647-8044 | 309 Maynard, Suite 205 Health Informatics Program: (734) 763-2285 | 333 Maynard, Suite 500 Office of the Dean: (734) 647-3576 | 4322 North Quad UMSI Engagement Center: (734) 763-1251 | 777 North University Faculty Adminstrative Support Staff: (734) 764-9376 | 4322 North Quad'\n",
    "\n",
    "print(re.findall('[(]\\d{3}[)]\\s\\d{3}[-]\\d{4}',data))"
   ]
  },
  {
   "cell_type": "code",
   "execution_count": 89,
   "metadata": {},
   "outputs": [
    {
     "output_type": "stream",
     "name": "stdout",
     "text": [
      "['google.com', 'www.baidu.com']\n"
     ]
    }
   ],
   "source": [
    "data = \"I refer to https://google.com and I never refer http://www.baidu.com if I have to search anything\"\n",
    "print(re.findall('(?<=[https]:\\/\\/)([A-Za-z0-9.]*)',data))"
   ]
  },
  {
   "cell_type": "code",
   "execution_count": 91,
   "metadata": {},
   "outputs": [
    {
     "output_type": "stream",
     "name": "stdout",
     "text": [
      "4\n"
     ]
    }
   ],
   "source": [
    "text=r'''Everyone has the following fundamental freedoms:\n",
    "(a) freedom of conscience and religion;\n",
    "(b) freedom of thought, belief, opinion and expression, including freedom of the press and other media of communication;\n",
    "(c) freedom of peaceful assembly; and\n",
    "(d) freedom of association.\n",
    "'''\n",
    "print(len(re.findall('\\(.\\)', text)))"
   ]
  }
 ]
}