{
 "metadata": {
  "language_info": {
   "codemirror_mode": {
    "name": "ipython",
    "version": 3
   },
   "file_extension": ".py",
   "mimetype": "text/x-python",
   "name": "python",
   "nbconvert_exporter": "python",
   "pygments_lexer": "ipython3",
   "version": "3.8.5-final"
  },
  "orig_nbformat": 2,
  "kernelspec": {
   "name": "python3",
   "display_name": "Python 3",
   "language": "python"
  }
 },
 "nbformat": 4,
 "nbformat_minor": 2,
 "cells": [
  {
   "source": [
    "### Mean, Median, and  Mode are all methods to find the center of data\n",
    "each of these has an appropriate application.\n",
    "Mean becomes less accurate when there are a lot of outliers\n"
   ],
   "cell_type": "markdown",
   "metadata": {}
  },
  {
   "cell_type": "code",
   "execution_count": 40,
   "metadata": {},
   "outputs": [
    {
     "output_type": "execute_result",
     "data": {
      "text/plain": [
       "['3', ' 4', ' 5', ' 7']"
      ]
     },
     "metadata": {},
     "execution_count": 40
    }
   ],
   "source": [
    "import numpy as np\n",
    "import pandas as pd\n",
    "# transplant_wait = np.series\n",
    "raw_data = '3; 4; 5; 7; 7; 7; 7; 8; 8; 9; 9; 10; 10; 10; 10; 10; 11; 12; 12; 13; 14; 14; 15; 15; 17; 17; 18; 19; 19; 19; 21; 21; 22; 22; 23; 24; 24; 24; 24'\n",
    "data = raw_data.split(';')\n",
    "data[0:4]\n"
   ]
  },
  {
   "cell_type": "code",
   "execution_count": 45,
   "metadata": {},
   "outputs": [
    {
     "output_type": "execute_result",
     "data": {
      "text/plain": [
       "[3, 4, 5, 7]"
      ]
     },
     "metadata": {},
     "execution_count": 45
    }
   ],
   "source": [
    "data = [int(item) for item in data ]\n",
    "data[0:4]"
   ]
  },
  {
   "cell_type": "code",
   "execution_count": 46,
   "metadata": {},
   "outputs": [
    {
     "output_type": "execute_result",
     "data": {
      "text/plain": [
       "0    3\n",
       "1    4\n",
       "2    5\n",
       "3    7\n",
       "4    7\n",
       "dtype: int64"
      ]
     },
     "metadata": {},
     "execution_count": 46
    }
   ],
   "source": [
    " \n",
    "s = pd.Series(data)\n",
    "s.head()"
   ]
  },
  {
   "cell_type": "code",
   "execution_count": 52,
   "metadata": {},
   "outputs": [
    {
     "output_type": "stream",
     "name": "stdout",
     "text": [
      "mean: 13.948717948717949\nmedian: 13.0\nmode: 0    10\ndtype: int64\n"
     ]
    }
   ],
   "source": [
    "print('mean: {}'.format(s.mean()))\n",
    "print('median: {}'.format(s.median()))\n",
    "print ('mode: {}'.format(s.mode()))"
   ]
  },
  {
   "cell_type": "code",
   "execution_count": 86,
   "metadata": {},
   "outputs": [
    {
     "output_type": "execute_result",
     "data": {
      "text/plain": [
       "    min   max  num_students\n",
       "0   0.0   3.5             3\n",
       "1   3.5   7.5             7\n",
       "2   7.5  11.5            12\n",
       "3  11.5  15.5             7\n",
       "4  15.5  19.5             9"
      ],
      "text/html": "<div>\n<style scoped>\n    .dataframe tbody tr th:only-of-type {\n        vertical-align: middle;\n    }\n\n    .dataframe tbody tr th {\n        vertical-align: top;\n    }\n\n    .dataframe thead th {\n        text-align: right;\n    }\n</style>\n<table border=\"1\" class=\"dataframe\">\n  <thead>\n    <tr style=\"text-align: right;\">\n      <th></th>\n      <th>min</th>\n      <th>max</th>\n      <th>num_students</th>\n    </tr>\n  </thead>\n  <tbody>\n    <tr>\n      <th>0</th>\n      <td>0.0</td>\n      <td>3.5</td>\n      <td>3</td>\n    </tr>\n    <tr>\n      <th>1</th>\n      <td>3.5</td>\n      <td>7.5</td>\n      <td>7</td>\n    </tr>\n    <tr>\n      <th>2</th>\n      <td>7.5</td>\n      <td>11.5</td>\n      <td>12</td>\n    </tr>\n    <tr>\n      <th>3</th>\n      <td>11.5</td>\n      <td>15.5</td>\n      <td>7</td>\n    </tr>\n    <tr>\n      <th>4</th>\n      <td>15.5</td>\n      <td>19.5</td>\n      <td>9</td>\n    </tr>\n  </tbody>\n</table>\n</div>"
     },
     "metadata": {},
     "execution_count": 86
    }
   ],
   "source": [
    "# Grouped Frequency Mean\n",
    "\n",
    "# first consider the shape of the data frame you want, then consider how to best\n",
    "# get it there.\n",
    "# you'll want the lower limit and upper limit so you can calculate the median\n",
    "# frequency mean = (sum (interval_midpoints*number_of_interval_obs))/(sum_of_all_obs)\n",
    "\n",
    "# here's the data\n",
    "interval_labels = (['0-3.5 hrs','3.5-7.5 hrs','7.5-11.5 hrs','11.5-15.5 hrs', '15.5-19.5 hrs'])            \n",
    "intervals = ([0, 3.5], [3.5,7.5], [7.5, 11.5], [11.5, 15.5], [15.5, 19.5])\n",
    "num_students = [ 3, 7, 12, 7, 9 ]\n",
    "df = pd.DataFrame( intervals)\n",
    "df['num_students'] = num_students\n",
    "df.columns = ['min','max', 'num_students']\n",
    "df"
   ]
  }
 ]
}