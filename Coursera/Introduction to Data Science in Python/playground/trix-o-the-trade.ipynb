{
 "metadata": {
  "language_info": {
   "codemirror_mode": {
    "name": "ipython",
    "version": 3
   },
   "file_extension": ".py",
   "mimetype": "text/x-python",
   "name": "python",
   "nbconvert_exporter": "python",
   "pygments_lexer": "ipython3",
   "version": 3
  },
  "orig_nbformat": 2
 },
 "nbformat": 4,
 "nbformat_minor": 2,
 "cells": [
  {
   "source": [
    "## List comprehension to fix formatting problems with column names\n"
   ],
   "cell_type": "markdown",
   "metadata": {}
  },
  {
   "cell_type": "code",
   "execution_count": null,
   "metadata": {},
   "outputs": [],
   "source": [
    "# badly formatted columns names are an extremely common problem in data sets\n",
    "# here's a robust way to handle this using a list and list comprehension\n",
    "\n",
    "# first make a list of your column names\n",
    "cols = list(df.columns)\n",
    "\n",
    "# run a comprenehnsion on the list to clean up the formatting\n",
    "cols  = [x.lower().strip() for x in cols]\n",
    "\n",
    "#replace the column names in the dataframe\n",
    "df.columns = cols\n",
    "\n",
    "df"
   ]
  },
  {
   "source": [
    "## Replacing specific column names"
   ],
   "cell_type": "markdown",
   "metadata": {}
  },
  {
   "cell_type": "code",
   "execution_count": null,
   "metadata": {},
   "outputs": [],
   "source": [
    "# the columns can be renamed with a dictionary of old column name : new column name passed in to the rename function\n",
    "new_df = df.rename (columns = { 'SOP':'Statement of Purpose',\n",
    "                                'LOR':'Letter of Recommendation'})"
   ]
  },
  {
   "source": [
    "## showing just a few columns from a large dataframe"
   ],
   "cell_type": "markdown",
   "metadata": {}
  },
  {
   "cell_type": "code",
   "execution_count": null,
   "metadata": {},
   "outputs": [],
   "source": [
    "# To, for example, show the first 3 rows and the first 6 columns of a dataframe you could use this command. \n",
    "df.iloc[:3, :6]\n",
    "# Obviously you could substitute any range for [row(s), column(s)]\n",
    "\n",
    "#the following would show 4 random columns from the dataset\n",
    "df.sample(n=4, axis=1)\n",
    "# and this would show 4 random rows\n",
    "df.sample(n=4, axis=0)"
   ]
  }
 ]
}