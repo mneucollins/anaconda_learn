{
 "cells": [
  {
   "cell_type": "markdown",
   "metadata": {},
   "source": [
    "## General form of list comprehension\n",
    "f(x) for x in list\n",
    "\n",
    "since dataframe columns are series, a list comprehension can be applied to them\n",
    "\n",
    "f(x) for x in df['y']\n",
    "\n",
    "if you rou need to pass multiple columns as parameters to the function, this can be done using zip\n",
    "\n",
    "f(a,b) for x(a,b) in zip(df['a'],df['b'])\n",
    "\n",
    "generating a new column in a dataframe using list comprehension would look something like this:\n",
    "\n",
    "df['new_column'] = f(a,b) for row(a,b) in zip(df['a'],df['b'])\n",
    "\n"
   ]
  },
  {
   "cell_type": "markdown",
   "metadata": {},
   "source": [
    "## List comprehension to fix formatting problems with column names\n"
   ]
  },
  {
   "cell_type": "code",
   "execution_count": null,
   "metadata": {},
   "outputs": [],
   "source": [
    "# badly formatted columns names are an extremely common problem in data sets\n",
    "# here's a robust way to handle this using a list and list comprehension\n",
    "\n",
    "# first make a list of your column names\n",
    "cols = list(df.columns)\n",
    "\n",
    "# run a comprenehnsion on the list to clean up the formatting\n",
    "cols  = [x.lower().strip() for x in cols]\n",
    "\n",
    "#replace the column names in the dataframe\n",
    "df.columns = cols\n",
    "\n",
    "df"
   ]
  },
  {
   "cell_type": "markdown",
   "metadata": {},
   "source": [
    "## Replacing specific column names"
   ]
  },
  {
   "cell_type": "code",
   "execution_count": null,
   "metadata": {},
   "outputs": [],
   "source": [
    "# the columns can be renamed with a dictionary of old column name : new column name passed in to the rename function\n",
    "new_df = df.rename (columns = { 'SOP':'Statement of Purpose',\n",
    "                                'LOR':'Letter of Recommendation'})"
   ]
  },
  {
   "cell_type": "markdown",
   "metadata": {},
   "source": [
    "## showing just a few columns from a large dataframe"
   ]
  },
  {
   "cell_type": "code",
   "execution_count": null,
   "metadata": {},
   "outputs": [],
   "source": [
    "# To, for example, show the first 3 rows and the first 6 columns of a dataframe you could use this command. \n",
    "df.iloc[:3, :6]\n",
    "# Obviously you could substitute any range for [row(s), column(s)]\n",
    "\n",
    "#the following would show 4 random columns from the dataset\n",
    "df.sample(n=4, axis=1)\n",
    "# and this would show 4 random rows\n",
    "df.sample(n=4, axis=0)"
   ]
  },
  {
   "cell_type": "markdown",
   "metadata": {},
   "source": [
    "## some sqlalchemy tricks"
   ]
  },
  {
   "cell_type": "code",
   "execution_count": null,
   "metadata": {},
   "outputs": [],
   "source": [
    "# assuming a reflected database, you can get a list of column names like so:\n",
    "Base.metadata.tables['SurveySession'].columns.keys()\n"
   ]
  }
 ],
 "metadata": {
  "kernelspec": {
   "display_name": "Python 3",
   "language": "python",
   "name": "python3"
  },
  "language_info": {
   "codemirror_mode": {
    "name": "ipython",
    "version": 3
   },
   "file_extension": ".py",
   "mimetype": "text/x-python",
   "name": "python",
   "nbconvert_exporter": "python",
   "pygments_lexer": "ipython3",
   "version": "3.8.5"
  }
 },
 "nbformat": 4,
 "nbformat_minor": 2
}
