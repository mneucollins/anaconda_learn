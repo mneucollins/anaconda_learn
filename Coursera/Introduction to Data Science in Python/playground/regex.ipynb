{
 "metadata": {
  "language_info": {
   "codemirror_mode": {
    "name": "ipython",
    "version": 3
   },
   "file_extension": ".py",
   "mimetype": "text/x-python",
   "name": "python",
   "nbconvert_exporter": "python",
   "pygments_lexer": "ipython3",
   "version": "3.8.5-final"
  },
  "orig_nbformat": 2,
  "kernelspec": {
   "name": "python3",
   "display_name": "Python 3",
   "language": "python"
  }
 },
 "nbformat": 4,
 "nbformat_minor": 2,
 "cells": [
  {
   "cell_type": "code",
   "execution_count": 2,
   "metadata": {},
   "outputs": [],
   "source": [
    "import re"
   ]
  },
  {
   "source": [
    "## search\n",
    "find a match in a given string"
   ],
   "cell_type": "markdown",
   "metadata": {}
  },
  {
   "cell_type": "code",
   "execution_count": 9,
   "metadata": {},
   "outputs": [
    {
     "output_type": "stream",
     "name": "stdout",
     "text": [
      "searching for pattern returns a match object if found <re.Match object; span=(48, 51), match='aid'>\naid\nif not found, returns  None\n"
     ]
    }
   ],
   "source": [
    "to_search = \"now is the time for all good men to come to the aid of their country\"\n",
    "pattern = \"aid\"\n",
    "print ('searching for pattern returns a match object if found {}'.format(re.search(pattern, to_search )))\n",
    "print( 'the resulting slice to_search[48:51])\n",
    "pattern = \"xxx\"\n",
    "print ('if not found, returns  {}'.format(re.search(pattern, to_search )))\n"
   ]
  },
  {
   "source": [
    "## findall and split\n"
   ],
   "cell_type": "markdown",
   "metadata": {}
  },
  {
   "cell_type": "code",
   "execution_count": 14,
   "metadata": {},
   "outputs": [
    {
     "output_type": "stream",
     "name": "stdout",
     "text": [
      "finding all instances of the with findall produces:\n['life', 'life', 'life', 'life']\n\nusing split returns substrings at each instance of the found pattern:\n['', ' is good, ', ' is fair, ', ' is ', '']\n"
     ]
    }
   ],
   "source": [
    "# findall and split return substrings\n",
    "to_search = \"life is good, life is fair, life is life\"\n",
    "pattern = \"life\"\n",
    "\n",
    "print (\"finding all instances of the with findall produces:\\n{}\".format(re.findall(pattern, to_search)))\n",
    "\n",
    "print (\"\\nusing split returns substrings at each instance of the found pattern:\\n{}\".format(re.split(pattern, to_search)))\n"
   ]
  },
  {
   "source": [
    "## basic patterns\n"
   ],
   "cell_type": "markdown",
   "metadata": {}
  },
  {
   "cell_type": "code",
   "execution_count": null,
   "metadata": {},
   "outputs": [],
   "source": [
    "# ^ means starts with and $ means ends with\n",
    "\n"
   ]
  },
  {
   "cell_type": "code",
   "execution_count": 1,
   "metadata": {},
   "outputs": [
    {
     "output_type": "stream",
     "name": "stdout",
     "text": [
      "['bat', 'bot']\n"
     ]
    }
   ],
   "source": [
    "import re\n",
    "string = 'bat, lat, mat, bet, let, met, bit, lit, mit, bot, lot, mot'\n",
    "result = re.findall('b[ao]t', string)\n",
    "print(result)"
   ]
  },
  {
   "cell_type": "code",
   "execution_count": null,
   "metadata": {},
   "outputs": [],
   "source": [
    "\n",
    "def l2_dist(a, b):\n",
    "    result = ((a - b) * (a - b)).sum()\n",
    "    result = result ** 0.5\n",
    "    return result\n",
    "print(l2_dist())"
   ]
  }
 ]
}