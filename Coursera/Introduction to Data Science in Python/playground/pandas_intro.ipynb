{
 "metadata": {
  "language_info": {
   "codemirror_mode": {
    "name": "ipython",
    "version": 3
   },
   "file_extension": ".py",
   "mimetype": "text/x-python",
   "name": "python",
   "nbconvert_exporter": "python",
   "pygments_lexer": "ipython3",
   "version": "3.8.5-final"
  },
  "orig_nbformat": 2,
  "kernelspec": {
   "name": "python3",
   "display_name": "Python 3",
   "language": "python"
  }
 },
 "nbformat": 4,
 "nbformat_minor": 2,
 "cells": [
  {
   "source": [
    "# pandas\n",
    "good resources:\n",
    "- Books\n",
    "    - Python for Data Analysis, Wes McKinney\n",
    "    - Learning the Pandas library, Matt Harrison\n",
    "- Online resources\n",
    "    - Stack overflow\n",
    "    - planetpython.org\n",
    "- Podcasts\n",
    "    - python bytes podcast\n",
    "    - Data skeptic podcast\n",
    "\n"
   ],
   "cell_type": "markdown",
   "metadata": {}
  },
  {
   "cell_type": "code",
   "execution_count": 2,
   "metadata": {},
   "outputs": [],
   "source": [
    "import pandas as pd"
   ]
  },
  {
   "source": [
    "## series data structure"
   ],
   "cell_type": "markdown",
   "metadata": {}
  },
  {
   "cell_type": "code",
   "execution_count": 6,
   "metadata": {},
   "outputs": [
    {
     "output_type": "stream",
     "name": "stdout",
     "text": [
      "0     focus\n1     pilot\n2    sierra\ndtype: object\n0    2\n1    4\n2    6\ndtype: int64\n0    mouse\n1        2\n2     3.14\ndtype: object\n"
     ]
    }
   ],
   "source": [
    "# series are like a 2 column table, with an index column and a value column\n",
    "# you can make a series out of a list\n",
    "cars = ['focus', 'pilot', 'sierra']\n",
    "car_series = pd.Series(cars)\n",
    "# a series is an object and in the case of text strings, the data stored is of the type object\n",
    "print (car_series)\n",
    "\n",
    "# you can store other data types in series, and pandas will attempt to store them as a homogenous data type\n",
    "evens = [2, 4, 6]\n",
    "evens_series = pd.Series(evens)\n",
    "print (evens_series)\n",
    "\n",
    "# as with numpy arrays, panda series will 'up-cast' types until it can accomodate all members as one data type\n",
    "mixed = ['mouse', 2, 3.14 ]\n",
    "mixed_series = pd.Series(mixed)\n",
    "print (mixed_series) "
   ]
  },
  {
   "source": [
    "## pd handling of None values from python"
   ],
   "cell_type": "markdown",
   "metadata": {}
  },
  {
   "cell_type": "code",
   "execution_count": 7,
   "metadata": {},
   "outputs": [
    {
     "output_type": "stream",
     "name": "stdout",
     "text": [
      "0     first\n1    second\n2      None\ndtype: object\n0    1.0\n1    2.0\n2    NaN\ndtype: float64\n"
     ]
    }
   ],
   "source": [
    "# in a string series, pandas will convert a None value from python into the string 'None'\n",
    "# in a numeric series, pandas will convert None to NaN (Not a Number) which is represented interally as a float\n",
    "\n",
    "text_none = pd.Series(['first', 'second', None])\n",
    "print (text_none)\n",
    "numeric_none = pd.Series ([1, 2, None])\n",
    "print (numeric_none)"
   ]
  },
  {
   "cell_type": "code",
   "execution_count": 10,
   "metadata": {},
   "outputs": [
    {
     "output_type": "stream",
     "name": "stdout",
     "text": [
      "False\nFalse\nTrue\n"
     ]
    }
   ],
   "source": [
    "import numpy as np\n",
    "# in pandas, which is built on top of numpy,\n",
    "# nan and None are not comparable using traditional boolean operators\n",
    "print (np.nan == None)\n",
    "# in fact, two instances of nan are not even compararable\n",
    "print (np.nan == np.nan)\n",
    "\n",
    "# to perform a boolean comparison you need the numpy function isnan\n",
    "print (np.isnan(np.nan))"
   ]
  },
  {
   "source": [
    "## creating series from real data"
   ],
   "cell_type": "markdown",
   "metadata": {}
  },
  {
   "cell_type": "code",
   "execution_count": 23,
   "metadata": {},
   "outputs": [
    {
     "output_type": "stream",
     "name": "stdout",
     "text": [
      "snf      15\nhome     24\nrehab    13\ndtype: int64\n----\nKnee       3\nManual     9\nMako      64\ndtype: int64\n----\n[('Manual', 15), ('Mako', 30)]\n0    (Manual, 15)\n1      (Mako, 30)\ndtype: object\n----\ntom     developer\nasif      manager\ndan           NaN\ndtype: object\n"
     ]
    }
   ],
   "source": [
    "# series with an index of named data elements can be created directly from a python dictionary\n",
    "sample_dict = {'snf': 15, 'home': 24, 'rehab': 13}\n",
    "dict_series = pd.Series(sample_dict)\n",
    "print(dict_series)\n",
    "print (\"----\")\n",
    "\n",
    "# a series and its index can also be created using the series 'index' parameter\n",
    "index_series = pd.Series([3, 9, 64], index=['Knee', 'Manual', 'Mako'] )\n",
    "print (index_series)\n",
    "print (\"----\")\n",
    "\n",
    "# you can store more complex datatypes in a series for example a series of tuples\n",
    "tuple_series = [('Manual', 15), ('Mako', 30)]\n",
    "print (tuple_series)\n",
    "print(pd.Series(tuple_series))\n",
    "print (\"----\")\n",
    "\n",
    "# pandas will ignore missing indexes, and return NaN for indexes that are not defined\n",
    "data_set = {'tom': 'developer', 'asif': 'manager', 'ray': 'tech lead'}\n",
    "roles = pd.Series (data_set, index = ['tom', 'asif', 'dan'])\n",
    "print (roles)"
   ]
  }
 ]
}