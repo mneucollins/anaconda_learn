{
 "metadata": {
  "language_info": {
   "codemirror_mode": {
    "name": "ipython",
    "version": 3
   },
   "file_extension": ".py",
   "mimetype": "text/x-python",
   "name": "python",
   "nbconvert_exporter": "python",
   "pygments_lexer": "ipython3",
   "version": "3.8.5-final"
  },
  "orig_nbformat": 2,
  "kernelspec": {
   "name": "python3",
   "display_name": "Python 3",
   "language": "python"
  }
 },
 "nbformat": 4,
 "nbformat_minor": 2,
 "cells": [
  {
   "source": [
    "# pandas\n",
    "good resources:\n",
    "- Books\n",
    "    - Python for Data Analysis, Wes McKinney\n",
    "    - Learning the Pandas library, Matt Harrison\n",
    "- Online resources\n",
    "    - Stack overflow\n",
    "    - planetpython.org\n",
    "- Podcasts\n",
    "    - python bytes podcast\n",
    "    - Data skeptic podcast\n",
    "\n"
   ],
   "cell_type": "markdown",
   "metadata": {}
  },
  {
   "cell_type": "code",
   "execution_count": 1,
   "metadata": {},
   "outputs": [],
   "source": [
    "import pandas as pd"
   ]
  },
  {
   "source": [
    "## series data structure"
   ],
   "cell_type": "markdown",
   "metadata": {}
  },
  {
   "cell_type": "code",
   "execution_count": 2,
   "metadata": {},
   "outputs": [
    {
     "output_type": "stream",
     "name": "stdout",
     "text": [
      "0     focus\n1     pilot\n2    sierra\ndtype: object\n----\n0    2\n1    4\n2    6\ndtype: int64\n----\n0    mouse\n1        2\n2     3.14\ndtype: object\n"
     ]
    }
   ],
   "source": [
    "# series are like a 2 column table, with an index column and a value column\n",
    "# you can make a series out of a list\n",
    "cars = ['focus', 'pilot', 'sierra']\n",
    "car_series = pd.Series(cars)\n",
    "# a series is an object and in the case of text strings, the data stored is of the type object\n",
    "print (car_series)\n",
    "print (\"----\")\n",
    "\n",
    "# you can store other data types in series, and pandas will attempt to store them as a homogenous data type\n",
    "evens = [2, 4, 6]\n",
    "evens_series = pd.Series(evens)\n",
    "print (evens_series)\n",
    "print (\"----\")\n",
    "\n",
    "# as with numpy arrays, panda series will 'up-cast' types until it can accomodate all members as one data type\n",
    "mixed = ['mouse', 2, 3.14 ]\n",
    "mixed_series = pd.Series(mixed)\n",
    "print (mixed_series) "
   ]
  },
  {
   "source": [
    "## pd handling of None values from python"
   ],
   "cell_type": "markdown",
   "metadata": {}
  },
  {
   "cell_type": "code",
   "execution_count": 3,
   "metadata": {},
   "outputs": [
    {
     "output_type": "stream",
     "name": "stdout",
     "text": [
      "0     first\n1    second\n2      None\ndtype: object\n----\n0    1.0\n1    2.0\n2    NaN\ndtype: float64\n"
     ]
    }
   ],
   "source": [
    "# in a string series, pandas will convert a None value from python into the string 'None'\n",
    "# in a numeric series, pandas will convert None to NaN (Not a Number) which is represented interally as a float\n",
    "\n",
    "text_none = pd.Series(['first', 'second', None])\n",
    "print (text_none)\n",
    "print (\"----\")\n",
    "numeric_none = pd.Series ([1, 2, None])\n",
    "print (numeric_none)"
   ]
  },
  {
   "cell_type": "code",
   "execution_count": 4,
   "metadata": {},
   "outputs": [
    {
     "output_type": "stream",
     "name": "stdout",
     "text": [
      "False\n----\nFalse\n----\nTrue\n"
     ]
    }
   ],
   "source": [
    "import numpy as np\n",
    "# in pandas, which is built on top of numpy,\n",
    "# nan and None are not comparable using traditional boolean operators\n",
    "print (np.nan == None)\n",
    "print (\"----\")\n",
    "# in fact, two instances of nan are not even compararable\n",
    "print (np.nan == np.nan)\n",
    "print (\"----\")\n",
    "# to perform a boolean comparison you need the numpy function isnan\n",
    "print (np.isnan(np.nan))"
   ]
  },
  {
   "source": [
    "## creating series from real data"
   ],
   "cell_type": "markdown",
   "metadata": {}
  },
  {
   "cell_type": "code",
   "execution_count": 5,
   "metadata": {},
   "outputs": [
    {
     "output_type": "stream",
     "name": "stdout",
     "text": [
      "snf      15\nhome     24\nrehab    13\ndtype: int64\n----\nKnee       3\nManual     9\nMako      64\ndtype: int64\n----\n[('Manual', 15), ('Mako', 30)]\n0    (Manual, 15)\n1      (Mako, 30)\ndtype: object\n----\ntom     developer\nasif      manager\ndan           NaN\ndtype: object\n"
     ]
    }
   ],
   "source": [
    "# series with an index of named data elements can be created directly from a python dictionary\n",
    "sample_dict = {'snf': 15, 'home': 24, 'rehab': 13}\n",
    "dict_series = pd.Series(sample_dict)\n",
    "print(dict_series)\n",
    "print (\"----\")\n",
    "\n",
    "# a series and its index can also be created using the series 'index' parameter\n",
    "index_series = pd.Series([3, 9, 64], index=['Knee', 'Manual', 'Mako'] )\n",
    "print (index_series)\n",
    "print (\"----\")\n",
    "\n",
    "# you can store more complex datatypes in a series for example a series of tuples\n",
    "tuple_series = [('Manual', 15), ('Mako', 30)]\n",
    "print (tuple_series)\n",
    "print(pd.Series(tuple_series))\n",
    "print (\"----\")\n",
    "\n",
    "# pandas will ignore missing indexes, and return NaN for indexes that are not defined\n",
    "data_set = {'tom': 'developer', 'asif': 'manager', 'ray': 'tech lead'}\n",
    "roles = pd.Series (data_set, index = ['tom', 'asif', 'dan'])\n",
    "print (roles)"
   ]
  },
  {
   "source": [
    "## Querying a series"
   ],
   "cell_type": "markdown",
   "metadata": {}
  },
  {
   "cell_type": "code",
   "execution_count": 6,
   "metadata": {},
   "outputs": [
    {
     "output_type": "stream",
     "name": "stdout",
     "text": [
      "Frank       Mako\nAmelia    Manual\nJeremy      Mako\ndtype: object\n----\nManual\nMako\nManual\nMako\n"
     ]
    }
   ],
   "source": [
    "# loc and iloc: query a series in the values column using loc, and in the index column using iloc\n",
    "patients = {\n",
    "    \"Frank\": \"Mako\",\n",
    "    \"Amelia\": \"Manual\",\n",
    "    \"Jeremy\": \"Mako\"\n",
    "    }\n",
    "ps = pd.Series(patients)\n",
    "print (ps)\n",
    "print (\"----\")\n",
    "\n",
    "# to select the nth item in the series (starting with 0) use the iloc attribute\n",
    "print (ps.iloc[1])\n",
    "\n",
    "# to select the item by named index, use the loc attribut\n",
    "print (ps.loc['Jeremy'])\n",
    "\n",
    "# if you leave out the loc/iloc parameter pandas will try to figure out which index is being requested\n",
    "# normally this works flawlessly\n",
    "print (ps[1])\n",
    "print (ps['Jeremy'])\n",
    "# but can produce wrong results if the passed in index it an integer that conflicts with the numeric index\n",
    "# if the series has numeric index passed in (patient_id for example) it is safest to explicitely use loc and iloc \n"
   ]
  },
  {
   "source": [
    "## performing operations on a series\n",
    "Typical python iteration will work on series, but are not the most efficient. Pandas and the underlying NumPy library are optimized for vectorized queries which are orders of magnitude faster than a typical iterative loop"
   ],
   "cell_type": "markdown",
   "metadata": {}
  },
  {
   "cell_type": "code",
   "execution_count": 7,
   "metadata": {},
   "outputs": [
    {
     "output_type": "stream",
     "name": "stdout",
     "text": [
      "20.0\n20.0\n"
     ]
    }
   ],
   "source": [
    "# typical python iteration loop\n",
    "# vs numpy vectorized function\n",
    "import numpy as np\n",
    "\n",
    "scores = pd.Series([10,20,15,35])\n",
    "total = 0\n",
    "for score in scores:\n",
    "    total += score\n",
    "avgscore = total/len(scores)\n",
    "print(avgscore)\n",
    "\n",
    "# this can be rewritten using the numpy.sum function as so\n",
    "total = np.sum(scores)\n",
    "avgscore = total/len(scores)\n",
    "print(avgscore)\n"
   ]
  },
  {
   "source": [
    "## measuring speed and performance using %timeit"
   ],
   "cell_type": "markdown",
   "metadata": {}
  },
  {
   "cell_type": "code",
   "execution_count": 8,
   "metadata": {},
   "outputs": [
    {
     "output_type": "stream",
     "name": "stdout",
     "text": [
      "0    598\n1    624\n2     68\n3    803\n4    977\ndtype: int64\n10000\n"
     ]
    }
   ],
   "source": [
    "# we can perform a speed test to determine which technique is faster using a 'magic' function in the Jupyter notebook named timeit\n",
    "# first we set up a suitably large test case\n",
    "# The following creates a series of 100000 random numbers between 0 and 1000\n",
    "numbers = pd.Series(np.random.randint(0,1000,10000))\n",
    "# to verify that the series is what we think it is, we can use head() to look at the first few, and len() to test the length\n",
    "print(numbers.head())\n",
    "print(len(numbers))\n"
   ]
  },
  {
   "cell_type": "code",
   "execution_count": 9,
   "metadata": {},
   "outputs": [],
   "source": [
    "# magic functions can be accessed by starting the line with a percentage sign\n",
    "# cellular functions start with two percentage signs and wrap the code in the current cell\n",
    "# one such function is timeit this has to be the first line of the cell to work and you can specify how many times you want the code to run by setting a parameter value -n. In the next cell we will run the first method of the iterative loop 100 times"
   ]
  },
  {
   "cell_type": "code",
   "execution_count": 10,
   "metadata": {},
   "outputs": [
    {
     "output_type": "stream",
     "name": "stdout",
     "text": [
      "4.18 ms ± 1.27 ms per loop (mean ± std. dev. of 7 runs, 100 loops each)\n"
     ]
    }
   ],
   "source": [
    "%%timeit -n 100\n",
    "total = 0\n",
    "for number in numbers:\n",
    "    total += number\n",
    "avgscore = total/len(numbers)"
   ]
  },
  {
   "cell_type": "code",
   "execution_count": 11,
   "metadata": {},
   "outputs": [],
   "source": [
    "# and next we will perform the same timing test using the vectorized numpy function  "
   ]
  },
  {
   "cell_type": "code",
   "execution_count": 12,
   "metadata": {},
   "outputs": [
    {
     "output_type": "stream",
     "name": "stdout",
     "text": [
      "The slowest run took 5.16 times longer than the fastest. This could mean that an intermediate result is being cached.\n533 µs ± 275 µs per loop (mean ± std. dev. of 7 runs, 100 loops each)\n"
     ]
    }
   ],
   "source": [
    "%%timeit -n 100\n",
    "total = np.sum(numbers)\n",
    "avgscore = total/len(numbers)\n",
    "# this was designed to show that the np.sum function was much faster, but this was not the case when I ran it on Chromebook\n"
   ]
  },
  {
   "source": [
    "## series operations (broadcasting)"
   ],
   "cell_type": "markdown",
   "metadata": {}
  },
  {
   "cell_type": "code",
   "execution_count": 13,
   "metadata": {},
   "outputs": [
    {
     "output_type": "stream",
     "name": "stdout",
     "text": [
      "0    598\n1    624\n2     68\n3    803\n4    977\ndtype: int64\n----\n0    603\n1    629\n2     73\n3    808\n4    982\ndtype: int64\n"
     ]
    }
   ],
   "source": [
    "# operations can be performed on all elements of a series\n",
    "# for exampe in our numbers series from above, we can add 5 to each element\n",
    "# this is called broadcasting\n",
    "print(numbers.head())\n",
    "print (\"----\")\n",
    "numbers += 5\n",
    "print(numbers.head())\n",
    "\n"
   ]
  },
  {
   "source": [
    "You can achieve the same result through iteration, and particularly using the interitems() function on a Pandas series, for example\n",
    "\n",
    "```for label, value in numbers.iteritems(): ...``` \n",
    "\n",
    "but anytime you are interating in Pandas, you should question whether you are doing the right thing. Most frequently there will be a way to do the same thing faster and more efficiently with a broadcast function"
   ],
   "cell_type": "markdown",
   "metadata": {}
  },
  {
   "source": [
    "## pandas indices\n",
    "In a pandas series, index values do not need to be unique. This is quite different from a relational database\n"
   ],
   "cell_type": "markdown",
   "metadata": {}
  }
 ]
}