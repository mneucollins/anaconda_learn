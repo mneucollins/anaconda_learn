{
 "metadata": {
  "language_info": {
   "codemirror_mode": {
    "name": "ipython",
    "version": 3
   },
   "file_extension": ".py",
   "mimetype": "text/x-python",
   "name": "python",
   "nbconvert_exporter": "python",
   "pygments_lexer": "ipython3",
   "version": "3.8.5-final"
  },
  "orig_nbformat": 2,
  "kernelspec": {
   "name": "python3",
   "display_name": "Python 3",
   "language": "python"
  }
 },
 "nbformat": 4,
 "nbformat_minor": 2,
 "cells": [
  {
   "cell_type": "code",
   "execution_count": 8,
   "metadata": {},
   "outputs": [
    {
     "output_type": "stream",
     "name": "stdout",
     "text": [
      "{'Ohio': 35000, 'Texas': 71000, 'Oregon': 16000, 'Utah': 5000}\nCalifornia        NaN\nOhio          35000.0\nOregon        16000.0\nTexas         71000.0\ndtype: float64\nCalifornia     True\nOhio          False\nOregon        False\nTexas         False\ndtype: bool\n"
     ]
    },
    {
     "output_type": "execute_result",
     "data": {
      "text/plain": [
       "True"
      ]
     },
     "metadata": {},
     "execution_count": 8
    }
   ],
   "source": [
    "import pandas as pd\n",
    "\n",
    "sdata = {'Ohio': 35000, 'Texas': 71000, 'Oregon': 16000, 'Utah': 5000}\n",
    "print(sdata)\n",
    "obj1 = pd.Series(sdata)\n",
    "states = ['California', 'Ohio', 'Oregon', 'Texas']\n",
    "obj2 = pd.Series(sdata, index=states)\n",
    "print(obj2)\n",
    "obj3 = pd.isnull(obj2)\n",
    "print(obj3)\n",
    "\n",
    "obj2['California'] == None\n",
    "\n",
    "obj3['California']\n",
    "\n",
    "x=obj2['California']\n",
    "obj2['California'] != x"
   ]
  },
  {
   "cell_type": "code",
   "execution_count": 11,
   "metadata": {},
   "outputs": [
    {
     "output_type": "execute_result",
     "data": {
      "text/plain": [
       "1    Alice\n",
       "2      Bob\n",
       "3     Rita\n",
       "dtype: object"
      ]
     },
     "metadata": {},
     "execution_count": 11
    }
   ],
   "source": [
    "import pandas as pd\n",
    "d = {\n",
    "    '1': 'Alice',\n",
    "    '2': 'Bob',\n",
    "    '3': 'Rita',\n",
    "    '4': 'Molly',\n",
    "    '5': 'Ryan'\n",
    "}\n",
    "S = pd.Series(d)\n",
    "\n",
    "S.iloc[0:3]"
   ]
  },
  {
   "cell_type": "code",
   "execution_count": 29,
   "metadata": {},
   "outputs": [
    {
     "output_type": "execute_result",
     "data": {
      "text/plain": [
       "    mrn metric  score\n",
       "0  1001   pain   10.0\n",
       "1  1002   hoos   85.7\n",
       "2  1003   pain    5.0"
      ],
      "text/html": "<div>\n<style scoped>\n    .dataframe tbody tr th:only-of-type {\n        vertical-align: middle;\n    }\n\n    .dataframe tbody tr th {\n        vertical-align: top;\n    }\n\n    .dataframe thead th {\n        text-align: right;\n    }\n</style>\n<table border=\"1\" class=\"dataframe\">\n  <thead>\n    <tr style=\"text-align: right;\">\n      <th></th>\n      <th>mrn</th>\n      <th>metric</th>\n      <th>score</th>\n    </tr>\n  </thead>\n  <tbody>\n    <tr>\n      <th>0</th>\n      <td>1001</td>\n      <td>pain</td>\n      <td>10.0</td>\n    </tr>\n    <tr>\n      <th>1</th>\n      <td>1002</td>\n      <td>hoos</td>\n      <td>85.7</td>\n    </tr>\n    <tr>\n      <th>2</th>\n      <td>1003</td>\n      <td>pain</td>\n      <td>5.0</td>\n    </tr>\n  </tbody>\n</table>\n</div>"
     },
     "metadata": {},
     "execution_count": 29
    }
   ],
   "source": [
    "record1 = pd.Series({'mrn': '1001', 'metric': 'pain', 'score': 10})\n",
    "record2 = pd.Series({'mrn': '1002', 'metric': 'hoos', 'score': 85.7})\n",
    "record3 = pd.Series({'mrn': '1003', 'metric': 'pain', 'score': 5})\n",
    "df = pd.DataFrame ([record1, record2, record3])\n",
    "df.columns\n",
    "# df.columns = [x.upper().strip() for x in df.columns]\n",
    "df.rename(mapper=lambda x: x.upper(), axis = 1)\n",
    "df"
   ]
  },
  {
   "cell_type": "code",
   "execution_count": 35,
   "metadata": {},
   "outputs": [
    {
     "output_type": "execute_result",
     "data": {
      "text/plain": [
       "    mrn metric  score\n",
       "1  1002   hoos   85.7"
      ],
      "text/html": "<div>\n<style scoped>\n    .dataframe tbody tr th:only-of-type {\n        vertical-align: middle;\n    }\n\n    .dataframe tbody tr th {\n        vertical-align: top;\n    }\n\n    .dataframe thead th {\n        text-align: right;\n    }\n</style>\n<table border=\"1\" class=\"dataframe\">\n  <thead>\n    <tr style=\"text-align: right;\">\n      <th></th>\n      <th>mrn</th>\n      <th>metric</th>\n      <th>score</th>\n    </tr>\n  </thead>\n  <tbody>\n    <tr>\n      <th>1</th>\n      <td>1002</td>\n      <td>hoos</td>\n      <td>85.7</td>\n    </tr>\n  </tbody>\n</table>\n</div>"
     },
     "metadata": {},
     "execution_count": 35
    }
   ],
   "source": [
    "df[df['score']>50]\n",
    "df.where(df['score']>50)\n",
    "df.where(df['score']>50).dropna()\n"
   ]
  },
  {
   "cell_type": "code",
   "execution_count": 39,
   "metadata": {},
   "outputs": [
    {
     "output_type": "execute_result",
     "data": {
      "text/plain": [
       "    mrn metric  score\n",
       "1  1002   hoos   85.7\n",
       "2  1003   pain    5.0"
      ],
      "text/html": "<div>\n<style scoped>\n    .dataframe tbody tr th:only-of-type {\n        vertical-align: middle;\n    }\n\n    .dataframe tbody tr th {\n        vertical-align: top;\n    }\n\n    .dataframe thead th {\n        text-align: right;\n    }\n</style>\n<table border=\"1\" class=\"dataframe\">\n  <thead>\n    <tr style=\"text-align: right;\">\n      <th></th>\n      <th>mrn</th>\n      <th>metric</th>\n      <th>score</th>\n    </tr>\n  </thead>\n  <tbody>\n    <tr>\n      <th>1</th>\n      <td>1002</td>\n      <td>hoos</td>\n      <td>85.7</td>\n    </tr>\n    <tr>\n      <th>2</th>\n      <td>1003</td>\n      <td>pain</td>\n      <td>5.0</td>\n    </tr>\n  </tbody>\n</table>\n</div>"
     },
     "metadata": {},
     "execution_count": 39
    }
   ],
   "source": [
    "df.drop(0)"
   ]
  },
  {
   "cell_type": "code",
   "execution_count": 53,
   "metadata": {},
   "outputs": [
    {
     "output_type": "execute_result",
     "data": {
      "text/plain": [
       "1        Alice\n",
       "2         Jack\n",
       "3        Molly\n",
       "Alice        1\n",
       "Jack         2\n",
       "Molly        3\n",
       "dtype: object"
      ]
     },
     "metadata": {},
     "execution_count": 53
    }
   ],
   "source": [
    "import pandas as pd\n",
    "s1 = pd.Series({1: 'Alice', 2: 'Jack', 3: 'Molly'})\n",
    "s2 = pd.Series({'Alice': 1, 'Jack': 2, 'Molly': 3})\n",
    "\n",
    "label = 2\n",
    "s1.loc[label]\n",
    "s1.iteritems()\n",
    "s1.append(s2)"
   ]
  },
  {
   "cell_type": "code",
   "execution_count": 70,
   "metadata": {},
   "outputs": [
    {
     "output_type": "execute_result",
     "data": {
      "text/plain": [
       "0    False\n",
       "1     True\n",
       "2     True\n",
       "3    False\n",
       "4    False\n",
       "Name: one, dtype: bool"
      ]
     },
     "metadata": {},
     "execution_count": 70
    }
   ],
   "source": [
    "testdf = pd.DataFrame({'one':[1,2,3,4,5],\n",
    "             'two':[6,7,8,9,10]})\n",
    "testdf\n",
    "testdf[testdf['one'].gt(1) & testdf['one'].lt(4)]\n",
    "testdf[testdf['one'].gt(1) & testdf['one'].lt(4)]\n",
    "testdf[(testdf['one']>1) & (testdf['one']<4)] \n",
    "testdf[(testdf['one'].isin(range(2,4)))]\n",
    "\n",
    "#this one returns a boolean mask rather than a dataset\n",
    "(testdf['one']>1) & (testdf['one']<4) \n"
   ]
  },
  {
   "cell_type": "code",
   "execution_count": 85,
   "metadata": {},
   "outputs": [
    {
     "output_type": "stream",
     "name": "stdout",
     "text": [
      "      one  two\nDr_A    1    6\nDr_X    2    7\nDr_B    3    8\nDr_G    4    9\nDr_O    5   10\n"
     ]
    },
    {
     "output_type": "execute_result",
     "data": {
      "text/plain": [
       "one    3\n",
       "two    8\n",
       "Name: Dr_B, dtype: int64"
      ]
     },
     "metadata": {},
     "execution_count": 85
    }
   ],
   "source": [
    "testdf.index=['Dr_A', 'Dr_X', 'Dr_B', 'Dr_G', 'Dr_O']\n",
    "print(testdf)\n",
    "testdf.T['Dr_B']"
   ]
  }
 ]
}