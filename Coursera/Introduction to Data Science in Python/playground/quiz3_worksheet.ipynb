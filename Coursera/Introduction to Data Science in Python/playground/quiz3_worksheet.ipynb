{
 "metadata": {
  "language_info": {
   "codemirror_mode": {
    "name": "ipython",
    "version": 3
   },
   "file_extension": ".py",
   "mimetype": "text/x-python",
   "name": "python",
   "nbconvert_exporter": "python",
   "pygments_lexer": "ipython3",
   "version": "3.8.5-final"
  },
  "orig_nbformat": 2,
  "kernelspec": {
   "name": "python3",
   "display_name": "Python 3",
   "language": "python"
  }
 },
 "nbformat": 4,
 "nbformat_minor": 2,
 "cells": [
  {
   "source": [
    "## Q1"
   ],
   "cell_type": "markdown",
   "metadata": {}
  },
  {
   "cell_type": "code",
   "execution_count": 11,
   "metadata": {},
   "outputs": [
    {
     "output_type": "execute_result",
     "data": {
      "text/plain": [
       "            school\n",
       "name              \n",
       "james     business\n",
       "mike           law\n",
       "sally  engineering"
      ],
      "text/html": "<div>\n<style scoped>\n    .dataframe tbody tr th:only-of-type {\n        vertical-align: middle;\n    }\n\n    .dataframe tbody tr th {\n        vertical-align: top;\n    }\n\n    .dataframe thead th {\n        text-align: right;\n    }\n</style>\n<table border=\"1\" class=\"dataframe\">\n  <thead>\n    <tr style=\"text-align: right;\">\n      <th></th>\n      <th>school</th>\n    </tr>\n    <tr>\n      <th>name</th>\n      <th></th>\n    </tr>\n  </thead>\n  <tbody>\n    <tr>\n      <th>james</th>\n      <td>business</td>\n    </tr>\n    <tr>\n      <th>mike</th>\n      <td>law</td>\n    </tr>\n    <tr>\n      <th>sally</th>\n      <td>engineering</td>\n    </tr>\n  </tbody>\n</table>\n</div>"
     },
     "metadata": {},
     "execution_count": 11
    }
   ],
   "source": [
    "import numpy as np\n",
    "import pandas as pd\n",
    "\n",
    "df1_data = [{'name': 'james', 'school':'business'},\n",
    "            {'name': 'mike', 'school': 'law'},\n",
    "            {'name': 'sally', 'school': 'engineering'}]\n",
    "df1 = pd.DataFrame(df1_data).set_index('name')\n",
    "df1"
   ]
  },
  {
   "cell_type": "code",
   "execution_count": 12,
   "metadata": {},
   "outputs": [
    {
     "output_type": "execute_result",
     "data": {
      "text/plain": [
       "         role\n",
       "name         \n",
       "kelly      HR\n",
       "sally  liason\n",
       "james  grader"
      ],
      "text/html": "<div>\n<style scoped>\n    .dataframe tbody tr th:only-of-type {\n        vertical-align: middle;\n    }\n\n    .dataframe tbody tr th {\n        vertical-align: top;\n    }\n\n    .dataframe thead th {\n        text-align: right;\n    }\n</style>\n<table border=\"1\" class=\"dataframe\">\n  <thead>\n    <tr style=\"text-align: right;\">\n      <th></th>\n      <th>role</th>\n    </tr>\n    <tr>\n      <th>name</th>\n      <th></th>\n    </tr>\n  </thead>\n  <tbody>\n    <tr>\n      <th>kelly</th>\n      <td>HR</td>\n    </tr>\n    <tr>\n      <th>sally</th>\n      <td>liason</td>\n    </tr>\n    <tr>\n      <th>james</th>\n      <td>grader</td>\n    </tr>\n  </tbody>\n</table>\n</div>"
     },
     "metadata": {},
     "execution_count": 12
    }
   ],
   "source": [
    "df2_data = [{'name': 'kelly', 'role':'HR'},\n",
    "            {'name': 'sally', 'role': 'liason'},\n",
    "            {'name': 'james', 'role': 'grader'}]\n",
    "df2 = pd.DataFrame(df2_data).set_index('name')\n",
    "df2\n"
   ]
  },
  {
   "cell_type": "code",
   "execution_count": 22,
   "metadata": {},
   "outputs": [
    {
     "output_type": "execute_result",
     "data": {
      "text/plain": [
       "            school    role\n",
       "name                      \n",
       "james     business  grader\n",
       "mike           law     NaN\n",
       "sally  engineering  liason"
      ],
      "text/html": "<div>\n<style scoped>\n    .dataframe tbody tr th:only-of-type {\n        vertical-align: middle;\n    }\n\n    .dataframe tbody tr th {\n        vertical-align: top;\n    }\n\n    .dataframe thead th {\n        text-align: right;\n    }\n</style>\n<table border=\"1\" class=\"dataframe\">\n  <thead>\n    <tr style=\"text-align: right;\">\n      <th></th>\n      <th>school</th>\n      <th>role</th>\n    </tr>\n    <tr>\n      <th>name</th>\n      <th></th>\n      <th></th>\n    </tr>\n  </thead>\n  <tbody>\n    <tr>\n      <th>james</th>\n      <td>business</td>\n      <td>grader</td>\n    </tr>\n    <tr>\n      <th>mike</th>\n      <td>law</td>\n      <td>NaN</td>\n    </tr>\n    <tr>\n      <th>sally</th>\n      <td>engineering</td>\n      <td>liason</td>\n    </tr>\n  </tbody>\n</table>\n</div>"
     },
     "metadata": {},
     "execution_count": 22
    }
   ],
   "source": [
    "#merge the data sets\n",
    "df3 = pd.merge(df1, df2, how=\"left\", left_index=True, right_index=True )\n",
    "df3"
   ]
  },
  {
   "source": [
    "## Q2"
   ],
   "cell_type": "markdown",
   "metadata": {}
  },
  {
   "cell_type": "code",
   "execution_count": 35,
   "metadata": {},
   "outputs": [
    {
     "output_type": "stream",
     "name": "stdout",
     "text": [
      "      P2010     P2011     P2012     P2013     P2014     P2015\n0  0.029924  0.109261  0.617667  0.200864  0.284721  0.498370\n1  0.840777  0.054489  0.519481  0.005159  0.057418  0.785541\n2  0.421021  0.962813  0.856150  0.922113  0.046401  0.063267\n      P2010     P2011     P2012     P2013     P2014     P2015       AVG\n0  0.029924  0.109261  0.617667  0.200864  0.284721  0.498370  0.290134\n1  0.840777  0.054489  0.519481  0.005159  0.057418  0.785541  0.377144\n2  0.421021  0.962813  0.856150  0.922113  0.046401  0.063267  0.545294\n"
     ]
    },
    {
     "output_type": "execute_result",
     "data": {
      "text/plain": [
       "        AVG\n",
       "0  0.290134\n",
       "1  0.377144\n",
       "2  0.545294"
      ],
      "text/html": "<div>\n<style scoped>\n    .dataframe tbody tr th:only-of-type {\n        vertical-align: middle;\n    }\n\n    .dataframe tbody tr th {\n        vertical-align: top;\n    }\n\n    .dataframe thead th {\n        text-align: right;\n    }\n</style>\n<table border=\"1\" class=\"dataframe\">\n  <thead>\n    <tr style=\"text-align: right;\">\n      <th></th>\n      <th>AVG</th>\n    </tr>\n  </thead>\n  <tbody>\n    <tr>\n      <th>0</th>\n      <td>0.290134</td>\n    </tr>\n    <tr>\n      <th>1</th>\n      <td>0.377144</td>\n    </tr>\n    <tr>\n      <th>2</th>\n      <td>0.545294</td>\n    </tr>\n  </tbody>\n</table>\n</div>"
     },
     "metadata": {},
     "execution_count": 35
    }
   ],
   "source": [
    "data = np.random.rand(3,6)\n",
    "data\n",
    "col = ['P2010', 'P2011', 'P2012', 'P2013', 'P2014', 'P2015'] \n",
    "df = pd.DataFrame(data, columns=col)\n",
    "df\n"
   ]
  },
  {
   "cell_type": "code",
   "execution_count": 36,
   "metadata": {},
   "outputs": [
    {
     "output_type": "execute_result",
     "data": {
      "text/plain": [
       "      P2010     P2011     P2012     P2013     P2014     P2015       AVG\n",
       "0  0.029924  0.109261  0.617667  0.200864  0.284721  0.498370  0.290134\n",
       "1  0.840777  0.054489  0.519481  0.005159  0.057418  0.785541  0.377144\n",
       "2  0.421021  0.962813  0.856150  0.922113  0.046401  0.063267  0.545294"
      ],
      "text/html": "<div>\n<style scoped>\n    .dataframe tbody tr th:only-of-type {\n        vertical-align: middle;\n    }\n\n    .dataframe tbody tr th {\n        vertical-align: top;\n    }\n\n    .dataframe thead th {\n        text-align: right;\n    }\n</style>\n<table border=\"1\" class=\"dataframe\">\n  <thead>\n    <tr style=\"text-align: right;\">\n      <th></th>\n      <th>P2010</th>\n      <th>P2011</th>\n      <th>P2012</th>\n      <th>P2013</th>\n      <th>P2014</th>\n      <th>P2015</th>\n      <th>AVG</th>\n    </tr>\n  </thead>\n  <tbody>\n    <tr>\n      <th>0</th>\n      <td>0.029924</td>\n      <td>0.109261</td>\n      <td>0.617667</td>\n      <td>0.200864</td>\n      <td>0.284721</td>\n      <td>0.498370</td>\n      <td>0.290134</td>\n    </tr>\n    <tr>\n      <th>1</th>\n      <td>0.840777</td>\n      <td>0.054489</td>\n      <td>0.519481</td>\n      <td>0.005159</td>\n      <td>0.057418</td>\n      <td>0.785541</td>\n      <td>0.377144</td>\n    </tr>\n    <tr>\n      <th>2</th>\n      <td>0.421021</td>\n      <td>0.962813</td>\n      <td>0.856150</td>\n      <td>0.922113</td>\n      <td>0.046401</td>\n      <td>0.063267</td>\n      <td>0.545294</td>\n    </tr>\n  </tbody>\n</table>\n</div>"
     },
     "metadata": {},
     "execution_count": 36
    }
   ],
   "source": [
    "# calculate the average across columns for each row\n",
    "df['AVG'] = df[col].apply(lambda z: np.mean(z), axis=1)\n",
    "df"
   ]
  },
  {
   "cell_type": "code",
   "execution_count": 37,
   "metadata": {},
   "outputs": [
    {
     "output_type": "execute_result",
     "data": {
      "text/plain": [
       "        AVG\n",
       "0  0.290134\n",
       "1  0.377144\n",
       "2  0.545294"
      ],
      "text/html": "<div>\n<style scoped>\n    .dataframe tbody tr th:only-of-type {\n        vertical-align: middle;\n    }\n\n    .dataframe tbody tr th {\n        vertical-align: top;\n    }\n\n    .dataframe thead th {\n        text-align: right;\n    }\n</style>\n<table border=\"1\" class=\"dataframe\">\n  <thead>\n    <tr style=\"text-align: right;\">\n      <th></th>\n      <th>AVG</th>\n    </tr>\n  </thead>\n  <tbody>\n    <tr>\n      <th>0</th>\n      <td>0.290134</td>\n    </tr>\n    <tr>\n      <th>1</th>\n      <td>0.377144</td>\n    </tr>\n    <tr>\n      <th>2</th>\n      <td>0.545294</td>\n    </tr>\n  </tbody>\n</table>\n</div>"
     },
     "metadata": {},
     "execution_count": 37
    }
   ],
   "source": [
    "#drop the named columns\n",
    "result_df = df.drop(col, axis=1)\n",
    "result_df"
   ]
  },
  {
   "cell_type": "code",
   "execution_count": 1,
   "metadata": {},
   "outputs": [
    {
     "output_type": "execute_result",
     "data": {
      "text/plain": [
       "5"
      ]
     },
     "metadata": {},
     "execution_count": 1
    }
   ],
   "source": [
    "#Q5\n",
    "# my prelimary answer is 5\n",
    "import pandas as pd\n",
    "(pd.Timestamp('11/29/2019') + pd.offsets.MonthEnd()).weekday()"
   ]
  },
  {
   "cell_type": "code",
   "execution_count": 15,
   "metadata": {},
   "outputs": [
    {
     "output_type": "execute_result",
     "data": {
      "text/plain": [
       "  group_key  marks\n",
       "0         A     99\n",
       "1         B     98\n",
       "2         A     95\n",
       "3         B     90\n",
       "4         A    100"
      ],
      "text/html": "<div>\n<style scoped>\n    .dataframe tbody tr th:only-of-type {\n        vertical-align: middle;\n    }\n\n    .dataframe tbody tr th {\n        vertical-align: top;\n    }\n\n    .dataframe thead th {\n        text-align: right;\n    }\n</style>\n<table border=\"1\" class=\"dataframe\">\n  <thead>\n    <tr style=\"text-align: right;\">\n      <th></th>\n      <th>group_key</th>\n      <th>marks</th>\n    </tr>\n  </thead>\n  <tbody>\n    <tr>\n      <th>0</th>\n      <td>A</td>\n      <td>99</td>\n    </tr>\n    <tr>\n      <th>1</th>\n      <td>B</td>\n      <td>98</td>\n    </tr>\n    <tr>\n      <th>2</th>\n      <td>A</td>\n      <td>95</td>\n    </tr>\n    <tr>\n      <th>3</th>\n      <td>B</td>\n      <td>90</td>\n    </tr>\n    <tr>\n      <th>4</th>\n      <td>A</td>\n      <td>100</td>\n    </tr>\n  </tbody>\n</table>\n</div>"
     },
     "metadata": {},
     "execution_count": 15
    }
   ],
   "source": [
    "# Q6\n",
    "# initialise data of lists. \n",
    "data = {'group_key':['A', 'B', 'A', 'B', 'A'], \n",
    "        'marks':[99, 98, 95, 90, 100]} \n",
    "\n",
    "# initialise data of lists. \n",
    "# data = {'Name':['Tom', 'Jack', 'nick', 'juli'], \n",
    "#         'marks':[99, 98, 95, 90]} \n",
    "  \n",
    "# Creates pandas DataFrame. \n",
    "df = pd.DataFrame(data)\n",
    "\n",
    "df\n",
    "  \n",
    "\n",
    "# filling_mean = lambda g: g.fillna(g.mean)\n",
    "# df.group_by(group_key).transform(filling_mean)"
   ]
  }
 ]
}