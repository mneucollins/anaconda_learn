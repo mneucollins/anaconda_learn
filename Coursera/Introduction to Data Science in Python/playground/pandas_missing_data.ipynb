{
 "metadata": {
  "language_info": {
   "codemirror_mode": {
    "name": "ipython",
    "version": 3
   },
   "file_extension": ".py",
   "mimetype": "text/x-python",
   "name": "python",
   "nbconvert_exporter": "python",
   "pygments_lexer": "ipython3",
   "version": "3.8.5-final"
  },
  "orig_nbformat": 2,
  "kernelspec": {
   "name": "python3",
   "display_name": "Python 3",
   "language": "python"
  }
 },
 "nbformat": 4,
 "nbformat_minor": 2,
 "cells": [
  {
   "source": [
    "# Missing Values\n",
    "Can be missing for a number of reasons. \n",
    "  - **Missing at random (MAR)** within a coherent data set where data may have relationship to other data\n",
    "  - **Missing completely at random (MCAR)** is when the missing data has no relationship with any other data\n",
    "  - Missing data often comes from joining data sets from different sources that do not have a complete overlap\n",
    "\n",
    "Pandas has some built-in methods for handling missing values"
   ],
   "cell_type": "markdown",
   "metadata": {}
  },
  {
   "cell_type": "code",
   "execution_count": 2,
   "metadata": {},
   "outputs": [
    {
     "output_type": "execute_result",
     "data": {
      "text/plain": [
       "   Prefix  Assignment  Tutorial  Midterm  TakeHome  Final\n",
       "0       5       57.14     34.09    64.38     51.48  52.50\n",
       "1       8       95.05    105.49    67.50     99.07  68.33\n",
       "2       8       83.70     83.17      NaN     63.15  48.89\n",
       "3       7         NaN       NaN    49.38    105.93  80.56\n",
       "4       8       91.32     93.64    95.00    107.41  73.89"
      ],
      "text/html": "<div>\n<style scoped>\n    .dataframe tbody tr th:only-of-type {\n        vertical-align: middle;\n    }\n\n    .dataframe tbody tr th {\n        vertical-align: top;\n    }\n\n    .dataframe thead th {\n        text-align: right;\n    }\n</style>\n<table border=\"1\" class=\"dataframe\">\n  <thead>\n    <tr style=\"text-align: right;\">\n      <th></th>\n      <th>Prefix</th>\n      <th>Assignment</th>\n      <th>Tutorial</th>\n      <th>Midterm</th>\n      <th>TakeHome</th>\n      <th>Final</th>\n    </tr>\n  </thead>\n  <tbody>\n    <tr>\n      <th>0</th>\n      <td>5</td>\n      <td>57.14</td>\n      <td>34.09</td>\n      <td>64.38</td>\n      <td>51.48</td>\n      <td>52.50</td>\n    </tr>\n    <tr>\n      <th>1</th>\n      <td>8</td>\n      <td>95.05</td>\n      <td>105.49</td>\n      <td>67.50</td>\n      <td>99.07</td>\n      <td>68.33</td>\n    </tr>\n    <tr>\n      <th>2</th>\n      <td>8</td>\n      <td>83.70</td>\n      <td>83.17</td>\n      <td>NaN</td>\n      <td>63.15</td>\n      <td>48.89</td>\n    </tr>\n    <tr>\n      <th>3</th>\n      <td>7</td>\n      <td>NaN</td>\n      <td>NaN</td>\n      <td>49.38</td>\n      <td>105.93</td>\n      <td>80.56</td>\n    </tr>\n    <tr>\n      <th>4</th>\n      <td>8</td>\n      <td>91.32</td>\n      <td>93.64</td>\n      <td>95.00</td>\n      <td>107.41</td>\n      <td>73.89</td>\n    </tr>\n  </tbody>\n</table>\n</div>"
     },
     "metadata": {},
     "execution_count": 2
    }
   ],
   "source": [
    "import pandas as pd\n",
    "\n",
    "df = pd.read_csv('../resources/week-2/datasets/class_grades.csv')\n",
    "df.head()\n"
   ]
  },
  {
   "cell_type": "code",
   "execution_count": 3,
   "metadata": {},
   "outputs": [
    {
     "output_type": "execute_result",
     "data": {
      "text/plain": [
       "   Prefix  Assignment  Tutorial  Midterm  TakeHome  Final\n",
       "0   False       False     False    False     False  False\n",
       "1   False       False     False    False     False  False\n",
       "2   False       False     False     True     False  False\n",
       "3   False        True      True    False     False  False\n",
       "4   False       False     False    False     False  False"
      ],
      "text/html": "<div>\n<style scoped>\n    .dataframe tbody tr th:only-of-type {\n        vertical-align: middle;\n    }\n\n    .dataframe tbody tr th {\n        vertical-align: top;\n    }\n\n    .dataframe thead th {\n        text-align: right;\n    }\n</style>\n<table border=\"1\" class=\"dataframe\">\n  <thead>\n    <tr style=\"text-align: right;\">\n      <th></th>\n      <th>Prefix</th>\n      <th>Assignment</th>\n      <th>Tutorial</th>\n      <th>Midterm</th>\n      <th>TakeHome</th>\n      <th>Final</th>\n    </tr>\n  </thead>\n  <tbody>\n    <tr>\n      <th>0</th>\n      <td>False</td>\n      <td>False</td>\n      <td>False</td>\n      <td>False</td>\n      <td>False</td>\n      <td>False</td>\n    </tr>\n    <tr>\n      <th>1</th>\n      <td>False</td>\n      <td>False</td>\n      <td>False</td>\n      <td>False</td>\n      <td>False</td>\n      <td>False</td>\n    </tr>\n    <tr>\n      <th>2</th>\n      <td>False</td>\n      <td>False</td>\n      <td>False</td>\n      <td>True</td>\n      <td>False</td>\n      <td>False</td>\n    </tr>\n    <tr>\n      <th>3</th>\n      <td>False</td>\n      <td>True</td>\n      <td>True</td>\n      <td>False</td>\n      <td>False</td>\n      <td>False</td>\n    </tr>\n    <tr>\n      <th>4</th>\n      <td>False</td>\n      <td>False</td>\n      <td>False</td>\n      <td>False</td>\n      <td>False</td>\n      <td>False</td>\n    </tr>\n  </tbody>\n</table>\n</div>"
     },
     "metadata": {},
     "execution_count": 3
    }
   ],
   "source": [
    "# a boolean mask can identify the missing values.\n",
    "# the .isnull() function can be used to find the missing values\n",
    "missing_values_mask = df.isnull()\n",
    "missing_values_mask.head()"
   ]
  },
  {
   "cell_type": "code",
   "execution_count": 4,
   "metadata": {},
   "outputs": [
    {
     "output_type": "execute_result",
     "data": {
      "text/plain": [
       "   Prefix  Assignment  Tutorial  Midterm  TakeHome  Final\n",
       "0       5       57.14     34.09    64.38     51.48  52.50\n",
       "1       8       95.05    105.49    67.50     99.07  68.33\n",
       "4       8       91.32     93.64    95.00    107.41  73.89\n",
       "5       7       95.00     92.58    93.12     97.78  68.06\n",
       "6       8       95.05    102.99    56.25     99.07  50.00"
      ],
      "text/html": "<div>\n<style scoped>\n    .dataframe tbody tr th:only-of-type {\n        vertical-align: middle;\n    }\n\n    .dataframe tbody tr th {\n        vertical-align: top;\n    }\n\n    .dataframe thead th {\n        text-align: right;\n    }\n</style>\n<table border=\"1\" class=\"dataframe\">\n  <thead>\n    <tr style=\"text-align: right;\">\n      <th></th>\n      <th>Prefix</th>\n      <th>Assignment</th>\n      <th>Tutorial</th>\n      <th>Midterm</th>\n      <th>TakeHome</th>\n      <th>Final</th>\n    </tr>\n  </thead>\n  <tbody>\n    <tr>\n      <th>0</th>\n      <td>5</td>\n      <td>57.14</td>\n      <td>34.09</td>\n      <td>64.38</td>\n      <td>51.48</td>\n      <td>52.50</td>\n    </tr>\n    <tr>\n      <th>1</th>\n      <td>8</td>\n      <td>95.05</td>\n      <td>105.49</td>\n      <td>67.50</td>\n      <td>99.07</td>\n      <td>68.33</td>\n    </tr>\n    <tr>\n      <th>4</th>\n      <td>8</td>\n      <td>91.32</td>\n      <td>93.64</td>\n      <td>95.00</td>\n      <td>107.41</td>\n      <td>73.89</td>\n    </tr>\n    <tr>\n      <th>5</th>\n      <td>7</td>\n      <td>95.00</td>\n      <td>92.58</td>\n      <td>93.12</td>\n      <td>97.78</td>\n      <td>68.06</td>\n    </tr>\n    <tr>\n      <th>6</th>\n      <td>8</td>\n      <td>95.05</td>\n      <td>102.99</td>\n      <td>56.25</td>\n      <td>99.07</td>\n      <td>50.00</td>\n    </tr>\n  </tbody>\n</table>\n</div>"
     },
     "metadata": {},
     "execution_count": 4
    }
   ],
   "source": [
    "# the .dropna() function can be used if you want to drop rows that have _any_ missing values\n",
    "df.dropna().head() "
   ]
  },
  {
   "cell_type": "code",
   "execution_count": 7,
   "metadata": {},
   "outputs": [
    {
     "output_type": "execute_result",
     "data": {
      "text/plain": [
       "   Prefix  Assignment  Tutorial  Midterm  TakeHome  Final\n",
       "0       5       57.14     34.09    64.38     51.48  52.50\n",
       "1       8       95.05    105.49    67.50     99.07  68.33\n",
       "2       8       83.70     83.17     0.00     63.15  48.89\n",
       "3       7        0.00      0.00    49.38    105.93  80.56\n",
       "4       8       91.32     93.64    95.00    107.41  73.89\n",
       "5       7       95.00     92.58    93.12     97.78  68.06\n",
       "6       8       95.05    102.99    56.25     99.07  50.00\n",
       "7       7       72.85     86.85    60.00      0.00  56.11\n",
       "8       8       84.26     93.10    47.50     18.52  50.83\n",
       "9       7       90.10     97.55    51.25     88.89  63.61"
      ],
      "text/html": "<div>\n<style scoped>\n    .dataframe tbody tr th:only-of-type {\n        vertical-align: middle;\n    }\n\n    .dataframe tbody tr th {\n        vertical-align: top;\n    }\n\n    .dataframe thead th {\n        text-align: right;\n    }\n</style>\n<table border=\"1\" class=\"dataframe\">\n  <thead>\n    <tr style=\"text-align: right;\">\n      <th></th>\n      <th>Prefix</th>\n      <th>Assignment</th>\n      <th>Tutorial</th>\n      <th>Midterm</th>\n      <th>TakeHome</th>\n      <th>Final</th>\n    </tr>\n  </thead>\n  <tbody>\n    <tr>\n      <th>0</th>\n      <td>5</td>\n      <td>57.14</td>\n      <td>34.09</td>\n      <td>64.38</td>\n      <td>51.48</td>\n      <td>52.50</td>\n    </tr>\n    <tr>\n      <th>1</th>\n      <td>8</td>\n      <td>95.05</td>\n      <td>105.49</td>\n      <td>67.50</td>\n      <td>99.07</td>\n      <td>68.33</td>\n    </tr>\n    <tr>\n      <th>2</th>\n      <td>8</td>\n      <td>83.70</td>\n      <td>83.17</td>\n      <td>0.00</td>\n      <td>63.15</td>\n      <td>48.89</td>\n    </tr>\n    <tr>\n      <th>3</th>\n      <td>7</td>\n      <td>0.00</td>\n      <td>0.00</td>\n      <td>49.38</td>\n      <td>105.93</td>\n      <td>80.56</td>\n    </tr>\n    <tr>\n      <th>4</th>\n      <td>8</td>\n      <td>91.32</td>\n      <td>93.64</td>\n      <td>95.00</td>\n      <td>107.41</td>\n      <td>73.89</td>\n    </tr>\n    <tr>\n      <th>5</th>\n      <td>7</td>\n      <td>95.00</td>\n      <td>92.58</td>\n      <td>93.12</td>\n      <td>97.78</td>\n      <td>68.06</td>\n    </tr>\n    <tr>\n      <th>6</th>\n      <td>8</td>\n      <td>95.05</td>\n      <td>102.99</td>\n      <td>56.25</td>\n      <td>99.07</td>\n      <td>50.00</td>\n    </tr>\n    <tr>\n      <th>7</th>\n      <td>7</td>\n      <td>72.85</td>\n      <td>86.85</td>\n      <td>60.00</td>\n      <td>0.00</td>\n      <td>56.11</td>\n    </tr>\n    <tr>\n      <th>8</th>\n      <td>8</td>\n      <td>84.26</td>\n      <td>93.10</td>\n      <td>47.50</td>\n      <td>18.52</td>\n      <td>50.83</td>\n    </tr>\n    <tr>\n      <th>9</th>\n      <td>7</td>\n      <td>90.10</td>\n      <td>97.55</td>\n      <td>51.25</td>\n      <td>88.89</td>\n      <td>63.61</td>\n    </tr>\n  </tbody>\n</table>\n</div>"
     },
     "metadata": {},
     "execution_count": 7
    }
   ],
   "source": [
    "# the .fillna() function can be used to fill all the missing values with another value\n",
    "# 0 for example\n",
    "# .fillna() takes two parameters, the fill value and whether it should return a copy of the dataframe or make the changes in place\n",
    "\n",
    "df.fillna(0, inplace = True)\n",
    "df.head(10)"
   ]
  },
  {
   "cell_type": "code",
   "execution_count": 32,
   "metadata": {},
   "outputs": [
    {
     "output_type": "execute_result",
     "data": {
      "text/plain": [
       "          time    user          video  playback position paused  volume\n",
       "0   1469974424  cheryl     intro.html                  5  False    10.0\n",
       "1   1469974454  cheryl     intro.html                  6    NaN     NaN\n",
       "2   1469974544  cheryl     intro.html                  9    NaN     NaN\n",
       "3   1469974574  cheryl     intro.html                 10    NaN     NaN\n",
       "4   1469977514     bob     intro.html                  1    NaN     NaN\n",
       "5   1469977544     bob     intro.html                  1    NaN     NaN\n",
       "6   1469977574     bob     intro.html                  1    NaN     NaN\n",
       "7   1469977604     bob     intro.html                  1    NaN     NaN\n",
       "8   1469974604  cheryl     intro.html                 11    NaN     NaN\n",
       "9   1469974694  cheryl     intro.html                 14    NaN     NaN\n",
       "10  1469974724  cheryl     intro.html                 15    NaN     NaN\n",
       "11  1469974454     sue  advanced.html                 24    NaN     NaN\n",
       "12  1469974524     sue  advanced.html                 25    NaN     NaN\n",
       "13  1469974424     sue  advanced.html                 23  False    10.0\n",
       "14  1469974554     sue  advanced.html                 26    NaN     NaN\n",
       "15  1469974624     sue  advanced.html                 27    NaN     NaN\n",
       "16  1469974654     sue  advanced.html                 28    NaN     5.0\n",
       "17  1469974724     sue  advanced.html                 29    NaN     NaN\n",
       "18  1469974484  cheryl     intro.html                  7    NaN     NaN\n",
       "19  1469974514  cheryl     intro.html                  8    NaN     NaN"
      ],
      "text/html": "<div>\n<style scoped>\n    .dataframe tbody tr th:only-of-type {\n        vertical-align: middle;\n    }\n\n    .dataframe tbody tr th {\n        vertical-align: top;\n    }\n\n    .dataframe thead th {\n        text-align: right;\n    }\n</style>\n<table border=\"1\" class=\"dataframe\">\n  <thead>\n    <tr style=\"text-align: right;\">\n      <th></th>\n      <th>time</th>\n      <th>user</th>\n      <th>video</th>\n      <th>playback position</th>\n      <th>paused</th>\n      <th>volume</th>\n    </tr>\n  </thead>\n  <tbody>\n    <tr>\n      <th>0</th>\n      <td>1469974424</td>\n      <td>cheryl</td>\n      <td>intro.html</td>\n      <td>5</td>\n      <td>False</td>\n      <td>10.0</td>\n    </tr>\n    <tr>\n      <th>1</th>\n      <td>1469974454</td>\n      <td>cheryl</td>\n      <td>intro.html</td>\n      <td>6</td>\n      <td>NaN</td>\n      <td>NaN</td>\n    </tr>\n    <tr>\n      <th>2</th>\n      <td>1469974544</td>\n      <td>cheryl</td>\n      <td>intro.html</td>\n      <td>9</td>\n      <td>NaN</td>\n      <td>NaN</td>\n    </tr>\n    <tr>\n      <th>3</th>\n      <td>1469974574</td>\n      <td>cheryl</td>\n      <td>intro.html</td>\n      <td>10</td>\n      <td>NaN</td>\n      <td>NaN</td>\n    </tr>\n    <tr>\n      <th>4</th>\n      <td>1469977514</td>\n      <td>bob</td>\n      <td>intro.html</td>\n      <td>1</td>\n      <td>NaN</td>\n      <td>NaN</td>\n    </tr>\n    <tr>\n      <th>5</th>\n      <td>1469977544</td>\n      <td>bob</td>\n      <td>intro.html</td>\n      <td>1</td>\n      <td>NaN</td>\n      <td>NaN</td>\n    </tr>\n    <tr>\n      <th>6</th>\n      <td>1469977574</td>\n      <td>bob</td>\n      <td>intro.html</td>\n      <td>1</td>\n      <td>NaN</td>\n      <td>NaN</td>\n    </tr>\n    <tr>\n      <th>7</th>\n      <td>1469977604</td>\n      <td>bob</td>\n      <td>intro.html</td>\n      <td>1</td>\n      <td>NaN</td>\n      <td>NaN</td>\n    </tr>\n    <tr>\n      <th>8</th>\n      <td>1469974604</td>\n      <td>cheryl</td>\n      <td>intro.html</td>\n      <td>11</td>\n      <td>NaN</td>\n      <td>NaN</td>\n    </tr>\n    <tr>\n      <th>9</th>\n      <td>1469974694</td>\n      <td>cheryl</td>\n      <td>intro.html</td>\n      <td>14</td>\n      <td>NaN</td>\n      <td>NaN</td>\n    </tr>\n    <tr>\n      <th>10</th>\n      <td>1469974724</td>\n      <td>cheryl</td>\n      <td>intro.html</td>\n      <td>15</td>\n      <td>NaN</td>\n      <td>NaN</td>\n    </tr>\n    <tr>\n      <th>11</th>\n      <td>1469974454</td>\n      <td>sue</td>\n      <td>advanced.html</td>\n      <td>24</td>\n      <td>NaN</td>\n      <td>NaN</td>\n    </tr>\n    <tr>\n      <th>12</th>\n      <td>1469974524</td>\n      <td>sue</td>\n      <td>advanced.html</td>\n      <td>25</td>\n      <td>NaN</td>\n      <td>NaN</td>\n    </tr>\n    <tr>\n      <th>13</th>\n      <td>1469974424</td>\n      <td>sue</td>\n      <td>advanced.html</td>\n      <td>23</td>\n      <td>False</td>\n      <td>10.0</td>\n    </tr>\n    <tr>\n      <th>14</th>\n      <td>1469974554</td>\n      <td>sue</td>\n      <td>advanced.html</td>\n      <td>26</td>\n      <td>NaN</td>\n      <td>NaN</td>\n    </tr>\n    <tr>\n      <th>15</th>\n      <td>1469974624</td>\n      <td>sue</td>\n      <td>advanced.html</td>\n      <td>27</td>\n      <td>NaN</td>\n      <td>NaN</td>\n    </tr>\n    <tr>\n      <th>16</th>\n      <td>1469974654</td>\n      <td>sue</td>\n      <td>advanced.html</td>\n      <td>28</td>\n      <td>NaN</td>\n      <td>5.0</td>\n    </tr>\n    <tr>\n      <th>17</th>\n      <td>1469974724</td>\n      <td>sue</td>\n      <td>advanced.html</td>\n      <td>29</td>\n      <td>NaN</td>\n      <td>NaN</td>\n    </tr>\n    <tr>\n      <th>18</th>\n      <td>1469974484</td>\n      <td>cheryl</td>\n      <td>intro.html</td>\n      <td>7</td>\n      <td>NaN</td>\n      <td>NaN</td>\n    </tr>\n    <tr>\n      <th>19</th>\n      <td>1469974514</td>\n      <td>cheryl</td>\n      <td>intro.html</td>\n      <td>8</td>\n      <td>NaN</td>\n      <td>NaN</td>\n    </tr>\n  </tbody>\n</table>\n</div>"
     },
     "metadata": {},
     "execution_count": 32
    }
   ],
   "source": [
    "# sometimes missing values actually comprise useful information\n",
    "# example from the log file for the videos of this class\n",
    "df=pd.read_csv('../resources/week-2/datasets/log.csv')\n",
    "df.head(20)"
   ]
  },
  {
   "source": [
    "## filling missing values (ffill and bfill)"
   ],
   "cell_type": "markdown",
   "metadata": {}
  },
  {
   "cell_type": "code",
   "execution_count": 33,
   "metadata": {},
   "outputs": [
    {
     "output_type": "execute_result",
     "data": {
      "text/plain": [
       "              user       video  playback position paused  volume\n",
       "time                                                            \n",
       "1469974424  cheryl  intro.html                  5  False    10.0\n",
       "1469974454  cheryl  intro.html                  6    NaN     NaN\n",
       "1469974544  cheryl  intro.html                  9    NaN     NaN\n",
       "1469974574  cheryl  intro.html                 10    NaN     NaN\n",
       "1469977514     bob  intro.html                  1    NaN     NaN"
      ],
      "text/html": "<div>\n<style scoped>\n    .dataframe tbody tr th:only-of-type {\n        vertical-align: middle;\n    }\n\n    .dataframe tbody tr th {\n        vertical-align: top;\n    }\n\n    .dataframe thead th {\n        text-align: right;\n    }\n</style>\n<table border=\"1\" class=\"dataframe\">\n  <thead>\n    <tr style=\"text-align: right;\">\n      <th></th>\n      <th>user</th>\n      <th>video</th>\n      <th>playback position</th>\n      <th>paused</th>\n      <th>volume</th>\n    </tr>\n    <tr>\n      <th>time</th>\n      <th></th>\n      <th></th>\n      <th></th>\n      <th></th>\n      <th></th>\n    </tr>\n  </thead>\n  <tbody>\n    <tr>\n      <th>1469974424</th>\n      <td>cheryl</td>\n      <td>intro.html</td>\n      <td>5</td>\n      <td>False</td>\n      <td>10.0</td>\n    </tr>\n    <tr>\n      <th>1469974454</th>\n      <td>cheryl</td>\n      <td>intro.html</td>\n      <td>6</td>\n      <td>NaN</td>\n      <td>NaN</td>\n    </tr>\n    <tr>\n      <th>1469974544</th>\n      <td>cheryl</td>\n      <td>intro.html</td>\n      <td>9</td>\n      <td>NaN</td>\n      <td>NaN</td>\n    </tr>\n    <tr>\n      <th>1469974574</th>\n      <td>cheryl</td>\n      <td>intro.html</td>\n      <td>10</td>\n      <td>NaN</td>\n      <td>NaN</td>\n    </tr>\n    <tr>\n      <th>1469977514</th>\n      <td>bob</td>\n      <td>intro.html</td>\n      <td>1</td>\n      <td>NaN</td>\n      <td>NaN</td>\n    </tr>\n  </tbody>\n</table>\n</div>"
     },
     "metadata": {},
     "execution_count": 33
    }
   ],
   "source": [
    "# .ffill() and .bfill() are used for filling in missing values. ffill (forward fill) fills a missing value\n",
    "# with the value in the previous row. bfill fills a missing value with the value of the next row.\n",
    "# data needs to be sorted in order to have the desired effect.\n",
    "# to do so, timestamp can be promoted to the index value\n",
    "df = df.set_index('time')\n",
    "df.sort_index()\n",
    "# note that if this cell is run twice it creates an error because the times is no longer in\n",
    "# the columns list once it has been promoted to an index\n",
    "df.columns\n",
    "df.head()\n"
   ]
  },
  {
   "cell_type": "code",
   "execution_count": 36,
   "metadata": {},
   "outputs": [
    {
     "output_type": "execute_result",
     "data": {
      "text/plain": [
       "                           video  playback position paused  volume\n",
       "time       user                                                   \n",
       "1469974424 cheryl     intro.html                  5  False    10.0\n",
       "1469974454 cheryl     intro.html                  6    NaN     NaN\n",
       "1469974544 cheryl     intro.html                  9    NaN     NaN\n",
       "1469974574 cheryl     intro.html                 10    NaN     NaN\n",
       "1469977514 bob        intro.html                  1    NaN     NaN\n",
       "1469977544 bob        intro.html                  1    NaN     NaN\n",
       "1469977574 bob        intro.html                  1    NaN     NaN\n",
       "1469977604 bob        intro.html                  1    NaN     NaN\n",
       "1469974604 cheryl     intro.html                 11    NaN     NaN\n",
       "1469974694 cheryl     intro.html                 14    NaN     NaN\n",
       "1469974724 cheryl     intro.html                 15    NaN     NaN\n",
       "1469974454 sue     advanced.html                 24    NaN     NaN\n",
       "1469974524 sue     advanced.html                 25    NaN     NaN\n",
       "1469974424 sue     advanced.html                 23  False    10.0\n",
       "1469974554 sue     advanced.html                 26    NaN     NaN\n",
       "1469974624 sue     advanced.html                 27    NaN     NaN\n",
       "1469974654 sue     advanced.html                 28    NaN     5.0\n",
       "1469974724 sue     advanced.html                 29    NaN     NaN\n",
       "1469974484 cheryl     intro.html                  7    NaN     NaN\n",
       "1469974514 cheryl     intro.html                  8    NaN     NaN\n",
       "1469974754 sue     advanced.html                 30    NaN     NaN\n",
       "1469974824 sue     advanced.html                 31    NaN     NaN\n",
       "1469974854 sue     advanced.html                 32    NaN     NaN\n",
       "1469974924 sue     advanced.html                 33    NaN     NaN\n",
       "1469977424 bob        intro.html                  1   True    10.0\n",
       "1469977454 bob        intro.html                  1    NaN     NaN\n",
       "1469977484 bob        intro.html                  1    NaN     NaN\n",
       "1469977634 bob        intro.html                  1    NaN     NaN\n",
       "1469977664 bob        intro.html                  1    NaN     NaN\n",
       "1469974634 cheryl     intro.html                 12    NaN     NaN\n",
       "1469974664 cheryl     intro.html                 13    NaN     NaN\n",
       "1469977694 bob        intro.html                  1    NaN     NaN\n",
       "1469977724 bob        intro.html                  1    NaN     NaN"
      ],
      "text/html": "<div>\n<style scoped>\n    .dataframe tbody tr th:only-of-type {\n        vertical-align: middle;\n    }\n\n    .dataframe tbody tr th {\n        vertical-align: top;\n    }\n\n    .dataframe thead th {\n        text-align: right;\n    }\n</style>\n<table border=\"1\" class=\"dataframe\">\n  <thead>\n    <tr style=\"text-align: right;\">\n      <th></th>\n      <th></th>\n      <th>video</th>\n      <th>playback position</th>\n      <th>paused</th>\n      <th>volume</th>\n    </tr>\n    <tr>\n      <th>time</th>\n      <th>user</th>\n      <th></th>\n      <th></th>\n      <th></th>\n      <th></th>\n    </tr>\n  </thead>\n  <tbody>\n    <tr>\n      <th>1469974424</th>\n      <th>cheryl</th>\n      <td>intro.html</td>\n      <td>5</td>\n      <td>False</td>\n      <td>10.0</td>\n    </tr>\n    <tr>\n      <th>1469974454</th>\n      <th>cheryl</th>\n      <td>intro.html</td>\n      <td>6</td>\n      <td>NaN</td>\n      <td>NaN</td>\n    </tr>\n    <tr>\n      <th>1469974544</th>\n      <th>cheryl</th>\n      <td>intro.html</td>\n      <td>9</td>\n      <td>NaN</td>\n      <td>NaN</td>\n    </tr>\n    <tr>\n      <th>1469974574</th>\n      <th>cheryl</th>\n      <td>intro.html</td>\n      <td>10</td>\n      <td>NaN</td>\n      <td>NaN</td>\n    </tr>\n    <tr>\n      <th>1469977514</th>\n      <th>bob</th>\n      <td>intro.html</td>\n      <td>1</td>\n      <td>NaN</td>\n      <td>NaN</td>\n    </tr>\n    <tr>\n      <th>1469977544</th>\n      <th>bob</th>\n      <td>intro.html</td>\n      <td>1</td>\n      <td>NaN</td>\n      <td>NaN</td>\n    </tr>\n    <tr>\n      <th>1469977574</th>\n      <th>bob</th>\n      <td>intro.html</td>\n      <td>1</td>\n      <td>NaN</td>\n      <td>NaN</td>\n    </tr>\n    <tr>\n      <th>1469977604</th>\n      <th>bob</th>\n      <td>intro.html</td>\n      <td>1</td>\n      <td>NaN</td>\n      <td>NaN</td>\n    </tr>\n    <tr>\n      <th>1469974604</th>\n      <th>cheryl</th>\n      <td>intro.html</td>\n      <td>11</td>\n      <td>NaN</td>\n      <td>NaN</td>\n    </tr>\n    <tr>\n      <th>1469974694</th>\n      <th>cheryl</th>\n      <td>intro.html</td>\n      <td>14</td>\n      <td>NaN</td>\n      <td>NaN</td>\n    </tr>\n    <tr>\n      <th>1469974724</th>\n      <th>cheryl</th>\n      <td>intro.html</td>\n      <td>15</td>\n      <td>NaN</td>\n      <td>NaN</td>\n    </tr>\n    <tr>\n      <th>1469974454</th>\n      <th>sue</th>\n      <td>advanced.html</td>\n      <td>24</td>\n      <td>NaN</td>\n      <td>NaN</td>\n    </tr>\n    <tr>\n      <th>1469974524</th>\n      <th>sue</th>\n      <td>advanced.html</td>\n      <td>25</td>\n      <td>NaN</td>\n      <td>NaN</td>\n    </tr>\n    <tr>\n      <th>1469974424</th>\n      <th>sue</th>\n      <td>advanced.html</td>\n      <td>23</td>\n      <td>False</td>\n      <td>10.0</td>\n    </tr>\n    <tr>\n      <th>1469974554</th>\n      <th>sue</th>\n      <td>advanced.html</td>\n      <td>26</td>\n      <td>NaN</td>\n      <td>NaN</td>\n    </tr>\n    <tr>\n      <th>1469974624</th>\n      <th>sue</th>\n      <td>advanced.html</td>\n      <td>27</td>\n      <td>NaN</td>\n      <td>NaN</td>\n    </tr>\n    <tr>\n      <th>1469974654</th>\n      <th>sue</th>\n      <td>advanced.html</td>\n      <td>28</td>\n      <td>NaN</td>\n      <td>5.0</td>\n    </tr>\n    <tr>\n      <th>1469974724</th>\n      <th>sue</th>\n      <td>advanced.html</td>\n      <td>29</td>\n      <td>NaN</td>\n      <td>NaN</td>\n    </tr>\n    <tr>\n      <th>1469974484</th>\n      <th>cheryl</th>\n      <td>intro.html</td>\n      <td>7</td>\n      <td>NaN</td>\n      <td>NaN</td>\n    </tr>\n    <tr>\n      <th>1469974514</th>\n      <th>cheryl</th>\n      <td>intro.html</td>\n      <td>8</td>\n      <td>NaN</td>\n      <td>NaN</td>\n    </tr>\n    <tr>\n      <th>1469974754</th>\n      <th>sue</th>\n      <td>advanced.html</td>\n      <td>30</td>\n      <td>NaN</td>\n      <td>NaN</td>\n    </tr>\n    <tr>\n      <th>1469974824</th>\n      <th>sue</th>\n      <td>advanced.html</td>\n      <td>31</td>\n      <td>NaN</td>\n      <td>NaN</td>\n    </tr>\n    <tr>\n      <th>1469974854</th>\n      <th>sue</th>\n      <td>advanced.html</td>\n      <td>32</td>\n      <td>NaN</td>\n      <td>NaN</td>\n    </tr>\n    <tr>\n      <th>1469974924</th>\n      <th>sue</th>\n      <td>advanced.html</td>\n      <td>33</td>\n      <td>NaN</td>\n      <td>NaN</td>\n    </tr>\n    <tr>\n      <th>1469977424</th>\n      <th>bob</th>\n      <td>intro.html</td>\n      <td>1</td>\n      <td>True</td>\n      <td>10.0</td>\n    </tr>\n    <tr>\n      <th>1469977454</th>\n      <th>bob</th>\n      <td>intro.html</td>\n      <td>1</td>\n      <td>NaN</td>\n      <td>NaN</td>\n    </tr>\n    <tr>\n      <th>1469977484</th>\n      <th>bob</th>\n      <td>intro.html</td>\n      <td>1</td>\n      <td>NaN</td>\n      <td>NaN</td>\n    </tr>\n    <tr>\n      <th>1469977634</th>\n      <th>bob</th>\n      <td>intro.html</td>\n      <td>1</td>\n      <td>NaN</td>\n      <td>NaN</td>\n    </tr>\n    <tr>\n      <th>1469977664</th>\n      <th>bob</th>\n      <td>intro.html</td>\n      <td>1</td>\n      <td>NaN</td>\n      <td>NaN</td>\n    </tr>\n    <tr>\n      <th>1469974634</th>\n      <th>cheryl</th>\n      <td>intro.html</td>\n      <td>12</td>\n      <td>NaN</td>\n      <td>NaN</td>\n    </tr>\n    <tr>\n      <th>1469974664</th>\n      <th>cheryl</th>\n      <td>intro.html</td>\n      <td>13</td>\n      <td>NaN</td>\n      <td>NaN</td>\n    </tr>\n    <tr>\n      <th>1469977694</th>\n      <th>bob</th>\n      <td>intro.html</td>\n      <td>1</td>\n      <td>NaN</td>\n      <td>NaN</td>\n    </tr>\n    <tr>\n      <th>1469977724</th>\n      <th>bob</th>\n      <td>intro.html</td>\n      <td>1</td>\n      <td>NaN</td>\n      <td>NaN</td>\n    </tr>\n  </tbody>\n</table>\n</div>"
     },
     "metadata": {},
     "execution_count": 36
    }
   ],
   "source": [
    "# however this log file represents multiple users can be accessing the system at the same time,\n",
    "# sp the index is not guaranteed to be unique. It would be unique if we had a composite index\n",
    "# consisting of time and user, so...first reset the index\n",
    "df = df.reset_index()\n",
    "# then create the composite index by passing in a list to the set_index function instead of a single value\n",
    "df = df.set_index(['time', 'user'])\n",
    "df\n"
   ]
  },
  {
   "cell_type": "code",
   "execution_count": 38,
   "metadata": {},
   "outputs": [
    {
     "output_type": "execute_result",
     "data": {
      "text/plain": [
       "                           video  playback position  paused  volume\n",
       "time       user                                                    \n",
       "1469974424 cheryl     intro.html                  5   False    10.0\n",
       "1469974454 cheryl     intro.html                  6   False    10.0\n",
       "1469974544 cheryl     intro.html                  9   False    10.0\n",
       "1469974574 cheryl     intro.html                 10   False    10.0\n",
       "1469977514 bob        intro.html                  1   False    10.0\n",
       "1469977544 bob        intro.html                  1   False    10.0\n",
       "1469977574 bob        intro.html                  1   False    10.0\n",
       "1469977604 bob        intro.html                  1   False    10.0\n",
       "1469974604 cheryl     intro.html                 11   False    10.0\n",
       "1469974694 cheryl     intro.html                 14   False    10.0\n",
       "1469974724 cheryl     intro.html                 15   False    10.0\n",
       "1469974454 sue     advanced.html                 24   False    10.0\n",
       "1469974524 sue     advanced.html                 25   False    10.0\n",
       "1469974424 sue     advanced.html                 23   False    10.0\n",
       "1469974554 sue     advanced.html                 26   False    10.0\n",
       "1469974624 sue     advanced.html                 27   False    10.0\n",
       "1469974654 sue     advanced.html                 28   False     5.0\n",
       "1469974724 sue     advanced.html                 29   False     5.0\n",
       "1469974484 cheryl     intro.html                  7   False     5.0\n",
       "1469974514 cheryl     intro.html                  8   False     5.0\n",
       "1469974754 sue     advanced.html                 30   False     5.0\n",
       "1469974824 sue     advanced.html                 31   False     5.0\n",
       "1469974854 sue     advanced.html                 32   False     5.0\n",
       "1469974924 sue     advanced.html                 33   False     5.0\n",
       "1469977424 bob        intro.html                  1    True    10.0\n",
       "1469977454 bob        intro.html                  1    True    10.0\n",
       "1469977484 bob        intro.html                  1    True    10.0\n",
       "1469977634 bob        intro.html                  1    True    10.0\n",
       "1469977664 bob        intro.html                  1    True    10.0\n",
       "1469974634 cheryl     intro.html                 12    True    10.0\n",
       "1469974664 cheryl     intro.html                 13    True    10.0\n",
       "1469977694 bob        intro.html                  1    True    10.0\n",
       "1469977724 bob        intro.html                  1    True    10.0"
      ],
      "text/html": "<div>\n<style scoped>\n    .dataframe tbody tr th:only-of-type {\n        vertical-align: middle;\n    }\n\n    .dataframe tbody tr th {\n        vertical-align: top;\n    }\n\n    .dataframe thead th {\n        text-align: right;\n    }\n</style>\n<table border=\"1\" class=\"dataframe\">\n  <thead>\n    <tr style=\"text-align: right;\">\n      <th></th>\n      <th></th>\n      <th>video</th>\n      <th>playback position</th>\n      <th>paused</th>\n      <th>volume</th>\n    </tr>\n    <tr>\n      <th>time</th>\n      <th>user</th>\n      <th></th>\n      <th></th>\n      <th></th>\n      <th></th>\n    </tr>\n  </thead>\n  <tbody>\n    <tr>\n      <th>1469974424</th>\n      <th>cheryl</th>\n      <td>intro.html</td>\n      <td>5</td>\n      <td>False</td>\n      <td>10.0</td>\n    </tr>\n    <tr>\n      <th>1469974454</th>\n      <th>cheryl</th>\n      <td>intro.html</td>\n      <td>6</td>\n      <td>False</td>\n      <td>10.0</td>\n    </tr>\n    <tr>\n      <th>1469974544</th>\n      <th>cheryl</th>\n      <td>intro.html</td>\n      <td>9</td>\n      <td>False</td>\n      <td>10.0</td>\n    </tr>\n    <tr>\n      <th>1469974574</th>\n      <th>cheryl</th>\n      <td>intro.html</td>\n      <td>10</td>\n      <td>False</td>\n      <td>10.0</td>\n    </tr>\n    <tr>\n      <th>1469977514</th>\n      <th>bob</th>\n      <td>intro.html</td>\n      <td>1</td>\n      <td>False</td>\n      <td>10.0</td>\n    </tr>\n    <tr>\n      <th>1469977544</th>\n      <th>bob</th>\n      <td>intro.html</td>\n      <td>1</td>\n      <td>False</td>\n      <td>10.0</td>\n    </tr>\n    <tr>\n      <th>1469977574</th>\n      <th>bob</th>\n      <td>intro.html</td>\n      <td>1</td>\n      <td>False</td>\n      <td>10.0</td>\n    </tr>\n    <tr>\n      <th>1469977604</th>\n      <th>bob</th>\n      <td>intro.html</td>\n      <td>1</td>\n      <td>False</td>\n      <td>10.0</td>\n    </tr>\n    <tr>\n      <th>1469974604</th>\n      <th>cheryl</th>\n      <td>intro.html</td>\n      <td>11</td>\n      <td>False</td>\n      <td>10.0</td>\n    </tr>\n    <tr>\n      <th>1469974694</th>\n      <th>cheryl</th>\n      <td>intro.html</td>\n      <td>14</td>\n      <td>False</td>\n      <td>10.0</td>\n    </tr>\n    <tr>\n      <th>1469974724</th>\n      <th>cheryl</th>\n      <td>intro.html</td>\n      <td>15</td>\n      <td>False</td>\n      <td>10.0</td>\n    </tr>\n    <tr>\n      <th>1469974454</th>\n      <th>sue</th>\n      <td>advanced.html</td>\n      <td>24</td>\n      <td>False</td>\n      <td>10.0</td>\n    </tr>\n    <tr>\n      <th>1469974524</th>\n      <th>sue</th>\n      <td>advanced.html</td>\n      <td>25</td>\n      <td>False</td>\n      <td>10.0</td>\n    </tr>\n    <tr>\n      <th>1469974424</th>\n      <th>sue</th>\n      <td>advanced.html</td>\n      <td>23</td>\n      <td>False</td>\n      <td>10.0</td>\n    </tr>\n    <tr>\n      <th>1469974554</th>\n      <th>sue</th>\n      <td>advanced.html</td>\n      <td>26</td>\n      <td>False</td>\n      <td>10.0</td>\n    </tr>\n    <tr>\n      <th>1469974624</th>\n      <th>sue</th>\n      <td>advanced.html</td>\n      <td>27</td>\n      <td>False</td>\n      <td>10.0</td>\n    </tr>\n    <tr>\n      <th>1469974654</th>\n      <th>sue</th>\n      <td>advanced.html</td>\n      <td>28</td>\n      <td>False</td>\n      <td>5.0</td>\n    </tr>\n    <tr>\n      <th>1469974724</th>\n      <th>sue</th>\n      <td>advanced.html</td>\n      <td>29</td>\n      <td>False</td>\n      <td>5.0</td>\n    </tr>\n    <tr>\n      <th>1469974484</th>\n      <th>cheryl</th>\n      <td>intro.html</td>\n      <td>7</td>\n      <td>False</td>\n      <td>5.0</td>\n    </tr>\n    <tr>\n      <th>1469974514</th>\n      <th>cheryl</th>\n      <td>intro.html</td>\n      <td>8</td>\n      <td>False</td>\n      <td>5.0</td>\n    </tr>\n    <tr>\n      <th>1469974754</th>\n      <th>sue</th>\n      <td>advanced.html</td>\n      <td>30</td>\n      <td>False</td>\n      <td>5.0</td>\n    </tr>\n    <tr>\n      <th>1469974824</th>\n      <th>sue</th>\n      <td>advanced.html</td>\n      <td>31</td>\n      <td>False</td>\n      <td>5.0</td>\n    </tr>\n    <tr>\n      <th>1469974854</th>\n      <th>sue</th>\n      <td>advanced.html</td>\n      <td>32</td>\n      <td>False</td>\n      <td>5.0</td>\n    </tr>\n    <tr>\n      <th>1469974924</th>\n      <th>sue</th>\n      <td>advanced.html</td>\n      <td>33</td>\n      <td>False</td>\n      <td>5.0</td>\n    </tr>\n    <tr>\n      <th>1469977424</th>\n      <th>bob</th>\n      <td>intro.html</td>\n      <td>1</td>\n      <td>True</td>\n      <td>10.0</td>\n    </tr>\n    <tr>\n      <th>1469977454</th>\n      <th>bob</th>\n      <td>intro.html</td>\n      <td>1</td>\n      <td>True</td>\n      <td>10.0</td>\n    </tr>\n    <tr>\n      <th>1469977484</th>\n      <th>bob</th>\n      <td>intro.html</td>\n      <td>1</td>\n      <td>True</td>\n      <td>10.0</td>\n    </tr>\n    <tr>\n      <th>1469977634</th>\n      <th>bob</th>\n      <td>intro.html</td>\n      <td>1</td>\n      <td>True</td>\n      <td>10.0</td>\n    </tr>\n    <tr>\n      <th>1469977664</th>\n      <th>bob</th>\n      <td>intro.html</td>\n      <td>1</td>\n      <td>True</td>\n      <td>10.0</td>\n    </tr>\n    <tr>\n      <th>1469974634</th>\n      <th>cheryl</th>\n      <td>intro.html</td>\n      <td>12</td>\n      <td>True</td>\n      <td>10.0</td>\n    </tr>\n    <tr>\n      <th>1469974664</th>\n      <th>cheryl</th>\n      <td>intro.html</td>\n      <td>13</td>\n      <td>True</td>\n      <td>10.0</td>\n    </tr>\n    <tr>\n      <th>1469977694</th>\n      <th>bob</th>\n      <td>intro.html</td>\n      <td>1</td>\n      <td>True</td>\n      <td>10.0</td>\n    </tr>\n    <tr>\n      <th>1469977724</th>\n      <th>bob</th>\n      <td>intro.html</td>\n      <td>1</td>\n      <td>True</td>\n      <td>10.0</td>\n    </tr>\n  </tbody>\n</table>\n</div>"
     },
     "metadata": {},
     "execution_count": 38
    }
   ],
   "source": [
    "# filling can be done piecemeal, that is you can do column by column and you don't need to\n",
    "# do it all in one command. Here's the command to forward fill the paused and volume columns\n",
    "# as their value is not repeated until there is a change\n",
    "df = df.fillna(method = 'ffill')\n",
    "df\n"
   ]
  },
  {
   "source": [
    "## customized fill values"
   ],
   "cell_type": "markdown",
   "metadata": {}
  },
  {
   "cell_type": "code",
   "execution_count": 44,
   "metadata": {},
   "outputs": [
    {
     "output_type": "execute_result",
     "data": {
      "text/plain": [
       "   A  B  C\n",
       "0  1  3  a\n",
       "1  1  6  b\n",
       "2  2  3  c\n",
       "3  3  8  d\n",
       "4  4  9  e"
      ],
      "text/html": "<div>\n<style scoped>\n    .dataframe tbody tr th:only-of-type {\n        vertical-align: middle;\n    }\n\n    .dataframe tbody tr th {\n        vertical-align: top;\n    }\n\n    .dataframe thead th {\n        text-align: right;\n    }\n</style>\n<table border=\"1\" class=\"dataframe\">\n  <thead>\n    <tr style=\"text-align: right;\">\n      <th></th>\n      <th>A</th>\n      <th>B</th>\n      <th>C</th>\n    </tr>\n  </thead>\n  <tbody>\n    <tr>\n      <th>0</th>\n      <td>1</td>\n      <td>3</td>\n      <td>a</td>\n    </tr>\n    <tr>\n      <th>1</th>\n      <td>1</td>\n      <td>6</td>\n      <td>b</td>\n    </tr>\n    <tr>\n      <th>2</th>\n      <td>2</td>\n      <td>3</td>\n      <td>c</td>\n    </tr>\n    <tr>\n      <th>3</th>\n      <td>3</td>\n      <td>8</td>\n      <td>d</td>\n    </tr>\n    <tr>\n      <th>4</th>\n      <td>4</td>\n      <td>9</td>\n      <td>e</td>\n    </tr>\n  </tbody>\n</table>\n</div>"
     },
     "metadata": {},
     "execution_count": 44
    }
   ],
   "source": [
    "testdf = pd.DataFrame({'A':[1,1,2,3,4],\n",
    "                      'B':[3,6,3,8,9],\n",
    "                      'C':['a','b','c','d','e']})\n",
    "testdf\n"
   ]
  },
  {
   "cell_type": "code",
   "execution_count": 51,
   "metadata": {},
   "outputs": [
    {
     "output_type": "execute_result",
     "data": {
      "text/plain": [
       "     A  B  C\n",
       "0  100  3  a\n",
       "1  100  6  b\n",
       "2    2  3  c\n",
       "3    3  8  d\n",
       "4    4  9  e"
      ],
      "text/html": "<div>\n<style scoped>\n    .dataframe tbody tr th:only-of-type {\n        vertical-align: middle;\n    }\n\n    .dataframe tbody tr th {\n        vertical-align: top;\n    }\n\n    .dataframe thead th {\n        text-align: right;\n    }\n</style>\n<table border=\"1\" class=\"dataframe\">\n  <thead>\n    <tr style=\"text-align: right;\">\n      <th></th>\n      <th>A</th>\n      <th>B</th>\n      <th>C</th>\n    </tr>\n  </thead>\n  <tbody>\n    <tr>\n      <th>0</th>\n      <td>100</td>\n      <td>3</td>\n      <td>a</td>\n    </tr>\n    <tr>\n      <th>1</th>\n      <td>100</td>\n      <td>6</td>\n      <td>b</td>\n    </tr>\n    <tr>\n      <th>2</th>\n      <td>2</td>\n      <td>3</td>\n      <td>c</td>\n    </tr>\n    <tr>\n      <th>3</th>\n      <td>3</td>\n      <td>8</td>\n      <td>d</td>\n    </tr>\n    <tr>\n      <th>4</th>\n      <td>4</td>\n      <td>9</td>\n      <td>e</td>\n    </tr>\n  </tbody>\n</table>\n</div>"
     },
     "metadata": {},
     "execution_count": 51
    }
   ],
   "source": [
    "# value to value replacing\n",
    "# replace all occurences of the first parameter with the second parameter\n",
    "testdf.replace(1, 100)"
   ]
  },
  {
   "cell_type": "code",
   "execution_count": 50,
   "metadata": {},
   "outputs": [
    {
     "output_type": "execute_result",
     "data": {
      "text/plain": [
       "   A  B  C\n",
       "0  1  3  a\n",
       "1  1  6  b\n",
       "2  2  3  c\n",
       "3  3  8  d\n",
       "4  4  9  e"
      ],
      "text/html": "<div>\n<style scoped>\n    .dataframe tbody tr th:only-of-type {\n        vertical-align: middle;\n    }\n\n    .dataframe tbody tr th {\n        vertical-align: top;\n    }\n\n    .dataframe thead th {\n        text-align: right;\n    }\n</style>\n<table border=\"1\" class=\"dataframe\">\n  <thead>\n    <tr style=\"text-align: right;\">\n      <th></th>\n      <th>A</th>\n      <th>B</th>\n      <th>C</th>\n    </tr>\n  </thead>\n  <tbody>\n    <tr>\n      <th>0</th>\n      <td>1</td>\n      <td>3</td>\n      <td>a</td>\n    </tr>\n    <tr>\n      <th>1</th>\n      <td>1</td>\n      <td>6</td>\n      <td>b</td>\n    </tr>\n    <tr>\n      <th>2</th>\n      <td>2</td>\n      <td>3</td>\n      <td>c</td>\n    </tr>\n    <tr>\n      <th>3</th>\n      <td>3</td>\n      <td>8</td>\n      <td>d</td>\n    </tr>\n    <tr>\n      <th>4</th>\n      <td>4</td>\n      <td>9</td>\n      <td>e</td>\n    </tr>\n  </tbody>\n</table>\n</div>"
     },
     "metadata": {},
     "execution_count": 50
    }
   ],
   "source": [
    "# note that this returns a copy of the dataframe and the original dataframe remains unchanged\n",
    "testdf"
   ]
  },
  {
   "cell_type": "code",
   "execution_count": 52,
   "metadata": {},
   "outputs": [
    {
     "output_type": "execute_result",
     "data": {
      "text/plain": [
       "     A    B  C\n",
       "0  100  300  a\n",
       "1  100    6  b\n",
       "2    2  300  c\n",
       "3  300    8  d\n",
       "4    4    9  e"
      ],
      "text/html": "<div>\n<style scoped>\n    .dataframe tbody tr th:only-of-type {\n        vertical-align: middle;\n    }\n\n    .dataframe tbody tr th {\n        vertical-align: top;\n    }\n\n    .dataframe thead th {\n        text-align: right;\n    }\n</style>\n<table border=\"1\" class=\"dataframe\">\n  <thead>\n    <tr style=\"text-align: right;\">\n      <th></th>\n      <th>A</th>\n      <th>B</th>\n      <th>C</th>\n    </tr>\n  </thead>\n  <tbody>\n    <tr>\n      <th>0</th>\n      <td>100</td>\n      <td>300</td>\n      <td>a</td>\n    </tr>\n    <tr>\n      <th>1</th>\n      <td>100</td>\n      <td>6</td>\n      <td>b</td>\n    </tr>\n    <tr>\n      <th>2</th>\n      <td>2</td>\n      <td>300</td>\n      <td>c</td>\n    </tr>\n    <tr>\n      <th>3</th>\n      <td>300</td>\n      <td>8</td>\n      <td>d</td>\n    </tr>\n    <tr>\n      <th>4</th>\n      <td>4</td>\n      <td>9</td>\n      <td>e</td>\n    </tr>\n  </tbody>\n</table>\n</div>"
     },
     "metadata": {},
     "execution_count": 52
    }
   ],
   "source": [
    "# you can change multiple values by providing parallel lists as the parameters to the replace function\n",
    "testdf.replace([1,3],[100,300])"
   ]
  },
  {
   "cell_type": "code",
   "execution_count": 54,
   "metadata": {},
   "outputs": [
    {
     "output_type": "execute_result",
     "data": {
      "text/plain": [
       "                        video  playback position  paused  volume\n",
       "time       user                                                 \n",
       "1469974424 cheryl  intro.html                  5   False    10.0\n",
       "1469974454 cheryl  intro.html                  6   False    10.0\n",
       "1469974544 cheryl  intro.html                  9   False    10.0\n",
       "1469974574 cheryl  intro.html                 10   False    10.0\n",
       "1469977514 bob     intro.html                  1   False    10.0"
      ],
      "text/html": "<div>\n<style scoped>\n    .dataframe tbody tr th:only-of-type {\n        vertical-align: middle;\n    }\n\n    .dataframe tbody tr th {\n        vertical-align: top;\n    }\n\n    .dataframe thead th {\n        text-align: right;\n    }\n</style>\n<table border=\"1\" class=\"dataframe\">\n  <thead>\n    <tr style=\"text-align: right;\">\n      <th></th>\n      <th></th>\n      <th>video</th>\n      <th>playback position</th>\n      <th>paused</th>\n      <th>volume</th>\n    </tr>\n    <tr>\n      <th>time</th>\n      <th>user</th>\n      <th></th>\n      <th></th>\n      <th></th>\n      <th></th>\n    </tr>\n  </thead>\n  <tbody>\n    <tr>\n      <th>1469974424</th>\n      <th>cheryl</th>\n      <td>intro.html</td>\n      <td>5</td>\n      <td>False</td>\n      <td>10.0</td>\n    </tr>\n    <tr>\n      <th>1469974454</th>\n      <th>cheryl</th>\n      <td>intro.html</td>\n      <td>6</td>\n      <td>False</td>\n      <td>10.0</td>\n    </tr>\n    <tr>\n      <th>1469974544</th>\n      <th>cheryl</th>\n      <td>intro.html</td>\n      <td>9</td>\n      <td>False</td>\n      <td>10.0</td>\n    </tr>\n    <tr>\n      <th>1469974574</th>\n      <th>cheryl</th>\n      <td>intro.html</td>\n      <td>10</td>\n      <td>False</td>\n      <td>10.0</td>\n    </tr>\n    <tr>\n      <th>1469977514</th>\n      <th>bob</th>\n      <td>intro.html</td>\n      <td>1</td>\n      <td>False</td>\n      <td>10.0</td>\n    </tr>\n  </tbody>\n</table>\n</div>"
     },
     "metadata": {},
     "execution_count": 54
    }
   ],
   "source": [
    "# pandas also supports regex replacement\n",
    "# the first parameter is the regex pattern to match\n",
    "# the second parameter is the value to replace the matches\n",
    "# the third parameter tells pandas it is a regex replacement. regex=true\n",
    "# in the logfile df we were using earler, replace all cells that end in .html with the term 'webpage'\n",
    "df.head()"
   ]
  },
  {
   "cell_type": "code",
   "execution_count": 59,
   "metadata": {},
   "outputs": [
    {
     "output_type": "execute_result",
     "data": {
      "text/plain": [
       "                     video  playback position  paused  volume\n",
       "time       user                                              \n",
       "1469974424 cheryl  webpage                  5   False    10.0\n",
       "1469974454 cheryl  webpage                  6   False    10.0\n",
       "1469974544 cheryl  webpage                  9   False    10.0\n",
       "1469974574 cheryl  webpage                 10   False    10.0\n",
       "1469977514 bob     webpage                  1   False    10.0\n",
       "1469977544 bob     webpage                  1   False    10.0\n",
       "1469977574 bob     webpage                  1   False    10.0\n",
       "1469977604 bob     webpage                  1   False    10.0\n",
       "1469974604 cheryl  webpage                 11   False    10.0\n",
       "1469974694 cheryl  webpage                 14   False    10.0\n",
       "1469974724 cheryl  webpage                 15   False    10.0\n",
       "1469974454 sue     webpage                 24   False    10.0\n",
       "1469974524 sue     webpage                 25   False    10.0\n",
       "1469974424 sue     webpage                 23   False    10.0\n",
       "1469974554 sue     webpage                 26   False    10.0\n",
       "1469974624 sue     webpage                 27   False    10.0\n",
       "1469974654 sue     webpage                 28   False     5.0\n",
       "1469974724 sue     webpage                 29   False     5.0\n",
       "1469974484 cheryl  webpage                  7   False     5.0\n",
       "1469974514 cheryl  webpage                  8   False     5.0\n",
       "1469974754 sue     webpage                 30   False     5.0\n",
       "1469974824 sue     webpage                 31   False     5.0\n",
       "1469974854 sue     webpage                 32   False     5.0\n",
       "1469974924 sue     webpage                 33   False     5.0\n",
       "1469977424 bob     webpage                  1    True    10.0\n",
       "1469977454 bob     webpage                  1    True    10.0\n",
       "1469977484 bob     webpage                  1    True    10.0\n",
       "1469977634 bob     webpage                  1    True    10.0\n",
       "1469977664 bob     webpage                  1    True    10.0\n",
       "1469974634 cheryl  webpage                 12    True    10.0\n",
       "1469974664 cheryl  webpage                 13    True    10.0\n",
       "1469977694 bob     webpage                  1    True    10.0\n",
       "1469977724 bob     webpage                  1    True    10.0"
      ],
      "text/html": "<div>\n<style scoped>\n    .dataframe tbody tr th:only-of-type {\n        vertical-align: middle;\n    }\n\n    .dataframe tbody tr th {\n        vertical-align: top;\n    }\n\n    .dataframe thead th {\n        text-align: right;\n    }\n</style>\n<table border=\"1\" class=\"dataframe\">\n  <thead>\n    <tr style=\"text-align: right;\">\n      <th></th>\n      <th></th>\n      <th>video</th>\n      <th>playback position</th>\n      <th>paused</th>\n      <th>volume</th>\n    </tr>\n    <tr>\n      <th>time</th>\n      <th>user</th>\n      <th></th>\n      <th></th>\n      <th></th>\n      <th></th>\n    </tr>\n  </thead>\n  <tbody>\n    <tr>\n      <th>1469974424</th>\n      <th>cheryl</th>\n      <td>webpage</td>\n      <td>5</td>\n      <td>False</td>\n      <td>10.0</td>\n    </tr>\n    <tr>\n      <th>1469974454</th>\n      <th>cheryl</th>\n      <td>webpage</td>\n      <td>6</td>\n      <td>False</td>\n      <td>10.0</td>\n    </tr>\n    <tr>\n      <th>1469974544</th>\n      <th>cheryl</th>\n      <td>webpage</td>\n      <td>9</td>\n      <td>False</td>\n      <td>10.0</td>\n    </tr>\n    <tr>\n      <th>1469974574</th>\n      <th>cheryl</th>\n      <td>webpage</td>\n      <td>10</td>\n      <td>False</td>\n      <td>10.0</td>\n    </tr>\n    <tr>\n      <th>1469977514</th>\n      <th>bob</th>\n      <td>webpage</td>\n      <td>1</td>\n      <td>False</td>\n      <td>10.0</td>\n    </tr>\n    <tr>\n      <th>1469977544</th>\n      <th>bob</th>\n      <td>webpage</td>\n      <td>1</td>\n      <td>False</td>\n      <td>10.0</td>\n    </tr>\n    <tr>\n      <th>1469977574</th>\n      <th>bob</th>\n      <td>webpage</td>\n      <td>1</td>\n      <td>False</td>\n      <td>10.0</td>\n    </tr>\n    <tr>\n      <th>1469977604</th>\n      <th>bob</th>\n      <td>webpage</td>\n      <td>1</td>\n      <td>False</td>\n      <td>10.0</td>\n    </tr>\n    <tr>\n      <th>1469974604</th>\n      <th>cheryl</th>\n      <td>webpage</td>\n      <td>11</td>\n      <td>False</td>\n      <td>10.0</td>\n    </tr>\n    <tr>\n      <th>1469974694</th>\n      <th>cheryl</th>\n      <td>webpage</td>\n      <td>14</td>\n      <td>False</td>\n      <td>10.0</td>\n    </tr>\n    <tr>\n      <th>1469974724</th>\n      <th>cheryl</th>\n      <td>webpage</td>\n      <td>15</td>\n      <td>False</td>\n      <td>10.0</td>\n    </tr>\n    <tr>\n      <th>1469974454</th>\n      <th>sue</th>\n      <td>webpage</td>\n      <td>24</td>\n      <td>False</td>\n      <td>10.0</td>\n    </tr>\n    <tr>\n      <th>1469974524</th>\n      <th>sue</th>\n      <td>webpage</td>\n      <td>25</td>\n      <td>False</td>\n      <td>10.0</td>\n    </tr>\n    <tr>\n      <th>1469974424</th>\n      <th>sue</th>\n      <td>webpage</td>\n      <td>23</td>\n      <td>False</td>\n      <td>10.0</td>\n    </tr>\n    <tr>\n      <th>1469974554</th>\n      <th>sue</th>\n      <td>webpage</td>\n      <td>26</td>\n      <td>False</td>\n      <td>10.0</td>\n    </tr>\n    <tr>\n      <th>1469974624</th>\n      <th>sue</th>\n      <td>webpage</td>\n      <td>27</td>\n      <td>False</td>\n      <td>10.0</td>\n    </tr>\n    <tr>\n      <th>1469974654</th>\n      <th>sue</th>\n      <td>webpage</td>\n      <td>28</td>\n      <td>False</td>\n      <td>5.0</td>\n    </tr>\n    <tr>\n      <th>1469974724</th>\n      <th>sue</th>\n      <td>webpage</td>\n      <td>29</td>\n      <td>False</td>\n      <td>5.0</td>\n    </tr>\n    <tr>\n      <th>1469974484</th>\n      <th>cheryl</th>\n      <td>webpage</td>\n      <td>7</td>\n      <td>False</td>\n      <td>5.0</td>\n    </tr>\n    <tr>\n      <th>1469974514</th>\n      <th>cheryl</th>\n      <td>webpage</td>\n      <td>8</td>\n      <td>False</td>\n      <td>5.0</td>\n    </tr>\n    <tr>\n      <th>1469974754</th>\n      <th>sue</th>\n      <td>webpage</td>\n      <td>30</td>\n      <td>False</td>\n      <td>5.0</td>\n    </tr>\n    <tr>\n      <th>1469974824</th>\n      <th>sue</th>\n      <td>webpage</td>\n      <td>31</td>\n      <td>False</td>\n      <td>5.0</td>\n    </tr>\n    <tr>\n      <th>1469974854</th>\n      <th>sue</th>\n      <td>webpage</td>\n      <td>32</td>\n      <td>False</td>\n      <td>5.0</td>\n    </tr>\n    <tr>\n      <th>1469974924</th>\n      <th>sue</th>\n      <td>webpage</td>\n      <td>33</td>\n      <td>False</td>\n      <td>5.0</td>\n    </tr>\n    <tr>\n      <th>1469977424</th>\n      <th>bob</th>\n      <td>webpage</td>\n      <td>1</td>\n      <td>True</td>\n      <td>10.0</td>\n    </tr>\n    <tr>\n      <th>1469977454</th>\n      <th>bob</th>\n      <td>webpage</td>\n      <td>1</td>\n      <td>True</td>\n      <td>10.0</td>\n    </tr>\n    <tr>\n      <th>1469977484</th>\n      <th>bob</th>\n      <td>webpage</td>\n      <td>1</td>\n      <td>True</td>\n      <td>10.0</td>\n    </tr>\n    <tr>\n      <th>1469977634</th>\n      <th>bob</th>\n      <td>webpage</td>\n      <td>1</td>\n      <td>True</td>\n      <td>10.0</td>\n    </tr>\n    <tr>\n      <th>1469977664</th>\n      <th>bob</th>\n      <td>webpage</td>\n      <td>1</td>\n      <td>True</td>\n      <td>10.0</td>\n    </tr>\n    <tr>\n      <th>1469974634</th>\n      <th>cheryl</th>\n      <td>webpage</td>\n      <td>12</td>\n      <td>True</td>\n      <td>10.0</td>\n    </tr>\n    <tr>\n      <th>1469974664</th>\n      <th>cheryl</th>\n      <td>webpage</td>\n      <td>13</td>\n      <td>True</td>\n      <td>10.0</td>\n    </tr>\n    <tr>\n      <th>1469977694</th>\n      <th>bob</th>\n      <td>webpage</td>\n      <td>1</td>\n      <td>True</td>\n      <td>10.0</td>\n    </tr>\n    <tr>\n      <th>1469977724</th>\n      <th>bob</th>\n      <td>webpage</td>\n      <td>1</td>\n      <td>True</td>\n      <td>10.0</td>\n    </tr>\n  </tbody>\n</table>\n</div>"
     },
     "metadata": {},
     "execution_count": 59
    }
   ],
   "source": [
    "import re\n",
    "df.replace(to_replace = \".*.html$\", value=\"webpage\", regex=True)\n",
    "# note that the regex treats each cell as an individual entity\n",
    "# it does not try to parse the entire row\n",
    "# regex explanation:\n",
    "#   .* matches any number of characters\n",
    "#   .html$ ending with .html\n"
   ]
  },
  {
   "source": [
    "## note on missing values\n",
    "most of the statistical calculations will ignore missing values, but it is important\n",
    "to acknowledge missing values and make a judgement on whether they are significant to the\n",
    "problem you are trying to solve.\n",
    "\n",
    "It may be unreasonable, for example, to infer missing values for data that should not exist"
   ],
   "cell_type": "markdown",
   "metadata": {}
  }
 ]
}