{
 "metadata": {
  "language_info": {
   "codemirror_mode": {
    "name": "ipython",
    "version": 3
   },
   "file_extension": ".py",
   "mimetype": "text/x-python",
   "name": "python",
   "nbconvert_exporter": "python",
   "pygments_lexer": "ipython3",
   "version": "3.8.5-final"
  },
  "orig_nbformat": 2,
  "kernelspec": {
   "name": "python3",
   "display_name": "Python 3",
   "language": "python"
  }
 },
 "nbformat": 4,
 "nbformat_minor": 2,
 "cells": [
  {
   "source": [
    "# Pandas dataframes\n",
    "the heart of pandas, dataframes can be conceptualized as a table with columns and rows, or more generally as a 2-axes labelled array\n",
    " "
   ],
   "cell_type": "markdown",
   "metadata": {}
  },
  {
   "cell_type": "code",
   "execution_count": 24,
   "metadata": {},
   "outputs": [
    {
     "output_type": "stream",
     "name": "stdout",
     "text": [
      "mrn       1001\nmetric    pain\nscore       10\ndtype: object\n       mrn metric  score\nDr_A  1001   pain   10.0\nDr_X  1002   hoos   85.7\nDr_A  1003   pain    5.0\n"
     ]
    },
    {
     "output_type": "execute_result",
     "data": {
      "text/plain": [
       "       mrn metric  score\n",
       "Dr_A  1001   pain   10.0\n",
       "Dr_X  1002   hoos   85.7\n",
       "Dr_A  1003   pain    5.0"
      ],
      "text/html": "<div>\n<style scoped>\n    .dataframe tbody tr th:only-of-type {\n        vertical-align: middle;\n    }\n\n    .dataframe tbody tr th {\n        vertical-align: top;\n    }\n\n    .dataframe thead th {\n        text-align: right;\n    }\n</style>\n<table border=\"1\" class=\"dataframe\">\n  <thead>\n    <tr style=\"text-align: right;\">\n      <th></th>\n      <th>mrn</th>\n      <th>metric</th>\n      <th>score</th>\n    </tr>\n  </thead>\n  <tbody>\n    <tr>\n      <th>Dr_A</th>\n      <td>1001</td>\n      <td>pain</td>\n      <td>10.0</td>\n    </tr>\n    <tr>\n      <th>Dr_X</th>\n      <td>1002</td>\n      <td>hoos</td>\n      <td>85.7</td>\n    </tr>\n    <tr>\n      <th>Dr_A</th>\n      <td>1003</td>\n      <td>pain</td>\n      <td>5.0</td>\n    </tr>\n  </tbody>\n</table>\n</div>"
     },
     "metadata": {},
     "execution_count": 24
    }
   ],
   "source": [
    "import numpy as np\n",
    "import pandas as pd\n",
    "\n",
    "# one way a dataframe can be constructed is from a list of series\n",
    "# one way a series can be constructed from a dictionary\n",
    "record1 = pd.Series({'mrn': '1001', 'metric': 'pain', 'score': 10})\n",
    "record2 = pd.Series({'mrn': '1002', 'metric': 'hoos', 'score': 85.7})\n",
    "record3 = pd.Series({'mrn': '1003', 'metric': 'pain', 'score': 5})\n",
    "\n",
    "print (record1)\n",
    "\n",
    "# the dataframe index can be passed in using another list as a parameter to the DataFrame function\n",
    "df = pd.DataFrame ([record1, record2, record3],\n",
    "                    index=['Dr_A', 'Dr_X', 'Dr_A'])\n",
    "# df = pd.DataFrame ([record1, record2, record3])\n",
    "\n",
    "print (df.head())\n",
    "# without the print command, the dataframe renders with some styling\n",
    "df.head()\n"
   ]
  },
  {
   "source": [
    "## Accessing data in the dataframe by loc and iloc"
   ],
   "cell_type": "markdown",
   "metadata": {}
  },
  {
   "cell_type": "code",
   "execution_count": 25,
   "metadata": {},
   "outputs": [
    {
     "output_type": "stream",
     "name": "stdout",
     "text": [
      "mrn       1002\nmetric    hoos\nscore     85.7\nName: Dr_X, dtype: object\n<class 'pandas.core.series.Series'>\n----\n       mrn metric  score\nDr_A  1001   pain   10.0\nDr_A  1003   pain    5.0\n<class 'pandas.core.frame.DataFrame'>\n"
     ]
    }
   ],
   "source": [
    "# data in the dataframe can be accessed using the .loc and .iloc parameters (iloc for integer indexes)\n",
    "# if there is only one record selected, the result will be returned as a series\n",
    "print(df.loc['Dr_X'])\n",
    "print(type(df.loc['Dr_X']))\n",
    "print('----')\n",
    "# if more than one row is selected, the result will be returned as a dataframe\n",
    "print(df.loc['Dr_A'])\n",
    "print(type(df.loc['Dr_A']))\n"
   ]
  },
  {
   "cell_type": "code",
   "execution_count": 28,
   "metadata": {},
   "outputs": [
    {
     "output_type": "execute_result",
     "data": {
      "text/plain": [
       "Dr_A    10.0\n",
       "Dr_A     5.0\n",
       "Name: score, dtype: float64"
      ]
     },
     "metadata": {},
     "execution_count": 28
    }
   ],
   "source": [
    "# you can select data based on multi axes\n",
    "# if two parameters are provided to .loc, the first will be the row selection and the second will be the column\n",
    "df.loc['Dr_A', 'score']"
   ]
  },
  {
   "cell_type": "code",
   "execution_count": 34,
   "metadata": {},
   "outputs": [
    {
     "output_type": "stream",
     "name": "stdout",
     "text": [
      "Dr_A    pain\nDr_X    hoos\nDr_A    pain\nName: metric, dtype: object\n----\nDr_A    pain\nDr_X    hoos\nDr_A    pain\nName: metric, dtype: object\n<class 'pandas.core.series.Series'>\n"
     ]
    }
   ],
   "source": [
    "# Selecting a single colunn of data can be achieved in a couple of ways\n",
    "# to use .loc, you can first transpose the dataframe using the T function then select a single row using .loc\n",
    "print (df.T.loc['metric'])\n",
    "print ('----')\n",
    "# if you use the loc attribute for this without transposing, you will get an ugly index error\n",
    "\n",
    "# However, the same effect can be achieved by passing in the column name to the dataframe directly\n",
    "print(df['metric'])\n",
    "\n",
    "#the result of this is a series object\n",
    "print(type(df['metric']))"
   ]
  },
  {
   "cell_type": "code",
   "execution_count": 47,
   "metadata": {},
   "outputs": [
    {
     "output_type": "stream",
     "name": "stdout",
     "text": [
      "       mrn metric  score\nDr_A  1001   pain   10.0\nDr_A  1003   pain    5.0\n<class 'pandas.core.frame.DataFrame'>\n----\nDr_A    10.0\nDr_A     5.0\nName: score, dtype: float64\n<class 'pandas.core.series.Series'>\n"
     ]
    }
   ],
   "source": [
    "# you can chain operations\n",
    "# the loc produces a dataframe selects all the rows that match the condition\n",
    "print(df.loc['Dr_A'])\n",
    "print(type(df.loc['Dr_A']))\n",
    "print('----')\n",
    "\n",
    "#chained with the column name it produces a series of the chosen column\n",
    "print(df.loc['Dr_A']['score'])\n",
    "print(type(df.loc['Dr_A']['score']))\n",
    "\n",
    "# it is better to avoid chaining if you can\n"
   ]
  },
  {
   "source": [
    "### beyond chaining"
   ],
   "cell_type": "markdown",
   "metadata": {}
  },
  {
   "cell_type": "code",
   "execution_count": 62,
   "metadata": {},
   "outputs": [
    {
     "output_type": "execute_result",
     "data": {
      "text/plain": [
       "       mrn metric  score\n",
       "Dr_X  1002   hoos   85.7\n",
       "Dr_A  1003   pain    5.0"
      ],
      "text/html": "<div>\n<style scoped>\n    .dataframe tbody tr th:only-of-type {\n        vertical-align: middle;\n    }\n\n    .dataframe tbody tr th {\n        vertical-align: top;\n    }\n\n    .dataframe thead th {\n        text-align: right;\n    }\n</style>\n<table border=\"1\" class=\"dataframe\">\n  <thead>\n    <tr style=\"text-align: right;\">\n      <th></th>\n      <th>mrn</th>\n      <th>metric</th>\n      <th>score</th>\n    </tr>\n  </thead>\n  <tbody>\n    <tr>\n      <th>Dr_X</th>\n      <td>1002</td>\n      <td>hoos</td>\n      <td>85.7</td>\n    </tr>\n    <tr>\n      <th>Dr_A</th>\n      <td>1003</td>\n      <td>pain</td>\n      <td>5.0</td>\n    </tr>\n  </tbody>\n</table>\n</div>"
     },
     "metadata": {},
     "execution_count": 62
    }
   ],
   "source": [
    "# an alternative to chaining\n",
    "# the .loc function selects rows and has two parameters\n",
    "# the row index and the list of column names\n",
    "# the loc attribute also supports slicing\n",
    "# here's how to select all of the mrn's and scores from all of the doctors\n",
    "df.loc[:,['mrn', 'score']]\n",
    "# the first parameter is a slice of all the rows [:]\n",
    "df.loc[:,['mrn', 'metric', 'score']]\n",
    "#to be determined...can you use this first parameter to limit the rows selected\n",
    "df.loc[:,['mrn', 'metric', 'score']]\n"
   ]
  },
  {
   "source": [
    "## Dropping Data"
   ],
   "cell_type": "markdown",
   "metadata": {}
  },
  {
   "cell_type": "code",
   "execution_count": 72,
   "metadata": {},
   "outputs": [
    {
     "output_type": "stream",
     "name": "stdout",
     "text": [
      "       mrn metric  score\nDr_A  1001   pain   10.0\nDr_X  1002   hoos   85.7\nDr_A  1003   pain    5.0\n----\n       mrn metric  score\nDr_A  1001   pain   10.0\nDr_A  1003   pain    5.0\n----\n     metric  score\nDr_A   pain   10.0\nDr_X   hoos   85.7\nDr_A   pain    5.0\n"
     ]
    }
   ],
   "source": [
    "# the drop function takes a simngle parameter, the row label (index) to drop\n",
    "# it doesn't actually change the original data frame, it returns a copy of the data frame without the dropped data\n",
    "print (df)\n",
    "print ('----')\n",
    "\n",
    "print(df.drop('Dr_X'))\n",
    "print ('----')\n",
    "\n",
    "# drop has two optional parameters\n",
    "#    inplace (True/False)\n",
    "#    axis(0=row, 1=column)\n",
    "# inplace affects the data in the data frame rather than making a copy\n",
    "# axis specifies row or column\n",
    "\n",
    "df2 = df.copy()\n",
    "df2.drop('mrn', inplace=True, axis=1)\n",
    "print(df2)\n",
    "\n"
   ]
  },
  {
   "source": [
    "# Querying Dataframes\n",
    "## boolean masking\n",
    "Conceptually, a boolean dataframe is overlaid on another dataframe and any cells with a true result are included in the resulting dataframe"
   ],
   "cell_type": "markdown",
   "metadata": {}
  },
  {
   "cell_type": "code",
   "execution_count": 6,
   "metadata": {},
   "outputs": [
    {
     "output_type": "execute_result",
     "data": {
      "text/plain": [
       "   serial no.  gre score  toefl score  university rating  sop  lor  cgpa  \\\n",
       "0           1        337          118                  4  4.5  4.5  9.65   \n",
       "1           2        324          107                  4  4.0  4.5  8.87   \n",
       "2           3        316          104                  3  3.0  3.5  8.00   \n",
       "3           4        322          110                  3  3.5  2.5  8.67   \n",
       "4           5        314          103                  2  2.0  3.0  8.21   \n",
       "\n",
       "   research  chance of admit  \n",
       "0         1             0.92  \n",
       "1         1             0.76  \n",
       "2         1             0.72  \n",
       "3         1             0.80  \n",
       "4         0             0.65  "
      ],
      "text/html": "<div>\n<style scoped>\n    .dataframe tbody tr th:only-of-type {\n        vertical-align: middle;\n    }\n\n    .dataframe tbody tr th {\n        vertical-align: top;\n    }\n\n    .dataframe thead th {\n        text-align: right;\n    }\n</style>\n<table border=\"1\" class=\"dataframe\">\n  <thead>\n    <tr style=\"text-align: right;\">\n      <th></th>\n      <th>serial no.</th>\n      <th>gre score</th>\n      <th>toefl score</th>\n      <th>university rating</th>\n      <th>sop</th>\n      <th>lor</th>\n      <th>cgpa</th>\n      <th>research</th>\n      <th>chance of admit</th>\n    </tr>\n  </thead>\n  <tbody>\n    <tr>\n      <th>0</th>\n      <td>1</td>\n      <td>337</td>\n      <td>118</td>\n      <td>4</td>\n      <td>4.5</td>\n      <td>4.5</td>\n      <td>9.65</td>\n      <td>1</td>\n      <td>0.92</td>\n    </tr>\n    <tr>\n      <th>1</th>\n      <td>2</td>\n      <td>324</td>\n      <td>107</td>\n      <td>4</td>\n      <td>4.0</td>\n      <td>4.5</td>\n      <td>8.87</td>\n      <td>1</td>\n      <td>0.76</td>\n    </tr>\n    <tr>\n      <th>2</th>\n      <td>3</td>\n      <td>316</td>\n      <td>104</td>\n      <td>3</td>\n      <td>3.0</td>\n      <td>3.5</td>\n      <td>8.00</td>\n      <td>1</td>\n      <td>0.72</td>\n    </tr>\n    <tr>\n      <th>3</th>\n      <td>4</td>\n      <td>322</td>\n      <td>110</td>\n      <td>3</td>\n      <td>3.5</td>\n      <td>2.5</td>\n      <td>8.67</td>\n      <td>1</td>\n      <td>0.80</td>\n    </tr>\n    <tr>\n      <th>4</th>\n      <td>5</td>\n      <td>314</td>\n      <td>103</td>\n      <td>2</td>\n      <td>2.0</td>\n      <td>3.0</td>\n      <td>8.21</td>\n      <td>0</td>\n      <td>0.65</td>\n    </tr>\n  </tbody>\n</table>\n</div>"
     },
     "metadata": {},
     "execution_count": 6
    }
   ],
   "source": [
    "# following the example in pandas_load notebook, open a csv dataset and clean up the column names using a list comprehension\n",
    "import pandas as pd \n",
    "df = pd.read_csv('../resources/week-2/datasets/Admission_Predict.csv')\n",
    "df.columns = [x.lower().strip() for x in df.columns]\n",
    "df.head()\n"
   ]
  },
  {
   "cell_type": "code",
   "execution_count": 9,
   "metadata": {},
   "outputs": [
    {
     "output_type": "execute_result",
     "data": {
      "text/plain": [
       "0     True\n",
       "1     True\n",
       "2     True\n",
       "3     True\n",
       "4    False\n",
       "Name: chance of admit, dtype: bool"
      ]
     },
     "metadata": {},
     "execution_count": 9
    }
   ],
   "source": [
    "# creating the boolean mask \n",
    "# project the chance of admit as values > .7 and broadcast this to the chance of admit column \n",
    "admit_mask = df['chance of admit'] > 0.7\n",
    "admit_mask.head()"
   ]
  },
  {
   "cell_type": "code",
   "execution_count": 10,
   "metadata": {},
   "outputs": [
    {
     "output_type": "execute_result",
     "data": {
      "text/plain": [
       "     serial no.  gre score  toefl score  university rating  sop  lor  cgpa  \\\n",
       "0           1.0      337.0        118.0                4.0  4.5  4.5  9.65   \n",
       "1           2.0      324.0        107.0                4.0  4.0  4.5  8.87   \n",
       "2           3.0      316.0        104.0                3.0  3.0  3.5  8.00   \n",
       "3           4.0      322.0        110.0                3.0  3.5  2.5  8.67   \n",
       "4           NaN        NaN          NaN                NaN  NaN  NaN   NaN   \n",
       "..          ...        ...          ...                ...  ...  ...   ...   \n",
       "395       396.0      324.0        110.0                3.0  3.5  3.5  9.04   \n",
       "396       397.0      325.0        107.0                3.0  3.0  3.5  9.11   \n",
       "397       398.0      330.0        116.0                4.0  5.0  4.5  9.45   \n",
       "398         NaN        NaN          NaN                NaN  NaN  NaN   NaN   \n",
       "399       400.0      333.0        117.0                4.0  5.0  4.0  9.66   \n",
       "\n",
       "     research  chance of admit  \n",
       "0         1.0             0.92  \n",
       "1         1.0             0.76  \n",
       "2         1.0             0.72  \n",
       "3         1.0             0.80  \n",
       "4         NaN              NaN  \n",
       "..        ...              ...  \n",
       "395       1.0             0.82  \n",
       "396       1.0             0.84  \n",
       "397       1.0             0.91  \n",
       "398       NaN              NaN  \n",
       "399       1.0             0.95  \n",
       "\n",
       "[400 rows x 9 columns]"
      ],
      "text/html": "<div>\n<style scoped>\n    .dataframe tbody tr th:only-of-type {\n        vertical-align: middle;\n    }\n\n    .dataframe tbody tr th {\n        vertical-align: top;\n    }\n\n    .dataframe thead th {\n        text-align: right;\n    }\n</style>\n<table border=\"1\" class=\"dataframe\">\n  <thead>\n    <tr style=\"text-align: right;\">\n      <th></th>\n      <th>serial no.</th>\n      <th>gre score</th>\n      <th>toefl score</th>\n      <th>university rating</th>\n      <th>sop</th>\n      <th>lor</th>\n      <th>cgpa</th>\n      <th>research</th>\n      <th>chance of admit</th>\n    </tr>\n  </thead>\n  <tbody>\n    <tr>\n      <th>0</th>\n      <td>1.0</td>\n      <td>337.0</td>\n      <td>118.0</td>\n      <td>4.0</td>\n      <td>4.5</td>\n      <td>4.5</td>\n      <td>9.65</td>\n      <td>1.0</td>\n      <td>0.92</td>\n    </tr>\n    <tr>\n      <th>1</th>\n      <td>2.0</td>\n      <td>324.0</td>\n      <td>107.0</td>\n      <td>4.0</td>\n      <td>4.0</td>\n      <td>4.5</td>\n      <td>8.87</td>\n      <td>1.0</td>\n      <td>0.76</td>\n    </tr>\n    <tr>\n      <th>2</th>\n      <td>3.0</td>\n      <td>316.0</td>\n      <td>104.0</td>\n      <td>3.0</td>\n      <td>3.0</td>\n      <td>3.5</td>\n      <td>8.00</td>\n      <td>1.0</td>\n      <td>0.72</td>\n    </tr>\n    <tr>\n      <th>3</th>\n      <td>4.0</td>\n      <td>322.0</td>\n      <td>110.0</td>\n      <td>3.0</td>\n      <td>3.5</td>\n      <td>2.5</td>\n      <td>8.67</td>\n      <td>1.0</td>\n      <td>0.80</td>\n    </tr>\n    <tr>\n      <th>4</th>\n      <td>NaN</td>\n      <td>NaN</td>\n      <td>NaN</td>\n      <td>NaN</td>\n      <td>NaN</td>\n      <td>NaN</td>\n      <td>NaN</td>\n      <td>NaN</td>\n      <td>NaN</td>\n    </tr>\n    <tr>\n      <th>...</th>\n      <td>...</td>\n      <td>...</td>\n      <td>...</td>\n      <td>...</td>\n      <td>...</td>\n      <td>...</td>\n      <td>...</td>\n      <td>...</td>\n      <td>...</td>\n    </tr>\n    <tr>\n      <th>395</th>\n      <td>396.0</td>\n      <td>324.0</td>\n      <td>110.0</td>\n      <td>3.0</td>\n      <td>3.5</td>\n      <td>3.5</td>\n      <td>9.04</td>\n      <td>1.0</td>\n      <td>0.82</td>\n    </tr>\n    <tr>\n      <th>396</th>\n      <td>397.0</td>\n      <td>325.0</td>\n      <td>107.0</td>\n      <td>3.0</td>\n      <td>3.0</td>\n      <td>3.5</td>\n      <td>9.11</td>\n      <td>1.0</td>\n      <td>0.84</td>\n    </tr>\n    <tr>\n      <th>397</th>\n      <td>398.0</td>\n      <td>330.0</td>\n      <td>116.0</td>\n      <td>4.0</td>\n      <td>5.0</td>\n      <td>4.5</td>\n      <td>9.45</td>\n      <td>1.0</td>\n      <td>0.91</td>\n    </tr>\n    <tr>\n      <th>398</th>\n      <td>NaN</td>\n      <td>NaN</td>\n      <td>NaN</td>\n      <td>NaN</td>\n      <td>NaN</td>\n      <td>NaN</td>\n      <td>NaN</td>\n      <td>NaN</td>\n      <td>NaN</td>\n    </tr>\n    <tr>\n      <th>399</th>\n      <td>400.0</td>\n      <td>333.0</td>\n      <td>117.0</td>\n      <td>4.0</td>\n      <td>5.0</td>\n      <td>4.0</td>\n      <td>9.66</td>\n      <td>1.0</td>\n      <td>0.95</td>\n    </tr>\n  </tbody>\n</table>\n<p>400 rows × 9 columns</p>\n</div>"
     },
     "metadata": {},
     "execution_count": 10
    }
   ],
   "source": [
    "# to apply this mask to the original dataframe use the .where function\n",
    "df.where(admit_mask)"
   ]
  },
  {
   "cell_type": "code",
   "execution_count": 13,
   "metadata": {},
   "outputs": [
    {
     "output_type": "execute_result",
     "data": {
      "text/plain": [
       "     serial no.  gre score  toefl score  university rating  sop  lor  cgpa  \\\n",
       "0           1.0      337.0        118.0                4.0  4.5  4.5  9.65   \n",
       "1           2.0      324.0        107.0                4.0  4.0  4.5  8.87   \n",
       "2           3.0      316.0        104.0                3.0  3.0  3.5  8.00   \n",
       "3           4.0      322.0        110.0                3.0  3.5  2.5  8.67   \n",
       "5           6.0      330.0        115.0                5.0  4.5  3.0  9.34   \n",
       "..          ...        ...          ...                ...  ...  ...   ...   \n",
       "394       395.0      329.0        111.0                4.0  4.5  4.0  9.23   \n",
       "395       396.0      324.0        110.0                3.0  3.5  3.5  9.04   \n",
       "396       397.0      325.0        107.0                3.0  3.0  3.5  9.11   \n",
       "397       398.0      330.0        116.0                4.0  5.0  4.5  9.45   \n",
       "399       400.0      333.0        117.0                4.0  5.0  4.0  9.66   \n",
       "\n",
       "     research  chance of admit  \n",
       "0         1.0             0.92  \n",
       "1         1.0             0.76  \n",
       "2         1.0             0.72  \n",
       "3         1.0             0.80  \n",
       "5         1.0             0.90  \n",
       "..        ...              ...  \n",
       "394       1.0             0.89  \n",
       "395       1.0             0.82  \n",
       "396       1.0             0.84  \n",
       "397       1.0             0.91  \n",
       "399       1.0             0.95  \n",
       "\n",
       "[235 rows x 9 columns]"
      ],
      "text/html": "<div>\n<style scoped>\n    .dataframe tbody tr th:only-of-type {\n        vertical-align: middle;\n    }\n\n    .dataframe tbody tr th {\n        vertical-align: top;\n    }\n\n    .dataframe thead th {\n        text-align: right;\n    }\n</style>\n<table border=\"1\" class=\"dataframe\">\n  <thead>\n    <tr style=\"text-align: right;\">\n      <th></th>\n      <th>serial no.</th>\n      <th>gre score</th>\n      <th>toefl score</th>\n      <th>university rating</th>\n      <th>sop</th>\n      <th>lor</th>\n      <th>cgpa</th>\n      <th>research</th>\n      <th>chance of admit</th>\n    </tr>\n  </thead>\n  <tbody>\n    <tr>\n      <th>0</th>\n      <td>1.0</td>\n      <td>337.0</td>\n      <td>118.0</td>\n      <td>4.0</td>\n      <td>4.5</td>\n      <td>4.5</td>\n      <td>9.65</td>\n      <td>1.0</td>\n      <td>0.92</td>\n    </tr>\n    <tr>\n      <th>1</th>\n      <td>2.0</td>\n      <td>324.0</td>\n      <td>107.0</td>\n      <td>4.0</td>\n      <td>4.0</td>\n      <td>4.5</td>\n      <td>8.87</td>\n      <td>1.0</td>\n      <td>0.76</td>\n    </tr>\n    <tr>\n      <th>2</th>\n      <td>3.0</td>\n      <td>316.0</td>\n      <td>104.0</td>\n      <td>3.0</td>\n      <td>3.0</td>\n      <td>3.5</td>\n      <td>8.00</td>\n      <td>1.0</td>\n      <td>0.72</td>\n    </tr>\n    <tr>\n      <th>3</th>\n      <td>4.0</td>\n      <td>322.0</td>\n      <td>110.0</td>\n      <td>3.0</td>\n      <td>3.5</td>\n      <td>2.5</td>\n      <td>8.67</td>\n      <td>1.0</td>\n      <td>0.80</td>\n    </tr>\n    <tr>\n      <th>5</th>\n      <td>6.0</td>\n      <td>330.0</td>\n      <td>115.0</td>\n      <td>5.0</td>\n      <td>4.5</td>\n      <td>3.0</td>\n      <td>9.34</td>\n      <td>1.0</td>\n      <td>0.90</td>\n    </tr>\n    <tr>\n      <th>...</th>\n      <td>...</td>\n      <td>...</td>\n      <td>...</td>\n      <td>...</td>\n      <td>...</td>\n      <td>...</td>\n      <td>...</td>\n      <td>...</td>\n      <td>...</td>\n    </tr>\n    <tr>\n      <th>394</th>\n      <td>395.0</td>\n      <td>329.0</td>\n      <td>111.0</td>\n      <td>4.0</td>\n      <td>4.5</td>\n      <td>4.0</td>\n      <td>9.23</td>\n      <td>1.0</td>\n      <td>0.89</td>\n    </tr>\n    <tr>\n      <th>395</th>\n      <td>396.0</td>\n      <td>324.0</td>\n      <td>110.0</td>\n      <td>3.0</td>\n      <td>3.5</td>\n      <td>3.5</td>\n      <td>9.04</td>\n      <td>1.0</td>\n      <td>0.82</td>\n    </tr>\n    <tr>\n      <th>396</th>\n      <td>397.0</td>\n      <td>325.0</td>\n      <td>107.0</td>\n      <td>3.0</td>\n      <td>3.0</td>\n      <td>3.5</td>\n      <td>9.11</td>\n      <td>1.0</td>\n      <td>0.84</td>\n    </tr>\n    <tr>\n      <th>397</th>\n      <td>398.0</td>\n      <td>330.0</td>\n      <td>116.0</td>\n      <td>4.0</td>\n      <td>5.0</td>\n      <td>4.5</td>\n      <td>9.45</td>\n      <td>1.0</td>\n      <td>0.91</td>\n    </tr>\n    <tr>\n      <th>399</th>\n      <td>400.0</td>\n      <td>333.0</td>\n      <td>117.0</td>\n      <td>4.0</td>\n      <td>5.0</td>\n      <td>4.0</td>\n      <td>9.66</td>\n      <td>1.0</td>\n      <td>0.95</td>\n    </tr>\n  </tbody>\n</table>\n<p>235 rows × 9 columns</p>\n</div>"
     },
     "metadata": {},
     "execution_count": 13
    }
   ],
   "source": [
    "# all the data that meets the condition are returned. NaN is returned for data that do not meet the condition\n",
    "# NaN data can be dropped using the dropna function\n",
    "df.where(admit_mask).dropna()"
   ]
  },
  {
   "cell_type": "code",
   "execution_count": 15,
   "metadata": {},
   "outputs": [
    {
     "output_type": "execute_result",
     "data": {
      "text/plain": [
       "   serial no.  gre score  toefl score  university rating  sop  lor  cgpa  \\\n",
       "0           1        337          118                  4  4.5  4.5  9.65   \n",
       "1           2        324          107                  4  4.0  4.5  8.87   \n",
       "2           3        316          104                  3  3.0  3.5  8.00   \n",
       "3           4        322          110                  3  3.5  2.5  8.67   \n",
       "5           6        330          115                  5  4.5  3.0  9.34   \n",
       "\n",
       "   research  chance of admit  \n",
       "0         1             0.92  \n",
       "1         1             0.76  \n",
       "2         1             0.72  \n",
       "3         1             0.80  \n",
       "5         1             0.90  "
      ],
      "text/html": "<div>\n<style scoped>\n    .dataframe tbody tr th:only-of-type {\n        vertical-align: middle;\n    }\n\n    .dataframe tbody tr th {\n        vertical-align: top;\n    }\n\n    .dataframe thead th {\n        text-align: right;\n    }\n</style>\n<table border=\"1\" class=\"dataframe\">\n  <thead>\n    <tr style=\"text-align: right;\">\n      <th></th>\n      <th>serial no.</th>\n      <th>gre score</th>\n      <th>toefl score</th>\n      <th>university rating</th>\n      <th>sop</th>\n      <th>lor</th>\n      <th>cgpa</th>\n      <th>research</th>\n      <th>chance of admit</th>\n    </tr>\n  </thead>\n  <tbody>\n    <tr>\n      <th>0</th>\n      <td>1</td>\n      <td>337</td>\n      <td>118</td>\n      <td>4</td>\n      <td>4.5</td>\n      <td>4.5</td>\n      <td>9.65</td>\n      <td>1</td>\n      <td>0.92</td>\n    </tr>\n    <tr>\n      <th>1</th>\n      <td>2</td>\n      <td>324</td>\n      <td>107</td>\n      <td>4</td>\n      <td>4.0</td>\n      <td>4.5</td>\n      <td>8.87</td>\n      <td>1</td>\n      <td>0.76</td>\n    </tr>\n    <tr>\n      <th>2</th>\n      <td>3</td>\n      <td>316</td>\n      <td>104</td>\n      <td>3</td>\n      <td>3.0</td>\n      <td>3.5</td>\n      <td>8.00</td>\n      <td>1</td>\n      <td>0.72</td>\n    </tr>\n    <tr>\n      <th>3</th>\n      <td>4</td>\n      <td>322</td>\n      <td>110</td>\n      <td>3</td>\n      <td>3.5</td>\n      <td>2.5</td>\n      <td>8.67</td>\n      <td>1</td>\n      <td>0.80</td>\n    </tr>\n    <tr>\n      <th>5</th>\n      <td>6</td>\n      <td>330</td>\n      <td>115</td>\n      <td>5</td>\n      <td>4.5</td>\n      <td>3.0</td>\n      <td>9.34</td>\n      <td>1</td>\n      <td>0.90</td>\n    </tr>\n  </tbody>\n</table>\n</div>"
     },
     "metadata": {},
     "execution_count": 15
    }
   ],
   "source": [
    "# often times .where().dropna() is not used in favor of a shorthand notation \n",
    "# this is probably more difficult to read, but you will encounter this in other's code\n",
    "df[df['chance of admit'] > 0.7].head()"
   ]
  },
  {
   "source": [
    "## multiple boolean masking\n",
    "'and' and 'or' are not understood by pandas series, so you need to use the '&' and '|' operators to accomplish this "
   ],
   "cell_type": "markdown",
   "metadata": {}
  },
  {
   "cell_type": "code",
   "execution_count": 19,
   "metadata": {},
   "outputs": [
    {
     "output_type": "execute_result",
     "data": {
      "text/plain": [
       "     serial no.  gre score  toefl score  university rating  sop  lor  cgpa  \\\n",
       "4             5        314          103                  2  2.0  3.0  8.21   \n",
       "7             8        308          101                  2  3.0  4.0  7.90   \n",
       "8             9        302          102                  1  2.0  1.5  8.00   \n",
       "9            10        323          108                  3  3.5  3.0  8.60   \n",
       "10           11        325          106                  3  3.5  4.0  8.40   \n",
       "..          ...        ...          ...                ...  ...  ...   ...   \n",
       "386         387        302          101                  2  2.5  3.5  7.96   \n",
       "387         388        307          105                  2  2.0  3.5  8.10   \n",
       "388         389        296           97                  2  1.5  2.0  7.80   \n",
       "390         391        314          102                  2  2.0  2.5  8.24   \n",
       "398         399        312          103                  3  3.5  4.0  8.78   \n",
       "\n",
       "     research  chance of admit  \n",
       "4           0             0.65  \n",
       "7           0             0.68  \n",
       "8           0             0.50  \n",
       "9           0             0.45  \n",
       "10          1             0.52  \n",
       "..        ...              ...  \n",
       "386         0             0.46  \n",
       "387         0             0.53  \n",
       "388         0             0.49  \n",
       "390         0             0.64  \n",
       "398         0             0.67  \n",
       "\n",
       "[165 rows x 9 columns]"
      ],
      "text/html": "<div>\n<style scoped>\n    .dataframe tbody tr th:only-of-type {\n        vertical-align: middle;\n    }\n\n    .dataframe tbody tr th {\n        vertical-align: top;\n    }\n\n    .dataframe thead th {\n        text-align: right;\n    }\n</style>\n<table border=\"1\" class=\"dataframe\">\n  <thead>\n    <tr style=\"text-align: right;\">\n      <th></th>\n      <th>serial no.</th>\n      <th>gre score</th>\n      <th>toefl score</th>\n      <th>university rating</th>\n      <th>sop</th>\n      <th>lor</th>\n      <th>cgpa</th>\n      <th>research</th>\n      <th>chance of admit</th>\n    </tr>\n  </thead>\n  <tbody>\n    <tr>\n      <th>4</th>\n      <td>5</td>\n      <td>314</td>\n      <td>103</td>\n      <td>2</td>\n      <td>2.0</td>\n      <td>3.0</td>\n      <td>8.21</td>\n      <td>0</td>\n      <td>0.65</td>\n    </tr>\n    <tr>\n      <th>7</th>\n      <td>8</td>\n      <td>308</td>\n      <td>101</td>\n      <td>2</td>\n      <td>3.0</td>\n      <td>4.0</td>\n      <td>7.90</td>\n      <td>0</td>\n      <td>0.68</td>\n    </tr>\n    <tr>\n      <th>8</th>\n      <td>9</td>\n      <td>302</td>\n      <td>102</td>\n      <td>1</td>\n      <td>2.0</td>\n      <td>1.5</td>\n      <td>8.00</td>\n      <td>0</td>\n      <td>0.50</td>\n    </tr>\n    <tr>\n      <th>9</th>\n      <td>10</td>\n      <td>323</td>\n      <td>108</td>\n      <td>3</td>\n      <td>3.5</td>\n      <td>3.0</td>\n      <td>8.60</td>\n      <td>0</td>\n      <td>0.45</td>\n    </tr>\n    <tr>\n      <th>10</th>\n      <td>11</td>\n      <td>325</td>\n      <td>106</td>\n      <td>3</td>\n      <td>3.5</td>\n      <td>4.0</td>\n      <td>8.40</td>\n      <td>1</td>\n      <td>0.52</td>\n    </tr>\n    <tr>\n      <th>...</th>\n      <td>...</td>\n      <td>...</td>\n      <td>...</td>\n      <td>...</td>\n      <td>...</td>\n      <td>...</td>\n      <td>...</td>\n      <td>...</td>\n      <td>...</td>\n    </tr>\n    <tr>\n      <th>386</th>\n      <td>387</td>\n      <td>302</td>\n      <td>101</td>\n      <td>2</td>\n      <td>2.5</td>\n      <td>3.5</td>\n      <td>7.96</td>\n      <td>0</td>\n      <td>0.46</td>\n    </tr>\n    <tr>\n      <th>387</th>\n      <td>388</td>\n      <td>307</td>\n      <td>105</td>\n      <td>2</td>\n      <td>2.0</td>\n      <td>3.5</td>\n      <td>8.10</td>\n      <td>0</td>\n      <td>0.53</td>\n    </tr>\n    <tr>\n      <th>388</th>\n      <td>389</td>\n      <td>296</td>\n      <td>97</td>\n      <td>2</td>\n      <td>1.5</td>\n      <td>2.0</td>\n      <td>7.80</td>\n      <td>0</td>\n      <td>0.49</td>\n    </tr>\n    <tr>\n      <th>390</th>\n      <td>391</td>\n      <td>314</td>\n      <td>102</td>\n      <td>2</td>\n      <td>2.0</td>\n      <td>2.5</td>\n      <td>8.24</td>\n      <td>0</td>\n      <td>0.64</td>\n    </tr>\n    <tr>\n      <th>398</th>\n      <td>399</td>\n      <td>312</td>\n      <td>103</td>\n      <td>3</td>\n      <td>3.5</td>\n      <td>4.0</td>\n      <td>8.78</td>\n      <td>0</td>\n      <td>0.67</td>\n    </tr>\n  </tbody>\n</table>\n<p>165 rows × 9 columns</p>\n</div>"
     },
     "metadata": {},
     "execution_count": 19
    }
   ],
   "source": [
    "df[(df['chance of admit'] > 0.7) & (df['chance of admit'] < 0.9)]\n",
    "# important to note that parentheses around the individual terms you are interested in are required in this formulation\n",
    "# this is a quirk of python which does not natively know how to do bitwise comparison on a pandas dataframe\n",
    "\n",
    "# pandas also has some functions that can be used as an alternative to this\n",
    "# gt() is 'greater than' and lt() is 'less than'\n",
    "# these functions can be chained, so the statement above can be rewritten as\n",
    "df[df['chance of admit'].gt(0.7).lt(0.9)]"
   ]
  }
 ]
}