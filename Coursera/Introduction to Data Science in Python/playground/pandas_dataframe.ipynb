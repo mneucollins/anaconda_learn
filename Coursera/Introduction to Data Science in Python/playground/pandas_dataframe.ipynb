{
 "metadata": {
  "language_info": {
   "codemirror_mode": {
    "name": "ipython",
    "version": 3
   },
   "file_extension": ".py",
   "mimetype": "text/x-python",
   "name": "python",
   "nbconvert_exporter": "python",
   "pygments_lexer": "ipython3",
   "version": "3.8.5-final"
  },
  "orig_nbformat": 2,
  "kernelspec": {
   "name": "python3",
   "display_name": "Python 3",
   "language": "python"
  }
 },
 "nbformat": 4,
 "nbformat_minor": 2,
 "cells": [
  {
   "source": [
    "# Pandas dataframes\n",
    "the heart of pandas, dataframes can be conceptualized as a table with columns and rows, or more generally as a 2-axes labelled array\n",
    " "
   ],
   "cell_type": "markdown",
   "metadata": {}
  },
  {
   "cell_type": "code",
   "execution_count": 24,
   "metadata": {},
   "outputs": [
    {
     "output_type": "stream",
     "name": "stdout",
     "text": [
      "mrn       1001\nmetric    pain\nscore       10\ndtype: object\n       mrn metric  score\nDr_A  1001   pain   10.0\nDr_X  1002   hoos   85.7\nDr_A  1003   pain    5.0\n"
     ]
    },
    {
     "output_type": "execute_result",
     "data": {
      "text/plain": [
       "       mrn metric  score\n",
       "Dr_A  1001   pain   10.0\n",
       "Dr_X  1002   hoos   85.7\n",
       "Dr_A  1003   pain    5.0"
      ],
      "text/html": "<div>\n<style scoped>\n    .dataframe tbody tr th:only-of-type {\n        vertical-align: middle;\n    }\n\n    .dataframe tbody tr th {\n        vertical-align: top;\n    }\n\n    .dataframe thead th {\n        text-align: right;\n    }\n</style>\n<table border=\"1\" class=\"dataframe\">\n  <thead>\n    <tr style=\"text-align: right;\">\n      <th></th>\n      <th>mrn</th>\n      <th>metric</th>\n      <th>score</th>\n    </tr>\n  </thead>\n  <tbody>\n    <tr>\n      <th>Dr_A</th>\n      <td>1001</td>\n      <td>pain</td>\n      <td>10.0</td>\n    </tr>\n    <tr>\n      <th>Dr_X</th>\n      <td>1002</td>\n      <td>hoos</td>\n      <td>85.7</td>\n    </tr>\n    <tr>\n      <th>Dr_A</th>\n      <td>1003</td>\n      <td>pain</td>\n      <td>5.0</td>\n    </tr>\n  </tbody>\n</table>\n</div>"
     },
     "metadata": {},
     "execution_count": 24
    }
   ],
   "source": [
    "import numpy as np\n",
    "import pandas as pd\n",
    "\n",
    "# one way a dataframe can be constructed is from a list of series\n",
    "# one way a series can be constructed from a dictionary\n",
    "record1 = pd.Series({'mrn': '1001', 'metric': 'pain', 'score': 10})\n",
    "record2 = pd.Series({'mrn': '1002', 'metric': 'hoos', 'score': 85.7})\n",
    "record3 = pd.Series({'mrn': '1003', 'metric': 'pain', 'score': 5})\n",
    "\n",
    "print (record1)\n",
    "\n",
    "# the dataframe index can be passed in using another list as a parameter to the DataFrame function\n",
    "df = pd.DataFrame ([record1, record2, record3],\n",
    "                    index=['Dr_A', 'Dr_X', 'Dr_A'])\n",
    "# df = pd.DataFrame ([record1, record2, record3])\n",
    "\n",
    "print (df.head())\n",
    "# without the print command, the dataframe renders with some styling\n",
    "df.head()\n"
   ]
  },
  {
   "cell_type": "code",
   "execution_count": 25,
   "metadata": {},
   "outputs": [
    {
     "output_type": "stream",
     "name": "stdout",
     "text": [
      "mrn       1002\nmetric    hoos\nscore     85.7\nName: Dr_X, dtype: object\n<class 'pandas.core.series.Series'>\n----\n       mrn metric  score\nDr_A  1001   pain   10.0\nDr_A  1003   pain    5.0\n<class 'pandas.core.frame.DataFrame'>\n"
     ]
    }
   ],
   "source": [
    "# data in the dataframe can be accessed using the .loc and .iloc parameters (iloc for integer indexes)\n",
    "# if there is only one record selected, the result will be returned as a series\n",
    "print(df.loc['Dr_X'])\n",
    "print(type(df.loc['Dr_X']))\n",
    "print('----')\n",
    "# if more than one row is selected, the result will be returned as a dataframe\n",
    "print(df.loc['Dr_A'])\n",
    "print(type(df.loc['Dr_A']))\n"
   ]
  },
  {
   "cell_type": "code",
   "execution_count": 28,
   "metadata": {},
   "outputs": [
    {
     "output_type": "execute_result",
     "data": {
      "text/plain": [
       "Dr_A    10.0\n",
       "Dr_A     5.0\n",
       "Name: score, dtype: float64"
      ]
     },
     "metadata": {},
     "execution_count": 28
    }
   ],
   "source": [
    "# you can select data based on multi axes\n",
    "# if two parameters are provided to .loc, the first will be the row selection and the second will be the column\n",
    "df.loc['Dr_A', 'score']"
   ]
  },
  {
   "cell_type": "code",
   "execution_count": 34,
   "metadata": {},
   "outputs": [
    {
     "output_type": "stream",
     "name": "stdout",
     "text": [
      "Dr_A    pain\nDr_X    hoos\nDr_A    pain\nName: metric, dtype: object\n----\nDr_A    pain\nDr_X    hoos\nDr_A    pain\nName: metric, dtype: object\n<class 'pandas.core.series.Series'>\n"
     ]
    }
   ],
   "source": [
    "# Selecting a single colunn of data can be achieved in a couple of ways\n",
    "# to use .loc, you can first transpose the dataframe using the T function then select a single row using .loc\n",
    "print (df.T.loc['metric'])\n",
    "print ('----')\n",
    "# if you use the loc attribute for this without transposing, you will get an ugly index error\n",
    "\n",
    "# However, the same effect can be achieved by passing in the column name to the dataframe directly\n",
    "print(df['metric'])\n",
    "\n",
    "#the result of this is a series object\n",
    "print(type(df['metric']))"
   ]
  },
  {
   "cell_type": "code",
   "execution_count": 47,
   "metadata": {},
   "outputs": [
    {
     "output_type": "stream",
     "name": "stdout",
     "text": [
      "       mrn metric  score\nDr_A  1001   pain   10.0\nDr_A  1003   pain    5.0\n<class 'pandas.core.frame.DataFrame'>\n----\nDr_A    10.0\nDr_A     5.0\nName: score, dtype: float64\n<class 'pandas.core.series.Series'>\n"
     ]
    }
   ],
   "source": [
    "# you can chain operations\n",
    "# the loc produces a dataframe selects all the rows that match the condition\n",
    "print(df.loc['Dr_A'])\n",
    "print(type(df.loc['Dr_A']))\n",
    "print('----')\n",
    "\n",
    "#chained with the column name it produces a series of the chosen column\n",
    "print(df.loc['Dr_A']['score'])\n",
    "print(type(df.loc['Dr_A']['score']))\n",
    "\n",
    "# it is better to avoid chaining if you can\n"
   ]
  },
  {
   "source": [
    "### beyond chaining"
   ],
   "cell_type": "markdown",
   "metadata": {}
  },
  {
   "cell_type": "code",
   "execution_count": 62,
   "metadata": {},
   "outputs": [
    {
     "output_type": "execute_result",
     "data": {
      "text/plain": [
       "       mrn metric  score\n",
       "Dr_X  1002   hoos   85.7\n",
       "Dr_A  1003   pain    5.0"
      ],
      "text/html": "<div>\n<style scoped>\n    .dataframe tbody tr th:only-of-type {\n        vertical-align: middle;\n    }\n\n    .dataframe tbody tr th {\n        vertical-align: top;\n    }\n\n    .dataframe thead th {\n        text-align: right;\n    }\n</style>\n<table border=\"1\" class=\"dataframe\">\n  <thead>\n    <tr style=\"text-align: right;\">\n      <th></th>\n      <th>mrn</th>\n      <th>metric</th>\n      <th>score</th>\n    </tr>\n  </thead>\n  <tbody>\n    <tr>\n      <th>Dr_X</th>\n      <td>1002</td>\n      <td>hoos</td>\n      <td>85.7</td>\n    </tr>\n    <tr>\n      <th>Dr_A</th>\n      <td>1003</td>\n      <td>pain</td>\n      <td>5.0</td>\n    </tr>\n  </tbody>\n</table>\n</div>"
     },
     "metadata": {},
     "execution_count": 62
    }
   ],
   "source": [
    "# an alternative to chaining\n",
    "# the .loc function selects rows and has two parameters\n",
    "# the row index and the list of column names\n",
    "# the loc attribute also supports slicing\n",
    "# here's how to select all of the mrn's and scores from all of the doctors\n",
    "df.loc[:,['mrn', 'score']]\n",
    "# the first parameter is a slice of all the rows [:]\n",
    "df.loc[:,['mrn', 'metric', 'score']]\n",
    "#to be determined...can you use this first parameter to limit the rows selected\n",
    "df.loc[:,['mrn', 'metric', 'score']]\n"
   ]
  },
  {
   "source": [
    "## Dropping Data"
   ],
   "cell_type": "markdown",
   "metadata": {}
  },
  {
   "cell_type": "code",
   "execution_count": 72,
   "metadata": {},
   "outputs": [
    {
     "output_type": "stream",
     "name": "stdout",
     "text": [
      "       mrn metric  score\nDr_A  1001   pain   10.0\nDr_X  1002   hoos   85.7\nDr_A  1003   pain    5.0\n----\n       mrn metric  score\nDr_A  1001   pain   10.0\nDr_A  1003   pain    5.0\n----\n     metric  score\nDr_A   pain   10.0\nDr_X   hoos   85.7\nDr_A   pain    5.0\n"
     ]
    }
   ],
   "source": [
    "# the drop function takes a simngle parameter, the row label (index) to drop\n",
    "# it doesn't actually change the original data frame, it returns a copy of the data frame without the dropped data\n",
    "print (df)\n",
    "print ('----')\n",
    "\n",
    "print(df.drop('Dr_X'))\n",
    "print ('----')\n",
    "\n",
    "# drop has two optional parameters\n",
    "#    inplace (True/False)\n",
    "#    axis(0=row, 1=column)\n",
    "# inplace affects the data in the data frame rather than making a copy\n",
    "# axis specifies row or column\n",
    "\n",
    "df2 = df.copy()\n",
    "df2.drop('mrn', inplace=True, axis=1)\n",
    "print(df2)\n",
    "\n"
   ]
  }
 ]
}