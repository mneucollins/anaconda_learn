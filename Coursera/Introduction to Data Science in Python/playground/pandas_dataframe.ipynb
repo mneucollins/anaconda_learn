{
 "metadata": {
  "language_info": {
   "codemirror_mode": {
    "name": "ipython",
    "version": 3
   },
   "file_extension": ".py",
   "mimetype": "text/x-python",
   "name": "python",
   "nbconvert_exporter": "python",
   "pygments_lexer": "ipython3",
   "version": 3
  },
  "orig_nbformat": 2
 },
 "nbformat": 4,
 "nbformat_minor": 2,
 "cells": [
  {
   "source": [
    "# Pandas dataframes\n",
    "the heart of pandas, dataframes can be conceptualized as a table with columns and rows, or more generally as a 2-axes labelled array\n",
    " "
   ],
   "cell_type": "markdown",
   "metadata": {}
  }
 ]
}