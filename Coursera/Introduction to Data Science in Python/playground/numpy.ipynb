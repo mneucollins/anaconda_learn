{
 "metadata": {
  "language_info": {
   "codemirror_mode": {
    "name": "ipython",
    "version": 3
   },
   "file_extension": ".py",
   "mimetype": "text/x-python",
   "name": "python",
   "nbconvert_exporter": "python",
   "pygments_lexer": "ipython3",
   "version": "3.8.5-final"
  },
  "orig_nbformat": 2,
  "kernelspec": {
   "name": "python3",
   "display_name": "Python 3",
   "language": "python"
  }
 },
 "nbformat": 4,
 "nbformat_minor": 2,
 "cells": [
  {
   "cell_type": "code",
   "execution_count": 5,
   "metadata": {},
   "outputs": [],
   "source": [
    "import numpy as np\n",
    "import math\n"
   ]
  },
  {
   "source": [
    "# Defining NumPy Arrays\n",
    "Arrays are essentially lists, or lists of lists\n",
    "\n",
    "numpy arrays can only be numeric (int or float)"
   ],
   "cell_type": "markdown",
   "metadata": {}
  },
  {
   "cell_type": "code",
   "execution_count": 9,
   "metadata": {},
   "outputs": [
    {
     "output_type": "stream",
     "name": "stdout",
     "text": [
      "ar1 has 1 dimension\nar12 is a list of lists and has 2 dimensions\n"
     ]
    },
    {
     "output_type": "execute_result",
     "data": {
      "text/plain": [
       "array([[1, 2, 3],\n",
       "       [4, 5, 6]])"
      ]
     },
     "metadata": {},
     "execution_count": 9
    }
   ],
   "source": [
    "# a list can be made into a one-dimensional array\n",
    "ar1 = np.array([1,2,3])\n",
    "print (\"ar1 has {} dimension\".format(ar1.ndim))\n",
    "\n",
    "#a list of lists makes a two-dimensional array\n",
    "ar2 = ([4,5,6])\n",
    "ar12 = np.array([ar1, ar2])\n",
    "print (\"ar12 is a list of lists and has {} dimensions\".format(ar12.ndim))\n",
    "ar12"
   ]
  },
  {
   "source": [
    "# you can interrogate the number of elements in each direction using the np.shape property\n",
    "ar12.shape"
   ],
   "cell_type": "code",
   "metadata": {},
   "execution_count": 11,
   "outputs": [
    {
     "output_type": "execute_result",
     "data": {
      "text/plain": [
       "(2, 3)"
      ]
     },
     "metadata": {},
     "execution_count": 11
    }
   ]
  },
  {
   "cell_type": "code",
   "execution_count": 18,
   "metadata": {},
   "outputs": [
    {
     "output_type": "execute_result",
     "data": {
      "text/plain": [
       "dtype('float64')"
      ]
     },
     "metadata": {},
     "execution_count": 18
    }
   ],
   "source": [
    "# you can interrgate the type of data in the array \n",
    "ar3 = np.array([1.2, 3.14, 5])\n",
    "ar3.dtype\n",
    "# only integers and floats are recognized\n",
    "# numpy will try to make the array homogenous, that is all one type, thus if an integer value is combined with a float the entire array will be float"
   ]
  },
  {
   "cell_type": "code",
   "execution_count": 24,
   "metadata": {},
   "outputs": [
    {
     "output_type": "stream",
     "name": "stdout",
     "text": [
      "[[1. 1. 1.]\n [1. 1. 1.]]\n[[0. 0. 0. 0.]\n [0. 0. 0. 0.]]\n[[0.86588169 0.60667023]\n [0.41479258 0.15872529]\n [0.47038051 0.37586051]]\n"
     ]
    }
   ],
   "source": [
    "# if you know the shape but not the contents of the array, you can set up the structure of the array with zeroes,ones, or random numbers as placeholders\n",
    "ar4= np.ones([2,3])\n",
    "ar5= np.zeros([2,4])\n",
    "ar6 = np.random.rand(3,2)\n",
    "print(ar4)\n",
    "print(ar5)\n",
    "print(ar6)\n"
   ]
  },
  {
   "cell_type": "code",
   "execution_count": 39,
   "metadata": {},
   "outputs": [
    {
     "output_type": "stream",
     "name": "stdout",
     "text": [
      "ar7 array:[ 0  5 10 15 20 25 30 35 40 45 50 55 60 65 70 75 80 85 90 95]\nar8 has 5 items to get from 1 to 2: [1.   1.25 1.5  1.75 2.  ]\n"
     ]
    }
   ],
   "source": [
    "# you can also fill arrays with ranges of values using the arange() (careful, that is not 'arrange') function and the linspace() function\n",
    "#arange takes 3 parameters begin value, end value, and step\n",
    "ar7 = np.arange(0,100,5)\n",
    "print('ar7 array:{}'.format(ar7))\n",
    "# when defining and array with the arange() function, the first value is inclusive and the last value is exclusive\n",
    "\n",
    "# linspace() also has 3 parameters, but the third parameter is not the step value as in arange, but rather the total number of items you want to generate\n",
    "ar8 = np.linspace(1,2,5)\n",
    "print (\"ar8 has 5 items to get from 1 to 2: {}\".format(ar8))\n"
   ]
  },
  {
   "source": [
    "# NumPy Array Operations\n"
   ],
   "cell_type": "markdown",
   "metadata": {}
  },
  {
   "source": [
    "# arithmetic operators on arrays apply elementwise\n",
    "a = np.arange(10,50,10)\n",
    "b = np.arange(1,5,1)\n",
    "c = a+b\n",
    "print(a)\n",
    "print(b)\n",
    "print(c)\n",
    "print(d)\n",
    "\n",
    "# arithmetic operation on arrays that are not the same shape cause an error \n",
    "d = np.arange(1,4,1)\n",
    "print(a.shape)\n",
    "print (d.shape)\n",
    "e = a+d\n",
    "print(e)\n"
   ],
   "cell_type": "code",
   "metadata": {},
   "execution_count": 45,
   "outputs": [
    {
     "output_type": "stream",
     "name": "stdout",
     "text": [
      "[10 20 30 40]\n[1 2 3 4]\n[11 22 33 44]\n[1 2 3]\n(4,)\n(3,)\n"
     ]
    },
    {
     "output_type": "error",
     "ename": "ValueError",
     "evalue": "operands could not be broadcast together with shapes (4,) (3,) ",
     "traceback": [
      "\u001b[0;31m---------------------------------------------------------------------------\u001b[0m",
      "\u001b[0;31mValueError\u001b[0m                                Traceback (most recent call last)",
      "\u001b[0;32m<ipython-input-45-2dc12ad8b74b>\u001b[0m in \u001b[0;36m<module>\u001b[0;34m\u001b[0m\n\u001b[1;32m     12\u001b[0m \u001b[0mprint\u001b[0m\u001b[0;34m(\u001b[0m\u001b[0ma\u001b[0m\u001b[0;34m.\u001b[0m\u001b[0mshape\u001b[0m\u001b[0;34m)\u001b[0m\u001b[0;34m\u001b[0m\u001b[0;34m\u001b[0m\u001b[0m\n\u001b[1;32m     13\u001b[0m \u001b[0mprint\u001b[0m \u001b[0;34m(\u001b[0m\u001b[0md\u001b[0m\u001b[0;34m.\u001b[0m\u001b[0mshape\u001b[0m\u001b[0;34m)\u001b[0m\u001b[0;34m\u001b[0m\u001b[0;34m\u001b[0m\u001b[0m\n\u001b[0;32m---> 14\u001b[0;31m \u001b[0me\u001b[0m \u001b[0;34m=\u001b[0m \u001b[0ma\u001b[0m\u001b[0;34m+\u001b[0m\u001b[0md\u001b[0m\u001b[0;34m\u001b[0m\u001b[0;34m\u001b[0m\u001b[0m\n\u001b[0m\u001b[1;32m     15\u001b[0m \u001b[0mprint\u001b[0m\u001b[0;34m(\u001b[0m\u001b[0me\u001b[0m\u001b[0;34m)\u001b[0m\u001b[0;34m\u001b[0m\u001b[0;34m\u001b[0m\u001b[0m\n",
      "\u001b[0;31mValueError\u001b[0m: operands could not be broadcast together with shapes (4,) (3,) "
     ]
    }
   ]
  },
  {
   "cell_type": "code",
   "execution_count": 54,
   "metadata": {},
   "outputs": [
    {
     "output_type": "stream",
     "name": "stdout",
     "text": [
      "[1 2 3 4]\n[0.39370079 0.78740157 1.18110236 1.57480315]\n"
     ]
    }
   ],
   "source": [
    "# when you apply a function to an array, it applies the function to every element of the array\n",
    "# say, for example you have an array of centimeters measurments and you want convert these to inches\n",
    "# there are 2.54 centimeters in an inch\n",
    "centimeters = np.array([1,2,3,4])\n",
    "inches = centimeters / 2.54\n",
    "print (centimeters)\n",
    "print (inches)"
   ]
  },
  {
   "cell_type": "code",
   "execution_count": 56,
   "metadata": {},
   "outputs": [
    {
     "output_type": "stream",
     "name": "stdout",
     "text": [
      "[0.39370079 0.78740157 1.18110236 1.57480315]\n[False False  True  True]\n"
     ]
    }
   ],
   "source": [
    "#if you apply a boolean test it will apply the test to all elements of the array and return an array filled with boolean values\n",
    "# for example testing if the inches are greater than 1\n",
    "print (inches)\n",
    "more_than_one = inches>1\n",
    "print (more_than_one)"
   ]
  },
  {
   "cell_type": "code",
   "execution_count": null,
   "metadata": {},
   "outputs": [],
   "source": []
  },
  {
   "cell_type": "code",
   "execution_count": 49,
   "metadata": {},
   "outputs": [
    {
     "output_type": "execute_result",
     "data": {
      "text/plain": [
       "0.39370078740157477"
      ]
     },
     "metadata": {},
     "execution_count": 49
    }
   ],
   "source": []
  },
  {
   "cell_type": "code",
   "execution_count": null,
   "metadata": {},
   "outputs": [],
   "source": []
  }
 ]
}