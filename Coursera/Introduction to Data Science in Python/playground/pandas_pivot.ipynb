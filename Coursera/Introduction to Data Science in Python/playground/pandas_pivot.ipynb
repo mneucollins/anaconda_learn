{
 "metadata": {
  "language_info": {
   "codemirror_mode": {
    "name": "ipython",
    "version": 3
   },
   "file_extension": ".py",
   "mimetype": "text/x-python",
   "name": "python",
   "nbconvert_exporter": "python",
   "pygments_lexer": "ipython3",
   "version": "3.8.5-final"
  },
  "orig_nbformat": 2,
  "kernelspec": {
   "name": "python3",
   "display_name": "Python 3",
   "language": "python"
  }
 },
 "nbformat": 4,
 "nbformat_minor": 2,
 "cells": [
  {
   "source": [
    "## Pivot Table\n",
    "Rows contain a variable of interest, Columns another variable, and the cells an aggregate value. In my instance,particularly of use in time-values\n",
    "\n",
    "Pivot tables often include marginal values as well, for example sums for each column or row\n",
    "\n",
    "The value of pivot tables is that they provide a way to see the relationship between two variables at once"
   ],
   "cell_type": "markdown",
   "metadata": {}
  },
  {
   "cell_type": "code",
   "execution_count": 11,
   "metadata": {},
   "outputs": [
    {
     "output_type": "execute_result",
     "data": {
      "text/plain": [
       "      world_rank                            institution         country  \\\n",
       "0              1                     Harvard University             USA   \n",
       "1              2  Massachusetts Institute of Technology             USA   \n",
       "2              3                    Stanford University             USA   \n",
       "3              4                University of Cambridge  United Kingdom   \n",
       "4              5     California Institute of Technology             USA   \n",
       "...          ...                                    ...             ...   \n",
       "2195         996              University of the Algarve        Portugal   \n",
       "2196         997                  Alexandria University           Egypt   \n",
       "2197         998            Federal University of Ceará          Brazil   \n",
       "2198         999                 University of A Coruña           Spain   \n",
       "2199        1000        China Pharmaceutical University           China   \n",
       "\n",
       "      national_rank  quality_of_education  alumni_employment  \\\n",
       "0                 1                     7                  9   \n",
       "1                 2                     9                 17   \n",
       "2                 3                    17                 11   \n",
       "3                 1                    10                 24   \n",
       "4                 4                     2                 29   \n",
       "...             ...                   ...                ...   \n",
       "2195              7                   367                567   \n",
       "2196              4                   236                566   \n",
       "2197             18                   367                549   \n",
       "2198             40                   367                567   \n",
       "2199             83                   367                567   \n",
       "\n",
       "      quality_of_faculty  publications  influence  citations  broad_impact  \\\n",
       "0                      1             1          1          1           NaN   \n",
       "1                      3            12          4          4           NaN   \n",
       "2                      5             4          2          2           NaN   \n",
       "3                      4            16         16         11           NaN   \n",
       "4                      7            37         22         22           NaN   \n",
       "...                  ...           ...        ...        ...           ...   \n",
       "2195                 218           926        845        812         969.0   \n",
       "2196                 218           997        908        645         981.0   \n",
       "2197                 218           830        823        812         975.0   \n",
       "2198                 218           886        974        812         975.0   \n",
       "2199                 218           861        991        812         981.0   \n",
       "\n",
       "      patents   score  year  \n",
       "0           5  100.00  2012  \n",
       "1           1   91.67  2012  \n",
       "2          15   89.50  2012  \n",
       "3          50   86.17  2012  \n",
       "4          18   85.21  2012  \n",
       "...       ...     ...   ...  \n",
       "2195      816   44.03  2015  \n",
       "2196      871   44.03  2015  \n",
       "2197      824   44.03  2015  \n",
       "2198      651   44.02  2015  \n",
       "2199      547   44.02  2015  \n",
       "\n",
       "[2200 rows x 14 columns]"
      ],
      "text/html": "<div>\n<style scoped>\n    .dataframe tbody tr th:only-of-type {\n        vertical-align: middle;\n    }\n\n    .dataframe tbody tr th {\n        vertical-align: top;\n    }\n\n    .dataframe thead th {\n        text-align: right;\n    }\n</style>\n<table border=\"1\" class=\"dataframe\">\n  <thead>\n    <tr style=\"text-align: right;\">\n      <th></th>\n      <th>world_rank</th>\n      <th>institution</th>\n      <th>country</th>\n      <th>national_rank</th>\n      <th>quality_of_education</th>\n      <th>alumni_employment</th>\n      <th>quality_of_faculty</th>\n      <th>publications</th>\n      <th>influence</th>\n      <th>citations</th>\n      <th>broad_impact</th>\n      <th>patents</th>\n      <th>score</th>\n      <th>year</th>\n    </tr>\n  </thead>\n  <tbody>\n    <tr>\n      <th>0</th>\n      <td>1</td>\n      <td>Harvard University</td>\n      <td>USA</td>\n      <td>1</td>\n      <td>7</td>\n      <td>9</td>\n      <td>1</td>\n      <td>1</td>\n      <td>1</td>\n      <td>1</td>\n      <td>NaN</td>\n      <td>5</td>\n      <td>100.00</td>\n      <td>2012</td>\n    </tr>\n    <tr>\n      <th>1</th>\n      <td>2</td>\n      <td>Massachusetts Institute of Technology</td>\n      <td>USA</td>\n      <td>2</td>\n      <td>9</td>\n      <td>17</td>\n      <td>3</td>\n      <td>12</td>\n      <td>4</td>\n      <td>4</td>\n      <td>NaN</td>\n      <td>1</td>\n      <td>91.67</td>\n      <td>2012</td>\n    </tr>\n    <tr>\n      <th>2</th>\n      <td>3</td>\n      <td>Stanford University</td>\n      <td>USA</td>\n      <td>3</td>\n      <td>17</td>\n      <td>11</td>\n      <td>5</td>\n      <td>4</td>\n      <td>2</td>\n      <td>2</td>\n      <td>NaN</td>\n      <td>15</td>\n      <td>89.50</td>\n      <td>2012</td>\n    </tr>\n    <tr>\n      <th>3</th>\n      <td>4</td>\n      <td>University of Cambridge</td>\n      <td>United Kingdom</td>\n      <td>1</td>\n      <td>10</td>\n      <td>24</td>\n      <td>4</td>\n      <td>16</td>\n      <td>16</td>\n      <td>11</td>\n      <td>NaN</td>\n      <td>50</td>\n      <td>86.17</td>\n      <td>2012</td>\n    </tr>\n    <tr>\n      <th>4</th>\n      <td>5</td>\n      <td>California Institute of Technology</td>\n      <td>USA</td>\n      <td>4</td>\n      <td>2</td>\n      <td>29</td>\n      <td>7</td>\n      <td>37</td>\n      <td>22</td>\n      <td>22</td>\n      <td>NaN</td>\n      <td>18</td>\n      <td>85.21</td>\n      <td>2012</td>\n    </tr>\n    <tr>\n      <th>...</th>\n      <td>...</td>\n      <td>...</td>\n      <td>...</td>\n      <td>...</td>\n      <td>...</td>\n      <td>...</td>\n      <td>...</td>\n      <td>...</td>\n      <td>...</td>\n      <td>...</td>\n      <td>...</td>\n      <td>...</td>\n      <td>...</td>\n      <td>...</td>\n    </tr>\n    <tr>\n      <th>2195</th>\n      <td>996</td>\n      <td>University of the Algarve</td>\n      <td>Portugal</td>\n      <td>7</td>\n      <td>367</td>\n      <td>567</td>\n      <td>218</td>\n      <td>926</td>\n      <td>845</td>\n      <td>812</td>\n      <td>969.0</td>\n      <td>816</td>\n      <td>44.03</td>\n      <td>2015</td>\n    </tr>\n    <tr>\n      <th>2196</th>\n      <td>997</td>\n      <td>Alexandria University</td>\n      <td>Egypt</td>\n      <td>4</td>\n      <td>236</td>\n      <td>566</td>\n      <td>218</td>\n      <td>997</td>\n      <td>908</td>\n      <td>645</td>\n      <td>981.0</td>\n      <td>871</td>\n      <td>44.03</td>\n      <td>2015</td>\n    </tr>\n    <tr>\n      <th>2197</th>\n      <td>998</td>\n      <td>Federal University of Ceará</td>\n      <td>Brazil</td>\n      <td>18</td>\n      <td>367</td>\n      <td>549</td>\n      <td>218</td>\n      <td>830</td>\n      <td>823</td>\n      <td>812</td>\n      <td>975.0</td>\n      <td>824</td>\n      <td>44.03</td>\n      <td>2015</td>\n    </tr>\n    <tr>\n      <th>2198</th>\n      <td>999</td>\n      <td>University of A Coruña</td>\n      <td>Spain</td>\n      <td>40</td>\n      <td>367</td>\n      <td>567</td>\n      <td>218</td>\n      <td>886</td>\n      <td>974</td>\n      <td>812</td>\n      <td>975.0</td>\n      <td>651</td>\n      <td>44.02</td>\n      <td>2015</td>\n    </tr>\n    <tr>\n      <th>2199</th>\n      <td>1000</td>\n      <td>China Pharmaceutical University</td>\n      <td>China</td>\n      <td>83</td>\n      <td>367</td>\n      <td>567</td>\n      <td>218</td>\n      <td>861</td>\n      <td>991</td>\n      <td>812</td>\n      <td>981.0</td>\n      <td>547</td>\n      <td>44.02</td>\n      <td>2015</td>\n    </tr>\n  </tbody>\n</table>\n<p>2200 rows × 14 columns</p>\n</div>"
     },
     "metadata": {},
     "execution_count": 11
    }
   ],
   "source": [
    "import pandas as pd\n",
    "import numpy as np\n",
    "\n",
    "df = pd.read_csv('../resources/week-3/datasets/cwurData.csv')\n",
    "df"
   ]
  },
  {
   "cell_type": "code",
   "execution_count": 17,
   "metadata": {},
   "outputs": [
    {
     "output_type": "execute_result",
     "data": {
      "text/plain": [
       "      world_rank                            institution         country  \\\n",
       "0              1                     Harvard University             USA   \n",
       "1              2  Massachusetts Institute of Technology             USA   \n",
       "2              3                    Stanford University             USA   \n",
       "3              4                University of Cambridge  United Kingdom   \n",
       "4              5     California Institute of Technology             USA   \n",
       "...          ...                                    ...             ...   \n",
       "2195         996              University of the Algarve        Portugal   \n",
       "2196         997                  Alexandria University           Egypt   \n",
       "2197         998            Federal University of Ceará          Brazil   \n",
       "2198         999                 University of A Coruña           Spain   \n",
       "2199        1000        China Pharmaceutical University           China   \n",
       "\n",
       "      national_rank  quality_of_education  alumni_employment  \\\n",
       "0                 1                     7                  9   \n",
       "1                 2                     9                 17   \n",
       "2                 3                    17                 11   \n",
       "3                 1                    10                 24   \n",
       "4                 4                     2                 29   \n",
       "...             ...                   ...                ...   \n",
       "2195              7                   367                567   \n",
       "2196              4                   236                566   \n",
       "2197             18                   367                549   \n",
       "2198             40                   367                567   \n",
       "2199             83                   367                567   \n",
       "\n",
       "      quality_of_faculty  publications  influence  citations  broad_impact  \\\n",
       "0                      1             1          1          1           NaN   \n",
       "1                      3            12          4          4           NaN   \n",
       "2                      5             4          2          2           NaN   \n",
       "3                      4            16         16         11           NaN   \n",
       "4                      7            37         22         22           NaN   \n",
       "...                  ...           ...        ...        ...           ...   \n",
       "2195                 218           926        845        812         969.0   \n",
       "2196                 218           997        908        645         981.0   \n",
       "2197                 218           830        823        812         975.0   \n",
       "2198                 218           886        974        812         975.0   \n",
       "2199                 218           861        991        812         981.0   \n",
       "\n",
       "      patents   score  year  Rank_level  \n",
       "0           5  100.00  2012  First_tier  \n",
       "1           1   91.67  2012  First_tier  \n",
       "2          15   89.50  2012  First_tier  \n",
       "3          50   86.17  2012  First_tier  \n",
       "4          18   85.21  2012  First_tier  \n",
       "...       ...     ...   ...         ...  \n",
       "2195      816   44.03  2015       Other  \n",
       "2196      871   44.03  2015       Other  \n",
       "2197      824   44.03  2015       Other  \n",
       "2198      651   44.02  2015       Other  \n",
       "2199      547   44.02  2015       Other  \n",
       "\n",
       "[2200 rows x 15 columns]"
      ],
      "text/html": "<div>\n<style scoped>\n    .dataframe tbody tr th:only-of-type {\n        vertical-align: middle;\n    }\n\n    .dataframe tbody tr th {\n        vertical-align: top;\n    }\n\n    .dataframe thead th {\n        text-align: right;\n    }\n</style>\n<table border=\"1\" class=\"dataframe\">\n  <thead>\n    <tr style=\"text-align: right;\">\n      <th></th>\n      <th>world_rank</th>\n      <th>institution</th>\n      <th>country</th>\n      <th>national_rank</th>\n      <th>quality_of_education</th>\n      <th>alumni_employment</th>\n      <th>quality_of_faculty</th>\n      <th>publications</th>\n      <th>influence</th>\n      <th>citations</th>\n      <th>broad_impact</th>\n      <th>patents</th>\n      <th>score</th>\n      <th>year</th>\n      <th>Rank_level</th>\n    </tr>\n  </thead>\n  <tbody>\n    <tr>\n      <th>0</th>\n      <td>1</td>\n      <td>Harvard University</td>\n      <td>USA</td>\n      <td>1</td>\n      <td>7</td>\n      <td>9</td>\n      <td>1</td>\n      <td>1</td>\n      <td>1</td>\n      <td>1</td>\n      <td>NaN</td>\n      <td>5</td>\n      <td>100.00</td>\n      <td>2012</td>\n      <td>First_tier</td>\n    </tr>\n    <tr>\n      <th>1</th>\n      <td>2</td>\n      <td>Massachusetts Institute of Technology</td>\n      <td>USA</td>\n      <td>2</td>\n      <td>9</td>\n      <td>17</td>\n      <td>3</td>\n      <td>12</td>\n      <td>4</td>\n      <td>4</td>\n      <td>NaN</td>\n      <td>1</td>\n      <td>91.67</td>\n      <td>2012</td>\n      <td>First_tier</td>\n    </tr>\n    <tr>\n      <th>2</th>\n      <td>3</td>\n      <td>Stanford University</td>\n      <td>USA</td>\n      <td>3</td>\n      <td>17</td>\n      <td>11</td>\n      <td>5</td>\n      <td>4</td>\n      <td>2</td>\n      <td>2</td>\n      <td>NaN</td>\n      <td>15</td>\n      <td>89.50</td>\n      <td>2012</td>\n      <td>First_tier</td>\n    </tr>\n    <tr>\n      <th>3</th>\n      <td>4</td>\n      <td>University of Cambridge</td>\n      <td>United Kingdom</td>\n      <td>1</td>\n      <td>10</td>\n      <td>24</td>\n      <td>4</td>\n      <td>16</td>\n      <td>16</td>\n      <td>11</td>\n      <td>NaN</td>\n      <td>50</td>\n      <td>86.17</td>\n      <td>2012</td>\n      <td>First_tier</td>\n    </tr>\n    <tr>\n      <th>4</th>\n      <td>5</td>\n      <td>California Institute of Technology</td>\n      <td>USA</td>\n      <td>4</td>\n      <td>2</td>\n      <td>29</td>\n      <td>7</td>\n      <td>37</td>\n      <td>22</td>\n      <td>22</td>\n      <td>NaN</td>\n      <td>18</td>\n      <td>85.21</td>\n      <td>2012</td>\n      <td>First_tier</td>\n    </tr>\n    <tr>\n      <th>...</th>\n      <td>...</td>\n      <td>...</td>\n      <td>...</td>\n      <td>...</td>\n      <td>...</td>\n      <td>...</td>\n      <td>...</td>\n      <td>...</td>\n      <td>...</td>\n      <td>...</td>\n      <td>...</td>\n      <td>...</td>\n      <td>...</td>\n      <td>...</td>\n      <td>...</td>\n    </tr>\n    <tr>\n      <th>2195</th>\n      <td>996</td>\n      <td>University of the Algarve</td>\n      <td>Portugal</td>\n      <td>7</td>\n      <td>367</td>\n      <td>567</td>\n      <td>218</td>\n      <td>926</td>\n      <td>845</td>\n      <td>812</td>\n      <td>969.0</td>\n      <td>816</td>\n      <td>44.03</td>\n      <td>2015</td>\n      <td>Other</td>\n    </tr>\n    <tr>\n      <th>2196</th>\n      <td>997</td>\n      <td>Alexandria University</td>\n      <td>Egypt</td>\n      <td>4</td>\n      <td>236</td>\n      <td>566</td>\n      <td>218</td>\n      <td>997</td>\n      <td>908</td>\n      <td>645</td>\n      <td>981.0</td>\n      <td>871</td>\n      <td>44.03</td>\n      <td>2015</td>\n      <td>Other</td>\n    </tr>\n    <tr>\n      <th>2197</th>\n      <td>998</td>\n      <td>Federal University of Ceará</td>\n      <td>Brazil</td>\n      <td>18</td>\n      <td>367</td>\n      <td>549</td>\n      <td>218</td>\n      <td>830</td>\n      <td>823</td>\n      <td>812</td>\n      <td>975.0</td>\n      <td>824</td>\n      <td>44.03</td>\n      <td>2015</td>\n      <td>Other</td>\n    </tr>\n    <tr>\n      <th>2198</th>\n      <td>999</td>\n      <td>University of A Coruña</td>\n      <td>Spain</td>\n      <td>40</td>\n      <td>367</td>\n      <td>567</td>\n      <td>218</td>\n      <td>886</td>\n      <td>974</td>\n      <td>812</td>\n      <td>975.0</td>\n      <td>651</td>\n      <td>44.02</td>\n      <td>2015</td>\n      <td>Other</td>\n    </tr>\n    <tr>\n      <th>2199</th>\n      <td>1000</td>\n      <td>China Pharmaceutical University</td>\n      <td>China</td>\n      <td>83</td>\n      <td>367</td>\n      <td>567</td>\n      <td>218</td>\n      <td>861</td>\n      <td>991</td>\n      <td>812</td>\n      <td>981.0</td>\n      <td>547</td>\n      <td>44.02</td>\n      <td>2015</td>\n      <td>Other</td>\n    </tr>\n  </tbody>\n</table>\n<p>2200 rows × 15 columns</p>\n</div>"
     },
     "metadata": {},
     "execution_count": 17
    }
   ],
   "source": [
    "# create a new column called Rank_Level and categorize 1-100 (first-tier), 101-200 (second tier), 201-300 (third tier) and >300 other\n",
    "\n",
    "def tiers(c):\n",
    "    if c['world_rank'] <= 100:\n",
    "        return 'First_tier'\n",
    "    if c['world_rank'] >100 and c['world_rank'] <= 200:\n",
    "        return 'Second_tier'\n",
    "    if c['world_rank'] >200 and c['world_rank'] <= 300:\n",
    "        return 'Third_tier'\n",
    "    return 'Other' \n",
    "\n",
    "df['Rank_level'] = df.apply(tiers, axis=1)\n",
    "df\n",
    "\n",
    "# note that this could also have been set up tiers as a lambda function on the column 'world_rank\n",
    "\n",
    "def assign_category(ranking):\n",
    "    if ranking <= 100:\n",
    "        return 'First_tier'\n",
    "    if ranking >100 and ranking <= 200:\n",
    "        return 'Second_tier'\n",
    "    if ranking >200 and ranking <= 300:\n",
    "        return 'Third_tier'\n",
    "    return 'Other' \n",
    "\n",
    "df['Rank_level'] = df['world_rank'].apply(lambda x: assign_category(x))\n",
    "df"
   ]
  },
  {
   "cell_type": "code",
   "execution_count": 20,
   "metadata": {},
   "outputs": [
    {
     "output_type": "execute_result",
     "data": {
      "text/plain": [
       "                 mean                                  \n",
       "Rank_level First_tier      Other Second_tier Third_tier\n",
       "country                                                \n",
       "Argentina         NaN  44.672857         NaN        NaN\n",
       "Australia     47.9425  44.645750     49.2425  47.285000\n",
       "Austria           NaN  44.864286         NaN  47.066667\n",
       "Belgium       51.8750  45.081000     49.0840  46.746667\n",
       "Brazil            NaN  44.499706     49.5650        NaN"
      ],
      "text/html": "<div>\n<style scoped>\n    .dataframe tbody tr th:only-of-type {\n        vertical-align: middle;\n    }\n\n    .dataframe tbody tr th {\n        vertical-align: top;\n    }\n\n    .dataframe thead tr th {\n        text-align: left;\n    }\n\n    .dataframe thead tr:last-of-type th {\n        text-align: right;\n    }\n</style>\n<table border=\"1\" class=\"dataframe\">\n  <thead>\n    <tr>\n      <th></th>\n      <th colspan=\"4\" halign=\"left\">mean</th>\n    </tr>\n    <tr>\n      <th>Rank_level</th>\n      <th>First_tier</th>\n      <th>Other</th>\n      <th>Second_tier</th>\n      <th>Third_tier</th>\n    </tr>\n    <tr>\n      <th>country</th>\n      <th></th>\n      <th></th>\n      <th></th>\n      <th></th>\n    </tr>\n  </thead>\n  <tbody>\n    <tr>\n      <th>Argentina</th>\n      <td>NaN</td>\n      <td>44.672857</td>\n      <td>NaN</td>\n      <td>NaN</td>\n    </tr>\n    <tr>\n      <th>Australia</th>\n      <td>47.9425</td>\n      <td>44.645750</td>\n      <td>49.2425</td>\n      <td>47.285000</td>\n    </tr>\n    <tr>\n      <th>Austria</th>\n      <td>NaN</td>\n      <td>44.864286</td>\n      <td>NaN</td>\n      <td>47.066667</td>\n    </tr>\n    <tr>\n      <th>Belgium</th>\n      <td>51.8750</td>\n      <td>45.081000</td>\n      <td>49.0840</td>\n      <td>46.746667</td>\n    </tr>\n    <tr>\n      <th>Brazil</th>\n      <td>NaN</td>\n      <td>44.499706</td>\n      <td>49.5650</td>\n      <td>NaN</td>\n    </tr>\n  </tbody>\n</table>\n</div>"
     },
     "metadata": {},
     "execution_count": 20
    }
   ],
   "source": [
    "# creating the pivot table need to specify 3 things and an aggregation function\n",
    "df.pivot_table(values = 'score', index = 'country', columns = 'Rank_level', aggfunc = [np.mean]).head()\n"
   ]
  },
  {
   "cell_type": "code",
   "execution_count": 22,
   "metadata": {},
   "outputs": [
    {
     "output_type": "execute_result",
     "data": {
      "text/plain": [
       "                 mean                                         amax         \\\n",
       "Rank_level First_tier      Other Second_tier Third_tier First_tier  Other   \n",
       "country                                                                     \n",
       "Argentina         NaN  44.672857         NaN        NaN        NaN  45.66   \n",
       "Australia     47.9425  44.645750     49.2425  47.285000      51.61  45.97   \n",
       "Austria           NaN  44.864286         NaN  47.066667        NaN  46.29   \n",
       "Belgium       51.8750  45.081000     49.0840  46.746667      52.03  46.21   \n",
       "Brazil            NaN  44.499706     49.5650        NaN        NaN  46.08   \n",
       "\n",
       "                                   \n",
       "Rank_level Second_tier Third_tier  \n",
       "country                            \n",
       "Argentina          NaN        NaN  \n",
       "Australia        50.40      47.47  \n",
       "Austria            NaN      47.78  \n",
       "Belgium          49.73      47.14  \n",
       "Brazil           49.82        NaN  "
      ],
      "text/html": "<div>\n<style scoped>\n    .dataframe tbody tr th:only-of-type {\n        vertical-align: middle;\n    }\n\n    .dataframe tbody tr th {\n        vertical-align: top;\n    }\n\n    .dataframe thead tr th {\n        text-align: left;\n    }\n\n    .dataframe thead tr:last-of-type th {\n        text-align: right;\n    }\n</style>\n<table border=\"1\" class=\"dataframe\">\n  <thead>\n    <tr>\n      <th></th>\n      <th colspan=\"4\" halign=\"left\">mean</th>\n      <th colspan=\"4\" halign=\"left\">amax</th>\n    </tr>\n    <tr>\n      <th>Rank_level</th>\n      <th>First_tier</th>\n      <th>Other</th>\n      <th>Second_tier</th>\n      <th>Third_tier</th>\n      <th>First_tier</th>\n      <th>Other</th>\n      <th>Second_tier</th>\n      <th>Third_tier</th>\n    </tr>\n    <tr>\n      <th>country</th>\n      <th></th>\n      <th></th>\n      <th></th>\n      <th></th>\n      <th></th>\n      <th></th>\n      <th></th>\n      <th></th>\n    </tr>\n  </thead>\n  <tbody>\n    <tr>\n      <th>Argentina</th>\n      <td>NaN</td>\n      <td>44.672857</td>\n      <td>NaN</td>\n      <td>NaN</td>\n      <td>NaN</td>\n      <td>45.66</td>\n      <td>NaN</td>\n      <td>NaN</td>\n    </tr>\n    <tr>\n      <th>Australia</th>\n      <td>47.9425</td>\n      <td>44.645750</td>\n      <td>49.2425</td>\n      <td>47.285000</td>\n      <td>51.61</td>\n      <td>45.97</td>\n      <td>50.40</td>\n      <td>47.47</td>\n    </tr>\n    <tr>\n      <th>Austria</th>\n      <td>NaN</td>\n      <td>44.864286</td>\n      <td>NaN</td>\n      <td>47.066667</td>\n      <td>NaN</td>\n      <td>46.29</td>\n      <td>NaN</td>\n      <td>47.78</td>\n    </tr>\n    <tr>\n      <th>Belgium</th>\n      <td>51.8750</td>\n      <td>45.081000</td>\n      <td>49.0840</td>\n      <td>46.746667</td>\n      <td>52.03</td>\n      <td>46.21</td>\n      <td>49.73</td>\n      <td>47.14</td>\n    </tr>\n    <tr>\n      <th>Brazil</th>\n      <td>NaN</td>\n      <td>44.499706</td>\n      <td>49.5650</td>\n      <td>NaN</td>\n      <td>NaN</td>\n      <td>46.08</td>\n      <td>49.82</td>\n      <td>NaN</td>\n    </tr>\n  </tbody>\n</table>\n</div>"
     },
     "metadata": {},
     "execution_count": 22
    }
   ],
   "source": [
    "# you can include more than one agfunc\n",
    "df.pivot_table(values = 'score', index = 'country', columns = 'Rank_level', aggfunc = [np.mean, np.max]).head()\n"
   ]
  },
  {
   "cell_type": "code",
   "execution_count": 23,
   "metadata": {},
   "outputs": [
    {
     "output_type": "execute_result",
     "data": {
      "text/plain": [
       "                 mean                                                    amax  \\\n",
       "Rank_level First_tier      Other Second_tier Third_tier        All First_tier   \n",
       "country                                                                         \n",
       "Argentina         NaN  44.672857         NaN        NaN  44.672857        NaN   \n",
       "Australia     47.9425  44.645750     49.2425  47.285000  45.825517      51.61   \n",
       "Austria           NaN  44.864286         NaN  47.066667  45.139583        NaN   \n",
       "Belgium       51.8750  45.081000     49.0840  46.746667  47.011000      52.03   \n",
       "Brazil            NaN  44.499706     49.5650        NaN  44.781111        NaN   \n",
       "\n",
       "                                                 \n",
       "Rank_level  Other Second_tier Third_tier    All  \n",
       "country                                          \n",
       "Argentina   45.66         NaN        NaN  45.66  \n",
       "Australia   45.97       50.40      47.47  51.61  \n",
       "Austria     46.29         NaN      47.78  47.78  \n",
       "Belgium     46.21       49.73      47.14  52.03  \n",
       "Brazil      46.08       49.82        NaN  49.82  "
      ],
      "text/html": "<div>\n<style scoped>\n    .dataframe tbody tr th:only-of-type {\n        vertical-align: middle;\n    }\n\n    .dataframe tbody tr th {\n        vertical-align: top;\n    }\n\n    .dataframe thead tr th {\n        text-align: left;\n    }\n\n    .dataframe thead tr:last-of-type th {\n        text-align: right;\n    }\n</style>\n<table border=\"1\" class=\"dataframe\">\n  <thead>\n    <tr>\n      <th></th>\n      <th colspan=\"5\" halign=\"left\">mean</th>\n      <th colspan=\"5\" halign=\"left\">amax</th>\n    </tr>\n    <tr>\n      <th>Rank_level</th>\n      <th>First_tier</th>\n      <th>Other</th>\n      <th>Second_tier</th>\n      <th>Third_tier</th>\n      <th>All</th>\n      <th>First_tier</th>\n      <th>Other</th>\n      <th>Second_tier</th>\n      <th>Third_tier</th>\n      <th>All</th>\n    </tr>\n    <tr>\n      <th>country</th>\n      <th></th>\n      <th></th>\n      <th></th>\n      <th></th>\n      <th></th>\n      <th></th>\n      <th></th>\n      <th></th>\n      <th></th>\n      <th></th>\n    </tr>\n  </thead>\n  <tbody>\n    <tr>\n      <th>Argentina</th>\n      <td>NaN</td>\n      <td>44.672857</td>\n      <td>NaN</td>\n      <td>NaN</td>\n      <td>44.672857</td>\n      <td>NaN</td>\n      <td>45.66</td>\n      <td>NaN</td>\n      <td>NaN</td>\n      <td>45.66</td>\n    </tr>\n    <tr>\n      <th>Australia</th>\n      <td>47.9425</td>\n      <td>44.645750</td>\n      <td>49.2425</td>\n      <td>47.285000</td>\n      <td>45.825517</td>\n      <td>51.61</td>\n      <td>45.97</td>\n      <td>50.40</td>\n      <td>47.47</td>\n      <td>51.61</td>\n    </tr>\n    <tr>\n      <th>Austria</th>\n      <td>NaN</td>\n      <td>44.864286</td>\n      <td>NaN</td>\n      <td>47.066667</td>\n      <td>45.139583</td>\n      <td>NaN</td>\n      <td>46.29</td>\n      <td>NaN</td>\n      <td>47.78</td>\n      <td>47.78</td>\n    </tr>\n    <tr>\n      <th>Belgium</th>\n      <td>51.8750</td>\n      <td>45.081000</td>\n      <td>49.0840</td>\n      <td>46.746667</td>\n      <td>47.011000</td>\n      <td>52.03</td>\n      <td>46.21</td>\n      <td>49.73</td>\n      <td>47.14</td>\n      <td>52.03</td>\n    </tr>\n    <tr>\n      <th>Brazil</th>\n      <td>NaN</td>\n      <td>44.499706</td>\n      <td>49.5650</td>\n      <td>NaN</td>\n      <td>44.781111</td>\n      <td>NaN</td>\n      <td>46.08</td>\n      <td>49.82</td>\n      <td>NaN</td>\n      <td>49.82</td>\n    </tr>\n  </tbody>\n</table>\n</div>"
     },
     "metadata": {},
     "execution_count": 23
    }
   ],
   "source": [
    "# set margins=true in order to get marginal stats by row and column\n",
    "df.pivot_table(values = 'score', index = 'country', columns = 'Rank_level', aggfunc = [np.mean, np.max],\n",
    "               margins=True).head()\n"
   ]
  },
  {
   "source": [
    "### Using the derived data frame\n",
    "the pivot table is itself a data frame, and can be manipulated using standard methods"
   ],
   "cell_type": "markdown",
   "metadata": {}
  },
  {
   "cell_type": "code",
   "execution_count": 29,
   "metadata": {},
   "outputs": [
    {
     "output_type": "stream",
     "name": "stdout",
     "text": [
      "Index(['Argentina', 'Australia', 'Austria', 'Belgium', 'Brazil', 'Bulgaria',\n       'Canada', 'Chile', 'China', 'Colombia', 'Croatia', 'Cyprus',\n       'Czech Republic', 'Denmark', 'Egypt', 'Estonia', 'Finland', 'France',\n       'Germany', 'Greece', 'Hong Kong', 'Hungary', 'Iceland', 'India', 'Iran',\n       'Ireland', 'Israel', 'Italy', 'Japan', 'Lebanon', 'Lithuania',\n       'Malaysia', 'Mexico', 'Netherlands', 'New Zealand', 'Norway', 'Poland',\n       'Portugal', 'Puerto Rico', 'Romania', 'Russia', 'Saudi Arabia',\n       'Serbia', 'Singapore', 'Slovak Republic', 'Slovenia', 'South Africa',\n       'South Korea', 'Spain', 'Sweden', 'Switzerland', 'Taiwan', 'Thailand',\n       'Turkey', 'USA', 'Uganda', 'United Arab Emirates', 'United Kingdom',\n       'Uruguay', 'All'],\n      dtype='object', name='country')\nMultiIndex([('mean',  'First_tier'),\n            ('mean',       'Other'),\n            ('mean', 'Second_tier'),\n            ('mean',  'Third_tier'),\n            ('mean',         'All'),\n            ('amax',  'First_tier'),\n            ('amax',       'Other'),\n            ('amax', 'Second_tier'),\n            ('amax',  'Third_tier'),\n            ('amax',         'All')],\n           names=[None, 'Rank_level'])\n"
     ]
    }
   ],
   "source": [
    "df_new = df.pivot_table(values = 'score', index = 'country', columns = 'Rank_level', \n",
    "                        aggfunc = [np.mean, np.max],\n",
    "                        margins=True)\n",
    "df_new.head()\n",
    "print (df_new.index)\n",
    "print (df_new.columns)"
   ]
  },
  {
   "cell_type": "code",
   "execution_count": 32,
   "metadata": {},
   "outputs": [
    {
     "output_type": "execute_result",
     "data": {
      "text/plain": [
       "country\n",
       "Argentina        NaN\n",
       "Australia    47.9425\n",
       "Austria          NaN\n",
       "Belgium      51.8750\n",
       "Brazil           NaN\n",
       "Name: First_tier, dtype: float64"
      ]
     },
     "metadata": {},
     "execution_count": 32
    }
   ],
   "source": [
    "df_new['mean']['First_tier'].head()\n",
    "#this produces a pandas series (two column table with first column being the index)"
   ]
  },
  {
   "cell_type": "code",
   "execution_count": 33,
   "metadata": {},
   "outputs": [
    {
     "output_type": "execute_result",
     "data": {
      "text/plain": [
       "'United Kingdom'"
      ]
     },
     "metadata": {},
     "execution_count": 33
    }
   ],
   "source": [
    "#you can get the max value using the built-in pandas series function idxmax\n",
    "df_new['mean']['First_tier'].idxmax()\n"
   ]
  },
  {
   "source": [
    "### Stacking and unstacking\n",
    "You can reshape your pivot table using the stack and unstack methods\n",
    "Stacking is pivoting the lowermost column index to become the innermost row index. Unstacking it the reverse (innermost row index becomes the lowermost column index).\n"
   ],
   "cell_type": "markdown",
   "metadata": {}
  },
  {
   "cell_type": "code",
   "execution_count": 34,
   "metadata": {},
   "outputs": [
    {
     "output_type": "execute_result",
     "data": {
      "text/plain": [
       "                 mean                                                    amax  \\\n",
       "Rank_level First_tier      Other Second_tier Third_tier        All First_tier   \n",
       "country                                                                         \n",
       "Argentina         NaN  44.672857         NaN        NaN  44.672857        NaN   \n",
       "Australia     47.9425  44.645750     49.2425  47.285000  45.825517      51.61   \n",
       "Austria           NaN  44.864286         NaN  47.066667  45.139583        NaN   \n",
       "Belgium       51.8750  45.081000     49.0840  46.746667  47.011000      52.03   \n",
       "Brazil            NaN  44.499706     49.5650        NaN  44.781111        NaN   \n",
       "\n",
       "                                                 \n",
       "Rank_level  Other Second_tier Third_tier    All  \n",
       "country                                          \n",
       "Argentina   45.66         NaN        NaN  45.66  \n",
       "Australia   45.97       50.40      47.47  51.61  \n",
       "Austria     46.29         NaN      47.78  47.78  \n",
       "Belgium     46.21       49.73      47.14  52.03  \n",
       "Brazil      46.08       49.82        NaN  49.82  "
      ],
      "text/html": "<div>\n<style scoped>\n    .dataframe tbody tr th:only-of-type {\n        vertical-align: middle;\n    }\n\n    .dataframe tbody tr th {\n        vertical-align: top;\n    }\n\n    .dataframe thead tr th {\n        text-align: left;\n    }\n\n    .dataframe thead tr:last-of-type th {\n        text-align: right;\n    }\n</style>\n<table border=\"1\" class=\"dataframe\">\n  <thead>\n    <tr>\n      <th></th>\n      <th colspan=\"5\" halign=\"left\">mean</th>\n      <th colspan=\"5\" halign=\"left\">amax</th>\n    </tr>\n    <tr>\n      <th>Rank_level</th>\n      <th>First_tier</th>\n      <th>Other</th>\n      <th>Second_tier</th>\n      <th>Third_tier</th>\n      <th>All</th>\n      <th>First_tier</th>\n      <th>Other</th>\n      <th>Second_tier</th>\n      <th>Third_tier</th>\n      <th>All</th>\n    </tr>\n    <tr>\n      <th>country</th>\n      <th></th>\n      <th></th>\n      <th></th>\n      <th></th>\n      <th></th>\n      <th></th>\n      <th></th>\n      <th></th>\n      <th></th>\n      <th></th>\n    </tr>\n  </thead>\n  <tbody>\n    <tr>\n      <th>Argentina</th>\n      <td>NaN</td>\n      <td>44.672857</td>\n      <td>NaN</td>\n      <td>NaN</td>\n      <td>44.672857</td>\n      <td>NaN</td>\n      <td>45.66</td>\n      <td>NaN</td>\n      <td>NaN</td>\n      <td>45.66</td>\n    </tr>\n    <tr>\n      <th>Australia</th>\n      <td>47.9425</td>\n      <td>44.645750</td>\n      <td>49.2425</td>\n      <td>47.285000</td>\n      <td>45.825517</td>\n      <td>51.61</td>\n      <td>45.97</td>\n      <td>50.40</td>\n      <td>47.47</td>\n      <td>51.61</td>\n    </tr>\n    <tr>\n      <th>Austria</th>\n      <td>NaN</td>\n      <td>44.864286</td>\n      <td>NaN</td>\n      <td>47.066667</td>\n      <td>45.139583</td>\n      <td>NaN</td>\n      <td>46.29</td>\n      <td>NaN</td>\n      <td>47.78</td>\n      <td>47.78</td>\n    </tr>\n    <tr>\n      <th>Belgium</th>\n      <td>51.8750</td>\n      <td>45.081000</td>\n      <td>49.0840</td>\n      <td>46.746667</td>\n      <td>47.011000</td>\n      <td>52.03</td>\n      <td>46.21</td>\n      <td>49.73</td>\n      <td>47.14</td>\n      <td>52.03</td>\n    </tr>\n    <tr>\n      <th>Brazil</th>\n      <td>NaN</td>\n      <td>44.499706</td>\n      <td>49.5650</td>\n      <td>NaN</td>\n      <td>44.781111</td>\n      <td>NaN</td>\n      <td>46.08</td>\n      <td>49.82</td>\n      <td>NaN</td>\n      <td>49.82</td>\n    </tr>\n  </tbody>\n</table>\n</div>"
     },
     "metadata": {},
     "execution_count": 34
    }
   ],
   "source": [
    "df_new.head()"
   ]
  },
  {
   "cell_type": "code",
   "execution_count": 35,
   "metadata": {},
   "outputs": [
    {
     "output_type": "execute_result",
     "data": {
      "text/plain": [
       "                            mean    amax\n",
       "country   Rank_level                    \n",
       "Argentina Other        44.672857   45.66\n",
       "          All          44.672857   45.66\n",
       "Australia First_tier   47.942500   51.61\n",
       "          Other        44.645750   45.97\n",
       "          Second_tier  49.242500   50.40\n",
       "...                          ...     ...\n",
       "All       First_tier   58.350675  100.00\n",
       "          Other        44.738871   46.34\n",
       "          Second_tier  49.065450   51.29\n",
       "          Third_tier   46.843450   47.93\n",
       "          All          47.798395  100.00\n",
       "\n",
       "[193 rows x 2 columns]"
      ],
      "text/html": "<div>\n<style scoped>\n    .dataframe tbody tr th:only-of-type {\n        vertical-align: middle;\n    }\n\n    .dataframe tbody tr th {\n        vertical-align: top;\n    }\n\n    .dataframe thead th {\n        text-align: right;\n    }\n</style>\n<table border=\"1\" class=\"dataframe\">\n  <thead>\n    <tr style=\"text-align: right;\">\n      <th></th>\n      <th></th>\n      <th>mean</th>\n      <th>amax</th>\n    </tr>\n    <tr>\n      <th>country</th>\n      <th>Rank_level</th>\n      <th></th>\n      <th></th>\n    </tr>\n  </thead>\n  <tbody>\n    <tr>\n      <th rowspan=\"2\" valign=\"top\">Argentina</th>\n      <th>Other</th>\n      <td>44.672857</td>\n      <td>45.66</td>\n    </tr>\n    <tr>\n      <th>All</th>\n      <td>44.672857</td>\n      <td>45.66</td>\n    </tr>\n    <tr>\n      <th rowspan=\"3\" valign=\"top\">Australia</th>\n      <th>First_tier</th>\n      <td>47.942500</td>\n      <td>51.61</td>\n    </tr>\n    <tr>\n      <th>Other</th>\n      <td>44.645750</td>\n      <td>45.97</td>\n    </tr>\n    <tr>\n      <th>Second_tier</th>\n      <td>49.242500</td>\n      <td>50.40</td>\n    </tr>\n    <tr>\n      <th>...</th>\n      <th>...</th>\n      <td>...</td>\n      <td>...</td>\n    </tr>\n    <tr>\n      <th rowspan=\"5\" valign=\"top\">All</th>\n      <th>First_tier</th>\n      <td>58.350675</td>\n      <td>100.00</td>\n    </tr>\n    <tr>\n      <th>Other</th>\n      <td>44.738871</td>\n      <td>46.34</td>\n    </tr>\n    <tr>\n      <th>Second_tier</th>\n      <td>49.065450</td>\n      <td>51.29</td>\n    </tr>\n    <tr>\n      <th>Third_tier</th>\n      <td>46.843450</td>\n      <td>47.93</td>\n    </tr>\n    <tr>\n      <th>All</th>\n      <td>47.798395</td>\n      <td>100.00</td>\n    </tr>\n  </tbody>\n</table>\n<p>193 rows × 2 columns</p>\n</div>"
     },
     "metadata": {},
     "execution_count": 35
    }
   ],
   "source": [
    "df_new.stack()"
   ]
  }
 ]
}