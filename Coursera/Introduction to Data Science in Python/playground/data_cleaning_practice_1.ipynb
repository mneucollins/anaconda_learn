{
 "metadata": {
  "language_info": {
   "codemirror_mode": {
    "name": "ipython",
    "version": 3
   },
   "file_extension": ".py",
   "mimetype": "text/x-python",
   "name": "python",
   "nbconvert_exporter": "python",
   "pygments_lexer": "ipython3",
   "version": "3.8.5-final"
  },
  "orig_nbformat": 2,
  "kernelspec": {
   "name": "python3",
   "display_name": "Python 3",
   "language": "python"
  }
 },
 "nbformat": 4,
 "nbformat_minor": 2,
 "cells": [
  {
   "source": [
    "# Data Cleaning exercise\n",
    "## cleanup presidents"
   ],
   "cell_type": "markdown",
   "metadata": {}
  },
  {
   "cell_type": "code",
   "execution_count": 6,
   "metadata": {},
   "outputs": [
    {
     "output_type": "execute_result",
     "data": {
      "text/plain": [
       "   #          President  ...          Died                 Age\n",
       "0  1  George Washington  ...  Dec 14, 1799  67 years, 295 days\n",
       "1  2         John Adams  ...   Jul 4, 1826  90 years, 247 days\n",
       "2  3   Thomas Jefferson  ...   Jul 4, 1826   83 years, 82 days\n",
       "3  4      James Madison  ...  Jun 28, 1836  85 years, 104 days\n",
       "4  5       James Monroe  ...   Jul 4, 1831   73 years, 67 days\n",
       "\n",
       "[5 rows x 8 columns]"
      ],
      "text/html": "<div>\n<style scoped>\n    .dataframe tbody tr th:only-of-type {\n        vertical-align: middle;\n    }\n\n    .dataframe tbody tr th {\n        vertical-align: top;\n    }\n\n    .dataframe thead th {\n        text-align: right;\n    }\n</style>\n<table border=\"1\" class=\"dataframe\">\n  <thead>\n    <tr style=\"text-align: right;\">\n      <th></th>\n      <th>#</th>\n      <th>President</th>\n      <th>Born</th>\n      <th>Age atstart of presidency</th>\n      <th>Age atend of presidency</th>\n      <th>Post-presidencytimespan</th>\n      <th>Died</th>\n      <th>Age</th>\n    </tr>\n  </thead>\n  <tbody>\n    <tr>\n      <th>0</th>\n      <td>1</td>\n      <td>George Washington</td>\n      <td>Feb 22, 1732[a]</td>\n      <td>57 years, 67 daysApr 30, 1789</td>\n      <td>65 years, 10 daysMar 4, 1797</td>\n      <td>2 years, 285 days</td>\n      <td>Dec 14, 1799</td>\n      <td>67 years, 295 days</td>\n    </tr>\n    <tr>\n      <th>1</th>\n      <td>2</td>\n      <td>John Adams</td>\n      <td>Oct 30, 1735[a]</td>\n      <td>61 years, 125 daysMar 4, 1797</td>\n      <td>65 years, 125 daysMar 4, 1801</td>\n      <td>25 years, 122 days</td>\n      <td>Jul 4, 1826</td>\n      <td>90 years, 247 days</td>\n    </tr>\n    <tr>\n      <th>2</th>\n      <td>3</td>\n      <td>Thomas Jefferson</td>\n      <td>Apr 13, 1743[a]</td>\n      <td>57 years, 325 daysMar 4, 1801</td>\n      <td>65 years, 325 daysMar 4, 1809</td>\n      <td>17 years, 122 days</td>\n      <td>Jul 4, 1826</td>\n      <td>83 years, 82 days</td>\n    </tr>\n    <tr>\n      <th>3</th>\n      <td>4</td>\n      <td>James Madison</td>\n      <td>Mar 16, 1751[a]</td>\n      <td>57 years, 353 daysMar 4, 1809</td>\n      <td>65 years, 353 daysMar 4, 1817</td>\n      <td>19 years, 116 days</td>\n      <td>Jun 28, 1836</td>\n      <td>85 years, 104 days</td>\n    </tr>\n    <tr>\n      <th>4</th>\n      <td>5</td>\n      <td>James Monroe</td>\n      <td>Apr 28, 1758</td>\n      <td>58 years, 310 daysMar 4, 1817</td>\n      <td>66 years, 310 daysMar 4, 1825</td>\n      <td>6 years, 122 days</td>\n      <td>Jul 4, 1831</td>\n      <td>73 years, 67 days</td>\n    </tr>\n  </tbody>\n</table>\n</div>"
     },
     "metadata": {},
     "execution_count": 6
    }
   ],
   "source": [
    "import pandas as pd\n",
    "df=pd.read_csv('../resources/week-2/datasets/presidents.csv')\n",
    "df.head()"
   ]
  },
  {
   "source": [
    "### Split President into first name and last name"
   ],
   "cell_type": "markdown",
   "metadata": {}
  },
  {
   "cell_type": "code",
   "execution_count": 12,
   "metadata": {},
   "outputs": [
    {
     "output_type": "execute_result",
     "data": {
      "text/plain": [
       "     #              President  ...                 Age           first\n",
       "0    1      George Washington  ...  67 years, 295 days      Washington\n",
       "1    2             John Adams  ...  90 years, 247 days           Adams\n",
       "2    3       Thomas Jefferson  ...   83 years, 82 days       Jefferson\n",
       "3    4          James Madison  ...  85 years, 104 days         Madison\n",
       "4    5           James Monroe  ...   73 years, 67 days          Monroe\n",
       "5    6      John Quincy Adams  ...  80 years, 227 days    Quincy Adams\n",
       "6    7         Andrew Jackson  ...   78 years, 85 days         Jackson\n",
       "7    8       Martin Van Buren  ...  79 years, 231 days       Van Buren\n",
       "8    9    William H. Harrison  ...   68 years, 54 days     H. Harrison\n",
       "9   10             John Tyler  ...  71 years, 295 days           Tyler\n",
       "10  11          James K. Polk  ...  53 years, 225 days         K. Polk\n",
       "11  12         Zachary Taylor  ...  65 years, 227 days          Taylor\n",
       "12  13       Millard Fillmore  ...   74 years, 60 days        Fillmore\n",
       "13  14        Franklin Pierce  ...  64 years, 319 days          Pierce\n",
       "14  15         James Buchanan  ...   77 years, 39 days        Buchanan\n",
       "15  16        Abraham Lincoln  ...   56 years, 62 days         Lincoln\n",
       "16  17         Andrew Johnson  ...  66 years, 214 days         Johnson\n",
       "17  18       Ulysses S. Grant  ...   63 years, 87 days        S. Grant\n",
       "18  19    Rutherford B. Hayes  ...  70 years, 105 days        B. Hayes\n",
       "19  20      James A. Garfield  ...  49 years, 304 days     A. Garfield\n",
       "20  21      Chester A. Arthur  ...   57 years, 44 days       A. Arthur\n",
       "21  22       Grover Cleveland  ...   71 years, 98 days       Cleveland\n",
       "22  23      Benjamin Harrison  ...  67 years, 205 days        Harrison\n",
       "23  24       Grover Cleveland  ...   71 years, 98 days       Cleveland\n",
       "24  25       William McKinley  ...  58 years, 228 days        McKinley\n",
       "25  26     Theodore Roosevelt  ...   60 years, 71 days       Roosevelt\n",
       "26  27        William H. Taft  ...  72 years, 174 days         H. Taft\n",
       "27  28         Woodrow Wilson  ...   67 years, 37 days          Wilson\n",
       "28  29      Warren G. Harding  ...  57 years, 273 days      G. Harding\n",
       "29  30        Calvin Coolidge  ...  60 years, 185 days        Coolidge\n",
       "30  31         Herbert Hoover  ...   90 years, 71 days          Hoover\n",
       "31  32  Franklin D. Roosevelt  ...   63 years, 72 days    D. Roosevelt\n",
       "32  33        Harry S. Truman  ...  88 years, 232 days       S. Truman\n",
       "33  34   Dwight D. Eisenhower  ...  78 years, 165 days   D. Eisenhower\n",
       "34  35        John F. Kennedy  ...  46 years, 177 days      F. Kennedy\n",
       "35  36      Lyndon B. Johnson  ...  64 years, 148 days      B. Johnson\n",
       "36  37          Richard Nixon  ...  81 years, 103 days           Nixon\n",
       "37  38            Gerald Ford  ...  93 years, 165 days            Ford\n",
       "38  39           Jimmy Carter  ...  94 years, 286 days          Carter\n",
       "39  40          Ronald Reagan  ...  93 years, 120 days          Reagan\n",
       "40  41      George H. W. Bush  ...  94 years, 171 days      H. W. Bush\n",
       "41  42           Bill Clinton  ...  72 years, 329 days         Clinton\n",
       "42  43         George W. Bush  ...    73 years, 8 days         W. Bush\n",
       "43  44           Barack Obama  ...  57 years, 344 days           Obama\n",
       "\n",
       "[44 rows x 9 columns]"
      ],
      "text/html": "<div>\n<style scoped>\n    .dataframe tbody tr th:only-of-type {\n        vertical-align: middle;\n    }\n\n    .dataframe tbody tr th {\n        vertical-align: top;\n    }\n\n    .dataframe thead th {\n        text-align: right;\n    }\n</style>\n<table border=\"1\" class=\"dataframe\">\n  <thead>\n    <tr style=\"text-align: right;\">\n      <th></th>\n      <th>#</th>\n      <th>President</th>\n      <th>Born</th>\n      <th>Age atstart of presidency</th>\n      <th>Age atend of presidency</th>\n      <th>Post-presidencytimespan</th>\n      <th>Died</th>\n      <th>Age</th>\n      <th>first</th>\n    </tr>\n  </thead>\n  <tbody>\n    <tr>\n      <th>0</th>\n      <td>1</td>\n      <td>George Washington</td>\n      <td>Feb 22, 1732[a]</td>\n      <td>57 years, 67 daysApr 30, 1789</td>\n      <td>65 years, 10 daysMar 4, 1797</td>\n      <td>2 years, 285 days</td>\n      <td>Dec 14, 1799</td>\n      <td>67 years, 295 days</td>\n      <td>Washington</td>\n    </tr>\n    <tr>\n      <th>1</th>\n      <td>2</td>\n      <td>John Adams</td>\n      <td>Oct 30, 1735[a]</td>\n      <td>61 years, 125 daysMar 4, 1797</td>\n      <td>65 years, 125 daysMar 4, 1801</td>\n      <td>25 years, 122 days</td>\n      <td>Jul 4, 1826</td>\n      <td>90 years, 247 days</td>\n      <td>Adams</td>\n    </tr>\n    <tr>\n      <th>2</th>\n      <td>3</td>\n      <td>Thomas Jefferson</td>\n      <td>Apr 13, 1743[a]</td>\n      <td>57 years, 325 daysMar 4, 1801</td>\n      <td>65 years, 325 daysMar 4, 1809</td>\n      <td>17 years, 122 days</td>\n      <td>Jul 4, 1826</td>\n      <td>83 years, 82 days</td>\n      <td>Jefferson</td>\n    </tr>\n    <tr>\n      <th>3</th>\n      <td>4</td>\n      <td>James Madison</td>\n      <td>Mar 16, 1751[a]</td>\n      <td>57 years, 353 daysMar 4, 1809</td>\n      <td>65 years, 353 daysMar 4, 1817</td>\n      <td>19 years, 116 days</td>\n      <td>Jun 28, 1836</td>\n      <td>85 years, 104 days</td>\n      <td>Madison</td>\n    </tr>\n    <tr>\n      <th>4</th>\n      <td>5</td>\n      <td>James Monroe</td>\n      <td>Apr 28, 1758</td>\n      <td>58 years, 310 daysMar 4, 1817</td>\n      <td>66 years, 310 daysMar 4, 1825</td>\n      <td>6 years, 122 days</td>\n      <td>Jul 4, 1831</td>\n      <td>73 years, 67 days</td>\n      <td>Monroe</td>\n    </tr>\n    <tr>\n      <th>5</th>\n      <td>6</td>\n      <td>John Quincy Adams</td>\n      <td>Jul 11, 1767</td>\n      <td>57 years, 236 daysMar 4, 1825</td>\n      <td>61 years, 236 daysMar 4, 1829</td>\n      <td>18 years, 356 days</td>\n      <td>Feb 23, 1848</td>\n      <td>80 years, 227 days</td>\n      <td>Quincy Adams</td>\n    </tr>\n    <tr>\n      <th>6</th>\n      <td>7</td>\n      <td>Andrew Jackson</td>\n      <td>Mar 15, 1767</td>\n      <td>61 years, 354 daysMar 4, 1829</td>\n      <td>69 years, 354 daysMar 4, 1837</td>\n      <td>8 years, 96 days</td>\n      <td>Jun 8, 1845</td>\n      <td>78 years, 85 days</td>\n      <td>Jackson</td>\n    </tr>\n    <tr>\n      <th>7</th>\n      <td>8</td>\n      <td>Martin Van Buren</td>\n      <td>Dec 5, 1782</td>\n      <td>54 years, 89 daysMar 4, 1837</td>\n      <td>58 years, 89 daysMar 4, 1841</td>\n      <td>21 years, 142 days</td>\n      <td>Jul 24, 1862</td>\n      <td>79 years, 231 days</td>\n      <td>Van Buren</td>\n    </tr>\n    <tr>\n      <th>8</th>\n      <td>9</td>\n      <td>William H. Harrison</td>\n      <td>Feb 9, 1773</td>\n      <td>68 years, 23 daysMar 4, 1841</td>\n      <td>68 years, 54 days Apr 4, 1841[b]</td>\n      <td>NaN</td>\n      <td>Apr 4, 1841</td>\n      <td>68 years, 54 days</td>\n      <td>H. Harrison</td>\n    </tr>\n    <tr>\n      <th>9</th>\n      <td>10</td>\n      <td>John Tyler</td>\n      <td>Mar 29, 1790</td>\n      <td>51 years, 6 daysApr 4, 1841</td>\n      <td>54 years, 340 daysMar 4, 1845</td>\n      <td>16 years, 320 days</td>\n      <td>Jan 18, 1862</td>\n      <td>71 years, 295 days</td>\n      <td>Tyler</td>\n    </tr>\n    <tr>\n      <th>10</th>\n      <td>11</td>\n      <td>James K. Polk</td>\n      <td>Nov 2, 1795</td>\n      <td>49 years, 122 daysMar 4, 1845</td>\n      <td>53 years, 122 daysMar 4, 1849</td>\n      <td>103 days</td>\n      <td>Jun 15, 1849</td>\n      <td>53 years, 225 days</td>\n      <td>K. Polk</td>\n    </tr>\n    <tr>\n      <th>11</th>\n      <td>12</td>\n      <td>Zachary Taylor</td>\n      <td>Nov 24, 1784</td>\n      <td>64 years, 100 daysMar 4, 1849</td>\n      <td>65 years, 227 daysJul 9, 1850[b]</td>\n      <td>NaN</td>\n      <td>Jul 9, 1850</td>\n      <td>65 years, 227 days</td>\n      <td>Taylor</td>\n    </tr>\n    <tr>\n      <th>12</th>\n      <td>13</td>\n      <td>Millard Fillmore</td>\n      <td>Jan 7, 1800</td>\n      <td>50 years, 183 daysJul 9, 1850</td>\n      <td>53 years, 56 daysMar 4, 1853</td>\n      <td>21 years, 4 days</td>\n      <td>Mar 8, 1874</td>\n      <td>74 years, 60 days</td>\n      <td>Fillmore</td>\n    </tr>\n    <tr>\n      <th>13</th>\n      <td>14</td>\n      <td>Franklin Pierce</td>\n      <td>Nov 23, 1804</td>\n      <td>48 years, 101 daysMar 4, 1853</td>\n      <td>52 years, 101 daysMar 4, 1857</td>\n      <td>12 years, 218 days</td>\n      <td>Oct 8, 1869</td>\n      <td>64 years, 319 days</td>\n      <td>Pierce</td>\n    </tr>\n    <tr>\n      <th>14</th>\n      <td>15</td>\n      <td>James Buchanan</td>\n      <td>Apr 23, 1791</td>\n      <td>65 years, 315 daysMar 4, 1857</td>\n      <td>69 years, 315 daysMar 4, 1861</td>\n      <td>7 years, 89 days</td>\n      <td>Jun 1, 1868</td>\n      <td>77 years, 39 days</td>\n      <td>Buchanan</td>\n    </tr>\n    <tr>\n      <th>15</th>\n      <td>16</td>\n      <td>Abraham Lincoln</td>\n      <td>Feb 12, 1809</td>\n      <td>52 years, 20 daysMar 4, 1861</td>\n      <td>56 years, 62 daysApr 15, 1865[b]</td>\n      <td>NaN</td>\n      <td>Apr 15, 1865</td>\n      <td>56 years, 62 days</td>\n      <td>Lincoln</td>\n    </tr>\n    <tr>\n      <th>16</th>\n      <td>17</td>\n      <td>Andrew Johnson</td>\n      <td>Dec 29, 1808</td>\n      <td>56 years, 107 daysApr 15, 1865</td>\n      <td>60 years, 65 daysMar 4, 1869</td>\n      <td>6 years, 149 days</td>\n      <td>Jul 31, 1875</td>\n      <td>66 years, 214 days</td>\n      <td>Johnson</td>\n    </tr>\n    <tr>\n      <th>17</th>\n      <td>18</td>\n      <td>Ulysses S. Grant</td>\n      <td>Apr 27, 1822</td>\n      <td>46 years, 311 daysMar 4, 1869</td>\n      <td>54 years, 311 daysMar 4, 1877</td>\n      <td>8 years, 141 days</td>\n      <td>Jul 23, 1885</td>\n      <td>63 years, 87 days</td>\n      <td>S. Grant</td>\n    </tr>\n    <tr>\n      <th>18</th>\n      <td>19</td>\n      <td>Rutherford B. Hayes</td>\n      <td>Oct 4, 1822</td>\n      <td>54 years, 151 daysMar 4, 1877</td>\n      <td>58 years, 151 daysMar 4, 1881</td>\n      <td>11 years, 319 days</td>\n      <td>Jan 17, 1893</td>\n      <td>70 years, 105 days</td>\n      <td>B. Hayes</td>\n    </tr>\n    <tr>\n      <th>19</th>\n      <td>20</td>\n      <td>James A. Garfield</td>\n      <td>Nov 19, 1831</td>\n      <td>49 years, 105 daysMar 4, 1881</td>\n      <td>49 years, 304 daysSep 19, 1881[b]</td>\n      <td>NaN</td>\n      <td>Sep 19, 1881</td>\n      <td>49 years, 304 days</td>\n      <td>A. Garfield</td>\n    </tr>\n    <tr>\n      <th>20</th>\n      <td>21</td>\n      <td>Chester A. Arthur</td>\n      <td>Oct 5, 1829</td>\n      <td>51 years, 349 daysSep 19, 1881</td>\n      <td>55 years, 150 daysMar 4, 1885</td>\n      <td>1 year, 259 days</td>\n      <td>Nov 18, 1886</td>\n      <td>57 years, 44 days</td>\n      <td>A. Arthur</td>\n    </tr>\n    <tr>\n      <th>21</th>\n      <td>22</td>\n      <td>Grover Cleveland</td>\n      <td>Mar 18, 1837</td>\n      <td>47 years, 351 daysMar 4, 1885</td>\n      <td>51 years, 351 daysMar 4, 1889</td>\n      <td>4 years, 0 days[c]</td>\n      <td>Jun 24, 1908</td>\n      <td>71 years, 98 days</td>\n      <td>Cleveland</td>\n    </tr>\n    <tr>\n      <th>22</th>\n      <td>23</td>\n      <td>Benjamin Harrison</td>\n      <td>Aug 20, 1833</td>\n      <td>55 years, 196 daysMar 4, 1889</td>\n      <td>59 years, 196 daysMar 4, 1893</td>\n      <td>8 years, 9 days</td>\n      <td>Mar 13, 1901</td>\n      <td>67 years, 205 days</td>\n      <td>Harrison</td>\n    </tr>\n    <tr>\n      <th>23</th>\n      <td>24</td>\n      <td>Grover Cleveland</td>\n      <td>Mar 18, 1837</td>\n      <td>55 years, 351 daysMar 4, 1893</td>\n      <td>59 years, 351 daysMar 4, 1897</td>\n      <td>11 years, 112 days[d]</td>\n      <td>Jun 24, 1908</td>\n      <td>71 years, 98 days</td>\n      <td>Cleveland</td>\n    </tr>\n    <tr>\n      <th>24</th>\n      <td>25</td>\n      <td>William McKinley</td>\n      <td>Jan 29, 1843</td>\n      <td>54 years, 34 daysMar 4, 1897</td>\n      <td>58 years, 228 daysSep 14, 1901[b]</td>\n      <td>NaN</td>\n      <td>Sep 14, 1901</td>\n      <td>58 years, 228 days</td>\n      <td>McKinley</td>\n    </tr>\n    <tr>\n      <th>25</th>\n      <td>26</td>\n      <td>Theodore Roosevelt</td>\n      <td>Oct 27, 1858</td>\n      <td>42 years, 322 daysSep 14, 1901</td>\n      <td>50 years, 128 daysMar 4, 1909</td>\n      <td>9 years, 308 days</td>\n      <td>Jan 6, 1919</td>\n      <td>60 years, 71 days</td>\n      <td>Roosevelt</td>\n    </tr>\n    <tr>\n      <th>26</th>\n      <td>27</td>\n      <td>William H. Taft</td>\n      <td>Sep 15, 1857</td>\n      <td>51 years, 170 daysMar 4, 1909</td>\n      <td>55 years, 170 daysMar 4, 1913</td>\n      <td>17 years, 4 days</td>\n      <td>Mar 8, 1930</td>\n      <td>72 years, 174 days</td>\n      <td>H. Taft</td>\n    </tr>\n    <tr>\n      <th>27</th>\n      <td>28</td>\n      <td>Woodrow Wilson</td>\n      <td>Dec 28, 1856</td>\n      <td>56 years, 66 daysMar 4, 1913</td>\n      <td>64 years, 66 daysMar 4, 1921</td>\n      <td>2 years, 336 days</td>\n      <td>Feb 3, 1924</td>\n      <td>67 years, 37 days</td>\n      <td>Wilson</td>\n    </tr>\n    <tr>\n      <th>28</th>\n      <td>29</td>\n      <td>Warren G. Harding</td>\n      <td>Nov 2, 1865</td>\n      <td>55 years, 122 daysMar 4, 1921</td>\n      <td>57 years, 273 daysAug 2, 1923[b]</td>\n      <td>NaN</td>\n      <td>Aug 2, 1923</td>\n      <td>57 years, 273 days</td>\n      <td>G. Harding</td>\n    </tr>\n    <tr>\n      <th>29</th>\n      <td>30</td>\n      <td>Calvin Coolidge</td>\n      <td>Jul 4, 1872</td>\n      <td>51 years, 29 daysAug 2, 1923</td>\n      <td>56 years, 243 daysMar 4, 1929</td>\n      <td>3 years, 307 days</td>\n      <td>Jan 5, 1933</td>\n      <td>60 years, 185 days</td>\n      <td>Coolidge</td>\n    </tr>\n    <tr>\n      <th>30</th>\n      <td>31</td>\n      <td>Herbert Hoover</td>\n      <td>Aug 10, 1874</td>\n      <td>54 years, 206 daysMar 4, 1929</td>\n      <td>58 years, 206 daysMar 4, 1933</td>\n      <td>31 years, 230 days</td>\n      <td>Oct 20, 1964</td>\n      <td>90 years, 71 days</td>\n      <td>Hoover</td>\n    </tr>\n    <tr>\n      <th>31</th>\n      <td>32</td>\n      <td>Franklin D. Roosevelt</td>\n      <td>Jan 30, 1882</td>\n      <td>51 years, 33 daysMar 4, 1933</td>\n      <td>63 years, 72 daysApr 12, 1945[b]</td>\n      <td>NaN</td>\n      <td>Apr 12, 1945</td>\n      <td>63 years, 72 days</td>\n      <td>D. Roosevelt</td>\n    </tr>\n    <tr>\n      <th>32</th>\n      <td>33</td>\n      <td>Harry S. Truman</td>\n      <td>May 8, 1884</td>\n      <td>60 years, 339 daysApr 12, 1945</td>\n      <td>68 years, 257 daysJan 20, 1953</td>\n      <td>19 years, 341 days</td>\n      <td>Dec 26, 1972</td>\n      <td>88 years, 232 days</td>\n      <td>S. Truman</td>\n    </tr>\n    <tr>\n      <th>33</th>\n      <td>34</td>\n      <td>Dwight D. Eisenhower</td>\n      <td>Oct 14, 1890</td>\n      <td>62 years, 98 daysJan 20, 1953</td>\n      <td>70 years, 98 daysJan 20, 1961</td>\n      <td>8 years, 67 days</td>\n      <td>Mar 28, 1969</td>\n      <td>78 years, 165 days</td>\n      <td>D. Eisenhower</td>\n    </tr>\n    <tr>\n      <th>34</th>\n      <td>35</td>\n      <td>John F. Kennedy</td>\n      <td>May 29, 1917</td>\n      <td>43 years, 236 daysJan 20, 1961</td>\n      <td>46 years, 177 daysNov 22, 1963[b]</td>\n      <td>NaN</td>\n      <td>Nov 22, 1963</td>\n      <td>46 years, 177 days</td>\n      <td>F. Kennedy</td>\n    </tr>\n    <tr>\n      <th>35</th>\n      <td>36</td>\n      <td>Lyndon B. Johnson</td>\n      <td>Aug 27, 1908</td>\n      <td>55 years, 87 daysNov 22, 1963</td>\n      <td>60 years, 146 daysJan 20, 1969</td>\n      <td>4 years, 2 days</td>\n      <td>Jan 22, 1973</td>\n      <td>64 years, 148 days</td>\n      <td>B. Johnson</td>\n    </tr>\n    <tr>\n      <th>36</th>\n      <td>37</td>\n      <td>Richard Nixon</td>\n      <td>Jan 9, 1913</td>\n      <td>56 years, 11 daysJan 20, 1969</td>\n      <td>61 years, 212 daysAug 9, 1974[e]</td>\n      <td>19 years, 256 days</td>\n      <td>Apr 22, 1994</td>\n      <td>81 years, 103 days</td>\n      <td>Nixon</td>\n    </tr>\n    <tr>\n      <th>37</th>\n      <td>38</td>\n      <td>Gerald Ford</td>\n      <td>Jul 14, 1913</td>\n      <td>61 years, 26 daysAug 9, 1974</td>\n      <td>63 years, 190 daysJan 20, 1977</td>\n      <td>29 years, 340 days</td>\n      <td>Dec 26, 2006</td>\n      <td>93 years, 165 days</td>\n      <td>Ford</td>\n    </tr>\n    <tr>\n      <th>38</th>\n      <td>39</td>\n      <td>Jimmy Carter</td>\n      <td>Oct 1, 1924</td>\n      <td>52 years, 111 daysJan 20, 1977</td>\n      <td>56 years, 111 daysJan 20, 1981</td>\n      <td>38 years, 175 days</td>\n      <td>(living)</td>\n      <td>94 years, 286 days</td>\n      <td>Carter</td>\n    </tr>\n    <tr>\n      <th>39</th>\n      <td>40</td>\n      <td>Ronald Reagan</td>\n      <td>Feb 6, 1911</td>\n      <td>69 years, 349 daysJan 20, 1981</td>\n      <td>77 years, 349 daysJan 20, 1989</td>\n      <td>15 years, 137 days</td>\n      <td>Jun 5, 2004</td>\n      <td>93 years, 120 days</td>\n      <td>Reagan</td>\n    </tr>\n    <tr>\n      <th>40</th>\n      <td>41</td>\n      <td>George H. W. Bush</td>\n      <td>Jun 12, 1924</td>\n      <td>64 years, 222 daysJan 20, 1989</td>\n      <td>68 years, 222 daysJan 20, 1993</td>\n      <td>25 years, 314 days</td>\n      <td>Nov 30, 2018</td>\n      <td>94 years, 171 days</td>\n      <td>H. W. Bush</td>\n    </tr>\n    <tr>\n      <th>41</th>\n      <td>42</td>\n      <td>Bill Clinton</td>\n      <td>Aug 19, 1946</td>\n      <td>46 years, 154 daysJan 20, 1993</td>\n      <td>54 years, 154 daysJan 20, 2001</td>\n      <td>18 years, 175 days</td>\n      <td>(living)</td>\n      <td>72 years, 329 days</td>\n      <td>Clinton</td>\n    </tr>\n    <tr>\n      <th>42</th>\n      <td>43</td>\n      <td>George W. Bush</td>\n      <td>Jul 6, 1946</td>\n      <td>54 years, 198 daysJan 20, 2001</td>\n      <td>62 years, 198 daysJan 20, 2009</td>\n      <td>10 years, 175 days</td>\n      <td>(living)</td>\n      <td>73 years, 8 days</td>\n      <td>W. Bush</td>\n    </tr>\n    <tr>\n      <th>43</th>\n      <td>44</td>\n      <td>Barack Obama</td>\n      <td>Aug 4, 1961</td>\n      <td>47 years, 169 daysJan 20, 2009</td>\n      <td>55 years, 169 daysJan 20, 2017</td>\n      <td>2 years, 175 days</td>\n      <td>(living)</td>\n      <td>57 years, 344 days</td>\n      <td>Obama</td>\n    </tr>\n  </tbody>\n</table>\n</div>"
     },
     "metadata": {},
     "execution_count": 12
    }
   ],
   "source": [
    "#regex for first name\n",
    "pattern = \"(^[\\w]*)\"\n",
    "\n",
    "# (^[\\w]*)(?:.* )([\\w]*$)\n",
    "# first approach, make a copy ot the column and extract the first name\n",
    "df['first'] = df['President']\n",
    "df['first'] = df['first'].replace(pattern,\"\",regex=True )\n",
    "df "
   ]
  }
 ]
}